{
 "cells": [
  {
   "cell_type": "markdown",
   "metadata": {
    "ein.tags": "worksheet-0",
    "slideshow": {
     "slide_type": "-"
    }
   },
   "source": [
    "# Apply Neural Networks to the Stock Market\n",
    "\n",
    "Notebook to explore limited set of NY stock exchange data over around 40 years, as part of the Portland Data Science group (Mar 2018).\n",
    "Data selected by Matt Borthwick from Yahoo! Finance.\n",
    "Working with Neural Network group: Matt, John Burt, Manny, Isil, Kenny, Jhoan, Mark C.\n",
    "\n",
    "Our goal is to predict weekly returns on 6 industry based ETFs, as well\n",
    "as aggregate market performance (such as Russel3000).  We will also\n",
    "be using some macroeconomic indicators as well.\n",
    "This notebook currently loads the data, transforms it, and applies a\n",
    "simple neural network to try predicting the next days stock prices.\n",
    "The first model was built in tensorflow (and is currently broken).  THere is a second network written in Keras.\n",
    "\n",
    "The plan is to train on this data (up to Sep 2017),\n",
    "validate on (Oct-Dec 2017), and test in final session on (Jan-Mar 2018).\n",
    "\n",
    "(For more exploratory screwing around, and other attempts at time-series see PDX_finance1)\n",
    "\n",
    "Currently Contains:\n",
    "-Colab setup\n",
    "-Loading data\n",
    "-Tensorflow RNN (currently borked at prediction stage - wrong size? No idea what changed)\n",
    "-Keras RNN  (not working yet)\n",
    "-Keras Deep network"
   ]
  },
  {
   "cell_type": "markdown",
   "metadata": {
    "ein.tags": "worksheet-0",
    "slideshow": {
     "slide_type": "-"
    }
   },
   "source": [
    "# Google Colab setup\n",
    "\n",
    "First up however, we need to install modules to load up our google drive for storage.  (Code taken from this helpful post https://medium.com/deep-learning-turkey/google-colab-free-gpu-tutorial-e113627b9f5d)\n",
    "(Code and commands didn't look sketchy/malicious, but I didn't examine the PPA too closely either.)\n",
    "\n",
    "This code is for execution inside a Jupyter notebook on colab.google.com.\n",
    "It gives Colab access to your Google Drive in order to load/save data from within the notebook.\n",
    "Colab has most popular libraries (numpy, pandas, tensorflow, matplotlib).  I'm not sure how extensive it is.\n",
    "\n",
    "I've found opening a jupyter notebook on google drive automatically opens the Colab."
   ]
  },
  {
   "cell_type": "code",
   "execution_count": null,
   "metadata": {
    "autoscroll": false,
    "ein.tags": "worksheet-0",
    "slideshow": {
     "slide_type": "-"
    }
   },
   "outputs": [],
   "source": [
    "#Install modules on local machine.\n",
    "!apt-get install -y -qq software-properties-common python-software-properties module-init-tools\n",
    "!add-apt-repository -y ppa:alessandro-strada/ppa 2>&1 > /dev/null\n",
    "!apt-get update -qq 2>&1 > /dev/null\n",
    "!echo 'past update'\n",
    "!apt-get -y install -qq google-drive-ocamlfuse fuse\n",
    "!echo 'installed fuse'"
   ]
  },
  {
   "cell_type": "code",
   "execution_count": null,
   "metadata": {
    "autoscroll": false,
    "ein.tags": "worksheet-0",
    "slideshow": {
     "slide_type": "-"
    }
   },
   "outputs": [],
   "source": [
    "from google.colab import auth\n",
    "auth.authenticate_user()\n",
    "from oauth2client.client import GoogleCredentials\n",
    "creds = GoogleCredentials.get_application_default()\n",
    "import getpass\n",
    "!google-drive-ocamlfuse -headless -id={creds.client_id} -secret={creds.client_secret} < /dev/null 2>&1 | grep URL\n",
    "print('past first command')\n",
    "vcode = getpass.getpass()\n",
    "!echo {vcode} | google-drive-ocamlfuse -headless -id={creds.client_id} -secret={creds.client_secret}"
   ]
  },
  {
   "cell_type": "code",
   "execution_count": null,
   "metadata": {
    "autoscroll": false,
    "ein.tags": "worksheet-0",
    "slideshow": {
     "slide_type": "-"
    }
   },
   "outputs": [],
   "source": [
    "#Mounts google drive, and changes to that directory\n",
    "!mkdir -p drive \n",
    "!google-drive-ocamlfuse drive\n",
    "\n",
    "import os\n",
    "os.chdir(\"drive\")\n",
    "\n",
    "#Should now be in the root of your google-drive, and now free to load/save existing files."
   ]
  },
  {
   "cell_type": "markdown",
   "metadata": {
    "ein.tags": "worksheet-0",
    "slideshow": {
     "slide_type": "-"
    }
   },
   "source": [
    "# Load Libraries and Data\n",
    "\n",
    "Now to load libraries, and data for all stocks, ETFs, and indicators.\n",
    "All of those will get stuck together into one total dataframe.\n",
    "(This is where I start my analysis on my home machine.)"
   ]
  },
  {
   "cell_type": "code",
   "execution_count": 1,
   "metadata": {
    "autoscroll": false,
    "ein.tags": "worksheet-0",
    "slideshow": {
     "slide_type": "-"
    }
   },
   "outputs": [],
   "source": [
    "import pandas as pd \n",
    "import numpy as np\n",
    "import matplotlib.pyplot as plt\n",
    "\n",
    "%matplotlib inline\n",
    "# automatically reload files.\n",
    "%load_ext autoreload\n",
    "%autoreload 2"
   ]
  },
  {
   "cell_type": "code",
   "execution_count": 2,
   "metadata": {
    "autoscroll": false,
    "ein.tags": "worksheet-0",
    "slideshow": {
     "slide_type": "-"
    }
   },
   "outputs": [],
   "source": [
    "#Data compiled from Yahoo! Finance data by Matt Borthwick\n",
    "df_close=pd.read_csv('data/stocks-us-adjClose.csv',index_col=0,parse_dates=True)\n",
    "df_high=pd.read_csv('data/stocks-us-adjHigh.csv',index_col=0,parse_dates=True)\n",
    "df_low=pd.read_csv('data/stocks-us-adjLow.csv',index_col=0,parse_dates=True)\n",
    "df_vol=pd.read_csv('data/stocks-us-Volume.csv',index_col=0,parse_dates=True)\n",
    "df_close.index.name='date'\n",
    "df_high.index.name='date'\n",
    "df_low.index.name='date'\n",
    "df_vol.index.name='date'"
   ]
  },
  {
   "cell_type": "code",
   "execution_count": 3,
   "metadata": {
    "autoscroll": false,
    "ein.tags": "worksheet-0",
    "slideshow": {
     "slide_type": "-"
    }
   },
   "outputs": [],
   "source": [
    "df_market=pd.read_csv('data/market.csv',index_col=0,parse_dates=True)\n",
    "df_etf = pd.read_csv('data/sector_ETFs.csv',index_col=0,parse_dates=True)\n",
    "df_comp_info=pd.read_csv('data/Company_information.csv',encoding='latin1')\n"
   ]
  },
  {
   "cell_type": "code",
   "execution_count": 4,
   "metadata": {
    "autoscroll": false,
    "ein.tags": "worksheet-0",
    "slideshow": {
     "slide_type": "-"
    }
   },
   "outputs": [],
   "source": [
    "#join russell, and ETFs together, then to the stocks.\n",
    "df_target=pd.DataFrame.join(df_market,other=df_etf,how='outer')\n",
    "df_tot=df_close.join(df_target,how='inner')"
   ]
  },
  {
   "cell_type": "code",
   "execution_count": 5,
   "metadata": {
    "autoscroll": false,
    "ein.tags": "worksheet-0",
    "slideshow": {
     "slide_type": "-"
    }
   },
   "outputs": [],
   "source": [
    "#got this from earlier reading in.\n",
    "df_ind_col=['Date_orig', 'HOUST', 'HOUST_dt', 'UNRATENSA', 'UNRATENSA_dt', 'EMRATIO',\n",
    "       'EMRATIO_dt', 'UEMPMED', 'UEMPMED_dt', 'UMCSENT', 'UMCSENT_dt',\n",
    "       'USSLIND', 'USSLIND_dt', 'KCFSI', 'KCFSI_dt', 'IPMAN', 'IPMAN_dt',\n",
    "       'VIXCLS', 'VIXCLS_dt', 'DGS10', 'DGS10_dt']"
   ]
  },
  {
   "cell_type": "code",
   "execution_count": 5,
   "metadata": {
    "autoscroll": false,
    "ein.tags": "worksheet-0",
    "slideshow": {
     "slide_type": "-"
    }
   },
   "outputs": [],
   "source": [
    "##Pieter Leffer's code for reading in indicators\n",
    "import csv\n",
    "\n",
    "# remove warnings\n",
    "import warnings\n",
    "warnings.filterwarnings('ignore')\n",
    "\n",
    "# I ran into errors importing the file because of non-ascii characters in the heading\n",
    "#Here is a piece of code I got from stack overflow to fix that problem.\n",
    "df_ind=[]\n",
    "with open('data/Indicators_Train.csv', newline='', encoding='utf-8', errors='ignore') as f:\n",
    "    reader = csv.reader(f)\n",
    "    for row in reader:\n",
    "        df_ind.append(row)\n",
    "\n",
    "df_ind=pd.DataFrame(df_ind)\n",
    "df_ind.columns=df_ind.iloc[0]\n",
    "Column_Reference=df_ind.iloc[1].copy()\n",
    "#Drop useless rows (last row is empty)\n",
    "df_ind.drop([0,1],inplace=True)\n",
    "\n",
    "#Change the formatting of the variables. Datetime to the ones for dates, integers for the ones that aren't\n",
    "for i in range(0,len(df_ind.columns)):\n",
    "    if i % 2 == 0:\n",
    "        df_ind[df_ind.columns[i]] = pd.to_datetime(df_ind[df_ind.columns[i]], format = '%m/%d/%Y',  errors='coerce') \n",
    "    else:\n",
    "        df_ind[df_ind.columns[i]] = pd.to_numeric(df_ind[df_ind.columns[i]], errors='ignore')\n",
    "        \n",
    "#Reset the index because we dropped rows in the DataFrame, Using the drop command to remove the old index\n",
    "df_ind.reset_index(drop=True, inplace=True)\n",
    "\n",
    "#make a time index too.\n",
    "df_ind.index=pd.DatetimeIndex(df_ind['date'])\n",
    "#drop those time columns\n",
    "Nind=10"
   ]
  },
  {
   "cell_type": "code",
   "execution_count": 7,
   "metadata": {
    "autoscroll": false,
    "ein.tags": "worksheet-0",
    "slideshow": {
     "slide_type": "-"
    }
   },
   "outputs": [],
   "source": [
    "#keep numbers of values\n",
    "Nstocks_tot=df_close.shape[1]\n",
    "Netf=7\n",
    "Nind=10"
   ]
  },
  {
   "cell_type": "code",
   "execution_count": 8,
   "metadata": {
    "autoscroll": false,
    "ein.tags": "worksheet-0",
    "slideshow": {
     "slide_type": "-"
    }
   },
   "outputs": [],
   "source": [
    "join_num=np.arange(1,len(df_ind.columns),2)\n",
    "df_tot=df_tot.join(df_ind.iloc[:,join_num],how='inner')"
   ]
  },
  {
   "cell_type": "code",
   "execution_count": 211,
   "metadata": {
    "autoscroll": false,
    "ein.tags": "worksheet-0",
    "slideshow": {
     "slide_type": "-"
    }
   },
   "outputs": [
    {
     "data": {
      "image/png": "[encoded data removed]",
      "text/plain": [
       "<matplotlib.figure.Figure at 0x7efb7f4edf28>"
      ]
     },
     "metadata": {},
     "output_type": "display_data"
    }
   ],
   "source": [
    "#Plots the scaled values of the economic indictors.\n",
    "sl=slice(1,-2,2)\n",
    "df_ind_scale=df_ind.iloc[:,sl].abs().max()\n",
    "cutoff=int(len(df_ind)/2)\n",
    "plt.plot(df_ind.iloc[cutoff:,sl]/df_ind_scale)\n",
    "plt.show()"
   ]
  },
  {
   "cell_type": "code",
   "execution_count": 51,
   "metadata": {
    "autoscroll": false,
    "ein.tags": "worksheet-0",
    "slideshow": {
     "slide_type": "-"
    }
   },
   "outputs": [
    {
     "data": {
      "text/plain": [
       "Index(['ED', 'DD', 'CVX', 'FL', 'CAT', 'IP', 'SJW', 'F', 'LLY', 'AVP',\n",
       "       ...\n",
       "       'HOUST', 'UNRATENSA', 'EMRATIO', 'UEMPMED', 'UMCSENT', 'USSLIND',\n",
       "       'KCFSI', 'IPMAN', 'VIXCLS', 'DGS10'],\n",
       "      dtype='object', length=727)"
      ]
     },
     "execution_count": 51,
     "metadata": {},
     "output_type": "execute_result"
    }
   ],
   "source": [
    "df_tot.columns"
   ]
  },
  {
   "cell_type": "markdown",
   "metadata": {
    "ein.tags": "worksheet-0",
    "slideshow": {
     "slide_type": "-"
    }
   },
   "source": [
    "Looking at the number of NA values (summed across columns) suggests that\n",
    "there are missing values in these stocks.\n",
    "\n",
    "Could set all NA to zero, then apply linear interpolation to handle isolated\n",
    "missing days.  Let's check the pattern of missing days."
   ]
  },
  {
   "cell_type": "code",
   "execution_count": 9,
   "metadata": {
    "autoscroll": false,
    "ein.tags": "worksheet-0",
    "slideshow": {
     "slide_type": "-"
    }
   },
   "outputs": [
    {
     "data": {
      "text/plain": [
       "<matplotlib.figure.Figure at 0x7f29b53cba90>"
      ]
     },
     "metadata": {},
     "output_type": "display_data"
    }
   ],
   "source": [
    "#Plot pattern of NA values.  Weird stripes?\n",
    "plt.figure(figsize=(10,6))\n",
    "col=df_close.columns[0:]\n",
    "plt.imshow(np.isnan(df_vol.loc['2000':,col]),aspect='auto')\n",
    "plt.show()"
   ]
  },
  {
   "cell_type": "markdown",
   "metadata": {
    "ein.tags": "worksheet-0",
    "slideshow": {
     "slide_type": "-"
    }
   },
   "source": [
    "So, some stopped stocks, and one out of place one where "
   ]
  },
  {
   "cell_type": "markdown",
   "metadata": {
    "ein.tags": "worksheet-0",
    "slideshow": {
     "slide_type": "-"
    }
   },
   "source": [
    "# Neural Network\n",
    "\n",
    "This model is just a test based purely on the stock data.\n",
    "The network uses a multi-layer RNN, with two hidden layers at input/output.  They use leaky ReLU activation.\n",
    "The model currently plays with 100 stocks from 2002-2006.\n",
    "\n",
    "This uses a model I've cobbled together in Tensorflow.\n",
    "The OO structure is borrowed from the online problem sets\n",
    "from CS224 on NLP offered in 2017 at Stanford.\n",
    "The NN is borrowed from A. Geron \"Hands on Machine Learning with Scikit-Learn and Tensorflow\", which I've found to be the best\n",
    "overall introduction, and has a good mix of background, and code.\n",
    "(There is also an associated Github account with code).\n",
    "\n",
    "The Tensorflow docs were pretty hard reading, and there seem to be lots\n",
    "of tricks that only practitioners on StackOverflow are aware of.  (But the tutorials are pretty readable.)\n",
    "\n",
    "Note network currently only predicts one timestep into the future. \n"
   ]
  },
  {
   "cell_type": "code",
   "execution_count": 10,
   "metadata": {
    "autoscroll": false,
    "ein.tags": "worksheet-0",
    "slideshow": {
     "slide_type": "-"
    }
   },
   "outputs": [],
   "source": [
    "import tensorflow as tf\n",
    "from recurrent_network import recurrent_NN"
   ]
  },
  {
   "cell_type": "markdown",
   "metadata": {
    "ein.tags": "worksheet-0",
    "slideshow": {
     "slide_type": "-"
    }
   },
   "source": [
    "# Data Transformation\n",
    "\n",
    "For the initial testing, I'm just building a model based on the 100 oldest stocks (or whichever come first), and looking at 2002-2006.\n",
    "Why then?  Because it looks relatively well behaved.\n",
    "The model is trained on the first half of the data, and we then run the\n",
    "network on the whole data set.\n",
    "\n",
    "I'm currently just taking the base-10 log of the data, and scaling each\n",
    "stock to lie with [-1,1].  I found differencing the data lead to\n",
    "pretty crappy results (then again, these are also pretty crap results).\n",
    "\n",
    "So there's some choices to be played with here:\n",
    "- scaling: variance vs max/min\n",
    "- differencing?"
   ]
  },
  {
   "cell_type": "code",
   "execution_count": 12,
   "metadata": {
    "autoscroll": false,
    "ein.tags": "worksheet-0",
    "slideshow": {
     "slide_type": "-"
    }
   },
   "outputs": [],
   "source": [
    "Nstocks=300\n",
    "Xsub=df_tot['2000':'2006'].iloc[:,:Nstocks].values\n",
    "\n",
    "def scale_clean_data(X):\n",
    "    #set missing values to zero.  (to avoid issues in network with NaNs)\n",
    "    X[np.isnan(X)]=0\n",
    "    #take differences of logs. (shift zero to avoid NANs)\n",
    "    #Xsub2 = np.diff(np.log10(Xsub+1E-12),axis=0)\n",
    "    X = np.log10(Xsub+1E-16)\n",
    "\n",
    "    X_max = np.max(X,axis=0)\n",
    "    X_min = np.min(X,axis=0)\n",
    "\n",
    "    #Choice of scaling here: max/min vs variance?\n",
    "    #I think variance makes more sense if differencing.\n",
    "    rng = 0.5*(X_max-X_min)\n",
    "    avg = 0.5*(X_max+X_min)\n",
    "    Xscaled= (X-avg)/rng\n",
    "    return Xscaled,rng,avg\n",
    "\n",
    "Xsub2,rng,avg=scale_clean_data(Xsub)\n",
    "\n",
    "#split 3/4 as training, 1/4 as test\n",
    "N=len(Xsub2)\n",
    "Nc=int(3*N/4)\n",
    "#make training/test splits\n",
    "Xtrain = Xsub2[:Nc]\n",
    "ytrain = Xsub2[1:Nc+1] #tomorrow's return.\n",
    "\n",
    "Xtest=Xsub2[Nc:-1]\n",
    "ytest=Xsub2[Nc+2:]"
   ]
  },
  {
   "cell_type": "code",
   "execution_count": 13,
   "metadata": {
    "autoscroll": false,
    "ein.tags": "worksheet-0",
    "slideshow": {
     "slide_type": "-"
    }
   },
   "outputs": [
    {
     "data": {
      "text/plain": [
       "<matplotlib.figure.Figure at 0x7f2986da1a20>"
      ]
     },
     "metadata": {},
     "output_type": "display_data"
    }
   ],
   "source": [
    "#check scaling\n",
    "plt.figure()\n",
    "plt.plot(Xtrain[:,0:5])\n",
    "plt.plot(ytrain[:,0:5])\n",
    "plt.show()"
   ]
  },
  {
   "cell_type": "markdown",
   "metadata": {
    "ein.tags": "worksheet-0",
    "slideshow": {
     "slide_type": "-"
    }
   },
   "source": [
    "# Fitting RNN"
   ]
  },
  {
   "cell_type": "code",
   "execution_count": 14,
   "metadata": {
    "autoscroll": false,
    "ein.tags": "worksheet-0",
    "slideshow": {
     "slide_type": "-"
    }
   },
   "outputs": [
    {
     "name": "stdout",
     "output_type": "stream",
     "text": [
      "(LSTMStateTuple(c=<tf.Tensor 'rnn/while/Exit_2:0' shape=(?, 100) dtype=float32>, h=<tf.Tensor 'rnn/while/Exit_3:0' shape=(?, 100) dtype=float32>), LSTMStateTuple(c=<tf.Tensor 'rnn/while/Exit_4:0' shape=(?, 100) dtype=float32>, h=<tf.Tensor 'rnn/while/Exit_5:0' shape=(?, 100) dtype=float32>))\n",
      "Tensor(\"strided_slice:0\", shape=(2, ?, 300), dtype=float32)\n"
     ]
    }
   ],
   "source": [
    "#define network.\n",
    "#Note a lot of network parameters are defined in __init__ in \"recurrent_network.py\".\n",
    "#A more robust structure would pass a config dict or something like that.\n",
    "RNN=recurrent_NN(60,Nstocks,100,Nstocks,'LSTM')"
   ]
  },
  {
   "cell_type": "code",
   "execution_count": 15,
   "metadata": {
    "autoscroll": false,
    "ein.tags": "worksheet-0",
    "slideshow": {
     "slide_type": "-"
    }
   },
   "outputs": [
    {
     "name": "stdout",
     "output_type": "stream",
     "text": [
      "iter #20. Current MSE:0.22016216814517975\n",
      "Total Time taken:21.250980377197266\n",
      "\n",
      "\n"
     ]
    },
    {
     "ename": "KeyboardInterrupt",
     "evalue": "",
     "output_type": "error",
     "traceback": [
      "\u001b[0;31m---------------------------------------------------------------------------\u001b[0m",
      "\u001b[0;31mKeyboardInterrupt\u001b[0m                         Traceback (most recent call last)",
      "\u001b[0;32m<ipython-input-15-2dc295e33583>\u001b[0m in \u001b[0;36m<module>\u001b[0;34m()\u001b[0m\n\u001b[1;32m      6\u001b[0m \u001b[0;34m\u001b[0m\u001b[0m\n\u001b[1;32m      7\u001b[0m \u001b[0;34m\u001b[0m\u001b[0m\n\u001b[0;32m----> 8\u001b[0;31m \u001b[0mRNN\u001b[0m\u001b[0;34m.\u001b[0m\u001b[0mtrain_graph\u001b[0m\u001b[0;34m(\u001b[0m\u001b[0mXtrain\u001b[0m\u001b[0;34m,\u001b[0m\u001b[0mXtrain\u001b[0m\u001b[0;34m,\u001b[0m\u001b[0msave_name\u001b[0m\u001b[0;34m=\u001b[0m\u001b[0;34m'tf_models/rnn_test'\u001b[0m\u001b[0;34m)\u001b[0m\u001b[0;34m\u001b[0m\u001b[0m\n\u001b[0m\u001b[1;32m      9\u001b[0m \u001b[0;31m#Note the tiny, tiny errors.  Probably badly overfitting.\u001b[0m\u001b[0;34m\u001b[0m\u001b[0;34m\u001b[0m\u001b[0m\n\u001b[1;32m     10\u001b[0m \u001b[0;31m#Need to fix the dropout so it's only on in training.\u001b[0m\u001b[0;34m\u001b[0m\u001b[0;34m\u001b[0m\u001b[0m\n",
      "\u001b[0;32m/home/jonathan/Data-Science/PDX_DataScience/PDX_finance/recurrent_network.py\u001b[0m in \u001b[0;36mtrain_graph\u001b[0;34m(self, Xi, yi, save_name)\u001b[0m\n\u001b[1;32m    293\u001b[0m                 \u001b[0;31m#select random starting point.\u001b[0m\u001b[0;34m\u001b[0m\u001b[0;34m\u001b[0m\u001b[0m\n\u001b[1;32m    294\u001b[0m                 \u001b[0mX_batch\u001b[0m\u001b[0;34m,\u001b[0m\u001b[0my_batch\u001b[0m\u001b[0;34m=\u001b[0m\u001b[0mself\u001b[0m\u001b[0;34m.\u001b[0m\u001b[0mget_random_batch\u001b[0m\u001b[0;34m(\u001b[0m\u001b[0mXi\u001b[0m\u001b[0;34m,\u001b[0m\u001b[0myi\u001b[0m\u001b[0;34m)\u001b[0m\u001b[0;34m\u001b[0m\u001b[0m\n\u001b[0;32m--> 295\u001b[0;31m                 \u001b[0mcurrent_loss\u001b[0m\u001b[0;34m=\u001b[0m\u001b[0mself\u001b[0m\u001b[0;34m.\u001b[0m\u001b[0mtrain_on_batch\u001b[0m\u001b[0;34m(\u001b[0m\u001b[0msess\u001b[0m\u001b[0;34m,\u001b[0m \u001b[0mX_batch\u001b[0m\u001b[0;34m,\u001b[0m \u001b[0my_batch\u001b[0m\u001b[0;34m)\u001b[0m\u001b[0;34m\u001b[0m\u001b[0m\n\u001b[0m\u001b[1;32m    296\u001b[0m                 \u001b[0mt2_b\u001b[0m\u001b[0;34m=\u001b[0m\u001b[0mtime\u001b[0m\u001b[0;34m.\u001b[0m\u001b[0mtime\u001b[0m\u001b[0;34m(\u001b[0m\u001b[0;34m)\u001b[0m\u001b[0;34m\u001b[0m\u001b[0m\n\u001b[1;32m    297\u001b[0m                 \u001b[0;32mif\u001b[0m \u001b[0;34m(\u001b[0m\u001b[0miteration\u001b[0m\u001b[0;34m)\u001b[0m\u001b[0;34m%\u001b[0m\u001b[0mself\u001b[0m\u001b[0;34m.\u001b[0m\u001b[0mnprint\u001b[0m \u001b[0;34m==\u001b[0m\u001b[0;36m0\u001b[0m\u001b[0;34m:\u001b[0m\u001b[0;34m\u001b[0m\u001b[0m\n",
      "\u001b[0;32m/home/jonathan/Data-Science/PDX_DataScience/PDX_finance/recurrent_network.py\u001b[0m in \u001b[0;36mtrain_on_batch\u001b[0;34m(self, sess, inputs_batch, labels_batch)\u001b[0m\n\u001b[1;32m    196\u001b[0m         \"\"\"\n\u001b[1;32m    197\u001b[0m         \u001b[0mfeed\u001b[0m \u001b[0;34m=\u001b[0m \u001b[0mself\u001b[0m\u001b[0;34m.\u001b[0m\u001b[0mcreate_feed_dict\u001b[0m\u001b[0;34m(\u001b[0m\u001b[0minputs_batch\u001b[0m\u001b[0;34m,\u001b[0m \u001b[0mlabels_batch\u001b[0m\u001b[0;34m=\u001b[0m\u001b[0mlabels_batch\u001b[0m\u001b[0;34m)\u001b[0m\u001b[0;34m\u001b[0m\u001b[0m\n\u001b[0;32m--> 198\u001b[0;31m         \u001b[0m_\u001b[0m\u001b[0;34m,\u001b[0m \u001b[0mloss\u001b[0m \u001b[0;34m=\u001b[0m \u001b[0msess\u001b[0m\u001b[0;34m.\u001b[0m\u001b[0mrun\u001b[0m\u001b[0;34m(\u001b[0m\u001b[0;34m[\u001b[0m\u001b[0mself\u001b[0m\u001b[0;34m.\u001b[0m\u001b[0mtrain_op\u001b[0m\u001b[0;34m,\u001b[0m \u001b[0mself\u001b[0m\u001b[0;34m.\u001b[0m\u001b[0mloss\u001b[0m\u001b[0;34m]\u001b[0m\u001b[0;34m,\u001b[0m \u001b[0mfeed_dict\u001b[0m\u001b[0;34m=\u001b[0m\u001b[0mfeed\u001b[0m\u001b[0;34m)\u001b[0m\u001b[0;34m\u001b[0m\u001b[0m\n\u001b[0m\u001b[1;32m    199\u001b[0m         \u001b[0;32mreturn\u001b[0m \u001b[0mloss\u001b[0m\u001b[0;34m\u001b[0m\u001b[0m\n\u001b[1;32m    200\u001b[0m \u001b[0;34m\u001b[0m\u001b[0m\n",
      "\u001b[0;32m/home/jonathan/.local/lib/python3.6/site-packages/tensorflow/python/client/session.py\u001b[0m in \u001b[0;36mrun\u001b[0;34m(self, fetches, feed_dict, options, run_metadata)\u001b[0m\n\u001b[1;32m    887\u001b[0m     \u001b[0;32mtry\u001b[0m\u001b[0;34m:\u001b[0m\u001b[0;34m\u001b[0m\u001b[0m\n\u001b[1;32m    888\u001b[0m       result = self._run(None, fetches, feed_dict, options_ptr,\n\u001b[0;32m--> 889\u001b[0;31m                          run_metadata_ptr)\n\u001b[0m\u001b[1;32m    890\u001b[0m       \u001b[0;32mif\u001b[0m \u001b[0mrun_metadata\u001b[0m\u001b[0;34m:\u001b[0m\u001b[0;34m\u001b[0m\u001b[0m\n\u001b[1;32m    891\u001b[0m         \u001b[0mproto_data\u001b[0m \u001b[0;34m=\u001b[0m \u001b[0mtf_session\u001b[0m\u001b[0;34m.\u001b[0m\u001b[0mTF_GetBuffer\u001b[0m\u001b[0;34m(\u001b[0m\u001b[0mrun_metadata_ptr\u001b[0m\u001b[0;34m)\u001b[0m\u001b[0;34m\u001b[0m\u001b[0m\n",
      "\u001b[0;32m/home/jonathan/.local/lib/python3.6/site-packages/tensorflow/python/client/session.py\u001b[0m in \u001b[0;36m_run\u001b[0;34m(self, handle, fetches, feed_dict, options, run_metadata)\u001b[0m\n\u001b[1;32m   1118\u001b[0m     \u001b[0;32mif\u001b[0m \u001b[0mfinal_fetches\u001b[0m \u001b[0;32mor\u001b[0m \u001b[0mfinal_targets\u001b[0m \u001b[0;32mor\u001b[0m \u001b[0;34m(\u001b[0m\u001b[0mhandle\u001b[0m \u001b[0;32mand\u001b[0m \u001b[0mfeed_dict_tensor\u001b[0m\u001b[0;34m)\u001b[0m\u001b[0;34m:\u001b[0m\u001b[0;34m\u001b[0m\u001b[0m\n\u001b[1;32m   1119\u001b[0m       results = self._do_run(handle, final_targets, final_fetches,\n\u001b[0;32m-> 1120\u001b[0;31m                              feed_dict_tensor, options, run_metadata)\n\u001b[0m\u001b[1;32m   1121\u001b[0m     \u001b[0;32melse\u001b[0m\u001b[0;34m:\u001b[0m\u001b[0;34m\u001b[0m\u001b[0m\n\u001b[1;32m   1122\u001b[0m       \u001b[0mresults\u001b[0m \u001b[0;34m=\u001b[0m \u001b[0;34m[\u001b[0m\u001b[0;34m]\u001b[0m\u001b[0;34m\u001b[0m\u001b[0m\n",
      "\u001b[0;32m/home/jonathan/.local/lib/python3.6/site-packages/tensorflow/python/client/session.py\u001b[0m in \u001b[0;36m_do_run\u001b[0;34m(self, handle, target_list, fetch_list, feed_dict, options, run_metadata)\u001b[0m\n\u001b[1;32m   1315\u001b[0m     \u001b[0;32mif\u001b[0m \u001b[0mhandle\u001b[0m \u001b[0;32mis\u001b[0m \u001b[0;32mNone\u001b[0m\u001b[0;34m:\u001b[0m\u001b[0;34m\u001b[0m\u001b[0m\n\u001b[1;32m   1316\u001b[0m       return self._do_call(_run_fn, self._session, feeds, fetches, targets,\n\u001b[0;32m-> 1317\u001b[0;31m                            options, run_metadata)\n\u001b[0m\u001b[1;32m   1318\u001b[0m     \u001b[0;32melse\u001b[0m\u001b[0;34m:\u001b[0m\u001b[0;34m\u001b[0m\u001b[0m\n\u001b[1;32m   1319\u001b[0m       \u001b[0;32mreturn\u001b[0m \u001b[0mself\u001b[0m\u001b[0;34m.\u001b[0m\u001b[0m_do_call\u001b[0m\u001b[0;34m(\u001b[0m\u001b[0m_prun_fn\u001b[0m\u001b[0;34m,\u001b[0m \u001b[0mself\u001b[0m\u001b[0;34m.\u001b[0m\u001b[0m_session\u001b[0m\u001b[0;34m,\u001b[0m \u001b[0mhandle\u001b[0m\u001b[0;34m,\u001b[0m \u001b[0mfeeds\u001b[0m\u001b[0;34m,\u001b[0m \u001b[0mfetches\u001b[0m\u001b[0;34m)\u001b[0m\u001b[0;34m\u001b[0m\u001b[0m\n",
      "\u001b[0;32m/home/jonathan/.local/lib/python3.6/site-packages/tensorflow/python/client/session.py\u001b[0m in \u001b[0;36m_do_call\u001b[0;34m(self, fn, *args)\u001b[0m\n\u001b[1;32m   1321\u001b[0m   \u001b[0;32mdef\u001b[0m \u001b[0m_do_call\u001b[0m\u001b[0;34m(\u001b[0m\u001b[0mself\u001b[0m\u001b[0;34m,\u001b[0m \u001b[0mfn\u001b[0m\u001b[0;34m,\u001b[0m \u001b[0;34m*\u001b[0m\u001b[0margs\u001b[0m\u001b[0;34m)\u001b[0m\u001b[0;34m:\u001b[0m\u001b[0;34m\u001b[0m\u001b[0m\n\u001b[1;32m   1322\u001b[0m     \u001b[0;32mtry\u001b[0m\u001b[0;34m:\u001b[0m\u001b[0;34m\u001b[0m\u001b[0m\n\u001b[0;32m-> 1323\u001b[0;31m       \u001b[0;32mreturn\u001b[0m \u001b[0mfn\u001b[0m\u001b[0;34m(\u001b[0m\u001b[0;34m*\u001b[0m\u001b[0margs\u001b[0m\u001b[0;34m)\u001b[0m\u001b[0;34m\u001b[0m\u001b[0m\n\u001b[0m\u001b[1;32m   1324\u001b[0m     \u001b[0;32mexcept\u001b[0m \u001b[0merrors\u001b[0m\u001b[0;34m.\u001b[0m\u001b[0mOpError\u001b[0m \u001b[0;32mas\u001b[0m \u001b[0me\u001b[0m\u001b[0;34m:\u001b[0m\u001b[0;34m\u001b[0m\u001b[0m\n\u001b[1;32m   1325\u001b[0m       \u001b[0mmessage\u001b[0m \u001b[0;34m=\u001b[0m \u001b[0mcompat\u001b[0m\u001b[0;34m.\u001b[0m\u001b[0mas_text\u001b[0m\u001b[0;34m(\u001b[0m\u001b[0me\u001b[0m\u001b[0;34m.\u001b[0m\u001b[0mmessage\u001b[0m\u001b[0;34m)\u001b[0m\u001b[0;34m\u001b[0m\u001b[0m\n",
      "\u001b[0;32m/home/jonathan/.local/lib/python3.6/site-packages/tensorflow/python/client/session.py\u001b[0m in \u001b[0;36m_run_fn\u001b[0;34m(session, feed_dict, fetch_list, target_list, options, run_metadata)\u001b[0m\n\u001b[1;32m   1300\u001b[0m           return tf_session.TF_Run(session, options,\n\u001b[1;32m   1301\u001b[0m                                    \u001b[0mfeed_dict\u001b[0m\u001b[0;34m,\u001b[0m \u001b[0mfetch_list\u001b[0m\u001b[0;34m,\u001b[0m \u001b[0mtarget_list\u001b[0m\u001b[0;34m,\u001b[0m\u001b[0;34m\u001b[0m\u001b[0m\n\u001b[0;32m-> 1302\u001b[0;31m                                    status, run_metadata)\n\u001b[0m\u001b[1;32m   1303\u001b[0m \u001b[0;34m\u001b[0m\u001b[0m\n\u001b[1;32m   1304\u001b[0m     \u001b[0;32mdef\u001b[0m \u001b[0m_prun_fn\u001b[0m\u001b[0;34m(\u001b[0m\u001b[0msession\u001b[0m\u001b[0;34m,\u001b[0m \u001b[0mhandle\u001b[0m\u001b[0;34m,\u001b[0m \u001b[0mfeed_dict\u001b[0m\u001b[0;34m,\u001b[0m \u001b[0mfetch_list\u001b[0m\u001b[0;34m)\u001b[0m\u001b[0;34m:\u001b[0m\u001b[0;34m\u001b[0m\u001b[0m\n",
      "\u001b[0;31mKeyboardInterrupt\u001b[0m: "
     ]
    }
   ],
   "source": [
    "#Rebuild the tensorflow graph.\n",
    "RNN.build()\n",
    "#Actually train the graph on first half of data.\n",
    "#Give all of the data to this subroutine, where it selects\n",
    "# the inputs and target data in get_random_batch\n",
    "\n",
    "RNN.train_graph(Xtrain,Xtrain,save_name='tf_models/rnn_test')\n",
    "#Note the tiny, tiny errors.  Probably badly overfitting.\n",
    "#Need to fix the dropout so it's only on in training."
   ]
  },
  {
   "cell_type": "code",
   "execution_count": 19,
   "metadata": {
    "autoscroll": false,
    "ein.tags": "worksheet-0",
    "slideshow": {
     "slide_type": "-"
    }
   },
   "outputs": [
    {
     "name": "stdout",
     "output_type": "stream",
     "text": [
      "Automatic pdb calling has been turned ON\n"
     ]
    }
   ],
   "source": [
    "%pdb on"
   ]
  },
  {
   "cell_type": "code",
   "execution_count": 20,
   "metadata": {
    "autoscroll": false,
    "ein.tags": "worksheet-0",
    "slideshow": {
     "slide_type": "-"
    }
   },
   "outputs": [
    {
     "name": "stdout",
     "output_type": "stream",
     "text": [
      "INFO:tensorflow:Restoring parameters from tf_models/rnn_test-20\n",
      "0 100\n"
     ]
    },
    {
     "ename": "ValueError",
     "evalue": "could not broadcast input array from shape (2,100,300) into shape (100,300)",
     "output_type": "error",
     "traceback": [
      "\u001b[0;31m---------------------------------------------------------------------------\u001b[0m",
      "\u001b[0;31mValueError\u001b[0m                                Traceback (most recent call last)",
      "\u001b[0;32m<ipython-input-20-4eca7d4f1112>\u001b[0m in \u001b[0;36m<module>\u001b[0;34m()\u001b[0m\n\u001b[1;32m      1\u001b[0m \u001b[0;31m#Predict on all of the data.\u001b[0m\u001b[0;34m\u001b[0m\u001b[0;34m\u001b[0m\u001b[0m\n\u001b[1;32m      2\u001b[0m \u001b[0;31m#This loads up a previous model.\u001b[0m\u001b[0;34m\u001b[0m\u001b[0;34m\u001b[0m\u001b[0m\n\u001b[0;32m----> 3\u001b[0;31m \u001b[0mRNN_pred\u001b[0m\u001b[0;34m=\u001b[0m\u001b[0mRNN\u001b[0m\u001b[0;34m.\u001b[0m\u001b[0mpredict_all\u001b[0m\u001b[0;34m(\u001b[0m\u001b[0;34m'tf_models/rnn_test'\u001b[0m\u001b[0;34m,\u001b[0m\u001b[0;36m20\u001b[0m\u001b[0;34m,\u001b[0m\u001b[0mXsub2\u001b[0m\u001b[0;34m,\u001b[0m\u001b[0mreset\u001b[0m\u001b[0;34m=\u001b[0m\u001b[0;32mTrue\u001b[0m\u001b[0;34m)\u001b[0m\u001b[0;34m\u001b[0m\u001b[0m\n\u001b[0m",
      "\u001b[0;32m/home/jonathan/Data-Science/PDX_DataScience/PDX_finance/recurrent_network.py\u001b[0m in \u001b[0;36mpredict_all\u001b[0;34m(self, model_name, num, input_data, reset)\u001b[0m\n\u001b[1;32m    358\u001b[0m                 \u001b[0mnn_pred\u001b[0m\u001b[0;34m=\u001b[0m\u001b[0mself\u001b[0m\u001b[0;34m.\u001b[0m\u001b[0mpredict_on_batch\u001b[0m\u001b[0;34m(\u001b[0m\u001b[0msess\u001b[0m\u001b[0;34m,\u001b[0m\u001b[0mX_batch\u001b[0m\u001b[0;34m)\u001b[0m\u001b[0;34m\u001b[0m\u001b[0m\n\u001b[1;32m    359\u001b[0m                 \u001b[0msl\u001b[0m\u001b[0;34m=\u001b[0m\u001b[0mslice\u001b[0m\u001b[0;34m(\u001b[0m\u001b[0mself\u001b[0m\u001b[0;34m.\u001b[0m\u001b[0mNsteps\u001b[0m\u001b[0;34m+\u001b[0m\u001b[0mi0\u001b[0m\u001b[0;34m,\u001b[0m\u001b[0mself\u001b[0m\u001b[0;34m.\u001b[0m\u001b[0mNsteps\u001b[0m\u001b[0;34m+\u001b[0m\u001b[0mi1\u001b[0m\u001b[0;34m)\u001b[0m\u001b[0;34m\u001b[0m\u001b[0m\n\u001b[0;32m--> 360\u001b[0;31m                 \u001b[0mnn_pred_total\u001b[0m\u001b[0;34m[\u001b[0m\u001b[0msl\u001b[0m\u001b[0;34m]\u001b[0m\u001b[0;34m=\u001b[0m\u001b[0mnn_pred\u001b[0m\u001b[0;34m\u001b[0m\u001b[0m\n\u001b[0m\u001b[1;32m    361\u001b[0m                 \u001b[0mi0\u001b[0m\u001b[0;34m=\u001b[0m\u001b[0mi1\u001b[0m\u001b[0;34m\u001b[0m\u001b[0m\n\u001b[1;32m    362\u001b[0m                 \u001b[0mi1\u001b[0m\u001b[0;34m+=\u001b[0m\u001b[0mself\u001b[0m\u001b[0;34m.\u001b[0m\u001b[0mNbatch\u001b[0m\u001b[0;34m\u001b[0m\u001b[0m\n",
      "\u001b[0;31mValueError\u001b[0m: could not broadcast input array from shape (2,100,300) into shape (100,300)"
     ]
    },
    {
     "name": "stdout",
     "output_type": "stream",
     "text": [
      "> \u001b[0;32m/home/jonathan/Data-Science/PDX_DataScience/PDX_finance/recurrent_network.py\u001b[0m(369)\u001b[0;36mpredict_all\u001b[0;34m()\u001b[0m\n",
      "\u001b[0;32m    367 \u001b[0;31m                \u001b[0mX_batch\u001b[0m\u001b[0;34m[\u001b[0m\u001b[0mi\u001b[0m\u001b[0;34m,\u001b[0m\u001b[0;34m:\u001b[0m\u001b[0;34m,\u001b[0m\u001b[0;34m:\u001b[0m\u001b[0;34m]\u001b[0m\u001b[0;34m=\u001b[0m\u001b[0minput_data\u001b[0m\u001b[0;34m[\u001b[0m\u001b[0;34m(\u001b[0m\u001b[0mi0\u001b[0m\u001b[0;34m+\u001b[0m\u001b[0mi\u001b[0m\u001b[0;34m)\u001b[0m\u001b[0;34m:\u001b[0m\u001b[0;34m(\u001b[0m\u001b[0mi0\u001b[0m\u001b[0;34m+\u001b[0m\u001b[0mi\u001b[0m\u001b[0;34m+\u001b[0m\u001b[0mself\u001b[0m\u001b[0;34m.\u001b[0m\u001b[0mNsteps\u001b[0m\u001b[0;34m)\u001b[0m\u001b[0;34m,\u001b[0m\u001b[0;34m:\u001b[0m\u001b[0;34m]\u001b[0m\u001b[0;34m\u001b[0m\u001b[0m\n",
      "\u001b[0m\u001b[0;32m    368 \u001b[0;31m            \u001b[0mnn_pred\u001b[0m\u001b[0;34m=\u001b[0m\u001b[0mself\u001b[0m\u001b[0;34m.\u001b[0m\u001b[0mpredict_on_batch\u001b[0m\u001b[0;34m(\u001b[0m\u001b[0msess\u001b[0m\u001b[0;34m,\u001b[0m\u001b[0mX_batch\u001b[0m\u001b[0;34m)\u001b[0m\u001b[0;34m\u001b[0m\u001b[0m\n",
      "\u001b[0m\u001b[0;32m--> 369 \u001b[0;31m            \u001b[0mnn_pred_total\u001b[0m\u001b[0;34m[\u001b[0m\u001b[0;34m-\u001b[0m\u001b[0mNleft\u001b[0m\u001b[0;34m:\u001b[0m\u001b[0;34m]\u001b[0m\u001b[0;34m=\u001b[0m\u001b[0mnn_pred\u001b[0m\u001b[0;34m\u001b[0m\u001b[0m\n",
      "\u001b[0m\u001b[0;32m    370 \u001b[0;31m            \u001b[0;31m#nn_pred_reduced=np.round(nn_pred_total).astype(bool)\u001b[0m\u001b[0;34m\u001b[0m\u001b[0;34m\u001b[0m\u001b[0m\n",
      "\u001b[0m\u001b[0;32m    371 \u001b[0;31m        \u001b[0;32mreturn\u001b[0m \u001b[0mnn_pred_total\u001b[0m\u001b[0;34m\u001b[0m\u001b[0m\n",
      "\u001b[0m\n"
     ]
    },
    {
     "ename": "ValueError",
     "evalue": "could not broadcast input array from shape (2,100,300) into shape (100,300)",
     "output_type": "error",
     "traceback": [
      "\u001b[0;31m---------------------------------------------------------------------------\u001b[0m",
      "\u001b[0;31mValueError\u001b[0m                                Traceback (most recent call last)",
      "\u001b[0;32m<ipython-input-20-4eca7d4f1112>\u001b[0m in \u001b[0;36m<module>\u001b[0;34m()\u001b[0m\n\u001b[1;32m      1\u001b[0m \u001b[0;31m#Predict on all of the data.\u001b[0m\u001b[0;34m\u001b[0m\u001b[0;34m\u001b[0m\u001b[0m\n\u001b[1;32m      2\u001b[0m \u001b[0;31m#This loads up a previous model.\u001b[0m\u001b[0;34m\u001b[0m\u001b[0;34m\u001b[0m\u001b[0m\n\u001b[0;32m----> 3\u001b[0;31m \u001b[0mRNN_pred\u001b[0m\u001b[0;34m=\u001b[0m\u001b[0mRNN\u001b[0m\u001b[0;34m.\u001b[0m\u001b[0mpredict_all\u001b[0m\u001b[0;34m(\u001b[0m\u001b[0;34m'tf_models/rnn_test'\u001b[0m\u001b[0;34m,\u001b[0m\u001b[0;36m20\u001b[0m\u001b[0;34m,\u001b[0m\u001b[0mXsub2\u001b[0m\u001b[0;34m,\u001b[0m\u001b[0mreset\u001b[0m\u001b[0;34m=\u001b[0m\u001b[0;32mTrue\u001b[0m\u001b[0;34m)\u001b[0m\u001b[0;34m\u001b[0m\u001b[0m\n\u001b[0m",
      "\u001b[0;32m/home/jonathan/Data-Science/PDX_DataScience/PDX_finance/recurrent_network.py\u001b[0m in \u001b[0;36mpredict_all\u001b[0;34m(self, model_name, num, input_data, reset)\u001b[0m\n\u001b[1;32m    358\u001b[0m                 \u001b[0mnn_pred\u001b[0m\u001b[0;34m=\u001b[0m\u001b[0mself\u001b[0m\u001b[0;34m.\u001b[0m\u001b[0mpredict_on_batch\u001b[0m\u001b[0;34m(\u001b[0m\u001b[0msess\u001b[0m\u001b[0;34m,\u001b[0m\u001b[0mX_batch\u001b[0m\u001b[0;34m)\u001b[0m\u001b[0;34m\u001b[0m\u001b[0m\n\u001b[1;32m    359\u001b[0m                 \u001b[0msl\u001b[0m\u001b[0;34m=\u001b[0m\u001b[0mslice\u001b[0m\u001b[0;34m(\u001b[0m\u001b[0mself\u001b[0m\u001b[0;34m.\u001b[0m\u001b[0mNsteps\u001b[0m\u001b[0;34m+\u001b[0m\u001b[0mi0\u001b[0m\u001b[0;34m,\u001b[0m\u001b[0mself\u001b[0m\u001b[0;34m.\u001b[0m\u001b[0mNsteps\u001b[0m\u001b[0;34m+\u001b[0m\u001b[0mi1\u001b[0m\u001b[0;34m)\u001b[0m\u001b[0;34m\u001b[0m\u001b[0m\n\u001b[0;32m--> 360\u001b[0;31m                 \u001b[0mnn_pred_total\u001b[0m\u001b[0;34m[\u001b[0m\u001b[0msl\u001b[0m\u001b[0;34m]\u001b[0m\u001b[0;34m=\u001b[0m\u001b[0mnn_pred\u001b[0m\u001b[0;34m\u001b[0m\u001b[0m\n\u001b[0m\u001b[1;32m    361\u001b[0m                 \u001b[0mi0\u001b[0m\u001b[0;34m=\u001b[0m\u001b[0mi1\u001b[0m\u001b[0;34m\u001b[0m\u001b[0m\n\u001b[1;32m    362\u001b[0m                 \u001b[0mi1\u001b[0m\u001b[0;34m+=\u001b[0m\u001b[0mself\u001b[0m\u001b[0;34m.\u001b[0m\u001b[0mNbatch\u001b[0m\u001b[0;34m\u001b[0m\u001b[0m\n",
      "\u001b[0;31mValueError\u001b[0m: could not broadcast input array from shape (2,100,300) into shape (100,300)"
     ]
    }
   ],
   "source": [
    "#Predict on all of the data.\n",
    "#This loads up a previous model.\n",
    "RNN_pred=RNN.predict_all('tf_models/rnn_test',20,Xsub2,reset=True)"
   ]
  },
  {
   "cell_type": "code",
   "execution_count": 11,
   "metadata": {
    "autoscroll": false,
    "ein.tags": "worksheet-0",
    "slideshow": {
     "slide_type": "-"
    }
   },
   "outputs": [],
   "source": [
    "def plot_pred(X,pred,indx_range):\n",
    "    \"\"\"Plots a particular stock and the prediction\"\"\"\n",
    "\n",
    "    plt.figure()\n",
    "    plt.subplot(121)\n",
    "    plt.plot(X[:,indx_range])\n",
    "    plt.plot(pred[:,indx_range])\n",
    "    plt.plot([len(X)/2]*2,[-1,1],'k-')\n",
    "    plt.legend(['Actual','Forecast'])\n",
    "    plt.title('Raw')\n",
    "\n",
    "    plt.subplot(122)\n",
    "    plt.plot(np.cumsum(X[:,indx_range],axis=0))\n",
    "    plt.plot(np.cumsum(pred[:,indx_range],axis=0))\n",
    "    plt.legend(['Actual','Forecast'])    \n",
    "    plt.title('Cumulative')\n",
    "\n",
    "    plt.show()\n",
    "    "
   ]
  },
  {
   "cell_type": "code",
   "execution_count": 17,
   "metadata": {
    "autoscroll": false,
    "ein.tags": "worksheet-0",
    "slideshow": {
     "slide_type": "-"
    }
   },
   "outputs": [
    {
     "data": {
      "image/png": "[encoded data removed]",
      "text/plain": [
       "<matplotlib.figure.Figure at 0x7efba5b7e630>"
      ]
     },
     "metadata": {},
     "output_type": "display_data"
    }
   ],
   "source": [
    "#Could make predicted results a time series for nicer formating, and dates.\n",
    "#Plot cumulative for cases when we've also differenced.\n",
    "plot_pred(Xsub2,RNN_pred,50)"
   ]
  },
  {
   "cell_type": "markdown",
   "metadata": {
    "ein.tags": "worksheet-0",
    "slideshow": {
     "slide_type": "-"
    }
   },
   "source": [
    "This RNN forecast is also WAY worse than a persistence forecast (tomorrow's price is the same as todays).\n",
    "Big question: why is the price wandering away? Even if the model is fixed (weights unchanged), surely it should take the recent past (which the model uses to forecast tomorrow's demand) into account.  \n",
    "\n",
    "Note the effect of further smoothing, which suggests a clearer trend, that might be easier to model.\n",
    "That suggests the convolutional networks may be useful,\n",
    "perhaps with running averages to smooth the data.  Forecasting on a week timescale might allevative some of that too?"
   ]
  },
  {
   "cell_type": "code",
   "execution_count": 13,
   "metadata": {
    "autoscroll": false,
    "ein.tags": "worksheet-0",
    "slideshow": {
     "slide_type": "-"
    }
   },
   "outputs": [
    {
     "data": {
      "image/png": "[encoded data removed]",
      "text/plain": [
       "<matplotlib.figure.Figure at 0x7efba5c45550>"
      ]
     },
     "metadata": {},
     "output_type": "display_data"
    }
   ],
   "source": [
    "#Let's look at the differences between the predicted and actual\n",
    "#results at the end of the period.\n",
    "pred_diff=RNN_pred[-1]-Xsub2[-1]\n",
    "plt.hist(pred_diff)\n",
    "plt.show()"
   ]
  },
  {
   "cell_type": "code",
   "execution_count": 15,
   "metadata": {
    "autoscroll": false,
    "ein.tags": "worksheet-0",
    "slideshow": {
     "slide_type": "-"
    }
   },
   "outputs": [
    {
     "data": {
      "text/plain": [
       "(-0.1433746024133806, 1.0660086500156463)"
      ]
     },
     "execution_count": 15,
     "metadata": {},
     "output_type": "execute_result"
    }
   ],
   "source": [
    "(np.mean(pred_diff),np.std(pred_diff))"
   ]
  },
  {
   "cell_type": "code",
   "execution_count": 104,
   "metadata": {
    "autoscroll": false,
    "ein.tags": "worksheet-0",
    "slideshow": {
     "slide_type": "-"
    }
   },
   "outputs": [],
   "source": [
    "#Let's now see how much the predictions vary (across all stocks) at the end of training, 20 trading days after that,\n",
    "# and at the end of the period, a year or two out.\n",
    "\n",
    "#Note that these predictions use the data from those periods, but the model is not being updated.\n",
    "\n",
    "def plot_err_hist(target,pred,Nc):\n",
    "    '''plot_err_hist\n",
    "\n",
    "    Makes histograms of the errors between the target and prediction\n",
    "    at multiple time scales aroud the tend of the training period.\n",
    "    '''\n",
    "    \n",
    "    Nc = int(len(Xsub2)/2)\n",
    "    plt.figure(figsize=(10,6))\n",
    "\n",
    "    plt.subplot(141)\n",
    "    pred_diff=pred[Nc-20]-target[Nc-20]\n",
    "    plt.title('End of training - 20 days')\n",
    "    plt.hist(pred_diff)\n",
    "\n",
    "    plt.subplot(142)\n",
    "    pred_diff=pred[Nc]-target[Nc]\n",
    "    plt.title('End of training')\n",
    "    plt.hist(pred_diff)\n",
    "\n",
    "    plt.subplot(143)\n",
    "    pred_diff=pred[Nc+20]-target[Nc+20]\n",
    "    plt.title('End of training+20 days')\n",
    "    plt.hist(pred_diff)\n",
    "\n",
    "    plt.subplot(144)\n",
    "    pred_diff=pred[-1]-target[-1]\n",
    "    plt.hist(pred_diff)\n",
    "    plt.title('End of test')\n",
    "    plt.xlabel('Forecast Residuals')\n",
    "    plt.show()\n"
   ]
  },
  {
   "cell_type": "markdown",
   "metadata": {
    "ein.tags": "worksheet-0",
    "slideshow": {
     "slide_type": "-"
    }
   },
   "source": [
    "The final graph is worst, it is also trying to predict many years ahead, based on essentially short-term info.\n",
    "Probably could describe build up of cumulative errors as a random walk?\n",
    "Would guess errors grows as sqrt(T), so the variance of this distribution grows as T.\n"
   ]
  },
  {
   "cell_type": "markdown",
   "metadata": {
    "ein.tags": "worksheet-0",
    "slideshow": {
     "slide_type": "-"
    }
   },
   "source": [
    "# Keras Network\n",
    "\n",
    "Let's build a similar recurrent network in Keras (just using the adjusted close for now). \n",
    "\n",
    "The goal is to predict the a whole quarters worth of weekly returns on 6 sectors, denoted by $\\mathbf{y}_{t}$, based on a sequence of inputs $\\mathbf{x}_{t}$, which can be (stocks, previous values of the inputs, macroeconomic indicators ).\n",
    "\n",
    "We will use a recurrent network, which should map a whole sequence of previous inputs to another sequence of output vectors.\n",
    "\\begin{equation}\n",
    "  \\hat{y}_{t+n} = RNN(\\mathbf{x}_t,\\mathbf{x}_{t-1},\\ldots \\mathbf{x}_{t-\\tau})\n",
    "\\end{equation}\n",
    "where $\\tau$ is the maximum period we look back over, and $n$ is the number of periods we are looking forward over.\n",
    "\n",
    "Ideally, we would use all output times together to predict the outputs.\n",
    "I think a reshape is in order here?\n",
    "\n",
    "The LSTM will make a bunch of predictions for each time step (we will forecast fewer time steps than we input).\n"
   ]
  },
  {
   "cell_type": "code",
   "execution_count": 21,
   "metadata": {
    "autoscroll": false,
    "ein.tags": "worksheet-0",
    "slideshow": {
     "slide_type": "-"
    }
   },
   "outputs": [
    {
     "name": "stderr",
     "output_type": "stream",
     "text": [
      "Using TensorFlow backend.\n"
     ]
    }
   ],
   "source": [
    "#Borrowing some from Keras docs, and \"https://machinelearningmastery.com/time-series-prediction-lstm-recurrent-neural-networks-python-keras/\"\n",
    "import keras  \n",
    "from keras.models import Sequential \n",
    "from keras.layers import Dense, RNN, LSTM, StackedRNNCells, Reshape, Dropout\n",
    "from keras.losses import mean_squared_error, mean_absolute_error\n",
    "from keras.layers.advanced_activations import LeakyReLU"
   ]
  },
  {
   "cell_type": "code",
   "execution_count": 22,
   "metadata": {
    "autoscroll": false,
    "ein.tags": "worksheet-0",
    "slideshow": {
     "slide_type": "-"
    }
   },
   "outputs": [],
   "source": [
    "Nstocks=100\n",
    "Nfeature=1\n",
    "Ninput=Nstocks*Nfeature+Netf+Nind\n",
    "Noutput=Netf\n",
    "#number of times in/out.\n",
    "Ntime_in=200\n",
    "Ntime_out=60\n",
    "#network parameters\n",
    "Nhidden=50\n",
    "Nlayers=1\n",
    "dropout_frac=0\n",
    "Nepoch=100\n",
    "Nbatch=100\n",
    "Nprint=20\n"
   ]
  },
  {
   "cell_type": "code",
   "execution_count": 32,
   "metadata": {
    "autoscroll": false,
    "ein.tags": "worksheet-0",
    "slideshow": {
     "slide_type": "-"
    }
   },
   "outputs": [],
   "source": [
    "def scale_maxmin(X):\n",
    "    '''scale_maxmin\n",
    "\n",
    "    Scales each column by taking log, and max/min scaling.\n",
    "    Only take the log for the stock/etf data.\n",
    "    '''\n",
    "    #set missing values to zero.  (to avoid issues in network with NaNs)\n",
    "    X[np.isnan(X)]=0    \n",
    "    #take differences of logs. (shift zero to avoid NANs)\n",
    "    #Xsub2 = np.diff(np.log10(Xsub+1E-12),axis=0)\n",
    "    X[:,:-Nind] = np.log10(X[:,:-Nind]+1E-16)\n",
    "\n",
    "    X_max = np.max(X,axis=0)\n",
    "    X_min = np.min(X,axis=0)\n",
    "    #Choice of scaling here: max/min vs variance?\n",
    "    avg = 0.5*(X_max+X_min)\n",
    "    rng = 0.5*(X_max-X_min)\n",
    "    Xscaled= (X-avg)/rng\n",
    "    Xscaled[np.isnan(Xscaled)]=0\n",
    "    return Xscaled,rng,avg\n",
    "\n",
    "def scale_diff_var(X):\n",
    "    \"\"\"scale_diff_var\n",
    "    Scales each column by taking log, then differencing.\n",
    "    Then scales to have zero mean, and unit standard deviation..\n",
    "    Only take the log for the stock/etf data.\n",
    "    \"\"\"\n",
    "    #set missing values to zero.  (to avoid issues in network with NaNs)\n",
    "    X[np.isnan(X)]=0\n",
    "    #take differences of logs. (shift zero to avoid NANs)\n",
    "    X[:,:-Nind] = np.diff(np.log10(X[:,:-Nind]+1E-16),axis=0)\n",
    "    X_std = np.std(X,axis=0)\n",
    "    X_mean = np.mean(X,axis=0)\n",
    "    Xscaled= (X-X_mean)/X_std\n",
    "    Xscaled[np.isnan(Xscaled)]=0    \n",
    "    return Xscaled,X_mean,X_std"
   ]
  },
  {
   "cell_type": "code",
   "execution_count": 26,
   "metadata": {
    "autoscroll": false,
    "ein.tags": "worksheet-0",
    "slideshow": {
     "slide_type": "-"
    }
   },
   "outputs": [
    {
     "data": {
      "text/plain": [
       "<matplotlib.figure.Figure at 0x7f2984880668>"
      ]
     },
     "metadata": {},
     "output_type": "display_data"
    }
   ],
   "source": [
    "plt.figure()\n",
    "plt.plot(Xsub_scale[:,-Nind:])\n",
    "plt.show()"
   ]
  },
  {
   "cell_type": "code",
   "execution_count": 273,
   "metadata": {
    "autoscroll": false,
    "ein.tags": "worksheet-0",
    "slideshow": {
     "slide_type": "-"
    }
   },
   "outputs": [],
   "source": [
    "Xsub=df_tot.loc['2000':'2005'].values\n",
    "method='maxmin'\n",
    "# if (method=='differencing'):\n",
    "#     Xsub_scale,Xrng,Xavg=scale_diff_var(Xsub)\n",
    "# else:\n",
    "Xsub_scale,Xrng,Xavg=scale_maxmin(Xsub)\n",
    "\n",
    "#split 3/4 as training, 1/4 as validation\n",
    "N=len(Xsub_scale)\n",
    "Nc=int(3*N/4)\n",
    "\n",
    "#select out desired range of columns for training (stocks, etf, ind)\n",
    "N0=Nstocks\n",
    "ind_stock=np.arange(Nstocks)\n",
    "#pull out ETFS\n",
    "N0=Nstocks_tot\n",
    "N1=N0+Netf\n",
    "ind_etf=np.arange(N0,N1)\n",
    "#pull out indicators\n",
    "N0=Nstocks_tot+Netf\n",
    "N1=N0+Nind\n",
    "ind_ind=np.arange(N0, N1)\n",
    "#combine out values to use in \n",
    "ind_x=np.append(ind_stock,ind_etf)\n",
    "ind_x=np.append(ind_x,ind_ind)\n",
    "\n",
    "#make training/test splits\n",
    "#train on stock, indicators and ETFs.\n",
    "Xtrain = Xsub_scale[:Nc,ind_x]\n",
    "ytrain= Xsub_scale[:Nc,ind_etf]"
   ]
  },
  {
   "cell_type": "markdown",
   "metadata": {
    "ein.tags": "worksheet-0",
    "slideshow": {
     "slide_type": "-"
    }
   },
   "source": [
    "I had hoped Keras would automatically take care of random temporal batching like this, but unfortunately it does not.\n",
    "So, this routine which randomly selects a batch of indices to start fitting at.  "
   ]
  },
  {
   "cell_type": "code",
   "execution_count": 34,
   "metadata": {
    "autoscroll": false,
    "ein.tags": "worksheet-0",
    "slideshow": {
     "slide_type": "-"
    }
   },
   "outputs": [],
   "source": [
    "#note: this relies on looking up global parameters (blech)\n",
    "def get_rnn_batch(X,y):\n",
    "    \"\"\"get_rnn_batch\n",
    "    Returns a randomly selected batch of input/output sequences.\n",
    "    Inputs are all stocks, ETFs and indicators\n",
    "    Outputs are just future ETFs from input sequence endpoint.\n",
    "    \"\"\"\n",
    "    #starting indices\n",
    "    ind=np.arange(len(X[:,0])-Ntime_in-Ntime_out)\n",
    "    rand_ind=np.random.choice(ind,Nbatch,replace=False)\n",
    "    Xb=np.zeros((Nbatch,Ntime_in, Ninput))\n",
    "    yb=np.zeros((Nbatch,Ntime_out,Noutput))\n",
    "    #now populate table (couldn't see nice way to vectorize this assignment, mabe via overloading)\n",
    "    for i in range(Nbatch):\n",
    "        t0=rand_ind[i]\n",
    "        t1=t0+Ntime_in\n",
    "        t2=t1+Ntime_out\n",
    "        #input all past parameters\n",
    "        Xb[i]=X[t0:t1]\n",
    "        #target future ETFs\n",
    "        yb[i]=y[t1:t2]\n",
    "    return Xb,yb"
   ]
  },
  {
   "cell_type": "markdown",
   "metadata": {
    "ein.tags": "worksheet-0",
    "slideshow": {
     "slide_type": "-"
    }
   },
   "source": [
    "## Making the Network\n",
    "\n",
    "The following makes a 4 layer network - a dense layer at input with linear activation to reduce dimension,\n",
    "followed by two recurrent layers (using a LSTM for longer memory),\n",
    "and a final dense layer to map from the hidden units to the final outputs.\n",
    "The LSTMs can use \"leaky ReLU\" activation, which are suited to long sequences since the gradients dont explode, or go to zero.\n",
    "The output sequences are then flattened, before being put through\n",
    "a final linear layer to add together the results.\n",
    "(In a fancy version this could be a CNN?)\n",
    "The final result is reshaped again to output a batch of sequences.\n",
    "\n",
    "The Adam optimizer is basically a fancy version of gradient descent (with a momentum, scaling based on previous updates, and learning rate scheduling)"
   ]
  },
  {
   "cell_type": "code",
   "execution_count": 35,
   "metadata": {
    "autoscroll": false,
    "ein.tags": "worksheet-0",
    "slideshow": {
     "slide_type": "-"
    }
   },
   "outputs": [],
   "source": [
    "#make a Keras model two layer LSTM, with dense input/outputs\n",
    "#Use the sequence-to-sequence example.  \n",
    "def make_deep_RNN(activ='relu'):\n",
    "    keras.backend.clear_session()\n",
    "    model=Sequential()\n",
    "    model.add(Dense(units=Nhidden, activation='linear', input_shape=(Ntime_in,Ninput))) #linear mapping at input\n",
    "    if (activ=='relu'):\n",
    "        act = keras.layers.advanced_activations.LeakyReLU(alpha=0.1)               \n",
    "        for n in range(Nlayers-1):\n",
    "            model.add(Dropout(rate=dropout_frac, noise_shape=(Nbatch,1,Nhidden))) #dropout at input                \n",
    "            model.add(LSTM(units=Nhidden,activation='linear',return_sequences=True))\n",
    "            model.add(act)            #add extra activation layer afterwards\n",
    "            #final LSTM layer\n",
    "        model.add(Dropout(rate=dropout_frac, noise_shape=(Nbatch,1,Nhidden))) #dropout at input                            \n",
    "        model.add(LSTM(units=Nhidden,activation='linear',return_sequences=True))\n",
    "        model.add(act)\n",
    "    else:\n",
    "        for n in range(Nlayers-1):\n",
    "            #first LSTM layer\n",
    "            model.add(Dropout(rate=dropout_frac, noise_shape=(Nbatch,1,Nhidden))) #dropout at input                                        \n",
    "            model.add(LSTM(units=Nhidden,activation=activ,return_sequences=True))\n",
    "            #add extra activation layer afterwards\n",
    "        model.add(Dropout(rate=dropout_frac, noise_shape=(Nbatch,1,Nhidden))) #dropout at input                                        \n",
    "        model.add(LSTM(units=Nhidden,activation=activ,return_sequences=True))\n",
    "    #flatten that sequence of outputs down.           \n",
    "    model.add(Reshape(input_shape=(Ntime_in,Nhidden), target_shape=(Ntime_in*Nhidden,)))\n",
    "    #linear mapping to reduce/increase dimension at output\n",
    "    model.add(Dense(units=Noutput*Ntime_out, activation='linear', input_shape=(Ntime_in*Nhidden,))) \n",
    "    #reshape again that sequence down.           \n",
    "    model.add(Reshape(input_shape=(Noutput,), target_shape=(Ntime_out,Noutput)))\n",
    "              \n",
    "    model.compile(optimizer='adam',loss=mean_squared_error)\n",
    "    return model\n",
    "\n",
    "def train_model(model,Xtrain,ytrain):\n",
    "    for i in range(Nepoch+1):\n",
    "        Xb,yb=get_random_batch(Xtrain,ytrain)\n",
    "        if (i)%Nprint==0:\n",
    "            model.fit(Xb,yb, epochs=1,batch_size=Nbatch,verbose=1)\n",
    "        else:\n",
    "            model.fit(Xb,yb, epochs=1,batch_size=Nbatch,verbose=0)\n",
    "        model.reset_states()\n",
    "    return model\n",
    "\n",
    "def predict_from_model(model,X):\n",
    "    #Predict on whole of this subset (both \"training\" and \"testing\")\n",
    "    Nf = len(X)-Ntime_in-Ntime_out\n",
    "    ypred_tot=np.zeros((Nf,Noutput))\n",
    "    yavg = np.zeros(Nf)\n",
    "    i0=0\n",
    "    i1=i0+Nbatch\n",
    "    #split whole time sequence into sequential batches.\n",
    "    while (i1 < Nf):\n",
    "        X0=np.zeros((Nbatch,Ntime_in,Ninput))\n",
    "        for i in range(Nbatch):\n",
    "            X0[i]=X[i0+i:i0+i+Ntime]\n",
    "        ypred=model.predict(X0,batch_size=Nbatch)\n",
    "        #now march along batch, add up predictions.    \n",
    "        for i in range(Nbatch):\n",
    "            ypred_tot[Ntime_in+i0:Ntime_in+i0+Ntime_out]+=ypred[i]\n",
    "            yavg[Ntime_in+i0:Ntime_in+i0+Ntime_out]+=1\n",
    "        model.reset_states()    \n",
    "        i0=i1\n",
    "        i1+=Nbatch\n",
    "    #predict on the remainder\n",
    "    Nrem=Nf-i0\n",
    "    X0=np.zeros((Nrem,Ntime,Ninput))\n",
    "    for i in range(Nrem):\n",
    "        X0[i]=X[i0+i:i0+i+Ntime]\n",
    "    ypred=model.predict(X0,batch_size=Nrem)\n",
    "    #now march along batch, add up predictions.    \n",
    "    for i in range(Nrem):\n",
    "        ypred_tot[Ntime_in+i0:Ntime_in+i0+Ntime_out]+=ypred[i]\n",
    "        yavg[Ntime_in+i0:Ntime_in+i0+Ntime_out]+=1\n",
    "        \n",
    "    ypred_tot=ypred_tot/yavg    \n",
    "   \n",
    "    return ypred_tot\n"
   ]
  },
  {
   "cell_type": "markdown",
   "metadata": {
    "ein.tags": "worksheet-0",
    "slideshow": {
     "slide_type": "-"
    }
   },
   "source": [
    "## Training the Network\n",
    "\n",
    "Now run in minibatches.  The \"if\" statement means we only see the output every 50 iterations.\n",
    "The \"reset_states()\" call should reset the internal state of the model.\n",
    "Note that the reported loss is the loss (MSE) on the current batch.  "
   ]
  },
  {
   "cell_type": "code",
   "execution_count": 38,
   "metadata": {
    "autoscroll": false,
    "ein.tags": "worksheet-0",
    "slideshow": {
     "slide_type": "-"
    }
   },
   "outputs": [
    {
     "name": "stdout",
     "output_type": "stream",
     "text": [
      "Automatic pdb calling has been turned OFF\n"
     ]
    }
   ],
   "source": [
    "%pdb off"
   ]
  },
  {
   "cell_type": "code",
   "execution_count": 36,
   "metadata": {
    "autoscroll": false,
    "ein.tags": "worksheet-0",
    "slideshow": {
     "slide_type": "-"
    }
   },
   "outputs": [],
   "source": [
    "rnn_model=make_deep_RNN(activ='linear')"
   ]
  },
  {
   "cell_type": "code",
   "execution_count": 37,
   "metadata": {
    "autoscroll": false,
    "ein.tags": "worksheet-0",
    "slideshow": {
     "slide_type": "-"
    }
   },
   "outputs": [
    {
     "name": "stdout",
     "output_type": "stream",
     "text": [
      "Epoch 1/1\n",
      "100/100 [==============================] - 2s 21ms/step - loss: 2550985356476416.0000\n"
     ]
    },
    {
     "ename": "KeyboardInterrupt",
     "evalue": "",
     "output_type": "error",
     "traceback": [
      "\u001b[0;31m---------------------------------------------------------------------------\u001b[0m",
      "\u001b[0;31mKeyboardInterrupt\u001b[0m                         Traceback (most recent call last)",
      "\u001b[0;32m<ipython-input-37-98d74bb031bf>\u001b[0m in \u001b[0;36m<module>\u001b[0;34m()\u001b[0m\n\u001b[0;32m----> 1\u001b[0;31m \u001b[0mrnn_model\u001b[0m\u001b[0;34m=\u001b[0m\u001b[0mtrain_model\u001b[0m\u001b[0;34m(\u001b[0m\u001b[0mrnn_model\u001b[0m\u001b[0;34m,\u001b[0m\u001b[0mXtrain\u001b[0m\u001b[0;34m,\u001b[0m\u001b[0mytrain\u001b[0m\u001b[0;34m)\u001b[0m\u001b[0;34m\u001b[0m\u001b[0m\n\u001b[0m",
      "\u001b[0;32m<ipython-input-35-8a5fe97b62fe>\u001b[0m in \u001b[0;36mtrain_model\u001b[0;34m(model, Xtrain, ytrain)\u001b[0m\n\u001b[1;32m     39\u001b[0m             \u001b[0mmodel\u001b[0m\u001b[0;34m.\u001b[0m\u001b[0mfit\u001b[0m\u001b[0;34m(\u001b[0m\u001b[0mXb\u001b[0m\u001b[0;34m,\u001b[0m\u001b[0myb\u001b[0m\u001b[0;34m,\u001b[0m \u001b[0mepochs\u001b[0m\u001b[0;34m=\u001b[0m\u001b[0;36m1\u001b[0m\u001b[0;34m,\u001b[0m\u001b[0mbatch_size\u001b[0m\u001b[0;34m=\u001b[0m\u001b[0mNbatch\u001b[0m\u001b[0;34m,\u001b[0m\u001b[0mverbose\u001b[0m\u001b[0;34m=\u001b[0m\u001b[0;36m1\u001b[0m\u001b[0;34m)\u001b[0m\u001b[0;34m\u001b[0m\u001b[0m\n\u001b[1;32m     40\u001b[0m         \u001b[0;32melse\u001b[0m\u001b[0;34m:\u001b[0m\u001b[0;34m\u001b[0m\u001b[0m\n\u001b[0;32m---> 41\u001b[0;31m             \u001b[0mmodel\u001b[0m\u001b[0;34m.\u001b[0m\u001b[0mfit\u001b[0m\u001b[0;34m(\u001b[0m\u001b[0mXb\u001b[0m\u001b[0;34m,\u001b[0m\u001b[0myb\u001b[0m\u001b[0;34m,\u001b[0m \u001b[0mepochs\u001b[0m\u001b[0;34m=\u001b[0m\u001b[0;36m1\u001b[0m\u001b[0;34m,\u001b[0m\u001b[0mbatch_size\u001b[0m\u001b[0;34m=\u001b[0m\u001b[0mNbatch\u001b[0m\u001b[0;34m,\u001b[0m\u001b[0mverbose\u001b[0m\u001b[0;34m=\u001b[0m\u001b[0;36m0\u001b[0m\u001b[0;34m)\u001b[0m\u001b[0;34m\u001b[0m\u001b[0m\n\u001b[0m\u001b[1;32m     42\u001b[0m         \u001b[0mmodel\u001b[0m\u001b[0;34m.\u001b[0m\u001b[0mreset_states\u001b[0m\u001b[0;34m(\u001b[0m\u001b[0;34m)\u001b[0m\u001b[0;34m\u001b[0m\u001b[0m\n\u001b[1;32m     43\u001b[0m     \u001b[0;32mreturn\u001b[0m \u001b[0mmodel\u001b[0m\u001b[0;34m\u001b[0m\u001b[0m\n",
      "\u001b[0;32m/home/jonathan/.local/lib/python3.6/site-packages/keras/models.py\u001b[0m in \u001b[0;36mfit\u001b[0;34m(self, x, y, batch_size, epochs, verbose, callbacks, validation_split, validation_data, shuffle, class_weight, sample_weight, initial_epoch, steps_per_epoch, validation_steps, **kwargs)\u001b[0m\n\u001b[1;32m    961\u001b[0m                               \u001b[0minitial_epoch\u001b[0m\u001b[0;34m=\u001b[0m\u001b[0minitial_epoch\u001b[0m\u001b[0;34m,\u001b[0m\u001b[0;34m\u001b[0m\u001b[0m\n\u001b[1;32m    962\u001b[0m                               \u001b[0msteps_per_epoch\u001b[0m\u001b[0;34m=\u001b[0m\u001b[0msteps_per_epoch\u001b[0m\u001b[0;34m,\u001b[0m\u001b[0;34m\u001b[0m\u001b[0m\n\u001b[0;32m--> 963\u001b[0;31m                               validation_steps=validation_steps)\n\u001b[0m\u001b[1;32m    964\u001b[0m \u001b[0;34m\u001b[0m\u001b[0m\n\u001b[1;32m    965\u001b[0m     def evaluate(self, x=None, y=None,\n",
      "\u001b[0;32m/home/jonathan/.local/lib/python3.6/site-packages/keras/engine/training.py\u001b[0m in \u001b[0;36mfit\u001b[0;34m(self, x, y, batch_size, epochs, verbose, callbacks, validation_split, validation_data, shuffle, class_weight, sample_weight, initial_epoch, steps_per_epoch, validation_steps, **kwargs)\u001b[0m\n\u001b[1;32m   1703\u001b[0m                               \u001b[0minitial_epoch\u001b[0m\u001b[0;34m=\u001b[0m\u001b[0minitial_epoch\u001b[0m\u001b[0;34m,\u001b[0m\u001b[0;34m\u001b[0m\u001b[0m\n\u001b[1;32m   1704\u001b[0m                               \u001b[0msteps_per_epoch\u001b[0m\u001b[0;34m=\u001b[0m\u001b[0msteps_per_epoch\u001b[0m\u001b[0;34m,\u001b[0m\u001b[0;34m\u001b[0m\u001b[0m\n\u001b[0;32m-> 1705\u001b[0;31m                               validation_steps=validation_steps)\n\u001b[0m\u001b[1;32m   1706\u001b[0m \u001b[0;34m\u001b[0m\u001b[0m\n\u001b[1;32m   1707\u001b[0m     def evaluate(self, x=None, y=None,\n",
      "\u001b[0;32m/home/jonathan/.local/lib/python3.6/site-packages/keras/engine/training.py\u001b[0m in \u001b[0;36m_fit_loop\u001b[0;34m(self, f, ins, out_labels, batch_size, epochs, verbose, callbacks, val_f, val_ins, shuffle, callback_metrics, initial_epoch, steps_per_epoch, validation_steps)\u001b[0m\n\u001b[1;32m   1233\u001b[0m                         \u001b[0mins_batch\u001b[0m\u001b[0;34m[\u001b[0m\u001b[0mi\u001b[0m\u001b[0;34m]\u001b[0m \u001b[0;34m=\u001b[0m \u001b[0mins_batch\u001b[0m\u001b[0;34m[\u001b[0m\u001b[0mi\u001b[0m\u001b[0;34m]\u001b[0m\u001b[0;34m.\u001b[0m\u001b[0mtoarray\u001b[0m\u001b[0;34m(\u001b[0m\u001b[0;34m)\u001b[0m\u001b[0;34m\u001b[0m\u001b[0m\n\u001b[1;32m   1234\u001b[0m \u001b[0;34m\u001b[0m\u001b[0m\n\u001b[0;32m-> 1235\u001b[0;31m                     \u001b[0mouts\u001b[0m \u001b[0;34m=\u001b[0m \u001b[0mf\u001b[0m\u001b[0;34m(\u001b[0m\u001b[0mins_batch\u001b[0m\u001b[0;34m)\u001b[0m\u001b[0;34m\u001b[0m\u001b[0m\n\u001b[0m\u001b[1;32m   1236\u001b[0m                     \u001b[0;32mif\u001b[0m \u001b[0;32mnot\u001b[0m \u001b[0misinstance\u001b[0m\u001b[0;34m(\u001b[0m\u001b[0mouts\u001b[0m\u001b[0;34m,\u001b[0m \u001b[0mlist\u001b[0m\u001b[0;34m)\u001b[0m\u001b[0;34m:\u001b[0m\u001b[0;34m\u001b[0m\u001b[0m\n\u001b[1;32m   1237\u001b[0m                         \u001b[0mouts\u001b[0m \u001b[0;34m=\u001b[0m \u001b[0;34m[\u001b[0m\u001b[0mouts\u001b[0m\u001b[0;34m]\u001b[0m\u001b[0;34m\u001b[0m\u001b[0m\n",
      "\u001b[0;32m/home/jonathan/.local/lib/python3.6/site-packages/keras/backend/tensorflow_backend.py\u001b[0m in \u001b[0;36m__call__\u001b[0;34m(self, inputs)\u001b[0m\n\u001b[1;32m   2476\u001b[0m         \u001b[0msession\u001b[0m \u001b[0;34m=\u001b[0m \u001b[0mget_session\u001b[0m\u001b[0;34m(\u001b[0m\u001b[0;34m)\u001b[0m\u001b[0;34m\u001b[0m\u001b[0m\n\u001b[1;32m   2477\u001b[0m         updated = session.run(fetches=fetches, feed_dict=feed_dict,\n\u001b[0;32m-> 2478\u001b[0;31m                               **self.session_kwargs)\n\u001b[0m\u001b[1;32m   2479\u001b[0m         \u001b[0;32mreturn\u001b[0m \u001b[0mupdated\u001b[0m\u001b[0;34m[\u001b[0m\u001b[0;34m:\u001b[0m\u001b[0mlen\u001b[0m\u001b[0;34m(\u001b[0m\u001b[0mself\u001b[0m\u001b[0;34m.\u001b[0m\u001b[0moutputs\u001b[0m\u001b[0;34m)\u001b[0m\u001b[0;34m]\u001b[0m\u001b[0;34m\u001b[0m\u001b[0m\n\u001b[1;32m   2480\u001b[0m \u001b[0;34m\u001b[0m\u001b[0m\n",
      "\u001b[0;32m/home/jonathan/.local/lib/python3.6/site-packages/tensorflow/python/client/session.py\u001b[0m in \u001b[0;36mrun\u001b[0;34m(self, fetches, feed_dict, options, run_metadata)\u001b[0m\n\u001b[1;32m    887\u001b[0m     \u001b[0;32mtry\u001b[0m\u001b[0;34m:\u001b[0m\u001b[0;34m\u001b[0m\u001b[0m\n\u001b[1;32m    888\u001b[0m       result = self._run(None, fetches, feed_dict, options_ptr,\n\u001b[0;32m--> 889\u001b[0;31m                          run_metadata_ptr)\n\u001b[0m\u001b[1;32m    890\u001b[0m       \u001b[0;32mif\u001b[0m \u001b[0mrun_metadata\u001b[0m\u001b[0;34m:\u001b[0m\u001b[0;34m\u001b[0m\u001b[0m\n\u001b[1;32m    891\u001b[0m         \u001b[0mproto_data\u001b[0m \u001b[0;34m=\u001b[0m \u001b[0mtf_session\u001b[0m\u001b[0;34m.\u001b[0m\u001b[0mTF_GetBuffer\u001b[0m\u001b[0;34m(\u001b[0m\u001b[0mrun_metadata_ptr\u001b[0m\u001b[0;34m)\u001b[0m\u001b[0;34m\u001b[0m\u001b[0m\n",
      "\u001b[0;32m/home/jonathan/.local/lib/python3.6/site-packages/tensorflow/python/client/session.py\u001b[0m in \u001b[0;36m_run\u001b[0;34m(self, handle, fetches, feed_dict, options, run_metadata)\u001b[0m\n\u001b[1;32m   1118\u001b[0m     \u001b[0;32mif\u001b[0m \u001b[0mfinal_fetches\u001b[0m \u001b[0;32mor\u001b[0m \u001b[0mfinal_targets\u001b[0m \u001b[0;32mor\u001b[0m \u001b[0;34m(\u001b[0m\u001b[0mhandle\u001b[0m \u001b[0;32mand\u001b[0m \u001b[0mfeed_dict_tensor\u001b[0m\u001b[0;34m)\u001b[0m\u001b[0;34m:\u001b[0m\u001b[0;34m\u001b[0m\u001b[0m\n\u001b[1;32m   1119\u001b[0m       results = self._do_run(handle, final_targets, final_fetches,\n\u001b[0;32m-> 1120\u001b[0;31m                              feed_dict_tensor, options, run_metadata)\n\u001b[0m\u001b[1;32m   1121\u001b[0m     \u001b[0;32melse\u001b[0m\u001b[0;34m:\u001b[0m\u001b[0;34m\u001b[0m\u001b[0m\n\u001b[1;32m   1122\u001b[0m       \u001b[0mresults\u001b[0m \u001b[0;34m=\u001b[0m \u001b[0;34m[\u001b[0m\u001b[0;34m]\u001b[0m\u001b[0;34m\u001b[0m\u001b[0m\n",
      "\u001b[0;32m/home/jonathan/.local/lib/python3.6/site-packages/tensorflow/python/client/session.py\u001b[0m in \u001b[0;36m_do_run\u001b[0;34m(self, handle, target_list, fetch_list, feed_dict, options, run_metadata)\u001b[0m\n\u001b[1;32m   1315\u001b[0m     \u001b[0;32mif\u001b[0m \u001b[0mhandle\u001b[0m \u001b[0;32mis\u001b[0m \u001b[0;32mNone\u001b[0m\u001b[0;34m:\u001b[0m\u001b[0;34m\u001b[0m\u001b[0m\n\u001b[1;32m   1316\u001b[0m       return self._do_call(_run_fn, self._session, feeds, fetches, targets,\n\u001b[0;32m-> 1317\u001b[0;31m                            options, run_metadata)\n\u001b[0m\u001b[1;32m   1318\u001b[0m     \u001b[0;32melse\u001b[0m\u001b[0;34m:\u001b[0m\u001b[0;34m\u001b[0m\u001b[0m\n\u001b[1;32m   1319\u001b[0m       \u001b[0;32mreturn\u001b[0m \u001b[0mself\u001b[0m\u001b[0;34m.\u001b[0m\u001b[0m_do_call\u001b[0m\u001b[0;34m(\u001b[0m\u001b[0m_prun_fn\u001b[0m\u001b[0;34m,\u001b[0m \u001b[0mself\u001b[0m\u001b[0;34m.\u001b[0m\u001b[0m_session\u001b[0m\u001b[0;34m,\u001b[0m \u001b[0mhandle\u001b[0m\u001b[0;34m,\u001b[0m \u001b[0mfeeds\u001b[0m\u001b[0;34m,\u001b[0m \u001b[0mfetches\u001b[0m\u001b[0;34m)\u001b[0m\u001b[0;34m\u001b[0m\u001b[0m\n",
      "\u001b[0;32m/home/jonathan/.local/lib/python3.6/site-packages/tensorflow/python/client/session.py\u001b[0m in \u001b[0;36m_do_call\u001b[0;34m(self, fn, *args)\u001b[0m\n\u001b[1;32m   1321\u001b[0m   \u001b[0;32mdef\u001b[0m \u001b[0m_do_call\u001b[0m\u001b[0;34m(\u001b[0m\u001b[0mself\u001b[0m\u001b[0;34m,\u001b[0m \u001b[0mfn\u001b[0m\u001b[0;34m,\u001b[0m \u001b[0;34m*\u001b[0m\u001b[0margs\u001b[0m\u001b[0;34m)\u001b[0m\u001b[0;34m:\u001b[0m\u001b[0;34m\u001b[0m\u001b[0m\n\u001b[1;32m   1322\u001b[0m     \u001b[0;32mtry\u001b[0m\u001b[0;34m:\u001b[0m\u001b[0;34m\u001b[0m\u001b[0m\n\u001b[0;32m-> 1323\u001b[0;31m       \u001b[0;32mreturn\u001b[0m \u001b[0mfn\u001b[0m\u001b[0;34m(\u001b[0m\u001b[0;34m*\u001b[0m\u001b[0margs\u001b[0m\u001b[0;34m)\u001b[0m\u001b[0;34m\u001b[0m\u001b[0m\n\u001b[0m\u001b[1;32m   1324\u001b[0m     \u001b[0;32mexcept\u001b[0m \u001b[0merrors\u001b[0m\u001b[0;34m.\u001b[0m\u001b[0mOpError\u001b[0m \u001b[0;32mas\u001b[0m \u001b[0me\u001b[0m\u001b[0;34m:\u001b[0m\u001b[0;34m\u001b[0m\u001b[0m\n\u001b[1;32m   1325\u001b[0m       \u001b[0mmessage\u001b[0m \u001b[0;34m=\u001b[0m \u001b[0mcompat\u001b[0m\u001b[0;34m.\u001b[0m\u001b[0mas_text\u001b[0m\u001b[0;34m(\u001b[0m\u001b[0me\u001b[0m\u001b[0;34m.\u001b[0m\u001b[0mmessage\u001b[0m\u001b[0;34m)\u001b[0m\u001b[0;34m\u001b[0m\u001b[0m\n",
      "\u001b[0;32m/home/jonathan/.local/lib/python3.6/site-packages/tensorflow/python/client/session.py\u001b[0m in \u001b[0;36m_run_fn\u001b[0;34m(session, feed_dict, fetch_list, target_list, options, run_metadata)\u001b[0m\n\u001b[1;32m   1300\u001b[0m           return tf_session.TF_Run(session, options,\n\u001b[1;32m   1301\u001b[0m                                    \u001b[0mfeed_dict\u001b[0m\u001b[0;34m,\u001b[0m \u001b[0mfetch_list\u001b[0m\u001b[0;34m,\u001b[0m \u001b[0mtarget_list\u001b[0m\u001b[0;34m,\u001b[0m\u001b[0;34m\u001b[0m\u001b[0m\n\u001b[0;32m-> 1302\u001b[0;31m                                    status, run_metadata)\n\u001b[0m\u001b[1;32m   1303\u001b[0m \u001b[0;34m\u001b[0m\u001b[0m\n\u001b[1;32m   1304\u001b[0m     \u001b[0;32mdef\u001b[0m \u001b[0m_prun_fn\u001b[0m\u001b[0;34m(\u001b[0m\u001b[0msession\u001b[0m\u001b[0;34m,\u001b[0m \u001b[0mhandle\u001b[0m\u001b[0;34m,\u001b[0m \u001b[0mfeed_dict\u001b[0m\u001b[0;34m,\u001b[0m \u001b[0mfetch_list\u001b[0m\u001b[0;34m)\u001b[0m\u001b[0;34m:\u001b[0m\u001b[0;34m\u001b[0m\u001b[0m\n",
      "\u001b[0;31mKeyboardInterrupt\u001b[0m: "
     ]
    },
    {
     "name": "stdout",
     "output_type": "stream",
     "text": [
      "> \u001b[0;32m/home/jonathan/.local/lib/python3.6/site-packages/tensorflow/python/client/session.py\u001b[0m(1302)\u001b[0;36m_run_fn\u001b[0;34m()\u001b[0m\n",
      "\u001b[0;32m   1300 \u001b[0;31m          return tf_session.TF_Run(session, options,\n",
      "\u001b[0m\u001b[0;32m   1301 \u001b[0;31m                                   \u001b[0mfeed_dict\u001b[0m\u001b[0;34m,\u001b[0m \u001b[0mfetch_list\u001b[0m\u001b[0;34m,\u001b[0m \u001b[0mtarget_list\u001b[0m\u001b[0;34m,\u001b[0m\u001b[0;34m\u001b[0m\u001b[0m\n",
      "\u001b[0m\u001b[0;32m-> 1302 \u001b[0;31m                                   status, run_metadata)\n",
      "\u001b[0m\u001b[0;32m   1303 \u001b[0;31m\u001b[0;34m\u001b[0m\u001b[0m\n",
      "\u001b[0m\u001b[0;32m   1304 \u001b[0;31m    \u001b[0;32mdef\u001b[0m \u001b[0m_prun_fn\u001b[0m\u001b[0;34m(\u001b[0m\u001b[0msession\u001b[0m\u001b[0;34m,\u001b[0m \u001b[0mhandle\u001b[0m\u001b[0;34m,\u001b[0m \u001b[0mfeed_dict\u001b[0m\u001b[0;34m,\u001b[0m \u001b[0mfetch_list\u001b[0m\u001b[0;34m)\u001b[0m\u001b[0;34m:\u001b[0m\u001b[0;34m\u001b[0m\u001b[0m\n",
      "\u001b[0m\n"
     ]
    },
    {
     "ename": "KeyboardInterrupt",
     "evalue": "",
     "output_type": "error",
     "traceback": [
      "\u001b[0;31m---------------------------------------------------------------------------\u001b[0m",
      "\u001b[0;31mKeyboardInterrupt\u001b[0m                         Traceback (most recent call last)",
      "\u001b[0;32m<ipython-input-37-98d74bb031bf>\u001b[0m in \u001b[0;36m<module>\u001b[0;34m()\u001b[0m\n\u001b[0;32m----> 1\u001b[0;31m \u001b[0mrnn_model\u001b[0m\u001b[0;34m=\u001b[0m\u001b[0mtrain_model\u001b[0m\u001b[0;34m(\u001b[0m\u001b[0mrnn_model\u001b[0m\u001b[0;34m,\u001b[0m\u001b[0mXtrain\u001b[0m\u001b[0;34m,\u001b[0m\u001b[0mytrain\u001b[0m\u001b[0;34m)\u001b[0m\u001b[0;34m\u001b[0m\u001b[0m\n\u001b[0m",
      "\u001b[0;32m<ipython-input-35-8a5fe97b62fe>\u001b[0m in \u001b[0;36mtrain_model\u001b[0;34m(model, Xtrain, ytrain)\u001b[0m\n\u001b[1;32m     39\u001b[0m             \u001b[0mmodel\u001b[0m\u001b[0;34m.\u001b[0m\u001b[0mfit\u001b[0m\u001b[0;34m(\u001b[0m\u001b[0mXb\u001b[0m\u001b[0;34m,\u001b[0m\u001b[0myb\u001b[0m\u001b[0;34m,\u001b[0m \u001b[0mepochs\u001b[0m\u001b[0;34m=\u001b[0m\u001b[0;36m1\u001b[0m\u001b[0;34m,\u001b[0m\u001b[0mbatch_size\u001b[0m\u001b[0;34m=\u001b[0m\u001b[0mNbatch\u001b[0m\u001b[0;34m,\u001b[0m\u001b[0mverbose\u001b[0m\u001b[0;34m=\u001b[0m\u001b[0;36m1\u001b[0m\u001b[0;34m)\u001b[0m\u001b[0;34m\u001b[0m\u001b[0m\n\u001b[1;32m     40\u001b[0m         \u001b[0;32melse\u001b[0m\u001b[0;34m:\u001b[0m\u001b[0;34m\u001b[0m\u001b[0m\n\u001b[0;32m---> 41\u001b[0;31m             \u001b[0mmodel\u001b[0m\u001b[0;34m.\u001b[0m\u001b[0mfit\u001b[0m\u001b[0;34m(\u001b[0m\u001b[0mXb\u001b[0m\u001b[0;34m,\u001b[0m\u001b[0myb\u001b[0m\u001b[0;34m,\u001b[0m \u001b[0mepochs\u001b[0m\u001b[0;34m=\u001b[0m\u001b[0;36m1\u001b[0m\u001b[0;34m,\u001b[0m\u001b[0mbatch_size\u001b[0m\u001b[0;34m=\u001b[0m\u001b[0mNbatch\u001b[0m\u001b[0;34m,\u001b[0m\u001b[0mverbose\u001b[0m\u001b[0;34m=\u001b[0m\u001b[0;36m0\u001b[0m\u001b[0;34m)\u001b[0m\u001b[0;34m\u001b[0m\u001b[0m\n\u001b[0m\u001b[1;32m     42\u001b[0m         \u001b[0mmodel\u001b[0m\u001b[0;34m.\u001b[0m\u001b[0mreset_states\u001b[0m\u001b[0;34m(\u001b[0m\u001b[0;34m)\u001b[0m\u001b[0;34m\u001b[0m\u001b[0m\n\u001b[1;32m     43\u001b[0m     \u001b[0;32mreturn\u001b[0m \u001b[0mmodel\u001b[0m\u001b[0;34m\u001b[0m\u001b[0m\n",
      "\u001b[0;32m/home/jonathan/.local/lib/python3.6/site-packages/keras/models.py\u001b[0m in \u001b[0;36mfit\u001b[0;34m(self, x, y, batch_size, epochs, verbose, callbacks, validation_split, validation_data, shuffle, class_weight, sample_weight, initial_epoch, steps_per_epoch, validation_steps, **kwargs)\u001b[0m\n\u001b[1;32m    961\u001b[0m                               \u001b[0minitial_epoch\u001b[0m\u001b[0;34m=\u001b[0m\u001b[0minitial_epoch\u001b[0m\u001b[0;34m,\u001b[0m\u001b[0;34m\u001b[0m\u001b[0m\n\u001b[1;32m    962\u001b[0m                               \u001b[0msteps_per_epoch\u001b[0m\u001b[0;34m=\u001b[0m\u001b[0msteps_per_epoch\u001b[0m\u001b[0;34m,\u001b[0m\u001b[0;34m\u001b[0m\u001b[0m\n\u001b[0;32m--> 963\u001b[0;31m                               validation_steps=validation_steps)\n\u001b[0m\u001b[1;32m    964\u001b[0m \u001b[0;34m\u001b[0m\u001b[0m\n\u001b[1;32m    965\u001b[0m     def evaluate(self, x=None, y=None,\n",
      "\u001b[0;32m/home/jonathan/.local/lib/python3.6/site-packages/keras/engine/training.py\u001b[0m in \u001b[0;36mfit\u001b[0;34m(self, x, y, batch_size, epochs, verbose, callbacks, validation_split, validation_data, shuffle, class_weight, sample_weight, initial_epoch, steps_per_epoch, validation_steps, **kwargs)\u001b[0m\n\u001b[1;32m   1703\u001b[0m                               \u001b[0minitial_epoch\u001b[0m\u001b[0;34m=\u001b[0m\u001b[0minitial_epoch\u001b[0m\u001b[0;34m,\u001b[0m\u001b[0;34m\u001b[0m\u001b[0m\n\u001b[1;32m   1704\u001b[0m                               \u001b[0msteps_per_epoch\u001b[0m\u001b[0;34m=\u001b[0m\u001b[0msteps_per_epoch\u001b[0m\u001b[0;34m,\u001b[0m\u001b[0;34m\u001b[0m\u001b[0m\n\u001b[0;32m-> 1705\u001b[0;31m                               validation_steps=validation_steps)\n\u001b[0m\u001b[1;32m   1706\u001b[0m \u001b[0;34m\u001b[0m\u001b[0m\n\u001b[1;32m   1707\u001b[0m     def evaluate(self, x=None, y=None,\n",
      "\u001b[0;32m/home/jonathan/.local/lib/python3.6/site-packages/keras/engine/training.py\u001b[0m in \u001b[0;36m_fit_loop\u001b[0;34m(self, f, ins, out_labels, batch_size, epochs, verbose, callbacks, val_f, val_ins, shuffle, callback_metrics, initial_epoch, steps_per_epoch, validation_steps)\u001b[0m\n\u001b[1;32m   1233\u001b[0m                         \u001b[0mins_batch\u001b[0m\u001b[0;34m[\u001b[0m\u001b[0mi\u001b[0m\u001b[0;34m]\u001b[0m \u001b[0;34m=\u001b[0m \u001b[0mins_batch\u001b[0m\u001b[0;34m[\u001b[0m\u001b[0mi\u001b[0m\u001b[0;34m]\u001b[0m\u001b[0;34m.\u001b[0m\u001b[0mtoarray\u001b[0m\u001b[0;34m(\u001b[0m\u001b[0;34m)\u001b[0m\u001b[0;34m\u001b[0m\u001b[0m\n\u001b[1;32m   1234\u001b[0m \u001b[0;34m\u001b[0m\u001b[0m\n\u001b[0;32m-> 1235\u001b[0;31m                     \u001b[0mouts\u001b[0m \u001b[0;34m=\u001b[0m \u001b[0mf\u001b[0m\u001b[0;34m(\u001b[0m\u001b[0mins_batch\u001b[0m\u001b[0;34m)\u001b[0m\u001b[0;34m\u001b[0m\u001b[0m\n\u001b[0m\u001b[1;32m   1236\u001b[0m                     \u001b[0;32mif\u001b[0m \u001b[0;32mnot\u001b[0m \u001b[0misinstance\u001b[0m\u001b[0;34m(\u001b[0m\u001b[0mouts\u001b[0m\u001b[0;34m,\u001b[0m \u001b[0mlist\u001b[0m\u001b[0;34m)\u001b[0m\u001b[0;34m:\u001b[0m\u001b[0;34m\u001b[0m\u001b[0m\n\u001b[1;32m   1237\u001b[0m                         \u001b[0mouts\u001b[0m \u001b[0;34m=\u001b[0m \u001b[0;34m[\u001b[0m\u001b[0mouts\u001b[0m\u001b[0;34m]\u001b[0m\u001b[0;34m\u001b[0m\u001b[0m\n",
      "\u001b[0;32m/home/jonathan/.local/lib/python3.6/site-packages/keras/backend/tensorflow_backend.py\u001b[0m in \u001b[0;36m__call__\u001b[0;34m(self, inputs)\u001b[0m\n\u001b[1;32m   2476\u001b[0m         \u001b[0msession\u001b[0m \u001b[0;34m=\u001b[0m \u001b[0mget_session\u001b[0m\u001b[0;34m(\u001b[0m\u001b[0;34m)\u001b[0m\u001b[0;34m\u001b[0m\u001b[0m\n\u001b[1;32m   2477\u001b[0m         updated = session.run(fetches=fetches, feed_dict=feed_dict,\n\u001b[0;32m-> 2478\u001b[0;31m                               **self.session_kwargs)\n\u001b[0m\u001b[1;32m   2479\u001b[0m         \u001b[0;32mreturn\u001b[0m \u001b[0mupdated\u001b[0m\u001b[0;34m[\u001b[0m\u001b[0;34m:\u001b[0m\u001b[0mlen\u001b[0m\u001b[0;34m(\u001b[0m\u001b[0mself\u001b[0m\u001b[0;34m.\u001b[0m\u001b[0moutputs\u001b[0m\u001b[0;34m)\u001b[0m\u001b[0;34m]\u001b[0m\u001b[0;34m\u001b[0m\u001b[0m\n\u001b[1;32m   2480\u001b[0m \u001b[0;34m\u001b[0m\u001b[0m\n",
      "\u001b[0;32m/home/jonathan/.local/lib/python3.6/site-packages/tensorflow/python/client/session.py\u001b[0m in \u001b[0;36mrun\u001b[0;34m(self, fetches, feed_dict, options, run_metadata)\u001b[0m\n\u001b[1;32m    887\u001b[0m     \u001b[0;32mtry\u001b[0m\u001b[0;34m:\u001b[0m\u001b[0;34m\u001b[0m\u001b[0m\n\u001b[1;32m    888\u001b[0m       result = self._run(None, fetches, feed_dict, options_ptr,\n\u001b[0;32m--> 889\u001b[0;31m                          run_metadata_ptr)\n\u001b[0m\u001b[1;32m    890\u001b[0m       \u001b[0;32mif\u001b[0m \u001b[0mrun_metadata\u001b[0m\u001b[0;34m:\u001b[0m\u001b[0;34m\u001b[0m\u001b[0m\n\u001b[1;32m    891\u001b[0m         \u001b[0mproto_data\u001b[0m \u001b[0;34m=\u001b[0m \u001b[0mtf_session\u001b[0m\u001b[0;34m.\u001b[0m\u001b[0mTF_GetBuffer\u001b[0m\u001b[0;34m(\u001b[0m\u001b[0mrun_metadata_ptr\u001b[0m\u001b[0;34m)\u001b[0m\u001b[0;34m\u001b[0m\u001b[0m\n",
      "\u001b[0;32m/home/jonathan/.local/lib/python3.6/site-packages/tensorflow/python/client/session.py\u001b[0m in \u001b[0;36m_run\u001b[0;34m(self, handle, fetches, feed_dict, options, run_metadata)\u001b[0m\n\u001b[1;32m   1118\u001b[0m     \u001b[0;32mif\u001b[0m \u001b[0mfinal_fetches\u001b[0m \u001b[0;32mor\u001b[0m \u001b[0mfinal_targets\u001b[0m \u001b[0;32mor\u001b[0m \u001b[0;34m(\u001b[0m\u001b[0mhandle\u001b[0m \u001b[0;32mand\u001b[0m \u001b[0mfeed_dict_tensor\u001b[0m\u001b[0;34m)\u001b[0m\u001b[0;34m:\u001b[0m\u001b[0;34m\u001b[0m\u001b[0m\n\u001b[1;32m   1119\u001b[0m       results = self._do_run(handle, final_targets, final_fetches,\n\u001b[0;32m-> 1120\u001b[0;31m                              feed_dict_tensor, options, run_metadata)\n\u001b[0m\u001b[1;32m   1121\u001b[0m     \u001b[0;32melse\u001b[0m\u001b[0;34m:\u001b[0m\u001b[0;34m\u001b[0m\u001b[0m\n\u001b[1;32m   1122\u001b[0m       \u001b[0mresults\u001b[0m \u001b[0;34m=\u001b[0m \u001b[0;34m[\u001b[0m\u001b[0;34m]\u001b[0m\u001b[0;34m\u001b[0m\u001b[0m\n",
      "\u001b[0;32m/home/jonathan/.local/lib/python3.6/site-packages/tensorflow/python/client/session.py\u001b[0m in \u001b[0;36m_do_run\u001b[0;34m(self, handle, target_list, fetch_list, feed_dict, options, run_metadata)\u001b[0m\n\u001b[1;32m   1315\u001b[0m     \u001b[0;32mif\u001b[0m \u001b[0mhandle\u001b[0m \u001b[0;32mis\u001b[0m \u001b[0;32mNone\u001b[0m\u001b[0;34m:\u001b[0m\u001b[0;34m\u001b[0m\u001b[0m\n\u001b[1;32m   1316\u001b[0m       return self._do_call(_run_fn, self._session, feeds, fetches, targets,\n\u001b[0;32m-> 1317\u001b[0;31m                            options, run_metadata)\n\u001b[0m\u001b[1;32m   1318\u001b[0m     \u001b[0;32melse\u001b[0m\u001b[0;34m:\u001b[0m\u001b[0;34m\u001b[0m\u001b[0m\n\u001b[1;32m   1319\u001b[0m       \u001b[0;32mreturn\u001b[0m \u001b[0mself\u001b[0m\u001b[0;34m.\u001b[0m\u001b[0m_do_call\u001b[0m\u001b[0;34m(\u001b[0m\u001b[0m_prun_fn\u001b[0m\u001b[0;34m,\u001b[0m \u001b[0mself\u001b[0m\u001b[0;34m.\u001b[0m\u001b[0m_session\u001b[0m\u001b[0;34m,\u001b[0m \u001b[0mhandle\u001b[0m\u001b[0;34m,\u001b[0m \u001b[0mfeeds\u001b[0m\u001b[0;34m,\u001b[0m \u001b[0mfetches\u001b[0m\u001b[0;34m)\u001b[0m\u001b[0;34m\u001b[0m\u001b[0m\n",
      "\u001b[0;32m/home/jonathan/.local/lib/python3.6/site-packages/tensorflow/python/client/session.py\u001b[0m in \u001b[0;36m_do_call\u001b[0;34m(self, fn, *args)\u001b[0m\n\u001b[1;32m   1321\u001b[0m   \u001b[0;32mdef\u001b[0m \u001b[0m_do_call\u001b[0m\u001b[0;34m(\u001b[0m\u001b[0mself\u001b[0m\u001b[0;34m,\u001b[0m \u001b[0mfn\u001b[0m\u001b[0;34m,\u001b[0m \u001b[0;34m*\u001b[0m\u001b[0margs\u001b[0m\u001b[0;34m)\u001b[0m\u001b[0;34m:\u001b[0m\u001b[0;34m\u001b[0m\u001b[0m\n\u001b[1;32m   1322\u001b[0m     \u001b[0;32mtry\u001b[0m\u001b[0;34m:\u001b[0m\u001b[0;34m\u001b[0m\u001b[0m\n\u001b[0;32m-> 1323\u001b[0;31m       \u001b[0;32mreturn\u001b[0m \u001b[0mfn\u001b[0m\u001b[0;34m(\u001b[0m\u001b[0;34m*\u001b[0m\u001b[0margs\u001b[0m\u001b[0;34m)\u001b[0m\u001b[0;34m\u001b[0m\u001b[0m\n\u001b[0m\u001b[1;32m   1324\u001b[0m     \u001b[0;32mexcept\u001b[0m \u001b[0merrors\u001b[0m\u001b[0;34m.\u001b[0m\u001b[0mOpError\u001b[0m \u001b[0;32mas\u001b[0m \u001b[0me\u001b[0m\u001b[0;34m:\u001b[0m\u001b[0;34m\u001b[0m\u001b[0m\n\u001b[1;32m   1325\u001b[0m       \u001b[0mmessage\u001b[0m \u001b[0;34m=\u001b[0m \u001b[0mcompat\u001b[0m\u001b[0;34m.\u001b[0m\u001b[0mas_text\u001b[0m\u001b[0;34m(\u001b[0m\u001b[0me\u001b[0m\u001b[0;34m.\u001b[0m\u001b[0mmessage\u001b[0m\u001b[0;34m)\u001b[0m\u001b[0;34m\u001b[0m\u001b[0m\n",
      "\u001b[0;32m/home/jonathan/.local/lib/python3.6/site-packages/tensorflow/python/client/session.py\u001b[0m in \u001b[0;36m_run_fn\u001b[0;34m(session, feed_dict, fetch_list, target_list, options, run_metadata)\u001b[0m\n\u001b[1;32m   1300\u001b[0m           return tf_session.TF_Run(session, options,\n\u001b[1;32m   1301\u001b[0m                                    \u001b[0mfeed_dict\u001b[0m\u001b[0;34m,\u001b[0m \u001b[0mfetch_list\u001b[0m\u001b[0;34m,\u001b[0m \u001b[0mtarget_list\u001b[0m\u001b[0;34m,\u001b[0m\u001b[0;34m\u001b[0m\u001b[0m\n\u001b[0;32m-> 1302\u001b[0;31m                                    status, run_metadata)\n\u001b[0m\u001b[1;32m   1303\u001b[0m \u001b[0;34m\u001b[0m\u001b[0m\n\u001b[1;32m   1304\u001b[0m     \u001b[0;32mdef\u001b[0m \u001b[0m_prun_fn\u001b[0m\u001b[0;34m(\u001b[0m\u001b[0msession\u001b[0m\u001b[0;34m,\u001b[0m \u001b[0mhandle\u001b[0m\u001b[0;34m,\u001b[0m \u001b[0mfeed_dict\u001b[0m\u001b[0;34m,\u001b[0m \u001b[0mfetch_list\u001b[0m\u001b[0;34m)\u001b[0m\u001b[0;34m:\u001b[0m\u001b[0;34m\u001b[0m\u001b[0m\n",
      "\u001b[0;31mKeyboardInterrupt\u001b[0m: "
     ]
    }
   ],
   "source": [
    "rnn_model=train_model(rnn_model,Xtrain,ytrain)"
   ]
  },
  {
   "cell_type": "code",
   "execution_count": 322,
   "metadata": {
    "autoscroll": false,
    "ein.tags": "worksheet-0",
    "slideshow": {
     "slide_type": "-"
    }
   },
   "outputs": [
    {
     "ename": "ValueError",
     "evalue": "could not broadcast input array from shape (10,727) into shape (200,117)",
     "output_type": "error",
     "traceback": [
      "\u001b[0;31m---------------------------------------------------------------------------\u001b[0m",
      "\u001b[0;31mValueError\u001b[0m                                Traceback (most recent call last)",
      "\u001b[0;32m<ipython-input-322-6dceecce99ef>\u001b[0m in \u001b[0;36m<module>\u001b[0;34m()\u001b[0m\n\u001b[0;32m----> 1\u001b[0;31m \u001b[0mypred\u001b[0m\u001b[0;34m=\u001b[0m\u001b[0mpredict_from_model\u001b[0m\u001b[0;34m(\u001b[0m\u001b[0mmodel\u001b[0m\u001b[0;34m,\u001b[0m\u001b[0mXsub_scale\u001b[0m\u001b[0;34m)\u001b[0m\u001b[0;34m\u001b[0m\u001b[0m\n\u001b[0m",
      "\u001b[0;32m<ipython-input-321-8a5fe97b62fe>\u001b[0m in \u001b[0;36mpredict_from_model\u001b[0;34m(model, X)\u001b[0m\n\u001b[1;32m     54\u001b[0m         \u001b[0mX0\u001b[0m\u001b[0;34m=\u001b[0m\u001b[0mnp\u001b[0m\u001b[0;34m.\u001b[0m\u001b[0mzeros\u001b[0m\u001b[0;34m(\u001b[0m\u001b[0;34m(\u001b[0m\u001b[0mNbatch\u001b[0m\u001b[0;34m,\u001b[0m\u001b[0mNtime_in\u001b[0m\u001b[0;34m,\u001b[0m\u001b[0mNinput\u001b[0m\u001b[0;34m)\u001b[0m\u001b[0;34m)\u001b[0m\u001b[0;34m\u001b[0m\u001b[0m\n\u001b[1;32m     55\u001b[0m         \u001b[0;32mfor\u001b[0m \u001b[0mi\u001b[0m \u001b[0;32min\u001b[0m \u001b[0mrange\u001b[0m\u001b[0;34m(\u001b[0m\u001b[0mNbatch\u001b[0m\u001b[0;34m)\u001b[0m\u001b[0;34m:\u001b[0m\u001b[0;34m\u001b[0m\u001b[0m\n\u001b[0;32m---> 56\u001b[0;31m             \u001b[0mX0\u001b[0m\u001b[0;34m[\u001b[0m\u001b[0mi\u001b[0m\u001b[0;34m]\u001b[0m\u001b[0;34m=\u001b[0m\u001b[0mX\u001b[0m\u001b[0;34m[\u001b[0m\u001b[0mi0\u001b[0m\u001b[0;34m+\u001b[0m\u001b[0mi\u001b[0m\u001b[0;34m:\u001b[0m\u001b[0mi0\u001b[0m\u001b[0;34m+\u001b[0m\u001b[0mi\u001b[0m\u001b[0;34m+\u001b[0m\u001b[0mNtime\u001b[0m\u001b[0;34m]\u001b[0m\u001b[0;34m\u001b[0m\u001b[0m\n\u001b[0m\u001b[1;32m     57\u001b[0m         \u001b[0mypred\u001b[0m\u001b[0;34m=\u001b[0m\u001b[0mmodel\u001b[0m\u001b[0;34m.\u001b[0m\u001b[0mpredict\u001b[0m\u001b[0;34m(\u001b[0m\u001b[0mX0\u001b[0m\u001b[0;34m,\u001b[0m\u001b[0mbatch_size\u001b[0m\u001b[0;34m=\u001b[0m\u001b[0mNbatch\u001b[0m\u001b[0;34m)\u001b[0m\u001b[0;34m\u001b[0m\u001b[0m\n\u001b[1;32m     58\u001b[0m         \u001b[0;31m#now march along batch, add up predictions.\u001b[0m\u001b[0;34m\u001b[0m\u001b[0;34m\u001b[0m\u001b[0m\n",
      "\u001b[0;31mValueError\u001b[0m: could not broadcast input array from shape (10,727) into shape (200,117)"
     ]
    }
   ],
   "source": [
    "ypred=predict_from_model(model,Xsub_scale)"
   ]
  },
  {
   "cell_type": "markdown",
   "metadata": {
    "ein.tags": "worksheet-0",
    "slideshow": {
     "slide_type": "-"
    }
   },
   "source": [
    "## Predicting the whole sequence\n",
    "\n",
    "This runs the network on the whole subset of data we've pulled out from 2000 to 2008.  This checks performance on both the training data,\n",
    "as well as the holdout data.  As we'll see, the performance drops precipitously once training ends.   "
   ]
  },
  {
   "cell_type": "code",
   "execution_count": 35,
   "metadata": {
    "autoscroll": false,
    "ein.tags": "worksheet-0",
    "slideshow": {
     "slide_type": "-"
    }
   },
   "outputs": [],
   "source": [
    "def plot_predictions(X,ytarget,ypred,Nplot_start,skip):\n",
    "    Nplot_end=Nplot_start+skip\n",
    "    plt.figure(figsize=(20,12))\n",
    "    legend_list=[]\n",
    "\n",
    "    Ntime,Nstocks=X.shape\n",
    "    #plot prediction    \n",
    "    for i in range(Nplot_start,Nplot_end):\n",
    "        j = i-Nstocks;\n",
    "        if (method=='differencing' or method=='roll_avg_diff'):\n",
    "            plt.plot(np.cumsum(ypred[:,i],axis=0),'--')\n",
    "        else:\n",
    "            plt.plot(ypred[:,i],'--')\n",
    "        if (np.abs(j)>7):\n",
    "                legend_list.append(df_tot.columns[i]+'-pred')\n",
    "        else:\n",
    "                legend_list.append(df_tot.columns[j]+'-pred')\n",
    "               \n",
    "    #plot actual    \n",
    "    for i in range(Nplot_start,Nplot_end):\n",
    "        j = i-Nstocks;    \n",
    "        if (method=='differencing' or method=='roll_avg_diff'):\n",
    "            plt.plot(np.cumsum(ytarget[:,i],axis=0),'--')\n",
    "        else:\n",
    "            plt.plot(ytarget[:,i],'-.')\n",
    "\n",
    "        if (np.abs(j)>7):\n",
    "                legend_list.append(df_tot.columns[i]+'-target')\n",
    "        else:\n",
    "                legend_list.append(df_tot.columns[j]+'-target')\n",
    "    plt.plot([Nc,Nc],[-1,1],'k')    \n",
    "    plt.legend(legend_list,bbox_to_anchor=(1,1))\n",
    "    plt.show()"
   ]
  },
  {
   "cell_type": "code",
   "execution_count": 20,
   "metadata": {
    "autoscroll": false,
    "ein.tags": "worksheet-0",
    "slideshow": {
     "slide_type": "-"
    }
   },
   "outputs": [],
   "source": [
    "ypred=predict_from_model(model,Xsub_scale)"
   ]
  },
  {
   "cell_type": "code",
   "execution_count": 26,
   "metadata": {
    "autoscroll": false,
    "ein.tags": "worksheet-0",
    "slideshow": {
     "slide_type": "-"
    }
   },
   "outputs": [
    {
     "data": {
      "text/plain": [
       "((2505, 307), (2515, 307))"
      ]
     },
     "execution_count": 26,
     "metadata": {},
     "output_type": "execute_result"
    }
   ],
   "source": [
    "ypred.shape,ytot.shape"
   ]
  },
  {
   "cell_type": "code",
   "execution_count": 37,
   "metadata": {
    "autoscroll": false,
    "ein.tags": "worksheet-0",
    "slideshow": {
     "slide_type": "-"
    }
   },
   "outputs": [
    {
     "data": {
      "text/plain": [
       "<matplotlib.figure.Figure at 0x7efb85e2a4e0>"
      ]
     },
     "metadata": {},
     "output_type": "display_data"
    }
   ],
   "source": [
    "plot_predictions(Xsub_scale,ytot,ypred,300,1)"
   ]
  },
  {
   "cell_type": "code",
   "execution_count": 164,
   "metadata": {
    "autoscroll": false,
    "ein.tags": "worksheet-0",
    "slideshow": {
     "slide_type": "-"
    }
   },
   "outputs": [
    {
     "data": {
      "text/plain": [
       "<matplotlib.figure.Figure at 0x7f417ccee518>"
      ]
     },
     "metadata": {},
     "output_type": "display_data"
    }
   ],
   "source": [
    "#plot errors\n",
    "plt.figure()\n",
    "Nplot_start=0\n",
    "Nplot_end=2\n",
    "legend_list=[];\n",
    "for i in range(Nplot_start,Nplot_end):\n",
    "    plt.plot(ypred[:,i]-ytot[Nahead:-Nahead,i])\n",
    "    legend_list.append(df_target.columns[i])\n",
    "plt.title('Model Errors over time')\n",
    "plt.legend(legend_list,bbox_to_anchor=(1,1))\n",
    "plt.show()"
   ]
  },
  {
   "cell_type": "code",
   "execution_count": 232,
   "metadata": {
    "autoscroll": false,
    "ein.tags": "worksheet-0",
    "slideshow": {
     "slide_type": "-"
    }
   },
   "outputs": [
    {
     "ename": "NameError",
     "evalue": "name 'plot_err_hist' is not defined",
     "output_type": "error",
     "traceback": [
      "\u001b[0;31m---------------------------------------------------------------------------\u001b[0m",
      "\u001b[0;31mNameError\u001b[0m                                 Traceback (most recent call last)",
      "\u001b[0;32m<ipython-input-232-5431582482e6>\u001b[0m in \u001b[0;36m<module>\u001b[0;34m()\u001b[0m\n\u001b[0;32m----> 1\u001b[0;31m \u001b[0mplot_err_hist\u001b[0m\u001b[0;34m(\u001b[0m\u001b[0mXsub_scale\u001b[0m\u001b[0;34m,\u001b[0m\u001b[0mNc\u001b[0m\u001b[0;34m)\u001b[0m\u001b[0;34m\u001b[0m\u001b[0m\n\u001b[0m",
      "\u001b[0;31mNameError\u001b[0m: name 'plot_err_hist' is not defined"
     ]
    }
   ],
   "source": [
    "plot_err_hist(Xsub_scale,Nc)"
   ]
  },
  {
   "cell_type": "markdown",
   "metadata": {
    "ein.tags": "worksheet-0",
    "slideshow": {
     "slide_type": "-"
    }
   },
   "source": [
    "So, the model is doing terribly.  I thought it would at least track the correct price (and get the directions wrong).\n",
    "As is, the resulting predictions are wandering far away from the actual price, even when given the correct price data.\n",
    "\n",
    "Does this make sense?  Under one point of view, these variables are all random walks.  Even if they are correlated,\n",
    "then, we can find some independent variables which are also given by random walks.  We're fitting a neural network with\n",
    "memory, and training it to fit this noise.  And when fed new noise, the results are wandering away from the prediction.\n"
   ]
  },
  {
   "cell_type": "markdown",
   "metadata": {
    "ein.tags": "worksheet-0",
    "slideshow": {
     "slide_type": "-"
    }
   },
   "source": [
    "# Simple Deep Network\n",
    "\n",
    "Let's try just making a really wide network.  With all inputs and times at once, and predicting all outputs at once.\n",
    "\n",
    "Making this work does require lots of reshaping inputs/outputs from 2D to 1D.\n",
    "I've put this in an OOP structure to try and maintain some hygiene due to multiple models using the same data.\n",
    "I hope I've caught all of the bugs from when this was just a script."
   ]
  },
  {
   "cell_type": "code",
   "execution_count": 62,
   "metadata": {
    "autoscroll": false,
    "ein.tags": "worksheet-0",
    "slideshow": {
     "slide_type": "-"
    }
   },
   "outputs": [],
   "source": [
    "a=np.arange(9)\n",
    "A=np.reshape(a,(3,3))"
   ]
  },
  {
   "cell_type": "code",
   "execution_count": 350,
   "metadata": {
    "autoscroll": false,
    "ein.tags": "worksheet-0",
    "slideshow": {
     "slide_type": "-"
    }
   },
   "outputs": [],
   "source": [
    "#make a Keras model simple wide, with dense input/outputs.\n",
    "class deep_network(object):\n",
    "    Netf=7\n",
    "    Netf=10\n",
    "    def __init__(self):\n",
    "        \"\"\"Defines all of the local network parameters\"\"\"\n",
    "        self.Nstocks=100\n",
    "        self.Nfeature=1\n",
    "        #number of times in/out.\n",
    "        self.Ntime_in=130\n",
    "        self.Ntime_out=65\n",
    "        #total linear input/outputs\n",
    "        self.Ninput=(self.Nstocks*self.Nfeature+Netf+Nind)*self.Ntime_in\n",
    "        self.Noutput=Netf*self.Ntime_out\n",
    "        #network parameters\n",
    "        self.Nhidden=20\n",
    "        self.Nlayers=2\n",
    "        self.dropout_frac=0.2\n",
    "        self.Nepoch=400\n",
    "        self.Nbatch=100\n",
    "        self.Nprint=20\n",
    "        self.train_frac=0.5\n",
    "        keras.backend.clear_session()\n",
    "        self.model=Sequential()\n",
    "\n",
    "    def make_network(self,activ='relu'):\n",
    "        \"\"\"make_network\n",
    "        Makes a deep multilayer network with dropout.\n",
    "        Relies on flattened arrays in time as input and output.\n",
    "        So inputs will use something like X.reshape(-1).\n",
    "        And outputs will also need reshape back to form (Ntime_out,Nout)\n",
    "        \"\"\"\n",
    "        self.model.add(Dense(units=self.Nhidden, activation='linear', input_shape=(self.Ninput,))) #linear mapping at input\n",
    "        if (activ=='relu'):\n",
    "            act = keras.layers.advanced_activations.LeakyReLU( alpha=0.1)               \n",
    "            for n in range(self.Nlayers):\n",
    "                self.model.add(Dropout(rate=self.dropout_frac, noise_shape=(self.Nbatch,self.Nhidden))) \n",
    "                self.model.add(Dense(units=self.Nhidden,activation='linear'))\n",
    "                #add extra activation layer afterwards\n",
    "                self.model.add(act)\n",
    "        else:\n",
    "            for n in range(self.Nlayers):\n",
    "                self.model.add(Dropout(rate=self.dropout_frac, noise_shape=(self.Nbatch,self.Nhidden))) \n",
    "                self.model.add(Dense(units=self.Nhidden,activation=activ))\n",
    "\n",
    "        #final linear mapping at output\n",
    "        self.model.add(Dense(units=self.Noutput,activation='linear',input_shape=(self.Nhidden,))) #output layer\n",
    "        self.model.compile(optimizer='adam',loss=mean_squared_error)\n",
    "\n",
    "    def get_training_data(self,Xsub_scale):\n",
    "        \"\"\"get_training_data\n",
    "        Selects out a subset of the training data.\n",
    "        Requires monkey around with column indices as input data is of form:\n",
    "        [ ...stocks..., ETFS, Indicators ]\n",
    "        Those last two are static, and known.\n",
    "        Picks out a fraction of the input data and trains the rest on that. \n",
    "        \"\"\"\n",
    "        #select out desired range of columns for training (stocks, etf, ind)\n",
    "        N0=self.Nstocks\n",
    "        ind_stock=np.arange(self.Nstocks)\n",
    "        #pull out ETFS\n",
    "        N0=Nstocks_tot\n",
    "        N1=N0+Netf\n",
    "        ind_etf=np.arange(N0,N1)\n",
    "        #pull out indicators\n",
    "        N0=Nstocks_tot+Netf\n",
    "        N1=N0+Nind\n",
    "        ind_ind=np.arange(N0, N1)\n",
    "        #combine out values to use in \n",
    "        ind_x=np.append(ind_stock,ind_etf)\n",
    "        ind_x=np.append(ind_x,ind_ind)\n",
    "\n",
    "        #make training/test splits\n",
    "        #train on stock, indicators and ETFs.\n",
    "        Xtrain = Xsub_scale[:Nc,ind_x]\n",
    "        ytrain= Xsub_scale[:Nc,ind_etf]\n",
    "        return Xtrain,ytrain,ind_x\n",
    "        \n",
    "    def get_batch(self,X,y):\n",
    "        \"\"\"get_batch\n",
    "        Returns a randomly selected batch of input/output sequences.\n",
    "        Inputs are all stocks, ETFs and indicators\n",
    "        Outputs are just future ETFs from input sequence endpoint.\n",
    "        \"\"\"\n",
    "        #starting indices\n",
    "        ind=np.arange(len(X[:,0])-self.Ntime_in-self.Ntime_out)\n",
    "        rand_ind=np.random.choice(ind,self.Nbatch,replace=False)\n",
    "        Xb=np.zeros((self.Nbatch,self.Ninput))\n",
    "        yb=np.zeros((self.Nbatch,self.Noutput))\n",
    "        #now populate table (couldn't see nice way to vectorize this assignment, mabe via overloading)\n",
    "        for i in range(self.Nbatch):\n",
    "            t0=rand_ind[i]\n",
    "            t1=t0+self.Ntime_in\n",
    "            t2=t1+self.Ntime_out\n",
    "            #input all past parameters\n",
    "            Xb[i]=X[t0:t1].reshape(-1)\n",
    "            #target future ETFs\n",
    "            yb[i]=y[t1:t2].reshape(-1)\n",
    "        return Xb,yb,rand_ind\n",
    "\n",
    "    def train_model(self,Xtrain,ytrain):\n",
    "        \"\"\"train_model\n",
    "        Grabs random sub-batches of data, then trains.\n",
    "        Uses two different calls to suppress output.\n",
    "        \"\"\"\n",
    "        for i in range(self.Nepoch+1):\n",
    "            #Keras assumes you have a list of X,y pairs for its sampling.\n",
    "            #Would be memory intensive to set up a whole list for this data.\n",
    "            #So wrote my own batching.\n",
    "            Xb,yb,_=self.get_batch(Xtrain,ytrain)\n",
    "            if (i)%self.Nprint==0:\n",
    "                self.model.fit(Xb,yb, epochs=1, batch_size=self.Nbatch, verbose=1)\n",
    "            else:\n",
    "                self.model.fit(Xb,yb, epochs=1, batch_size=self.Nbatch, verbose=0)\n",
    "            self.model.reset_states()\n",
    "\n",
    "    def predict_from_model(self,X):\n",
    "        \"\"\"predict_from_model\n",
    "\n",
    "        Currently runs all prediction on the given input X.  \n",
    "        Also currently takes a naive AVERAGE(!) over all of the output predictions. \n",
    "        \"\"\"\n",
    "        #Predict on whole of this subset (both \"training\" and \"testing\")\n",
    "\n",
    "        #compute total number of predictions to be made. \n",
    "        Nf = len(X) - self.Ntime_in - self.Ntime_out\n",
    "        ypred_tot=np.zeros((len(X),Netf))\n",
    "        yavg = np.zeros((len(X),1))\n",
    "        i0=0\n",
    "        i1=i0+self.Nbatch\n",
    "        #split whole time sequence into sequential batches.\n",
    "        while (i1 < Nf):\n",
    "            X0=np.zeros((self.Nbatch,self.Ninput))\n",
    "            for i in range(self.Nbatch):\n",
    "                t0=i0+i\n",
    "                t1=t0+self.Ntime_in\n",
    "                X0[i]=X[t0:t1].reshape(-1)\n",
    "            ypred=self.model.predict(X0,batch_size=self.Nbatch)\n",
    "            #now march along batch, add up predictions.    \n",
    "            for i in range(self.Nbatch):\n",
    "                t0=self.Ntime_in+i0+i\n",
    "                t1=t0+self.Ntime_out\n",
    "                yi=ypred[i].reshape( (self.Ntime_out, Netf))\n",
    "                ypred_tot[t0:t1]+= yi\n",
    "                yavg[t0:t1]+=1\n",
    "            self.model.reset_states()    \n",
    "            i0=i1\n",
    "            i1+=self.Nbatch\n",
    "        #predict on the remainder\n",
    "        Nrem=Nf-i0\n",
    "        X0=np.zeros((Nrem,self.Ninput))\n",
    "        for i in range(Nrem):\n",
    "            t0=i0+i\n",
    "            t1=t0+self.Ntime_in\n",
    "            X0[i]=X[t0:t1].reshape(-1)\n",
    "        ypred=self.model.predict(X0,batch_size=Nrem)\n",
    "        #now march along batch, add up predictions.    \n",
    "        for i in range(Nrem):\n",
    "            t0=self.Ntime_in+i0+i\n",
    "            t1=t0+self.Ntime_out\n",
    "            yi=ypred[i].reshape((self.Ntime_out,Netf))\n",
    "            ypred_tot[t0:t1]+= yi\n",
    "            yavg[t0:t1]+=1\n",
    "\n",
    "        ypred_tot=ypred_tot/yavg    \n",
    "\n",
    "        return ypred_tot"
   ]
  },
  {
   "cell_type": "code",
   "execution_count": 277,
   "metadata": {
    "autoscroll": false,
    "ein.tags": "worksheet-0",
    "slideshow": {
     "slide_type": "-"
    }
   },
   "outputs": [
    {
     "name": "stdout",
     "output_type": "stream",
     "text": [
      "Automatic pdb calling has been turned OFF\n"
     ]
    }
   ],
   "source": [
    "%pdb off"
   ]
  },
  {
   "cell_type": "code",
   "execution_count": 357,
   "metadata": {
    "autoscroll": false,
    "ein.tags": "worksheet-0",
    "slideshow": {
     "slide_type": "-"
    }
   },
   "outputs": [
    {
     "name": "stdout",
     "output_type": "stream",
     "text": [
      "Epoch 1/1\n",
      "100/100 [==============================] - 1s 6ms/step - loss: 0.2191\n",
      "Epoch 1/1\n",
      "100/100 [==============================] - 0s 789us/step - loss: 0.2115\n",
      "Epoch 1/1\n",
      "100/100 [==============================] - 0s 722us/step - loss: 0.1062\n",
      "Epoch 1/1\n",
      "100/100 [==============================] - 0s 830us/step - loss: 0.0668\n",
      "Epoch 1/1\n",
      "100/100 [==============================] - 0s 841us/step - loss: 0.0508\n",
      "Epoch 1/1\n",
      "100/100 [==============================] - 0s 857us/step - loss: 0.0474\n",
      "Epoch 1/1\n",
      "100/100 [==============================] - 0s 728us/step - loss: 0.0507\n",
      "Epoch 1/1\n",
      "100/100 [==============================] - 0s 748us/step - loss: 0.0348\n",
      "Epoch 1/1\n",
      "100/100 [==============================] - 0s 742us/step - loss: 0.0315\n",
      "Epoch 1/1\n",
      "100/100 [==============================] - 0s 722us/step - loss: 0.0345\n",
      "Epoch 1/1\n",
      "100/100 [==============================] - 0s 768us/step - loss: 0.0285\n"
     ]
    }
   ],
   "source": [
    "DNN=deep_network()\n",
    "Xsub=df_tot.loc['2001':'2014'].values\n",
    "times=df_tot.loc['2001':'2014'].index.values\n",
    "Xsub_scale,Xrng,Xavg=scale_maxmin(Xsub)\n",
    "\n",
    "#split 3/4 as training, 1/4 as validation\n",
    "N=len(Xsub_scale)\n",
    "Nc=int(DNN.train_frac*N)\n",
    "\n",
    "Xtrain,ytrain,ind_x=DNN.get_training_data(Xsub_scale)\n",
    "DNN.make_network(activ='relu')\n",
    "DNN.train_model(Xtrain,ytrain)"
   ]
  },
  {
   "cell_type": "code",
   "execution_count": 352,
   "metadata": {
    "autoscroll": false,
    "ein.tags": "worksheet-0",
    "slideshow": {
     "slide_type": "-"
    }
   },
   "outputs": [],
   "source": [
    "pred=DNN.predict_from_model(Xsub_scale[:,ind_x])"
   ]
  },
  {
   "cell_type": "code",
   "execution_count": 365,
   "metadata": {
    "autoscroll": false,
    "ein.tags": "worksheet-0",
    "slideshow": {
     "slide_type": "-"
    }
   },
   "outputs": [
    {
     "data": {
      "image/png": "[encoded data removed]",
      "text/plain": [
       "<matplotlib.figure.Figure at 0x7f29840e8b00>"
      ]
     },
     "metadata": {},
     "output_type": "display_data"
    }
   ],
   "source": [
    "plt.figure(figsize=(15,15))\n",
    "Nc=int(DNN.train_frac*N)\n",
    "for k in range(Netf):\n",
    "    plt.subplot(4,2,k+1)\n",
    "    plt.plot_date(times,pred[:,k],'-',label='pred')\n",
    "    plt.plot_date(times,Xsub_scale[:,ind_etf[k]],'-')#[:,ind_etf[k]])\n",
    "    plt.title(df_tot.columns[ind_etf[k]])\n",
    "    #plt.plot([Nc,Nc],[-1,1],'k')\n",
    "plt.show()    \n"
   ]
  },
  {
   "cell_type": "markdown",
   "metadata": {},
   "source": [
    "So this is overfitting like crazy again! A simple linear regression would work better at this point. "
   ]
  },
  {
   "cell_type": "code",
   "execution_count": 361,
   "metadata": {
    "autoscroll": false,
    "ein.tags": "worksheet-0",
    "slideshow": {
     "slide_type": "-"
    }
   },
   "outputs": [
    {
     "data": {
      "text/plain": [
       "(3543, 7)"
      ]
     },
     "execution_count": 361,
     "metadata": {},
     "output_type": "execute_result"
    }
   ],
   "source": [
    "pred.shape"
   ]
  },
  {
   "cell_type": "code",
   "execution_count": 130,
   "metadata": {
    "autoscroll": false,
    "ein.tags": "worksheet-0",
    "slideshow": {
     "slide_type": "-"
    }
   },
   "outputs": [
    {
     "data": {
      "text/plain": [
       "756"
      ]
     },
     "execution_count": 130,
     "metadata": {},
     "output_type": "execute_result"
    }
   ],
   "source": []
  }
 ],
 "metadata": {
  "kernelspec": {
   "display_name": "Python 3",
   "language": "python",
   "name": "python3"
  },
  "language_info": {
   "codemirror_mode": {
    "name": "ipython",
    "version": 3
   },
   "file_extension": ".py",
   "mimetype": "text/x-python",
   "name": "python",
   "nbconvert_exporter": "python",
   "pygments_lexer": "ipython3",
   "version": "3.6.3"
  },
  "name": "PDX_finance_Mar2018.ipynb"
 },
 "nbformat": 4,
 "nbformat_minor": 2
}
