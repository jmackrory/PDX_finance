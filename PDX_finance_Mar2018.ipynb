{
 "cells": [
  {
   "cell_type": "markdown",
   "metadata": {
    "ein.tags": "worksheet-0",
    "slideshow": {
     "slide_type": "-"
    }
   },
   "source": [
    "# Apply Neural Networks to the Stock Market\n",
    "\n",
    "Notebook to explore limited set of NY stock exchange data over around 40 years, as part of the Portland Data Science group (Mar 2018).\n",
    "Data selected by Matt Borthwick from Yahoo! Finance.\n",
    "Working with Neural Network group: Matt, John Burt, Manny, Isil, Kenny, Jhoan, Mark C.\n",
    "\n",
    "Our goal is to predict weekly returns on 6 industry based ETFs, as well\n",
    "as aggregate market performance (such as Russel3000).  We will also\n",
    "be using some macroeconomic indicators as well.\n",
    "This notebook currently loads the data, transforms it, and applies a\n",
    "simple neural network to try predicting the next days stock prices.\n",
    "\n",
    "The plan is to train on this data (up to Sep 2017),\n",
    "validate on (Oct-Dec 2017), and test in final session on (Jan-Mar 2018).\n",
    "\n",
    "(For more exploratory screwing around, and other attempts at time-series see PDX_finance1)"
   ]
  },
  {
   "cell_type": "markdown",
   "metadata": {
    "ein.tags": "worksheet-0",
    "slideshow": {
     "slide_type": "-"
    }
   },
   "source": [
    "# Google Colab setup\n",
    "\n",
    "First up however, we need to install modules to load up our google drive for storage.  (Code taken from this helpful post https://medium.com/deep-learning-turkey/google-colab-free-gpu-tutorial-e113627b9f5d)\n",
    "(Code and commands didn't look sketchy/malicious, but I didn't examine the PPA too closely either.)\n",
    "\n",
    "This code is for execution inside a Jupyter notebook on colab.google.com.\n",
    "It gives Colab access to your Google Drive in order to load/save data from within the notebook.\n",
    "Colab has most popular libraries (numpy, pandas, tensorflow, matplotlib).  I'm not sure how extensive it is.\n",
    "\n",
    "I've found opening a jupyter notebook on google drive automatically opens the Colab."
   ]
  },
  {
   "cell_type": "code",
   "execution_count": null,
   "metadata": {
    "autoscroll": false,
    "ein.tags": "worksheet-0",
    "slideshow": {
     "slide_type": "-"
    }
   },
   "outputs": [],
   "source": [
    "#Install modules on local machine.\n",
    "!apt-get install -y -qq software-properties-common python-software-properties module-init-tools\n",
    "!add-apt-repository -y ppa:alessandro-strada/ppa 2>&1 > /dev/null\n",
    "!apt-get update -qq 2>&1 > /dev/null\n",
    "!echo 'past update'\n",
    "!apt-get -y install -qq google-drive-ocamlfuse fuse\n",
    "!echo 'installed fuse'"
   ]
  },
  {
   "cell_type": "code",
   "execution_count": null,
   "metadata": {
    "autoscroll": false,
    "ein.tags": "worksheet-0",
    "slideshow": {
     "slide_type": "-"
    }
   },
   "outputs": [],
   "source": [
    "from google.colab import auth\n",
    "auth.authenticate_user()\n",
    "from oauth2client.client import GoogleCredentials\n",
    "creds = GoogleCredentials.get_application_default()\n",
    "import getpass\n",
    "!google-drive-ocamlfuse -headless -id={creds.client_id} -secret={creds.client_secret} < /dev/null 2>&1 | grep URL\n",
    "print('past first command')\n",
    "vcode = getpass.getpass()\n",
    "!echo {vcode} | google-drive-ocamlfuse -headless -id={creds.client_id} -secret={creds.client_secret}"
   ]
  },
  {
   "cell_type": "code",
   "execution_count": null,
   "metadata": {
    "autoscroll": false,
    "ein.tags": "worksheet-0",
    "slideshow": {
     "slide_type": "-"
    }
   },
   "outputs": [],
   "source": [
    "#Mounts google drive, and changes to that directory\n",
    "!mkdir -p drive \n",
    "!google-drive-ocamlfuse drive\n",
    "\n",
    "import os\n",
    "os.chdir(\"drive\")\n",
    "\n",
    "#Should now be in the root of your google-drive, and now free to load/save existing files."
   ]
  },
  {
   "cell_type": "markdown",
   "metadata": {
    "ein.tags": "worksheet-0",
    "slideshow": {
     "slide_type": "-"
    }
   },
   "source": [
    "# Load Libraries and Data\n",
    "\n",
    "Now to load libraries, and data.  (This is where I start my analysis\n",
    "                                   on my home machine.)"
   ]
  },
  {
   "cell_type": "code",
   "execution_count": 1,
   "metadata": {
    "autoscroll": false,
    "ein.tags": "worksheet-0",
    "slideshow": {
     "slide_type": "-"
    }
   },
   "outputs": [],
   "source": [
    "import pandas as pd \n",
    "import numpy as np\n",
    "import matplotlib.pyplot as plt\n",
    "\n",
    "%matplotlib inline\n",
    "# automatically reload files.\n",
    "%load_ext autoreload\n",
    "%autoreload 2"
   ]
  },
  {
   "cell_type": "code",
   "execution_count": 2,
   "metadata": {
    "autoscroll": false,
    "ein.tags": "worksheet-0",
    "slideshow": {
     "slide_type": "-"
    }
   },
   "outputs": [],
   "source": [
    "#Data compiled from Yahoo! Finance data by Matt Borthwick\n",
    "df_close=pd.read_csv('data/stocks-us-adjClose.csv',index_col=0,parse_dates=True)\n",
    "df_high=pd.read_csv('data/stocks-us-adjHigh.csv',index_col=0,parse_dates=True)\n",
    "df_low=pd.read_csv('data/stocks-us-adjLow.csv',index_col=0,parse_dates=True)\n",
    "df_vol=pd.read_csv('data/stocks-us-Volume.csv',index_col=0,parse_dates=True)\n",
    "df_close.index.name='Time'\n",
    "df_high.index.name='Time'\n",
    "df_low.index.name='Time'\n",
    "df_vol.index.name='Time'"
   ]
  },
  {
   "cell_type": "code",
   "execution_count": 4,
   "metadata": {
    "autoscroll": false,
    "ein.tags": "worksheet-0",
    "slideshow": {
     "slide_type": "-"
    }
   },
   "outputs": [],
   "source": [
    "df_market=pd.read_csv('data/market.csv',index_col=0,parse_dates=True)\n",
    "df_etf = pd.read_csv('data/sector_ETFs.csv',index_col=0,parse_dates=True)\n",
    "df_comp_info=pd.read_csv('data/Company_information.csv',encoding='latin1')"
   ]
  },
  {
   "cell_type": "code",
   "execution_count": 175,
   "metadata": {
    "autoscroll": false,
    "ein.tags": "worksheet-0",
    "slideshow": {
     "slide_type": "-"
    }
   },
   "outputs": [],
   "source": [
    "df_target=pd.DataFrame.join(df_market,other=df_etf,how='outer')"
   ]
  },
  {
   "cell_type": "code",
   "execution_count": 210,
   "metadata": {
    "autoscroll": false,
    "ein.tags": "worksheet-0",
    "slideshow": {
     "slide_type": "-"
    }
   },
   "outputs": [
    {
     "data": {
      "text/html": [
       "<div>\n",
       "<style>\n",
       "    .dataframe thead tr:only-child th {\n",
       "        text-align: right;\n",
       "    }\n",
       "\n",
       "    .dataframe thead th {\n",
       "        text-align: left;\n",
       "    }\n",
       "\n",
       "    .dataframe tbody tr th {\n",
       "        vertical-align: top;\n",
       "    }\n",
       "</style>\n",
       "<table border=\"1\" class=\"dataframe\">\n",
       "  <thead>\n",
       "    <tr style=\"text-align: right;\">\n",
       "      <th></th>\n",
       "      <th>Entire Market (^RUA)</th>\n",
       "      <th>Technology (IYW)</th>\n",
       "      <th>Basic Materials (IYM)</th>\n",
       "      <th>Consumer Goods (IYK)</th>\n",
       "      <th>Services (IYC)</th>\n",
       "      <th>Healthcare (IYH)</th>\n",
       "      <th>Utilities (IDU)</th>\n",
       "    </tr>\n",
       "    <tr>\n",
       "      <th>Date</th>\n",
       "      <th></th>\n",
       "      <th></th>\n",
       "      <th></th>\n",
       "      <th></th>\n",
       "      <th></th>\n",
       "      <th></th>\n",
       "      <th></th>\n",
       "    </tr>\n",
       "  </thead>\n",
       "  <tbody>\n",
       "    <tr>\n",
       "      <th>1987-09-10</th>\n",
       "      <td>178.830002</td>\n",
       "      <td>NaN</td>\n",
       "      <td>NaN</td>\n",
       "      <td>NaN</td>\n",
       "      <td>NaN</td>\n",
       "      <td>NaN</td>\n",
       "      <td>NaN</td>\n",
       "    </tr>\n",
       "    <tr>\n",
       "      <th>1987-09-11</th>\n",
       "      <td>181.339996</td>\n",
       "      <td>NaN</td>\n",
       "      <td>NaN</td>\n",
       "      <td>NaN</td>\n",
       "      <td>NaN</td>\n",
       "      <td>NaN</td>\n",
       "      <td>NaN</td>\n",
       "    </tr>\n",
       "    <tr>\n",
       "      <th>1987-09-14</th>\n",
       "      <td>181.789993</td>\n",
       "      <td>NaN</td>\n",
       "      <td>NaN</td>\n",
       "      <td>NaN</td>\n",
       "      <td>NaN</td>\n",
       "      <td>NaN</td>\n",
       "      <td>NaN</td>\n",
       "    </tr>\n",
       "    <tr>\n",
       "      <th>1987-09-15</th>\n",
       "      <td>179.270004</td>\n",
       "      <td>NaN</td>\n",
       "      <td>NaN</td>\n",
       "      <td>NaN</td>\n",
       "      <td>NaN</td>\n",
       "      <td>NaN</td>\n",
       "      <td>NaN</td>\n",
       "    </tr>\n",
       "    <tr>\n",
       "      <th>1987-09-16</th>\n",
       "      <td>177.889999</td>\n",
       "      <td>NaN</td>\n",
       "      <td>NaN</td>\n",
       "      <td>NaN</td>\n",
       "      <td>NaN</td>\n",
       "      <td>NaN</td>\n",
       "      <td>NaN</td>\n",
       "    </tr>\n",
       "    <tr>\n",
       "      <th>1987-09-17</th>\n",
       "      <td>177.839996</td>\n",
       "      <td>NaN</td>\n",
       "      <td>NaN</td>\n",
       "      <td>NaN</td>\n",
       "      <td>NaN</td>\n",
       "      <td>NaN</td>\n",
       "      <td>NaN</td>\n",
       "    </tr>\n",
       "    <tr>\n",
       "      <th>1987-09-18</th>\n",
       "      <td>177.690002</td>\n",
       "      <td>NaN</td>\n",
       "      <td>NaN</td>\n",
       "      <td>NaN</td>\n",
       "      <td>NaN</td>\n",
       "      <td>NaN</td>\n",
       "      <td>NaN</td>\n",
       "    </tr>\n",
       "    <tr>\n",
       "      <th>1987-09-21</th>\n",
       "      <td>175.479996</td>\n",
       "      <td>NaN</td>\n",
       "      <td>NaN</td>\n",
       "      <td>NaN</td>\n",
       "      <td>NaN</td>\n",
       "      <td>NaN</td>\n",
       "      <td>NaN</td>\n",
       "    </tr>\n",
       "    <tr>\n",
       "      <th>1987-09-22</th>\n",
       "      <td>179.419998</td>\n",
       "      <td>NaN</td>\n",
       "      <td>NaN</td>\n",
       "      <td>NaN</td>\n",
       "      <td>NaN</td>\n",
       "      <td>NaN</td>\n",
       "      <td>NaN</td>\n",
       "    </tr>\n",
       "    <tr>\n",
       "      <th>1987-09-23</th>\n",
       "      <td>180.520004</td>\n",
       "      <td>NaN</td>\n",
       "      <td>NaN</td>\n",
       "      <td>NaN</td>\n",
       "      <td>NaN</td>\n",
       "      <td>NaN</td>\n",
       "      <td>NaN</td>\n",
       "    </tr>\n",
       "    <tr>\n",
       "      <th>1987-09-24</th>\n",
       "      <td>179.970001</td>\n",
       "      <td>NaN</td>\n",
       "      <td>NaN</td>\n",
       "      <td>NaN</td>\n",
       "      <td>NaN</td>\n",
       "      <td>NaN</td>\n",
       "      <td>NaN</td>\n",
       "    </tr>\n",
       "    <tr>\n",
       "      <th>1987-09-25</th>\n",
       "      <td>180.229996</td>\n",
       "      <td>NaN</td>\n",
       "      <td>NaN</td>\n",
       "      <td>NaN</td>\n",
       "      <td>NaN</td>\n",
       "      <td>NaN</td>\n",
       "      <td>NaN</td>\n",
       "    </tr>\n",
       "    <tr>\n",
       "      <th>1987-09-28</th>\n",
       "      <td>181.660004</td>\n",
       "      <td>NaN</td>\n",
       "      <td>NaN</td>\n",
       "      <td>NaN</td>\n",
       "      <td>NaN</td>\n",
       "      <td>NaN</td>\n",
       "      <td>NaN</td>\n",
       "    </tr>\n",
       "    <tr>\n",
       "      <th>1987-09-29</th>\n",
       "      <td>181.660004</td>\n",
       "      <td>NaN</td>\n",
       "      <td>NaN</td>\n",
       "      <td>NaN</td>\n",
       "      <td>NaN</td>\n",
       "      <td>NaN</td>\n",
       "      <td>NaN</td>\n",
       "    </tr>\n",
       "    <tr>\n",
       "      <th>1987-09-30</th>\n",
       "      <td>181.380005</td>\n",
       "      <td>NaN</td>\n",
       "      <td>NaN</td>\n",
       "      <td>NaN</td>\n",
       "      <td>NaN</td>\n",
       "      <td>NaN</td>\n",
       "      <td>NaN</td>\n",
       "    </tr>\n",
       "    <tr>\n",
       "      <th>1987-10-01</th>\n",
       "      <td>184.139999</td>\n",
       "      <td>NaN</td>\n",
       "      <td>NaN</td>\n",
       "      <td>NaN</td>\n",
       "      <td>NaN</td>\n",
       "      <td>NaN</td>\n",
       "      <td>NaN</td>\n",
       "    </tr>\n",
       "    <tr>\n",
       "      <th>1987-10-02</th>\n",
       "      <td>184.699997</td>\n",
       "      <td>NaN</td>\n",
       "      <td>NaN</td>\n",
       "      <td>NaN</td>\n",
       "      <td>NaN</td>\n",
       "      <td>NaN</td>\n",
       "      <td>NaN</td>\n",
       "    </tr>\n",
       "    <tr>\n",
       "      <th>1987-10-05</th>\n",
       "      <td>184.800003</td>\n",
       "      <td>NaN</td>\n",
       "      <td>NaN</td>\n",
       "      <td>NaN</td>\n",
       "      <td>NaN</td>\n",
       "      <td>NaN</td>\n",
       "      <td>NaN</td>\n",
       "    </tr>\n",
       "    <tr>\n",
       "      <th>1987-10-06</th>\n",
       "      <td>180.490005</td>\n",
       "      <td>NaN</td>\n",
       "      <td>NaN</td>\n",
       "      <td>NaN</td>\n",
       "      <td>NaN</td>\n",
       "      <td>NaN</td>\n",
       "      <td>NaN</td>\n",
       "    </tr>\n",
       "    <tr>\n",
       "      <th>1987-10-07</th>\n",
       "      <td>179.889999</td>\n",
       "      <td>NaN</td>\n",
       "      <td>NaN</td>\n",
       "      <td>NaN</td>\n",
       "      <td>NaN</td>\n",
       "      <td>NaN</td>\n",
       "      <td>NaN</td>\n",
       "    </tr>\n",
       "    <tr>\n",
       "      <th>1987-10-08</th>\n",
       "      <td>177.600006</td>\n",
       "      <td>NaN</td>\n",
       "      <td>NaN</td>\n",
       "      <td>NaN</td>\n",
       "      <td>NaN</td>\n",
       "      <td>NaN</td>\n",
       "      <td>NaN</td>\n",
       "    </tr>\n",
       "    <tr>\n",
       "      <th>1987-10-09</th>\n",
       "      <td>176.070007</td>\n",
       "      <td>NaN</td>\n",
       "      <td>NaN</td>\n",
       "      <td>NaN</td>\n",
       "      <td>NaN</td>\n",
       "      <td>NaN</td>\n",
       "      <td>NaN</td>\n",
       "    </tr>\n",
       "    <tr>\n",
       "      <th>1987-10-12</th>\n",
       "      <td>174.850006</td>\n",
       "      <td>NaN</td>\n",
       "      <td>NaN</td>\n",
       "      <td>NaN</td>\n",
       "      <td>NaN</td>\n",
       "      <td>NaN</td>\n",
       "      <td>NaN</td>\n",
       "    </tr>\n",
       "    <tr>\n",
       "      <th>1987-10-13</th>\n",
       "      <td>177.250000</td>\n",
       "      <td>NaN</td>\n",
       "      <td>NaN</td>\n",
       "      <td>NaN</td>\n",
       "      <td>NaN</td>\n",
       "      <td>NaN</td>\n",
       "      <td>NaN</td>\n",
       "    </tr>\n",
       "    <tr>\n",
       "      <th>1987-10-14</th>\n",
       "      <td>172.699997</td>\n",
       "      <td>NaN</td>\n",
       "      <td>NaN</td>\n",
       "      <td>NaN</td>\n",
       "      <td>NaN</td>\n",
       "      <td>NaN</td>\n",
       "      <td>NaN</td>\n",
       "    </tr>\n",
       "    <tr>\n",
       "      <th>1987-10-15</th>\n",
       "      <td>168.990005</td>\n",
       "      <td>NaN</td>\n",
       "      <td>NaN</td>\n",
       "      <td>NaN</td>\n",
       "      <td>NaN</td>\n",
       "      <td>NaN</td>\n",
       "      <td>NaN</td>\n",
       "    </tr>\n",
       "    <tr>\n",
       "      <th>1987-10-16</th>\n",
       "      <td>160.679993</td>\n",
       "      <td>NaN</td>\n",
       "      <td>NaN</td>\n",
       "      <td>NaN</td>\n",
       "      <td>NaN</td>\n",
       "      <td>NaN</td>\n",
       "      <td>NaN</td>\n",
       "    </tr>\n",
       "    <tr>\n",
       "      <th>1987-10-19</th>\n",
       "      <td>131.039993</td>\n",
       "      <td>NaN</td>\n",
       "      <td>NaN</td>\n",
       "      <td>NaN</td>\n",
       "      <td>NaN</td>\n",
       "      <td>NaN</td>\n",
       "      <td>NaN</td>\n",
       "    </tr>\n",
       "    <tr>\n",
       "      <th>1987-10-20</th>\n",
       "      <td>133.529999</td>\n",
       "      <td>NaN</td>\n",
       "      <td>NaN</td>\n",
       "      <td>NaN</td>\n",
       "      <td>NaN</td>\n",
       "      <td>NaN</td>\n",
       "      <td>NaN</td>\n",
       "    </tr>\n",
       "    <tr>\n",
       "      <th>1987-10-21</th>\n",
       "      <td>145.330002</td>\n",
       "      <td>NaN</td>\n",
       "      <td>NaN</td>\n",
       "      <td>NaN</td>\n",
       "      <td>NaN</td>\n",
       "      <td>NaN</td>\n",
       "      <td>NaN</td>\n",
       "    </tr>\n",
       "    <tr>\n",
       "      <th>...</th>\n",
       "      <td>...</td>\n",
       "      <td>...</td>\n",
       "      <td>...</td>\n",
       "      <td>...</td>\n",
       "      <td>...</td>\n",
       "      <td>...</td>\n",
       "      <td>...</td>\n",
       "    </tr>\n",
       "    <tr>\n",
       "      <th>2017-07-28</th>\n",
       "      <td>1463.640015</td>\n",
       "      <td>145.167450</td>\n",
       "      <td>91.441757</td>\n",
       "      <td>121.134270</td>\n",
       "      <td>166.032410</td>\n",
       "      <td>166.539642</td>\n",
       "      <td>131.411530</td>\n",
       "    </tr>\n",
       "    <tr>\n",
       "      <th>2017-07-31</th>\n",
       "      <td>1462.319946</td>\n",
       "      <td>144.201538</td>\n",
       "      <td>90.797028</td>\n",
       "      <td>120.787323</td>\n",
       "      <td>166.112015</td>\n",
       "      <td>166.261276</td>\n",
       "      <td>131.856430</td>\n",
       "    </tr>\n",
       "    <tr>\n",
       "      <th>2017-08-01</th>\n",
       "      <td>1465.849976</td>\n",
       "      <td>144.838852</td>\n",
       "      <td>91.064835</td>\n",
       "      <td>120.400726</td>\n",
       "      <td>166.699020</td>\n",
       "      <td>165.764206</td>\n",
       "      <td>132.568253</td>\n",
       "    </tr>\n",
       "    <tr>\n",
       "      <th>2017-08-02</th>\n",
       "      <td>1464.489990</td>\n",
       "      <td>145.396484</td>\n",
       "      <td>91.044998</td>\n",
       "      <td>120.301598</td>\n",
       "      <td>165.982666</td>\n",
       "      <td>165.605133</td>\n",
       "      <td>133.013138</td>\n",
       "    </tr>\n",
       "    <tr>\n",
       "      <th>2017-08-03</th>\n",
       "      <td>1461.099976</td>\n",
       "      <td>144.868713</td>\n",
       "      <td>90.509384</td>\n",
       "      <td>120.618813</td>\n",
       "      <td>165.276276</td>\n",
       "      <td>166.092285</td>\n",
       "      <td>133.576691</td>\n",
       "    </tr>\n",
       "    <tr>\n",
       "      <th>2017-08-04</th>\n",
       "      <td>1464.469971</td>\n",
       "      <td>145.346710</td>\n",
       "      <td>90.995399</td>\n",
       "      <td>120.519684</td>\n",
       "      <td>165.196671</td>\n",
       "      <td>165.843735</td>\n",
       "      <td>133.280090</td>\n",
       "    </tr>\n",
       "    <tr>\n",
       "      <th>2017-08-07</th>\n",
       "      <td>1466.680054</td>\n",
       "      <td>146.292725</td>\n",
       "      <td>91.064835</td>\n",
       "      <td>121.203659</td>\n",
       "      <td>165.644394</td>\n",
       "      <td>166.062439</td>\n",
       "      <td>133.349304</td>\n",
       "    </tr>\n",
       "    <tr>\n",
       "      <th>2017-08-08</th>\n",
       "      <td>1462.979980</td>\n",
       "      <td>146.123444</td>\n",
       "      <td>90.241577</td>\n",
       "      <td>120.936012</td>\n",
       "      <td>165.276276</td>\n",
       "      <td>165.177643</td>\n",
       "      <td>134.090790</td>\n",
       "    </tr>\n",
       "    <tr>\n",
       "      <th>2017-08-09</th>\n",
       "      <td>1460.859985</td>\n",
       "      <td>146.093552</td>\n",
       "      <td>90.191978</td>\n",
       "      <td>120.945930</td>\n",
       "      <td>164.619644</td>\n",
       "      <td>165.465958</td>\n",
       "      <td>133.378952</td>\n",
       "    </tr>\n",
       "    <tr>\n",
       "      <th>2017-08-10</th>\n",
       "      <td>1439.160034</td>\n",
       "      <td>142.867172</td>\n",
       "      <td>89.120743</td>\n",
       "      <td>119.934822</td>\n",
       "      <td>162.271622</td>\n",
       "      <td>163.169479</td>\n",
       "      <td>133.764542</td>\n",
       "    </tr>\n",
       "    <tr>\n",
       "      <th>2017-08-11</th>\n",
       "      <td>1441.339966</td>\n",
       "      <td>144.082047</td>\n",
       "      <td>88.952126</td>\n",
       "      <td>120.152908</td>\n",
       "      <td>163.137192</td>\n",
       "      <td>163.746094</td>\n",
       "      <td>132.993378</td>\n",
       "    </tr>\n",
       "    <tr>\n",
       "      <th>2017-08-14</th>\n",
       "      <td>1456.339966</td>\n",
       "      <td>146.412201</td>\n",
       "      <td>89.666283</td>\n",
       "      <td>121.094627</td>\n",
       "      <td>164.042572</td>\n",
       "      <td>164.789932</td>\n",
       "      <td>133.774414</td>\n",
       "    </tr>\n",
       "    <tr>\n",
       "      <th>2017-08-15</th>\n",
       "      <td>1454.459961</td>\n",
       "      <td>146.691040</td>\n",
       "      <td>89.785301</td>\n",
       "      <td>121.273048</td>\n",
       "      <td>162.818817</td>\n",
       "      <td>164.899292</td>\n",
       "      <td>134.407150</td>\n",
       "    </tr>\n",
       "    <tr>\n",
       "      <th>2017-08-16</th>\n",
       "      <td>1456.760010</td>\n",
       "      <td>147.109268</td>\n",
       "      <td>90.648247</td>\n",
       "      <td>121.798431</td>\n",
       "      <td>163.525208</td>\n",
       "      <td>165.346664</td>\n",
       "      <td>135.000351</td>\n",
       "    </tr>\n",
       "    <tr>\n",
       "      <th>2017-08-17</th>\n",
       "      <td>1434.040039</td>\n",
       "      <td>144.111923</td>\n",
       "      <td>89.081062</td>\n",
       "      <td>120.261940</td>\n",
       "      <td>160.938416</td>\n",
       "      <td>163.229126</td>\n",
       "      <td>133.942490</td>\n",
       "    </tr>\n",
       "    <tr>\n",
       "      <th>2017-08-18</th>\n",
       "      <td>1431.520020</td>\n",
       "      <td>143.962555</td>\n",
       "      <td>89.219933</td>\n",
       "      <td>119.667183</td>\n",
       "      <td>160.381256</td>\n",
       "      <td>162.582916</td>\n",
       "      <td>134.763062</td>\n",
       "    </tr>\n",
       "    <tr>\n",
       "      <th>2017-08-21</th>\n",
       "      <td>1432.900024</td>\n",
       "      <td>143.733505</td>\n",
       "      <td>89.577003</td>\n",
       "      <td>119.944740</td>\n",
       "      <td>160.779236</td>\n",
       "      <td>163.298706</td>\n",
       "      <td>135.158524</td>\n",
       "    </tr>\n",
       "    <tr>\n",
       "      <th>2017-08-22</th>\n",
       "      <td>1447.209961</td>\n",
       "      <td>146.023849</td>\n",
       "      <td>90.608574</td>\n",
       "      <td>120.281769</td>\n",
       "      <td>162.410904</td>\n",
       "      <td>165.207474</td>\n",
       "      <td>135.593521</td>\n",
       "    </tr>\n",
       "    <tr>\n",
       "      <th>2017-08-23</th>\n",
       "      <td>1442.849976</td>\n",
       "      <td>145.784851</td>\n",
       "      <td>90.638321</td>\n",
       "      <td>119.944740</td>\n",
       "      <td>161.097595</td>\n",
       "      <td>164.044327</td>\n",
       "      <td>136.077972</td>\n",
       "    </tr>\n",
       "    <tr>\n",
       "      <th>2017-08-24</th>\n",
       "      <td>1440.790039</td>\n",
       "      <td>145.655396</td>\n",
       "      <td>90.529213</td>\n",
       "      <td>119.121971</td>\n",
       "      <td>159.973343</td>\n",
       "      <td>164.581161</td>\n",
       "      <td>136.018646</td>\n",
       "    </tr>\n",
       "    <tr>\n",
       "      <th>2017-08-25</th>\n",
       "      <td>1443.359985</td>\n",
       "      <td>145.525940</td>\n",
       "      <td>90.826782</td>\n",
       "      <td>119.349968</td>\n",
       "      <td>160.679733</td>\n",
       "      <td>164.501633</td>\n",
       "      <td>136.374573</td>\n",
       "    </tr>\n",
       "    <tr>\n",
       "      <th>2017-08-28</th>\n",
       "      <td>1444.189941</td>\n",
       "      <td>145.864502</td>\n",
       "      <td>91.074753</td>\n",
       "      <td>119.121971</td>\n",
       "      <td>160.689682</td>\n",
       "      <td>165.654846</td>\n",
       "      <td>136.601959</td>\n",
       "    </tr>\n",
       "    <tr>\n",
       "      <th>2017-08-29</th>\n",
       "      <td>1445.140015</td>\n",
       "      <td>146.481918</td>\n",
       "      <td>90.668091</td>\n",
       "      <td>119.211189</td>\n",
       "      <td>160.709579</td>\n",
       "      <td>165.953079</td>\n",
       "      <td>136.414124</td>\n",
       "    </tr>\n",
       "    <tr>\n",
       "      <th>2017-08-30</th>\n",
       "      <td>1452.390015</td>\n",
       "      <td>147.876038</td>\n",
       "      <td>90.955727</td>\n",
       "      <td>119.449097</td>\n",
       "      <td>161.823883</td>\n",
       "      <td>166.927353</td>\n",
       "      <td>135.870346</td>\n",
       "    </tr>\n",
       "    <tr>\n",
       "      <th>2017-08-31</th>\n",
       "      <td>1461.810059</td>\n",
       "      <td>149.160599</td>\n",
       "      <td>91.868263</td>\n",
       "      <td>119.786125</td>\n",
       "      <td>162.619827</td>\n",
       "      <td>169.830276</td>\n",
       "      <td>135.900024</td>\n",
       "    </tr>\n",
       "    <tr>\n",
       "      <th>2017-09-01</th>\n",
       "      <td>1465.449951</td>\n",
       "      <td>149.100861</td>\n",
       "      <td>92.463394</td>\n",
       "      <td>120.529594</td>\n",
       "      <td>163.167038</td>\n",
       "      <td>169.770630</td>\n",
       "      <td>135.633087</td>\n",
       "    </tr>\n",
       "    <tr>\n",
       "      <th>2017-09-05</th>\n",
       "      <td>1453.699951</td>\n",
       "      <td>147.656967</td>\n",
       "      <td>91.263222</td>\n",
       "      <td>120.192558</td>\n",
       "      <td>162.589981</td>\n",
       "      <td>168.935532</td>\n",
       "      <td>135.900024</td>\n",
       "    </tr>\n",
       "    <tr>\n",
       "      <th>2017-09-06</th>\n",
       "      <td>1457.770020</td>\n",
       "      <td>147.955704</td>\n",
       "      <td>91.560776</td>\n",
       "      <td>120.400726</td>\n",
       "      <td>163.565002</td>\n",
       "      <td>169.720917</td>\n",
       "      <td>135.207962</td>\n",
       "    </tr>\n",
       "    <tr>\n",
       "      <th>2017-09-07</th>\n",
       "      <td>1456.829956</td>\n",
       "      <td>148.423721</td>\n",
       "      <td>91.699638</td>\n",
       "      <td>120.509766</td>\n",
       "      <td>162.709366</td>\n",
       "      <td>171.331421</td>\n",
       "      <td>136.246048</td>\n",
       "    </tr>\n",
       "    <tr>\n",
       "      <th>2017-09-08</th>\n",
       "      <td>1455.250000</td>\n",
       "      <td>147.039566</td>\n",
       "      <td>91.540939</td>\n",
       "      <td>120.301598</td>\n",
       "      <td>162.012939</td>\n",
       "      <td>172.077026</td>\n",
       "      <td>136.928207</td>\n",
       "    </tr>\n",
       "  </tbody>\n",
       "</table>\n",
       "<p>7562 rows × 7 columns</p>\n",
       "</div>"
      ],
      "text/plain": [
       "            Entire Market (^RUA)  Technology (IYW)  Basic Materials (IYM)  \\\n",
       "Date                                                                        \n",
       "1987-09-10            178.830002               NaN                    NaN   \n",
       "1987-09-11            181.339996               NaN                    NaN   \n",
       "1987-09-14            181.789993               NaN                    NaN   \n",
       "1987-09-15            179.270004               NaN                    NaN   \n",
       "1987-09-16            177.889999               NaN                    NaN   \n",
       "1987-09-17            177.839996               NaN                    NaN   \n",
       "1987-09-18            177.690002               NaN                    NaN   \n",
       "1987-09-21            175.479996               NaN                    NaN   \n",
       "1987-09-22            179.419998               NaN                    NaN   \n",
       "1987-09-23            180.520004               NaN                    NaN   \n",
       "1987-09-24            179.970001               NaN                    NaN   \n",
       "1987-09-25            180.229996               NaN                    NaN   \n",
       "1987-09-28            181.660004               NaN                    NaN   \n",
       "1987-09-29            181.660004               NaN                    NaN   \n",
       "1987-09-30            181.380005               NaN                    NaN   \n",
       "1987-10-01            184.139999               NaN                    NaN   \n",
       "1987-10-02            184.699997               NaN                    NaN   \n",
       "1987-10-05            184.800003               NaN                    NaN   \n",
       "1987-10-06            180.490005               NaN                    NaN   \n",
       "1987-10-07            179.889999               NaN                    NaN   \n",
       "1987-10-08            177.600006               NaN                    NaN   \n",
       "1987-10-09            176.070007               NaN                    NaN   \n",
       "1987-10-12            174.850006               NaN                    NaN   \n",
       "1987-10-13            177.250000               NaN                    NaN   \n",
       "1987-10-14            172.699997               NaN                    NaN   \n",
       "1987-10-15            168.990005               NaN                    NaN   \n",
       "1987-10-16            160.679993               NaN                    NaN   \n",
       "1987-10-19            131.039993               NaN                    NaN   \n",
       "1987-10-20            133.529999               NaN                    NaN   \n",
       "1987-10-21            145.330002               NaN                    NaN   \n",
       "...                          ...               ...                    ...   \n",
       "2017-07-28           1463.640015        145.167450              91.441757   \n",
       "2017-07-31           1462.319946        144.201538              90.797028   \n",
       "2017-08-01           1465.849976        144.838852              91.064835   \n",
       "2017-08-02           1464.489990        145.396484              91.044998   \n",
       "2017-08-03           1461.099976        144.868713              90.509384   \n",
       "2017-08-04           1464.469971        145.346710              90.995399   \n",
       "2017-08-07           1466.680054        146.292725              91.064835   \n",
       "2017-08-08           1462.979980        146.123444              90.241577   \n",
       "2017-08-09           1460.859985        146.093552              90.191978   \n",
       "2017-08-10           1439.160034        142.867172              89.120743   \n",
       "2017-08-11           1441.339966        144.082047              88.952126   \n",
       "2017-08-14           1456.339966        146.412201              89.666283   \n",
       "2017-08-15           1454.459961        146.691040              89.785301   \n",
       "2017-08-16           1456.760010        147.109268              90.648247   \n",
       "2017-08-17           1434.040039        144.111923              89.081062   \n",
       "2017-08-18           1431.520020        143.962555              89.219933   \n",
       "2017-08-21           1432.900024        143.733505              89.577003   \n",
       "2017-08-22           1447.209961        146.023849              90.608574   \n",
       "2017-08-23           1442.849976        145.784851              90.638321   \n",
       "2017-08-24           1440.790039        145.655396              90.529213   \n",
       "2017-08-25           1443.359985        145.525940              90.826782   \n",
       "2017-08-28           1444.189941        145.864502              91.074753   \n",
       "2017-08-29           1445.140015        146.481918              90.668091   \n",
       "2017-08-30           1452.390015        147.876038              90.955727   \n",
       "2017-08-31           1461.810059        149.160599              91.868263   \n",
       "2017-09-01           1465.449951        149.100861              92.463394   \n",
       "2017-09-05           1453.699951        147.656967              91.263222   \n",
       "2017-09-06           1457.770020        147.955704              91.560776   \n",
       "2017-09-07           1456.829956        148.423721              91.699638   \n",
       "2017-09-08           1455.250000        147.039566              91.540939   \n",
       "\n",
       "            Consumer Goods (IYK)  Services (IYC)  Healthcare (IYH)  \\\n",
       "Date                                                                 \n",
       "1987-09-10                   NaN             NaN               NaN   \n",
       "1987-09-11                   NaN             NaN               NaN   \n",
       "1987-09-14                   NaN             NaN               NaN   \n",
       "1987-09-15                   NaN             NaN               NaN   \n",
       "1987-09-16                   NaN             NaN               NaN   \n",
       "1987-09-17                   NaN             NaN               NaN   \n",
       "1987-09-18                   NaN             NaN               NaN   \n",
       "1987-09-21                   NaN             NaN               NaN   \n",
       "1987-09-22                   NaN             NaN               NaN   \n",
       "1987-09-23                   NaN             NaN               NaN   \n",
       "1987-09-24                   NaN             NaN               NaN   \n",
       "1987-09-25                   NaN             NaN               NaN   \n",
       "1987-09-28                   NaN             NaN               NaN   \n",
       "1987-09-29                   NaN             NaN               NaN   \n",
       "1987-09-30                   NaN             NaN               NaN   \n",
       "1987-10-01                   NaN             NaN               NaN   \n",
       "1987-10-02                   NaN             NaN               NaN   \n",
       "1987-10-05                   NaN             NaN               NaN   \n",
       "1987-10-06                   NaN             NaN               NaN   \n",
       "1987-10-07                   NaN             NaN               NaN   \n",
       "1987-10-08                   NaN             NaN               NaN   \n",
       "1987-10-09                   NaN             NaN               NaN   \n",
       "1987-10-12                   NaN             NaN               NaN   \n",
       "1987-10-13                   NaN             NaN               NaN   \n",
       "1987-10-14                   NaN             NaN               NaN   \n",
       "1987-10-15                   NaN             NaN               NaN   \n",
       "1987-10-16                   NaN             NaN               NaN   \n",
       "1987-10-19                   NaN             NaN               NaN   \n",
       "1987-10-20                   NaN             NaN               NaN   \n",
       "1987-10-21                   NaN             NaN               NaN   \n",
       "...                          ...             ...               ...   \n",
       "2017-07-28            121.134270      166.032410        166.539642   \n",
       "2017-07-31            120.787323      166.112015        166.261276   \n",
       "2017-08-01            120.400726      166.699020        165.764206   \n",
       "2017-08-02            120.301598      165.982666        165.605133   \n",
       "2017-08-03            120.618813      165.276276        166.092285   \n",
       "2017-08-04            120.519684      165.196671        165.843735   \n",
       "2017-08-07            121.203659      165.644394        166.062439   \n",
       "2017-08-08            120.936012      165.276276        165.177643   \n",
       "2017-08-09            120.945930      164.619644        165.465958   \n",
       "2017-08-10            119.934822      162.271622        163.169479   \n",
       "2017-08-11            120.152908      163.137192        163.746094   \n",
       "2017-08-14            121.094627      164.042572        164.789932   \n",
       "2017-08-15            121.273048      162.818817        164.899292   \n",
       "2017-08-16            121.798431      163.525208        165.346664   \n",
       "2017-08-17            120.261940      160.938416        163.229126   \n",
       "2017-08-18            119.667183      160.381256        162.582916   \n",
       "2017-08-21            119.944740      160.779236        163.298706   \n",
       "2017-08-22            120.281769      162.410904        165.207474   \n",
       "2017-08-23            119.944740      161.097595        164.044327   \n",
       "2017-08-24            119.121971      159.973343        164.581161   \n",
       "2017-08-25            119.349968      160.679733        164.501633   \n",
       "2017-08-28            119.121971      160.689682        165.654846   \n",
       "2017-08-29            119.211189      160.709579        165.953079   \n",
       "2017-08-30            119.449097      161.823883        166.927353   \n",
       "2017-08-31            119.786125      162.619827        169.830276   \n",
       "2017-09-01            120.529594      163.167038        169.770630   \n",
       "2017-09-05            120.192558      162.589981        168.935532   \n",
       "2017-09-06            120.400726      163.565002        169.720917   \n",
       "2017-09-07            120.509766      162.709366        171.331421   \n",
       "2017-09-08            120.301598      162.012939        172.077026   \n",
       "\n",
       "            Utilities (IDU)  \n",
       "Date                         \n",
       "1987-09-10              NaN  \n",
       "1987-09-11              NaN  \n",
       "1987-09-14              NaN  \n",
       "1987-09-15              NaN  \n",
       "1987-09-16              NaN  \n",
       "1987-09-17              NaN  \n",
       "1987-09-18              NaN  \n",
       "1987-09-21              NaN  \n",
       "1987-09-22              NaN  \n",
       "1987-09-23              NaN  \n",
       "1987-09-24              NaN  \n",
       "1987-09-25              NaN  \n",
       "1987-09-28              NaN  \n",
       "1987-09-29              NaN  \n",
       "1987-09-30              NaN  \n",
       "1987-10-01              NaN  \n",
       "1987-10-02              NaN  \n",
       "1987-10-05              NaN  \n",
       "1987-10-06              NaN  \n",
       "1987-10-07              NaN  \n",
       "1987-10-08              NaN  \n",
       "1987-10-09              NaN  \n",
       "1987-10-12              NaN  \n",
       "1987-10-13              NaN  \n",
       "1987-10-14              NaN  \n",
       "1987-10-15              NaN  \n",
       "1987-10-16              NaN  \n",
       "1987-10-19              NaN  \n",
       "1987-10-20              NaN  \n",
       "1987-10-21              NaN  \n",
       "...                     ...  \n",
       "2017-07-28       131.411530  \n",
       "2017-07-31       131.856430  \n",
       "2017-08-01       132.568253  \n",
       "2017-08-02       133.013138  \n",
       "2017-08-03       133.576691  \n",
       "2017-08-04       133.280090  \n",
       "2017-08-07       133.349304  \n",
       "2017-08-08       134.090790  \n",
       "2017-08-09       133.378952  \n",
       "2017-08-10       133.764542  \n",
       "2017-08-11       132.993378  \n",
       "2017-08-14       133.774414  \n",
       "2017-08-15       134.407150  \n",
       "2017-08-16       135.000351  \n",
       "2017-08-17       133.942490  \n",
       "2017-08-18       134.763062  \n",
       "2017-08-21       135.158524  \n",
       "2017-08-22       135.593521  \n",
       "2017-08-23       136.077972  \n",
       "2017-08-24       136.018646  \n",
       "2017-08-25       136.374573  \n",
       "2017-08-28       136.601959  \n",
       "2017-08-29       136.414124  \n",
       "2017-08-30       135.870346  \n",
       "2017-08-31       135.900024  \n",
       "2017-09-01       135.633087  \n",
       "2017-09-05       135.900024  \n",
       "2017-09-06       135.207962  \n",
       "2017-09-07       136.246048  \n",
       "2017-09-08       136.928207  \n",
       "\n",
       "[7562 rows x 7 columns]"
      ]
     },
     "execution_count": 210,
     "metadata": {},
     "output_type": "execute_result"
    }
   ],
   "source": [
    "df_target"
   ]
  },
  {
   "cell_type": "code",
   "execution_count": 56,
   "metadata": {
    "autoscroll": false,
    "ein.tags": "worksheet-0",
    "slideshow": {
     "slide_type": "-"
    }
   },
   "outputs": [],
   "source": [
    "#got this from earlier reading in.\n",
    "df_ind_col=['Date_orig', 'HOUST', 'HOUST_dt', 'UNRATENSA', 'UNRATENSA_dt', 'EMRATIO',\n",
    "       'EMRATIO_dt', 'UEMPMED', 'UEMPMED_dt', 'UMCSENT', 'UMCSENT_dt',\n",
    "       'USSLIND', 'USSLIND_dt', 'KCFSI', 'KCFSI_dt', 'IPMAN', 'IPMAN_dt',\n",
    "       'VIXCLS', 'VIXCLS_dt', 'DGS10', 'DGS10_dt']"
   ]
  },
  {
   "cell_type": "code",
   "execution_count": 114,
   "metadata": {
    "autoscroll": false,
    "ein.tags": "worksheet-0",
    "slideshow": {
     "slide_type": "-"
    }
   },
   "outputs": [],
   "source": [
    "##Pieter Leffer's code for reading in indicators\n",
    "import csv\n",
    "\n",
    "# remove warnings\n",
    "import warnings\n",
    "warnings.filterwarnings('ignore')\n",
    "\n",
    "# I ran into errors importing the file because of non-ascii characters in the heading\n",
    "#Here is a piece of code I got from stack overflow to fix that problem.\n",
    "df_ind=[]\n",
    "with open('data/Indicators_Train.csv', newline='', encoding='utf-8', errors='ignore') as f:\n",
    "    reader = csv.reader(f)\n",
    "    for row in reader:\n",
    "        df_ind.append(row)\n",
    "\n",
    "df_ind=pd.DataFrame(df_ind)\n",
    "df_ind.columns=df_ind.iloc[0]\n",
    "Column_Reference=df_ind.iloc[1].copy()\n",
    "#Drop useless rows (last row is empty)\n",
    "df_ind.drop([0,1],inplace=True)\n",
    "\n",
    "#Change the formatting of the variables. Datetime to the ones for dates, integers for the ones that aren't\n",
    "for i in range(0,len(df_ind.columns)):\n",
    "    if i % 2 == 0:\n",
    "        df_ind[df_ind.columns[i]] = pd.to_datetime(df_ind[df_ind.columns[i]], format = '%m/%d/%Y',  errors='coerce') \n",
    "    else:\n",
    "        df_ind[df_ind.columns[i]] = pd.to_numeric(df_ind[df_ind.columns[i]], errors='ignore')\n",
    "        \n",
    "#Reset the index because we dropped rows in the DataFrame, Using the drop command to remove the old index\n",
    "df_ind.reset_index(drop=True, inplace=True)\n",
    "\n",
    "#make a time index too.\n",
    "df_ind.index=pd.DatetimeIndex(df_ind['date'])\n"
   ]
  },
  {
   "cell_type": "code",
   "execution_count": 95,
   "metadata": {
    "autoscroll": false,
    "ein.tags": "worksheet-0",
    "slideshow": {
     "slide_type": "-"
    }
   },
   "outputs": [],
   "source": [
    "# #Original Attempt\n",
    "# df_ind=pd.read_csv('data/Indicators_Train.csv',names=df_ind_col,skiprows=2)\n",
    "# df_ind['Date']=pd.to_datetime(df_ind['Date_orig'],dayfirst=True,errors='ignore')\n",
    "# df_ind.index=pd.DatetimeIndex(df_ind['Date'])\n",
    "# del df_ind['Date_orig']"
   ]
  },
  {
   "cell_type": "code",
   "execution_count": 117,
   "metadata": {
    "autoscroll": false,
    "ein.tags": "worksheet-0",
    "slideshow": {
     "slide_type": "-"
    }
   },
   "outputs": [
    {
     "data": {
      "text/plain": [
       "Index(['date', 'HOUST', 'HOUST_dt', 'UNRATENSA', 'UNRATENSA_dt', 'EMRATIO',\n",
       "       'EMRATIO_dt', 'UEMPMED', 'UEMPMED_dt', 'UMCSENT', 'UMCSENT_dt',\n",
       "       'USSLIND', 'USSLIND_dt', 'KCFSI', 'KCFSI_dt', 'IPMAN', 'IPMAN_dt',\n",
       "       'VIXCLS', 'VIXCLS_dt', 'DGS10', 'DGS10_dt'],\n",
       "      dtype='object', name=0)"
      ]
     },
     "execution_count": 117,
     "metadata": {},
     "output_type": "execute_result"
    }
   ],
   "source": [
    "df_ind.columns"
   ]
  },
  {
   "cell_type": "code",
   "execution_count": 137,
   "metadata": {
    "autoscroll": false,
    "ein.tags": "worksheet-0",
    "slideshow": {
     "slide_type": "-"
    }
   },
   "outputs": [
    {
     "data": {
      "text/plain": [
       "0\n",
       "date                                                                        desc\n",
       "HOUST           Housing Starts: Total: New Privately Owned Housing Units Started\n",
       "HOUST_dt                                                                        \n",
       "UNRATENSA                                         Civilian Unemployment Rate NSA\n",
       "UNRATENSA_dt                                                                    \n",
       "EMRATIO                                     Civilian Employment-Population Ratio\n",
       "EMRATIO_dt                                                                      \n",
       "UEMPMED                                          Median Duration of Unemployment\n",
       "UEMPMED_dt                                                                      \n",
       "UMCSENT                               University of Michigan: Consumer Sentiment\n",
       "UMCSENT_dt                                                                      \n",
       "USSLIND                                          Leading Index For United States\n",
       "USSLIND_dt                                                                      \n",
       "KCFSI                                         Kansas City Financial Stress Index\n",
       "KCFSI_dt                                                                        \n",
       "IPMAN                               Industrial Production: Manufacturing (NAICS)\n",
       "IPMAN_dt                                                                        \n",
       "VIXCLS                                                CBOE Volatility Index: NSA\n",
       "VIXCLS_dt                                                                       \n",
       "DGS10                                    10-Year Treasury Constant Maturity Rate\n",
       "DGS10_dt                                                                        \n",
       "Name: 1, dtype: object"
      ]
     },
     "execution_count": 137,
     "metadata": {},
     "output_type": "execute_result"
    }
   ],
   "source": [
    "Column_Reference"
   ]
  },
  {
   "cell_type": "code",
   "execution_count": 128,
   "metadata": {
    "autoscroll": false,
    "ein.tags": "worksheet-0",
    "slideshow": {
     "slide_type": "-"
    }
   },
   "outputs": [
    {
     "data": {
      "text/plain": [
       "slice(1, -2, 2)"
      ]
     },
     "execution_count": 128,
     "metadata": {},
     "output_type": "execute_result"
    }
   ],
   "source": [
    "sl"
   ]
  },
  {
   "cell_type": "code",
   "execution_count": 211,
   "metadata": {
    "autoscroll": false,
    "ein.tags": "worksheet-0",
    "slideshow": {
     "slide_type": "-"
    }
   },
   "outputs": [
    {
     "data": {
      "image/png": "[encoded data removed]",
      "text/plain": [
       "<matplotlib.figure.Figure at 0x7efb7f4edf28>"
      ]
     },
     "metadata": {},
     "output_type": "display_data"
    }
   ],
   "source": [
    "#Plots the scaled values of the economic indictors.\n",
    "sl=slice(1,-2,2)\n",
    "df_ind_scale=df_ind.iloc[:,sl].abs().max()\n",
    "cutoff=int(len(df_ind)/2)\n",
    "plt.plot(df_ind.iloc[cutoff:,sl]/df_ind_scale)\n",
    "plt.show()"
   ]
  },
  {
   "cell_type": "code",
   "execution_count": 212,
   "metadata": {
    "autoscroll": false,
    "ein.tags": "worksheet-0",
    "slideshow": {
     "slide_type": "-"
    }
   },
   "outputs": [
    {
     "data": {
      "image/png": "[encoded data removed]",
      "text/plain": [
       "<matplotlib.figure.Figure at 0x7efb5fea1278>"
      ]
     },
     "metadata": {},
     "output_type": "display_data"
    }
   ],
   "source": [
    "plt.plot(df_etf)\n",
    "plt.show()"
   ]
  },
  {
   "cell_type": "code",
   "execution_count": 213,
   "metadata": {
    "autoscroll": false,
    "ein.tags": "worksheet-0",
    "slideshow": {
     "slide_type": "-"
    }
   },
   "outputs": [
    {
     "data": {
      "image/png": "[encoded data removed]",
      "text/plain": [
       "<matplotlib.figure.Figure at 0x7efb7f47c1d0>"
      ]
     },
     "metadata": {},
     "output_type": "display_data"
    }
   ],
   "source": [
    "etf_corr=df_etf.corr()\n",
    "plt.figure()\n",
    "plt.imshow(etf_corr)\n",
    "plt.show()"
   ]
  },
  {
   "cell_type": "code",
   "execution_count": 26,
   "metadata": {
    "autoscroll": false,
    "ein.tags": "worksheet-0",
    "slideshow": {
     "slide_type": "-"
    }
   },
   "outputs": [],
   "source": [
    "#Make a combined Panel (which is apparently redundant, and multiindex is preferred)\n",
    "panel=pd.Panel({'close':df_close,'low':df_low,'high':df_high,'vol':df_vol})"
   ]
  },
  {
   "cell_type": "code",
   "execution_count": 168,
   "metadata": {
    "autoscroll": false,
    "ein.tags": "worksheet-0",
    "slideshow": {
     "slide_type": "-"
    }
   },
   "outputs": [
    {
     "data": {
      "text/plain": [
       "            Technology (IYW)  Basic Materials (IYM)  Consumer Goods (IYK)  \\\n",
       "Date                                                                        \n",
       "2017-09-01        149.100861              92.463394            120.529594   \n",
       "2017-09-05        147.656967              91.263222            120.192558   \n",
       "2017-09-06        147.955704              91.560776            120.400726   \n",
       "2017-09-07        148.423721              91.699638            120.509766   \n",
       "2017-09-08        147.039566              91.540939            120.301598   \n",
       "\n",
       "            Services (IYC)  Healthcare (IYH)  Utilities (IDU)  \n",
       "Date                                                           \n",
       "2017-09-01      163.167038        169.770630       135.633087  \n",
       "2017-09-05      162.589981        168.935532       135.900024  \n",
       "2017-09-06      163.565002        169.720917       135.207962  \n",
       "2017-09-07      162.709366        171.331421       136.246048  \n",
       "2017-09-08      162.012939        172.077026       136.928207  "
      ]
     },
     "execution_count": 168,
     "metadata": {},
     "output_type": "execute_result"
    }
   ],
   "source": [
    "#panel.loc[:,'2016','ED']\n",
    "df_etf.tail()"
   ]
  },
  {
   "cell_type": "code",
   "execution_count": 215,
   "metadata": {
    "autoscroll": false,
    "ein.tags": "worksheet-0",
    "slideshow": {
     "slide_type": "-"
    }
   },
   "outputs": [
    {
     "ename": "NameError",
     "evalue": "name 'df' is not defined",
     "output_type": "error",
     "traceback": [
      "\u001b[0;31m---------------------------------------------------------------------------\u001b[0m",
      "\u001b[0;31mNameError\u001b[0m                                 Traceback (most recent call last)",
      "\u001b[0;32m<ipython-input-215-1817f8b52071>\u001b[0m in \u001b[0;36m<module>\u001b[0;34m()\u001b[0m\n\u001b[0;32m----> 1\u001b[0;31m \u001b[0mNstocks\u001b[0m\u001b[0;34m=\u001b[0m\u001b[0mdf\u001b[0m\u001b[0;34m.\u001b[0m\u001b[0mshape\u001b[0m\u001b[0;34m[\u001b[0m\u001b[0;36m1\u001b[0m\u001b[0;34m]\u001b[0m\u001b[0;34m-\u001b[0m\u001b[0mnp\u001b[0m\u001b[0;34m.\u001b[0m\u001b[0misnan\u001b[0m\u001b[0;34m(\u001b[0m\u001b[0mdf\u001b[0m\u001b[0;34m)\u001b[0m\u001b[0;34m.\u001b[0m\u001b[0msum\u001b[0m\u001b[0;34m(\u001b[0m\u001b[0maxis\u001b[0m\u001b[0;34m=\u001b[0m\u001b[0;36m1\u001b[0m\u001b[0;34m)\u001b[0m\u001b[0;34m\u001b[0m\u001b[0m\n\u001b[0m",
      "\u001b[0;31mNameError\u001b[0m: name 'df' is not defined"
     ]
    }
   ],
   "source": [
    "Nstocks=df.shape[1]-np.isnan(df).sum(axis=1)"
   ]
  },
  {
   "cell_type": "code",
   "execution_count": 214,
   "metadata": {
    "autoscroll": false,
    "ein.tags": "worksheet-0",
    "slideshow": {
     "slide_type": "-"
    }
   },
   "outputs": [
    {
     "ename": "NameError",
     "evalue": "name 'Nstocks' is not defined",
     "output_type": "error",
     "traceback": [
      "\u001b[0;31m---------------------------------------------------------------------------\u001b[0m",
      "\u001b[0;31mNameError\u001b[0m                                 Traceback (most recent call last)",
      "\u001b[0;32m<ipython-input-214-88372a16bd79>\u001b[0m in \u001b[0;36m<module>\u001b[0;34m()\u001b[0m\n\u001b[1;32m      2\u001b[0m \u001b[0;34m\u001b[0m\u001b[0m\n\u001b[1;32m      3\u001b[0m \u001b[0mplt\u001b[0m\u001b[0;34m.\u001b[0m\u001b[0mfigure\u001b[0m\u001b[0;34m(\u001b[0m\u001b[0;34m)\u001b[0m\u001b[0;34m\u001b[0m\u001b[0m\n\u001b[0;32m----> 4\u001b[0;31m \u001b[0mplt\u001b[0m\u001b[0;34m.\u001b[0m\u001b[0mplot\u001b[0m\u001b[0;34m(\u001b[0m\u001b[0mNstocks\u001b[0m\u001b[0;34m[\u001b[0m\u001b[0;34m'2010'\u001b[0m\u001b[0;34m:\u001b[0m\u001b[0;34m]\u001b[0m\u001b[0;34m)\u001b[0m\u001b[0;34m\u001b[0m\u001b[0m\n\u001b[0m\u001b[1;32m      5\u001b[0m \u001b[0mplt\u001b[0m\u001b[0;34m.\u001b[0m\u001b[0mshow\u001b[0m\u001b[0;34m(\u001b[0m\u001b[0;34m)\u001b[0m\u001b[0;34m\u001b[0m\u001b[0m\n",
      "\u001b[0;31mNameError\u001b[0m: name 'Nstocks' is not defined"
     ]
    },
    {
     "data": {
      "text/plain": [
       "<matplotlib.figure.Figure at 0x7efb7df552b0>"
      ]
     },
     "metadata": {},
     "output_type": "display_data"
    }
   ],
   "source": [
    "#Plot number of stocks\n",
    "\n",
    "plt.figure()\n",
    "plt.plot(Nstocks['2010':])\n",
    "plt.show()\n"
   ]
  },
  {
   "cell_type": "code",
   "execution_count": null,
   "metadata": {
    "autoscroll": false,
    "ein.tags": "worksheet-0",
    "slideshow": {
     "slide_type": "-"
    }
   },
   "outputs": [],
   "source": [
    "Looking at the number of NA values (summed across columns) suggests that\n",
    "there are missing values in these stocks.\n",
    "\n",
    "Could set all NA to zero, then apply linear interpolation to handle isolated\n",
    "missing days."
   ]
  },
  {
   "cell_type": "code",
   "execution_count": 162,
   "metadata": {
    "autoscroll": false,
    "ein.tags": "worksheet-0",
    "slideshow": {
     "slide_type": "-"
    }
   },
   "outputs": [
    {
     "data": {
      "text/plain": [
       "'ACG'"
      ]
     },
     "execution_count": 162,
     "metadata": {},
     "output_type": "execute_result"
    }
   ],
   "source": [
    "panel['vol'].columns[702]"
   ]
  },
  {
   "cell_type": "code",
   "execution_count": 217,
   "metadata": {
    "autoscroll": false,
    "ein.tags": "worksheet-0",
    "slideshow": {
     "slide_type": "-"
    }
   },
   "outputs": [
    {
     "data": {
      "image/png": "[encoded data removed]",
      "text/plain": [
       "<matplotlib.figure.Figure at 0x7efb7df78ac8>"
      ]
     },
     "metadata": {},
     "output_type": "display_data"
    }
   ],
   "source": [
    "#Plot pattern of NA values.  Weird stripes?\n",
    "plt.figure(figsize=(20,12))\n",
    "col=panel['close'].columns[0:]\n",
    "plt.imshow(np.isnan(panel['close','2000':,col]),aspect='auto')\n",
    "plt.show()"
   ]
  },
  {
   "cell_type": "code",
   "execution_count": 30,
   "metadata": {
    "autoscroll": false,
    "ein.tags": "worksheet-0",
    "slideshow": {
     "slide_type": "-"
    }
   },
   "outputs": [
    {
     "data": {
      "text/plain": [
       "<matplotlib.figure.Figure at 0x7efbc458c7f0>"
      ]
     },
     "metadata": {},
     "output_type": "display_data"
    }
   ],
   "source": [
    "plt.figure()\n",
    "col=panel['vol'].columns[702]\n",
    "plt.plot(panel['close','2000':,col])\n",
    "plt.show()"
   ]
  },
  {
   "cell_type": "markdown",
   "metadata": {
    "ein.tags": "worksheet-0",
    "slideshow": {
     "slide_type": "-"
    }
   },
   "source": [
    "# Neural Network\n",
    "\n",
    "This model is just a test based purely on the stock data.\n",
    "The network uses a multi-layer RNN, with two hidden layers at input/output.  They use leaky ReLU activation.\n",
    "The model currently plays with 100 stocks from 2002-2006.\n",
    "\n",
    "This uses a model I've cobbled together in Tensorflow.\n",
    "The OO structure is borrowed from the online problem sets\n",
    "from CS224 on NLP offered in 2017 at Stanford.\n",
    "The NN is borrowed from A. Geron \"Hands on Machine Learning with Scikit-Learn and Tensorflow\", which I've found to be the best\n",
    "overall introduction, and has a good mix of background, and code.\n",
    "(There is also an associated Github account with code).\n",
    "\n",
    "The Tensorflow docs were pretty hard reading, and there seem to be lots\n",
    "of tricks that only practitioners on StackOverflow are aware of.  (But the tutorials are pretty readable.)\n"
   ]
  },
  {
   "cell_type": "code",
   "execution_count": 3,
   "metadata": {
    "autoscroll": false,
    "ein.tags": "worksheet-0",
    "slideshow": {
     "slide_type": "-"
    }
   },
   "outputs": [],
   "source": [
    "import tensorflow as tf\n",
    "from recurrent_network import recurrent_NN"
   ]
  },
  {
   "cell_type": "markdown",
   "metadata": {
    "ein.tags": "worksheet-0",
    "slideshow": {
     "slide_type": "-"
    }
   },
   "source": [
    "# Data Transformation\n",
    "\n",
    "For the initial testing, I'm just building a model based on the 100 oldest stocks (or whichever come first), and looking at 2002-2006.\n",
    "Why then?  Because it looks relatively well behaved.\n",
    "The model is trained on the first half of the data, and we then run the\n",
    "network on the whole data set.\n",
    "\n",
    "I'm currently just taking the base-10 log of the data, and scaling each\n",
    "stock to lie with [-1,1].  I found differencing the data lead to\n",
    "pretty crappy results (then again, these are also pretty crap results).\n",
    "\n",
    "So there's some choices to be played with here:\n",
    "- scaling: variance vs max/min\n",
    "- differencing?"
   ]
  },
  {
   "cell_type": "code",
   "execution_count": 40,
   "metadata": {
    "autoscroll": false,
    "ein.tags": "worksheet-0",
    "slideshow": {
     "slide_type": "-"
    }
   },
   "outputs": [],
   "source": [
    "Nstocks=200\n",
    "Xsub=panel.loc['close','1999':'2006'].iloc[:,:Nstocks].values\n",
    "\n",
    "def scale_clean_data(X):\n",
    "    #set missing values to zero.  (to avoid issues in network with NaNs)\n",
    "    X[np.isnan(X)]=0\n",
    "    #take differences of logs. (shift zero to avoid NANs)\n",
    "    #Xsub2 = np.diff(np.log10(Xsub+1E-12),axis=0)\n",
    "    X = np.log10(Xsub+1E-16)\n",
    "\n",
    "    X_max = np.max(X,axis=0)\n",
    "    X_min = np.min(X,axis=0)\n",
    "\n",
    "    #Choice of scaling here: max/min vs variance?\n",
    "    #I think variance makes more sense if differencing.\n",
    "    rng = 0.5*(X_max-X_min)\n",
    "    avg = 0.5*(X_max+X_min)\n",
    "    Xscaled= (X-avg)/rng\n",
    "    return Xscaled,rng,avg\n",
    "\n",
    "Xsub2,rng,avg=scale_clean_data(Xsub)\n",
    "\n",
    "#split 3/4 as training, 1/4 as test\n",
    "N=len(Xsub2)\n",
    "Nc=int(3*N/4)\n",
    "#make training/test splits\n",
    "Xtrain = Xsub2[:Nc]\n",
    "ytrain = Xsub2[1:Nc+1] #tomorrow's return.\n",
    "\n",
    "Xtest=Xsub2[Nc:-1]\n",
    "ytest=Xsub2[Nc+2:]"
   ]
  },
  {
   "cell_type": "code",
   "execution_count": 22,
   "metadata": {
    "autoscroll": false,
    "ein.tags": "worksheet-0",
    "slideshow": {
     "slide_type": "-"
    }
   },
   "outputs": [
    {
     "data": {
      "text/plain": [
       "<matplotlib.figure.Figure at 0x7f907eed6048>"
      ]
     },
     "metadata": {},
     "output_type": "display_data"
    }
   ],
   "source": [
    "#check scaling\n",
    "plt.figure()\n",
    "plt.plot(Xtrain[:,0:5])\n",
    "plt.plot(ytrain[:,0:5])\n",
    "plt.show()"
   ]
  },
  {
   "cell_type": "markdown",
   "metadata": {
    "ein.tags": "worksheet-0",
    "slideshow": {
     "slide_type": "-"
    }
   },
   "source": [
    "# Fitting RNN"
   ]
  },
  {
   "cell_type": "code",
   "execution_count": 11,
   "metadata": {
    "autoscroll": false,
    "ein.tags": "worksheet-0",
    "slideshow": {
     "slide_type": "-"
    }
   },
   "outputs": [
    {
     "name": "stdout",
     "output_type": "stream",
     "text": [
      "(LSTMStateTuple(c=<tf.Tensor 'rnn/while/Exit_2:0' shape=(?, 100) dtype=float32>, h=<tf.Tensor 'rnn/while/Exit_3:0' shape=(?, 100) dtype=float32>), LSTMStateTuple(c=<tf.Tensor 'rnn/while/Exit_4:0' shape=(?, 100) dtype=float32>, h=<tf.Tensor 'rnn/while/Exit_5:0' shape=(?, 100) dtype=float32>))\n",
      "Tensor(\"strided_slice:0\", shape=(2, ?, 200), dtype=float32)\n"
     ]
    }
   ],
   "source": [
    "#define network.\n",
    "#Note a lot of network parameters are defined in __init__ in \"recurrent_network.py\".\n",
    "#A more robust structure would pass a config dict or something like that.\n",
    "RNN=recurrent_NN(60,Nstocks,100,Nstocks,'LSTM')"
   ]
  },
  {
   "cell_type": "code",
   "execution_count": 96,
   "metadata": {
    "autoscroll": false,
    "ein.tags": "worksheet-0",
    "slideshow": {
     "slide_type": "-"
    }
   },
   "outputs": [
    {
     "name": "stdout",
     "output_type": "stream",
     "text": [
      "iter #100. Current MSE:0.09078984707593918\n",
      "Total Time taken:62.78987383842468\n",
      "\n",
      "\n"
     ]
    },
    {
     "ename": "KeyboardInterrupt",
     "evalue": "",
     "output_type": "error",
     "traceback": [
      "\u001b[0;31m---------------------------------------------------------------------------\u001b[0m",
      "\u001b[0;31mKeyboardInterrupt\u001b[0m                         Traceback (most recent call last)",
      "\u001b[0;32m<ipython-input-96-2dc295e33583>\u001b[0m in \u001b[0;36m<module>\u001b[0;34m()\u001b[0m\n\u001b[1;32m      6\u001b[0m \u001b[0;34m\u001b[0m\u001b[0m\n\u001b[1;32m      7\u001b[0m \u001b[0;34m\u001b[0m\u001b[0m\n\u001b[0;32m----> 8\u001b[0;31m \u001b[0mRNN\u001b[0m\u001b[0;34m.\u001b[0m\u001b[0mtrain_graph\u001b[0m\u001b[0;34m(\u001b[0m\u001b[0mXtrain\u001b[0m\u001b[0;34m,\u001b[0m\u001b[0mXtrain\u001b[0m\u001b[0;34m,\u001b[0m\u001b[0msave_name\u001b[0m\u001b[0;34m=\u001b[0m\u001b[0;34m'tf_models/rnn_test'\u001b[0m\u001b[0;34m)\u001b[0m\u001b[0;34m\u001b[0m\u001b[0m\n\u001b[0m\u001b[1;32m      9\u001b[0m \u001b[0;31m#Note the tiny, tiny errors.  Probably badly overfitting.\u001b[0m\u001b[0;34m\u001b[0m\u001b[0;34m\u001b[0m\u001b[0m\n\u001b[1;32m     10\u001b[0m \u001b[0;31m#Need to fix the dropout so it's only on in training.\u001b[0m\u001b[0;34m\u001b[0m\u001b[0;34m\u001b[0m\u001b[0m\n",
      "\u001b[0;32m/home/jonathan/Data-Science/PDX_DataScience/PDX_finance/recurrent_network.py\u001b[0m in \u001b[0;36mtrain_graph\u001b[0;34m(self, Xi, yi, save_name)\u001b[0m\n\u001b[1;32m    292\u001b[0m                 \u001b[0;31m#select random starting point.\u001b[0m\u001b[0;34m\u001b[0m\u001b[0;34m\u001b[0m\u001b[0m\n\u001b[1;32m    293\u001b[0m                 \u001b[0mX_batch\u001b[0m\u001b[0;34m,\u001b[0m\u001b[0my_batch\u001b[0m\u001b[0;34m=\u001b[0m\u001b[0mself\u001b[0m\u001b[0;34m.\u001b[0m\u001b[0mget_random_batch\u001b[0m\u001b[0;34m(\u001b[0m\u001b[0mXi\u001b[0m\u001b[0;34m,\u001b[0m\u001b[0myi\u001b[0m\u001b[0;34m)\u001b[0m\u001b[0;34m\u001b[0m\u001b[0m\n\u001b[0;32m--> 294\u001b[0;31m                 \u001b[0mcurrent_loss\u001b[0m\u001b[0;34m=\u001b[0m\u001b[0mself\u001b[0m\u001b[0;34m.\u001b[0m\u001b[0mtrain_on_batch\u001b[0m\u001b[0;34m(\u001b[0m\u001b[0msess\u001b[0m\u001b[0;34m,\u001b[0m \u001b[0mX_batch\u001b[0m\u001b[0;34m,\u001b[0m \u001b[0my_batch\u001b[0m\u001b[0;34m)\u001b[0m\u001b[0;34m\u001b[0m\u001b[0m\n\u001b[0m\u001b[1;32m    295\u001b[0m                 \u001b[0mt2_b\u001b[0m\u001b[0;34m=\u001b[0m\u001b[0mtime\u001b[0m\u001b[0;34m.\u001b[0m\u001b[0mtime\u001b[0m\u001b[0;34m(\u001b[0m\u001b[0;34m)\u001b[0m\u001b[0;34m\u001b[0m\u001b[0m\n\u001b[1;32m    296\u001b[0m                 \u001b[0;32mif\u001b[0m \u001b[0;34m(\u001b[0m\u001b[0miteration\u001b[0m\u001b[0;34m)\u001b[0m\u001b[0;34m%\u001b[0m\u001b[0mself\u001b[0m\u001b[0;34m.\u001b[0m\u001b[0mnprint\u001b[0m \u001b[0;34m==\u001b[0m\u001b[0;36m0\u001b[0m\u001b[0;34m:\u001b[0m\u001b[0;34m\u001b[0m\u001b[0m\n",
      "\u001b[0;32m/home/jonathan/Data-Science/PDX_DataScience/PDX_finance/recurrent_network.py\u001b[0m in \u001b[0;36mtrain_on_batch\u001b[0;34m(self, sess, inputs_batch, labels_batch)\u001b[0m\n\u001b[1;32m    195\u001b[0m         \"\"\"\n\u001b[1;32m    196\u001b[0m         \u001b[0mfeed\u001b[0m \u001b[0;34m=\u001b[0m \u001b[0mself\u001b[0m\u001b[0;34m.\u001b[0m\u001b[0mcreate_feed_dict\u001b[0m\u001b[0;34m(\u001b[0m\u001b[0minputs_batch\u001b[0m\u001b[0;34m,\u001b[0m \u001b[0mlabels_batch\u001b[0m\u001b[0;34m=\u001b[0m\u001b[0mlabels_batch\u001b[0m\u001b[0;34m)\u001b[0m\u001b[0;34m\u001b[0m\u001b[0m\n\u001b[0;32m--> 197\u001b[0;31m         \u001b[0m_\u001b[0m\u001b[0;34m,\u001b[0m \u001b[0mloss\u001b[0m \u001b[0;34m=\u001b[0m \u001b[0msess\u001b[0m\u001b[0;34m.\u001b[0m\u001b[0mrun\u001b[0m\u001b[0;34m(\u001b[0m\u001b[0;34m[\u001b[0m\u001b[0mself\u001b[0m\u001b[0;34m.\u001b[0m\u001b[0mtrain_op\u001b[0m\u001b[0;34m,\u001b[0m \u001b[0mself\u001b[0m\u001b[0;34m.\u001b[0m\u001b[0mloss\u001b[0m\u001b[0;34m]\u001b[0m\u001b[0;34m,\u001b[0m \u001b[0mfeed_dict\u001b[0m\u001b[0;34m=\u001b[0m\u001b[0mfeed\u001b[0m\u001b[0;34m)\u001b[0m\u001b[0;34m\u001b[0m\u001b[0m\n\u001b[0m\u001b[1;32m    198\u001b[0m         \u001b[0;32mreturn\u001b[0m \u001b[0mloss\u001b[0m\u001b[0;34m\u001b[0m\u001b[0m\n\u001b[1;32m    199\u001b[0m \u001b[0;34m\u001b[0m\u001b[0m\n",
      "\u001b[0;32m/home/jonathan/.local/lib/python3.6/site-packages/tensorflow/python/client/session.py\u001b[0m in \u001b[0;36mrun\u001b[0;34m(self, fetches, feed_dict, options, run_metadata)\u001b[0m\n\u001b[1;32m    887\u001b[0m     \u001b[0;32mtry\u001b[0m\u001b[0;34m:\u001b[0m\u001b[0;34m\u001b[0m\u001b[0m\n\u001b[1;32m    888\u001b[0m       result = self._run(None, fetches, feed_dict, options_ptr,\n\u001b[0;32m--> 889\u001b[0;31m                          run_metadata_ptr)\n\u001b[0m\u001b[1;32m    890\u001b[0m       \u001b[0;32mif\u001b[0m \u001b[0mrun_metadata\u001b[0m\u001b[0;34m:\u001b[0m\u001b[0;34m\u001b[0m\u001b[0m\n\u001b[1;32m    891\u001b[0m         \u001b[0mproto_data\u001b[0m \u001b[0;34m=\u001b[0m \u001b[0mtf_session\u001b[0m\u001b[0;34m.\u001b[0m\u001b[0mTF_GetBuffer\u001b[0m\u001b[0;34m(\u001b[0m\u001b[0mrun_metadata_ptr\u001b[0m\u001b[0;34m)\u001b[0m\u001b[0;34m\u001b[0m\u001b[0m\n",
      "\u001b[0;32m/home/jonathan/.local/lib/python3.6/site-packages/tensorflow/python/client/session.py\u001b[0m in \u001b[0;36m_run\u001b[0;34m(self, handle, fetches, feed_dict, options, run_metadata)\u001b[0m\n\u001b[1;32m   1118\u001b[0m     \u001b[0;32mif\u001b[0m \u001b[0mfinal_fetches\u001b[0m \u001b[0;32mor\u001b[0m \u001b[0mfinal_targets\u001b[0m \u001b[0;32mor\u001b[0m \u001b[0;34m(\u001b[0m\u001b[0mhandle\u001b[0m \u001b[0;32mand\u001b[0m \u001b[0mfeed_dict_tensor\u001b[0m\u001b[0;34m)\u001b[0m\u001b[0;34m:\u001b[0m\u001b[0;34m\u001b[0m\u001b[0m\n\u001b[1;32m   1119\u001b[0m       results = self._do_run(handle, final_targets, final_fetches,\n\u001b[0;32m-> 1120\u001b[0;31m                              feed_dict_tensor, options, run_metadata)\n\u001b[0m\u001b[1;32m   1121\u001b[0m     \u001b[0;32melse\u001b[0m\u001b[0;34m:\u001b[0m\u001b[0;34m\u001b[0m\u001b[0m\n\u001b[1;32m   1122\u001b[0m       \u001b[0mresults\u001b[0m \u001b[0;34m=\u001b[0m \u001b[0;34m[\u001b[0m\u001b[0;34m]\u001b[0m\u001b[0;34m\u001b[0m\u001b[0m\n",
      "\u001b[0;32m/home/jonathan/.local/lib/python3.6/site-packages/tensorflow/python/client/session.py\u001b[0m in \u001b[0;36m_do_run\u001b[0;34m(self, handle, target_list, fetch_list, feed_dict, options, run_metadata)\u001b[0m\n\u001b[1;32m   1315\u001b[0m     \u001b[0;32mif\u001b[0m \u001b[0mhandle\u001b[0m \u001b[0;32mis\u001b[0m \u001b[0;32mNone\u001b[0m\u001b[0;34m:\u001b[0m\u001b[0;34m\u001b[0m\u001b[0m\n\u001b[1;32m   1316\u001b[0m       return self._do_call(_run_fn, self._session, feeds, fetches, targets,\n\u001b[0;32m-> 1317\u001b[0;31m                            options, run_metadata)\n\u001b[0m\u001b[1;32m   1318\u001b[0m     \u001b[0;32melse\u001b[0m\u001b[0;34m:\u001b[0m\u001b[0;34m\u001b[0m\u001b[0m\n\u001b[1;32m   1319\u001b[0m       \u001b[0;32mreturn\u001b[0m \u001b[0mself\u001b[0m\u001b[0;34m.\u001b[0m\u001b[0m_do_call\u001b[0m\u001b[0;34m(\u001b[0m\u001b[0m_prun_fn\u001b[0m\u001b[0;34m,\u001b[0m \u001b[0mself\u001b[0m\u001b[0;34m.\u001b[0m\u001b[0m_session\u001b[0m\u001b[0;34m,\u001b[0m \u001b[0mhandle\u001b[0m\u001b[0;34m,\u001b[0m \u001b[0mfeeds\u001b[0m\u001b[0;34m,\u001b[0m \u001b[0mfetches\u001b[0m\u001b[0;34m)\u001b[0m\u001b[0;34m\u001b[0m\u001b[0m\n",
      "\u001b[0;32m/home/jonathan/.local/lib/python3.6/site-packages/tensorflow/python/client/session.py\u001b[0m in \u001b[0;36m_do_call\u001b[0;34m(self, fn, *args)\u001b[0m\n\u001b[1;32m   1321\u001b[0m   \u001b[0;32mdef\u001b[0m \u001b[0m_do_call\u001b[0m\u001b[0;34m(\u001b[0m\u001b[0mself\u001b[0m\u001b[0;34m,\u001b[0m \u001b[0mfn\u001b[0m\u001b[0;34m,\u001b[0m \u001b[0;34m*\u001b[0m\u001b[0margs\u001b[0m\u001b[0;34m)\u001b[0m\u001b[0;34m:\u001b[0m\u001b[0;34m\u001b[0m\u001b[0m\n\u001b[1;32m   1322\u001b[0m     \u001b[0;32mtry\u001b[0m\u001b[0;34m:\u001b[0m\u001b[0;34m\u001b[0m\u001b[0m\n\u001b[0;32m-> 1323\u001b[0;31m       \u001b[0;32mreturn\u001b[0m \u001b[0mfn\u001b[0m\u001b[0;34m(\u001b[0m\u001b[0;34m*\u001b[0m\u001b[0margs\u001b[0m\u001b[0;34m)\u001b[0m\u001b[0;34m\u001b[0m\u001b[0m\n\u001b[0m\u001b[1;32m   1324\u001b[0m     \u001b[0;32mexcept\u001b[0m \u001b[0merrors\u001b[0m\u001b[0;34m.\u001b[0m\u001b[0mOpError\u001b[0m \u001b[0;32mas\u001b[0m \u001b[0me\u001b[0m\u001b[0;34m:\u001b[0m\u001b[0;34m\u001b[0m\u001b[0m\n\u001b[1;32m   1325\u001b[0m       \u001b[0mmessage\u001b[0m \u001b[0;34m=\u001b[0m \u001b[0mcompat\u001b[0m\u001b[0;34m.\u001b[0m\u001b[0mas_text\u001b[0m\u001b[0;34m(\u001b[0m\u001b[0me\u001b[0m\u001b[0;34m.\u001b[0m\u001b[0mmessage\u001b[0m\u001b[0;34m)\u001b[0m\u001b[0;34m\u001b[0m\u001b[0m\n",
      "\u001b[0;32m/home/jonathan/.local/lib/python3.6/site-packages/tensorflow/python/client/session.py\u001b[0m in \u001b[0;36m_run_fn\u001b[0;34m(session, feed_dict, fetch_list, target_list, options, run_metadata)\u001b[0m\n\u001b[1;32m   1300\u001b[0m           return tf_session.TF_Run(session, options,\n\u001b[1;32m   1301\u001b[0m                                    \u001b[0mfeed_dict\u001b[0m\u001b[0;34m,\u001b[0m \u001b[0mfetch_list\u001b[0m\u001b[0;34m,\u001b[0m \u001b[0mtarget_list\u001b[0m\u001b[0;34m,\u001b[0m\u001b[0;34m\u001b[0m\u001b[0m\n\u001b[0;32m-> 1302\u001b[0;31m                                    status, run_metadata)\n\u001b[0m\u001b[1;32m   1303\u001b[0m \u001b[0;34m\u001b[0m\u001b[0m\n\u001b[1;32m   1304\u001b[0m     \u001b[0;32mdef\u001b[0m \u001b[0m_prun_fn\u001b[0m\u001b[0;34m(\u001b[0m\u001b[0msession\u001b[0m\u001b[0;34m,\u001b[0m \u001b[0mhandle\u001b[0m\u001b[0;34m,\u001b[0m \u001b[0mfeed_dict\u001b[0m\u001b[0;34m,\u001b[0m \u001b[0mfetch_list\u001b[0m\u001b[0;34m)\u001b[0m\u001b[0;34m:\u001b[0m\u001b[0;34m\u001b[0m\u001b[0m\n",
      "\u001b[0;31mKeyboardInterrupt\u001b[0m: "
     ]
    }
   ],
   "source": [
    "#Rebuild the tensorflow graph.\n",
    "RNN.build()\n",
    "#Actually train the graph on first half of data.\n",
    "#Give all of the data to this subroutine, where it selects\n",
    "# the inputs and target data in get_random_batch\n",
    "\n",
    "\n",
    "RNN.train_graph(Xtrain,Xtrain,save_name='tf_models/rnn_test')\n",
    "#Note the tiny, tiny errors.  Probably badly overfitting.\n",
    "#Need to fix the dropout so it's only on in training."
   ]
  },
  {
   "cell_type": "code",
   "execution_count": 93,
   "metadata": {
    "autoscroll": false,
    "ein.tags": "worksheet-0",
    "slideshow": {
     "slide_type": "-"
    }
   },
   "outputs": [
    {
     "name": "stdout",
     "output_type": "stream",
     "text": [
      "Automatic pdb calling has been turned OFF\n"
     ]
    }
   ],
   "source": [
    "%pdb off"
   ]
  },
  {
   "cell_type": "code",
   "execution_count": 97,
   "metadata": {
    "autoscroll": false,
    "ein.tags": "worksheet-0",
    "slideshow": {
     "slide_type": "-"
    }
   },
   "outputs": [
    {
     "name": "stdout",
     "output_type": "stream",
     "text": [
      "INFO:tensorflow:Restoring parameters from tf_models/rnn_test-200\n",
      "0 100\n"
     ]
    },
    {
     "ename": "ValueError",
     "evalue": "could not broadcast input array from shape (2,100,200) into shape (100,200)",
     "output_type": "error",
     "traceback": [
      "\u001b[0;31m---------------------------------------------------------------------------\u001b[0m",
      "\u001b[0;31mValueError\u001b[0m                                Traceback (most recent call last)",
      "\u001b[0;32m<ipython-input-97-fa08c1474cb8>\u001b[0m in \u001b[0;36m<module>\u001b[0;34m()\u001b[0m\n\u001b[1;32m      1\u001b[0m \u001b[0;31m#Predict on all of the data.\u001b[0m\u001b[0;34m\u001b[0m\u001b[0;34m\u001b[0m\u001b[0m\n\u001b[1;32m      2\u001b[0m \u001b[0;31m#This loads up a previous model.\u001b[0m\u001b[0;34m\u001b[0m\u001b[0;34m\u001b[0m\u001b[0m\n\u001b[0;32m----> 3\u001b[0;31m \u001b[0mRNN_pred\u001b[0m\u001b[0;34m=\u001b[0m\u001b[0mRNN\u001b[0m\u001b[0;34m.\u001b[0m\u001b[0mpredict_all\u001b[0m\u001b[0;34m(\u001b[0m\u001b[0;34m'tf_models/rnn_test'\u001b[0m\u001b[0;34m,\u001b[0m\u001b[0;36m200\u001b[0m\u001b[0;34m,\u001b[0m\u001b[0mXsub2\u001b[0m\u001b[0;34m,\u001b[0m\u001b[0mreset\u001b[0m\u001b[0;34m=\u001b[0m\u001b[0;32mTrue\u001b[0m\u001b[0;34m)\u001b[0m\u001b[0;34m\u001b[0m\u001b[0m\n\u001b[0m",
      "\u001b[0;32m/home/jonathan/Data-Science/PDX_DataScience/PDX_finance/recurrent_network.py\u001b[0m in \u001b[0;36mpredict_all\u001b[0;34m(self, model_name, num, input_data, reset)\u001b[0m\n\u001b[1;32m    357\u001b[0m                 \u001b[0mnn_pred\u001b[0m\u001b[0;34m=\u001b[0m\u001b[0mself\u001b[0m\u001b[0;34m.\u001b[0m\u001b[0mpredict_on_batch\u001b[0m\u001b[0;34m(\u001b[0m\u001b[0msess\u001b[0m\u001b[0;34m,\u001b[0m\u001b[0mX_batch\u001b[0m\u001b[0;34m)\u001b[0m\u001b[0;34m\u001b[0m\u001b[0m\n\u001b[1;32m    358\u001b[0m                 \u001b[0msl\u001b[0m\u001b[0;34m=\u001b[0m\u001b[0mslice\u001b[0m\u001b[0;34m(\u001b[0m\u001b[0mself\u001b[0m\u001b[0;34m.\u001b[0m\u001b[0mNsteps\u001b[0m\u001b[0;34m+\u001b[0m\u001b[0mi0\u001b[0m\u001b[0;34m,\u001b[0m\u001b[0mself\u001b[0m\u001b[0;34m.\u001b[0m\u001b[0mNsteps\u001b[0m\u001b[0;34m+\u001b[0m\u001b[0mi1\u001b[0m\u001b[0;34m)\u001b[0m\u001b[0;34m\u001b[0m\u001b[0m\n\u001b[0;32m--> 359\u001b[0;31m                 \u001b[0mnn_pred_total\u001b[0m\u001b[0;34m[\u001b[0m\u001b[0msl\u001b[0m\u001b[0;34m]\u001b[0m\u001b[0;34m=\u001b[0m\u001b[0mnn_pred\u001b[0m\u001b[0;34m\u001b[0m\u001b[0m\n\u001b[0m\u001b[1;32m    360\u001b[0m                 \u001b[0mi0\u001b[0m\u001b[0;34m=\u001b[0m\u001b[0mi1\u001b[0m\u001b[0;34m\u001b[0m\u001b[0m\n\u001b[1;32m    361\u001b[0m                 \u001b[0mi1\u001b[0m\u001b[0;34m+=\u001b[0m\u001b[0mself\u001b[0m\u001b[0;34m.\u001b[0m\u001b[0mNbatch\u001b[0m\u001b[0;34m\u001b[0m\u001b[0m\n",
      "\u001b[0;31mValueError\u001b[0m: could not broadcast input array from shape (2,100,200) into shape (100,200)"
     ]
    }
   ],
   "source": [
    "#Predict on all of the data.\n",
    "#This loads up a previous model.\n",
    "RNN_pred=RNN.predict_all('tf_models/rnn_test',200,Xsub2,reset=True)"
   ]
  },
  {
   "cell_type": "code",
   "execution_count": 11,
   "metadata": {
    "autoscroll": false,
    "ein.tags": "worksheet-0",
    "slideshow": {
     "slide_type": "-"
    }
   },
   "outputs": [],
   "source": [
    "def plot_pred(X,pred,indx_range):\n",
    "    \"\"\"Plots a particular stock and the prediction\"\"\"\n",
    "\n",
    "    plt.figure()\n",
    "    plt.subplot(121)\n",
    "    plt.plot(X[:,indx_range])\n",
    "    plt.plot(pred[:,indx_range])\n",
    "    plt.plot([len(X)/2]*2,[-1,1],'k-')\n",
    "    plt.legend(['Actual','Forecast'])\n",
    "    plt.title('Raw')\n",
    "\n",
    "    plt.subplot(122)\n",
    "    plt.plot(np.cumsum(X[:,indx_range],axis=0))\n",
    "    plt.plot(np.cumsum(pred[:,indx_range],axis=0))\n",
    "    plt.legend(['Actual','Forecast'])    \n",
    "    plt.title('Cumulative')\n",
    "\n",
    "    plt.show()\n",
    "    "
   ]
  },
  {
   "cell_type": "code",
   "execution_count": 17,
   "metadata": {
    "autoscroll": false,
    "ein.tags": "worksheet-0",
    "slideshow": {
     "slide_type": "-"
    }
   },
   "outputs": [
    {
     "data": {
      "image/png": "[encoded data removed]",
      "text/plain": [
       "<matplotlib.figure.Figure at 0x7efba5b7e630>"
      ]
     },
     "metadata": {},
     "output_type": "display_data"
    }
   ],
   "source": [
    "#Could make predicted results a time series for nicer formating, and dates.\n",
    "#Plot cumulative for cases when we've also differenced.\n",
    "plot_pred(Xsub2,RNN_pred,50)"
   ]
  },
  {
   "cell_type": "markdown",
   "metadata": {
    "ein.tags": "worksheet-0",
    "slideshow": {
     "slide_type": "-"
    }
   },
   "source": [
    "This RNN forecast is also WAY worse than a persistence forecast (tomorrow's price is the same as todays).\n",
    "Big question: why is the price wandering away? Even if the model is fixed (weights unchanged), surely it should take the recent past (which the model uses to forecast tomorrow's demand) into account.  \n",
    "\n",
    "Note the effect of further smoothing, which suggests a clearer trend, that might be easier to model.\n",
    "That suggests the convolutional networks may be useful,\n",
    "perhaps with running averages to smooth the data.  Forecasting on a week timescale might allevative some of that too?"
   ]
  },
  {
   "cell_type": "code",
   "execution_count": 13,
   "metadata": {
    "autoscroll": false,
    "ein.tags": "worksheet-0",
    "slideshow": {
     "slide_type": "-"
    }
   },
   "outputs": [
    {
     "data": {
      "image/png": "[encoded data removed]",
      "text/plain": [
       "<matplotlib.figure.Figure at 0x7efba5c45550>"
      ]
     },
     "metadata": {},
     "output_type": "display_data"
    }
   ],
   "source": [
    "#Let's look at the differences between the predicted and actual\n",
    "#results at the end of the period.\n",
    "pred_diff=RNN_pred[-1]-Xsub2[-1]\n",
    "plt.hist(pred_diff)\n",
    "plt.show()"
   ]
  },
  {
   "cell_type": "code",
   "execution_count": 15,
   "metadata": {
    "autoscroll": false,
    "ein.tags": "worksheet-0",
    "slideshow": {
     "slide_type": "-"
    }
   },
   "outputs": [
    {
     "data": {
      "text/plain": [
       "(-0.1433746024133806, 1.0660086500156463)"
      ]
     },
     "execution_count": 15,
     "metadata": {},
     "output_type": "execute_result"
    }
   ],
   "source": [
    "(np.mean(pred_diff),np.std(pred_diff))"
   ]
  },
  {
   "cell_type": "code",
   "execution_count": 104,
   "metadata": {
    "autoscroll": false,
    "ein.tags": "worksheet-0",
    "slideshow": {
     "slide_type": "-"
    }
   },
   "outputs": [],
   "source": [
    "#Let's now see how much the predictions vary (across all stocks) at the end of training, 20 trading days after that,\n",
    "# and at the end of the period, a year or two out.\n",
    "\n",
    "#Note that these predictions use the data from those periods, but the model is not being updated.\n",
    "\n",
    "def plot_err_hist(target,pred,Nc):\n",
    "    '''plot_err_hist\n",
    "\n",
    "    Makes histograms of the errors between the target and prediction\n",
    "    at multiple time scales aroud the tend of the training period.\n",
    "    '''\n",
    "    \n",
    "    Nc = int(len(Xsub2)/2)\n",
    "    plt.figure(figsize=(10,6))\n",
    "\n",
    "    plt.subplot(141)\n",
    "    pred_diff=pred[Nc-20]-target[Nc-20]\n",
    "    plt.title('End of training - 20 days')\n",
    "    plt.hist(pred_diff)\n",
    "\n",
    "    plt.subplot(142)\n",
    "    pred_diff=pred[Nc]-target[Nc]\n",
    "    plt.title('End of training')\n",
    "    plt.hist(pred_diff)\n",
    "\n",
    "    plt.subplot(143)\n",
    "    pred_diff=pred[Nc+20]-target[Nc+20]\n",
    "    plt.title('End of training+20 days')\n",
    "    plt.hist(pred_diff)\n",
    "\n",
    "    plt.subplot(144)\n",
    "    pred_diff=pred[-1]-target[-1]\n",
    "    plt.hist(pred_diff)\n",
    "    plt.title('End of test')\n",
    "    plt.xlabel('Forecast Residuals')\n",
    "    plt.show()\n"
   ]
  },
  {
   "cell_type": "markdown",
   "metadata": {
    "ein.tags": "worksheet-0",
    "slideshow": {
     "slide_type": "-"
    }
   },
   "source": [
    "\n",
    "The final graph is worst, it is also trying to predict many years ahead, based on essentially short-term info.\n",
    "Probably could describe build up of cumulative errors as a random walk?\n",
    "Would guess errors grows as sqrt(T), so the variance of this distribution grows as T.\n",
    "\n"
   ]
  },
  {
   "cell_type": "markdown",
   "metadata": {
    "ein.tags": "worksheet-0",
    "slideshow": {
     "slide_type": "-"
    }
   },
   "source": [
    "# Keras Network\n",
    "\n",
    "Let's build a similar recurrent network in Keras (just using the adjusted close for now)."
   ]
  },
  {
   "cell_type": "code",
   "execution_count": 23,
   "metadata": {
    "autoscroll": false,
    "ein.tags": "worksheet-0",
    "slideshow": {
     "slide_type": "-"
    }
   },
   "outputs": [
    {
     "name": "stderr",
     "output_type": "stream",
     "text": [
      "Using TensorFlow backend.\n"
     ]
    }
   ],
   "source": [
    "#Borrowing some from Keras docs, and \"https://machinelearningmastery.com/time-series-prediction-lstm-recurrent-neural-networks-python-keras/\"\n",
    "import keras  \n",
    "from keras.models import Sequential \n",
    "from keras.layers import Dense, RNN, LSTM, StackedRNNCells\n",
    "from keras.losses import mean_squared_error, mean_absolute_error\n",
    "from keras.layers.advanced_activations import LeakyReLU\n",
    "from keras.utils import CustomObjectScope"
   ]
  },
  {
   "cell_type": "code",
   "execution_count": 179,
   "metadata": {
    "autoscroll": false,
    "ein.tags": "worksheet-0",
    "slideshow": {
     "slide_type": "-"
    }
   },
   "outputs": [],
   "source": [
    "Nstock=100\n",
    "Nfeature=1\n",
    "Ninput=Nstock*Nfeature\n",
    "Ntime=10\n",
    "Nahead=5\n",
    "Nhidden=50\n",
    "Nepoch=100\n",
    "Nbatch=100\n",
    "Nprint=20\n",
    "Noutput=Nstock*Nfeature"
   ]
  },
  {
   "cell_type": "code",
   "execution_count": 189,
   "metadata": {
    "autoscroll": false,
    "ein.tags": "worksheet-0",
    "slideshow": {
     "slide_type": "-"
    }
   },
   "outputs": [],
   "source": [
    "Xsub=panel.loc['close','1995':'2000'].iloc[:,:Nstock].values\n",
    "\n",
    "def clean_data_maxmin(X):\n",
    "    #set missing values to zero.  (to avoid issues in network with NaNs)\n",
    "    X[np.isnan(X)]=0\n",
    "    #take differences of logs. (shift zero to avoid NANs)\n",
    "    #Xsub2 = np.diff(np.log10(Xsub+1E-12),axis=0)\n",
    "    X = np.log10(Xsub+1E-16)\n",
    "\n",
    "    X_max = np.max(X,axis=0)\n",
    "    X_min = np.min(X,axis=0)\n",
    "\n",
    "    #Choice of scaling here: max/min vs variance?\n",
    "    #I think variance makes more sense if differencing.\n",
    "    rng = 0.5*(X_max-X_min)\n",
    "    avg = 0.5*(X_max+X_min)\n",
    "    Xscaled= (X-avg)/rng\n",
    "    return Xscaled,rng,avg\n",
    "\n",
    "def clean_data_diff_var(X):\n",
    "    #set missing values to zero.  (to avoid issues in network with NaNs)\n",
    "    X[np.isnan(X)]=0\n",
    "    #take differences of logs. (shift zero to avoid NANs)\n",
    "    X = np.diff(np.log10(X+1E-12),axis=0)\n",
    "\n",
    "    X_std = np.std(X,axis=0)\n",
    "    X_mean = np.mean(X,axis=0)\n",
    "\n",
    "    Xscaled= (X-X_mean)/X_std\n",
    "    return Xscaled,X_mean,X_std\n",
    "\n",
    "differencing=False\n",
    "if (differencing):\n",
    "   Xsub_scale,rng,avg=clean_data_diff_var(Xsub)\n",
    "else:\n",
    "    Xsub_scale,rng,avg=clean_data_maxmin(Xsub)\n",
    "\n",
    "#split 3/4 as training, 1/4 as test\n",
    "N=len(Xsub_scale)\n",
    "Nc=int(3*N/4)\n",
    "#make training/test splits\n",
    "Xtrain = Xsub_scale[:Nc]\n",
    "ytrain = Xsub_scale[Nahead:Nc+Nahead] #Stock price in time Nahead\n",
    "\n",
    "Xtest=Xsub_scale[Nc:-Nahead]\n",
    "ytest=Xsub_scale[Nc+Nahead:]\n",
    "ytot=Xsub_scale[Nahead:]"
   ]
  },
  {
   "cell_type": "markdown",
   "metadata": {
    "ein.tags": "worksheet-0",
    "slideshow": {
     "slide_type": "-"
    }
   },
   "source": [
    "I had hoped Keras would automatically take care of random temporal batching like this, but unfortunately it does not.\n",
    "So, this routine which randomly selects a batch of indices to start fitting at.  "
   ]
  },
  {
   "cell_type": "code",
   "execution_count": 184,
   "metadata": {
    "autoscroll": false,
    "ein.tags": "worksheet-0",
    "slideshow": {
     "slide_type": "-"
    }
   },
   "outputs": [],
   "source": [
    "#note: this relies on looking up global parameters (blech)\n",
    "def get_random_batch(Nbatch,X,y):\n",
    "    #starting indices\n",
    "    ind=np.arange(len(X[:,0])-Ntime-Nahead)\n",
    "    rand_ind=np.random.choice(ind,Nbatch,replace=False)\n",
    "    Xb=np.zeros((Nbatch,Ntime,Ninput))\n",
    "    yb=np.zeros((Nbatch,Noutput))    \n",
    "    for i in range(Nbatch):\n",
    "        Xb[i]=X[rand_ind[i]:rand_ind[i]+Ntime,:]\n",
    "        yb[i]=y[rand_ind[i]+Ntime+Nahead-1,:]\n",
    "    return Xb,yb"
   ]
  },
  {
   "cell_type": "markdown",
   "metadata": {
    "ein.tags": "worksheet-0",
    "slideshow": {
     "slide_type": "-"
    }
   },
   "source": [
    "## Making the Network\n",
    "\n",
    "The following makes a 4 layer network - a dense layer at input, followed by two recurrent layers (using a LSTM for longer memory),\n",
    "and a final dense layer to map from the hidden units to the final outputs.\n",
    "It uses \"leaky ReLU\" units, which are suited to long sequences since the gradients dont explode, or go to zero.\n",
    "The Adam optimizer is basically a fancy version of gradient descent (with a momentum, scaling based on previous updates, and learning rate scheduling)"
   ]
  },
  {
   "cell_type": "code",
   "execution_count": 202,
   "metadata": {
    "autoscroll": false,
    "ein.tags": "worksheet-0",
    "slideshow": {
     "slide_type": "-"
    }
   },
   "outputs": [],
   "source": [
    "#make a Keras model two layer LSTM, with dense input/outputs\n",
    "def make_deep_RNN(Nhidden,Ntime,Ninput):\n",
    "    keras.backend.clear_session()\n",
    "    model=Sequential()\n",
    "    model.add(Dense(units=Nhidden, activation=None, input_shape=(Ntime,Ninput))) #linear mapping at input\n",
    "    #first LSTM layer\n",
    "    model.add(LSTM(units=Nhidden,activation='linear',\n",
    "               dropout=0.25,return_sequences=True))\n",
    "               #add extra activation layer afterwards\n",
    "    act = keras.layers.advanced_activations.LeakyReLU(alpha=0.1)               \n",
    "    model.add(act)\n",
    "    #second LSTM layer\n",
    "    model.add(LSTM(units=Nhidden,activation='linear',\n",
    "                   dropout=0.25,return_sequences=True))\n",
    "    model.add(act)\n",
    "    #third LSTM layer\n",
    "    model.add(LSTM(units=Nhidden,activation='linear', dropout=0.25,return_sequences=False))\n",
    "    model.add(act)               \n",
    "    #final linear mapping at output\n",
    "    model.add(Dense(units=Noutput,activation='linear',input_shape=(Ntime,Nhidden))) #output layer\n",
    "    model.compile(optimizer='adam',loss=mean_squared_error)\n",
    "    return model\n",
    "\n",
    "def train_model(model,Xtrain,ytrain,Nbatch,Nepoch):\n",
    "    for i in range(Nepoch+1):\n",
    "        Xb,yb=get_random_batch(Nbatch,Xtrain,ytrain)\n",
    "        if (i)%Nprint==0:\n",
    "            model.fit(Xb,yb, epochs=1,batch_size=Nbatch,verbose=1)\n",
    "        else:\n",
    "            model.fit(Xb,yb, epochs=1,batch_size=Nbatch,verbose=0)\n",
    "        model.reset_states()\n",
    "    return model\n",
    "\n",
    "def predict_from_model(model,X,Ntime,Ninput,Noutput,Nbatch):\n",
    "    #Predict on whole of this subset (both \"training\" and \"testing\")\n",
    "    Nf = len(X)-Ntime\n",
    "    ypred_tot=np.zeros((Nf,Noutput))\n",
    "    i0=Nahead\n",
    "    i1=i0+Nbatch\n",
    "    #split whole time sequence into sequential batches.\n",
    "    while (i1 < Nf):\n",
    "        X0=np.zeros((Nbatch,Ntime,Ninput))\n",
    "        for i in range(Nbatch):\n",
    "            X0[i]=X[i0+i:i0+i+Ntime]\n",
    "        ypred_tot[i0:i1]=model.predict(X0,batch_size=Nbatch)\n",
    "        model.reset_states()    \n",
    "        i0=i1\n",
    "        i1+=Nbatch\n",
    "    #predict on the remainder\n",
    "    Nrem=Nf-i0\n",
    "    X0=np.zeros((Nrem,Ntime,Ninput))\n",
    "    for i in range(Nrem):\n",
    "        X0[i]=X[i0+i:i0+i+Ntime]\n",
    "\n",
    "    ypred_tot[-Nrem:]=model.predict(X0,batch_size=Nbatch)\n",
    "    model.reset_states()\n",
    "    return ypred_tot\n"
   ]
  },
  {
   "cell_type": "code",
   "execution_count": 197,
   "metadata": {
    "autoscroll": false,
    "ein.tags": "worksheet-0",
    "slideshow": {
     "slide_type": "-"
    }
   },
   "outputs": [
    {
     "name": "stdout",
     "output_type": "stream",
     "text": [
      "Epoch 1/1\n",
      "100/100 [==============================] - 0s 693us/step - loss: 0.0364\n",
      "Epoch 1/1\n",
      "100/100 [==============================] - 0s 734us/step - loss: 0.0418\n",
      "Epoch 1/1\n",
      "100/100 [==============================] - 0s 726us/step - loss: 0.0559\n",
      "Epoch 1/1\n",
      "100/100 [==============================] - 0s 711us/step - loss: 0.0922\n",
      "Epoch 1/1\n",
      "100/100 [==============================] - 0s 729us/step - loss: 0.1732\n",
      "100/100 [==============================] - 3s 29ms/step - loss: 0.2788\n",
      "Epoch 1/1\n"
     ]
    }
   ],
   "source": [
    "model=make_deep_RNN(Nhidden,Ntime,Ninput)\n",
    "model=train_model(model,Xtrain,ytrain,Nbatch,Nepoch)\n"
   ]
  },
  {
   "cell_type": "markdown",
   "metadata": {
    "ein.tags": "worksheet-0",
    "slideshow": {
     "slide_type": "-"
    }
   },
   "source": [
    "## Training the Network\n",
    "\n",
    "Now run in minibatches.  The \"if\" statement means we only see the output every 50 iterations.\n",
    "The \"reset_states()\" call should reset the internal state of the model.\n",
    "Note that the reported loss is the loss (MSE) on the current batch.  "
   ]
  },
  {
   "cell_type": "markdown",
   "metadata": {
    "ein.tags": "worksheet-0",
    "slideshow": {
     "slide_type": "-"
    }
   },
   "source": [
    "## Predicting the whole sequence\n",
    "\n",
    "This runs the network on the whole subset of data we've pulled out from 2000 to 2008.  This checks performance on both the training data,\n",
    "as well as the holdout data.  As we'll see, the performance drops precipitously once training ends.   "
   ]
  },
  {
   "cell_type": "code",
   "execution_count": 203,
   "metadata": {
    "autoscroll": false,
    "ein.tags": "worksheet-0",
    "slideshow": {
     "slide_type": "-"
    }
   },
   "outputs": [],
   "source": [
    "ypred=predict_from_model(model,Xsub_scale,Ntime,Ninput,Noutput,Nbatch)"
   ]
  },
  {
   "cell_type": "code",
   "execution_count": 193,
   "metadata": {
    "autoscroll": false,
    "ein.tags": "worksheet-0",
    "slideshow": {
     "slide_type": "-"
    }
   },
   "outputs": [],
   "source": [
    "def plot_predictions(X,ytarget,ypred,Nplot_start,skip):\n",
    "    Nplot_end=Nplot_start+skip\n",
    "    plt.figure()\n",
    "    legend_list=[]\n",
    "    #plot training data\n",
    "    for i in range(Nplot_start,Nplot_end):\n",
    "        if (differencing):\n",
    "            plt.plot(np.cumsum(X[:,i],axis=0))\n",
    "        else:\n",
    "            plt.plot(Xsub_scale[:,i])    \n",
    "        legend_list.append(df_close.columns[i])\n",
    "    #plot prediction    \n",
    "    for i in range(Nplot_start,Nplot_end):\n",
    "        if (differencing):\n",
    "            plt.plot(np.cumsum(ypred[:,i],axis=0),'--')\n",
    "        else:\n",
    "            plt.plot(ypred[:,i],'--')    \n",
    "        legend_list.append(df_close.columns[i]+'-pred')\n",
    "    #plot actual    \n",
    "    for i in range(Nplot_start,Nplot_end):\n",
    "        if (differencing):\n",
    "            plt.plot(np.cumsum(ytarget[:,i],axis=0),'--')\n",
    "        else:\n",
    "            plt.plot(ypred[:,i],'-.')    \n",
    "        legend_list.append(df_close.columns[i]+'-target')\n",
    "    plt.plot([Nc,Nc],[-1,1],'k')    \n",
    "    plt.legend(legend_list,bbox_to_anchor=(1,1))\n",
    "    plt.show()"
   ]
  },
  {
   "cell_type": "code",
   "execution_count": 218,
   "metadata": {
    "autoscroll": false,
    "ein.tags": "worksheet-0",
    "slideshow": {
     "slide_type": "-"
    }
   },
   "outputs": [
    {
     "data": {
      "image/png": "[encoded data removed]",
      "text/plain": [
       "<matplotlib.figure.Figure at 0x7efb7df37c18>"
      ]
     },
     "metadata": {},
     "output_type": "display_data"
    }
   ],
   "source": [
    "plot_predictions(Xsub_scale,ypred,ytot,60,4)"
   ]
  },
  {
   "cell_type": "code",
   "execution_count": 229,
   "metadata": {
    "autoscroll": false,
    "ein.tags": "worksheet-0",
    "slideshow": {
     "slide_type": "-"
    }
   },
   "outputs": [
    {
     "data": {
      "text/plain": [
       "[array([ 0.        ,  0.        ,  0.        ,  0.        ,  0.        , -0.80532902, -0.80370259, -0.80109221, -0.799052  , -0.79478121, -0.79112494,\n",
       "        -0.78917456, -0.78768802, -0.78638172, -0.79266095, -0.79890746, -0.80647117, -0.81442469, -0.81215906, -0.80523992]),\n",
       " array([-0.96060116, -0.98301826, -1.        , -0.96618126, -0.96618126, -0.93843536, -0.90023526, -0.90023526, -0.87339482, -0.87873329, -0.87339482,\n",
       "        -0.84691504, -0.86276029, -0.87339482, -0.91107355, -0.94395322, -0.93293252, -0.91107355, -0.89483668, -0.85218241])]"
      ]
     },
     "execution_count": 229,
     "metadata": {},
     "output_type": "execute_result"
    }
   ],
   "source": [
    "[ypred[0:20,2],ytot[0:20,2]]"
   ]
  },
  {
   "cell_type": "code",
   "execution_count": 228,
   "metadata": {
    "autoscroll": false,
    "ein.tags": "worksheet-0",
    "slideshow": {
     "slide_type": "-"
    }
   },
   "outputs": [
    {
     "data": {
      "image/png": "[encoded data removed]",
      "text/plain": [
       "<matplotlib.figure.Figure at 0x7efb7f825e10>"
      ]
     },
     "metadata": {},
     "output_type": "display_data"
    }
   ],
   "source": [
    "#plot errors\n",
    "plt.figure()\n",
    "Nplot_start=0\n",
    "Nplot_end=5\n",
    "legend_list=[];\n",
    "for i in range(Nplot_start,Nplot_end):\n",
    "    plt.plot(ypred[:,i]-ytot[:-Nahead,i])\n",
    "    legend_list.append(df_close.columns[i])\n",
    "plt.show()"
   ]
  },
  {
   "cell_type": "code",
   "execution_count": 257,
   "metadata": {
    "autoscroll": false,
    "ein.tags": "worksheet-0",
    "slideshow": {
     "slide_type": "-"
    }
   },
   "outputs": [
    {
     "data": {
      "text/plain": [
       "<matplotlib.figure.Figure at 0x7efb7b0fd7f0>"
      ]
     },
     "metadata": {},
     "output_type": "display_data"
    }
   ],
   "source": [
    "plot_err_hist(Xsub_scale,ypred_tot,Nc)"
   ]
  },
  {
   "cell_type": "markdown",
   "metadata": {
    "ein.tags": "worksheet-0",
    "slideshow": {
     "slide_type": "-"
    }
   },
   "source": [
    "So, the model is doing terribly.  I thought it would at least track the correct price (and get the directions wrong).\n",
    "As is, the resulting predictions are wandering far away from the actual price, even when given the correct price data.\n",
    "\n",
    "Does this make sense?  Under one point of view, these variables are all random walks.  Even if they are correlated,\n",
    "then, we can find some independent variables which are also given by random walks.  We're fitting a neural network with\n",
    "memory, and training it to fit this noise.  And when fed new noise, the results are wandering away from the prediction.\n"
   ]
  },
  {
   "cell_type": "markdown",
   "metadata": {
    "ein.tags": "worksheet-0",
    "slideshow": {
     "slide_type": "-"
    }
   },
   "source": [
    "# Testing Fitting a Random Walk\n",
    "\n",
    "Let's apply the same network architecture for fitting a single random walk.  Then, let's "
   ]
  }
 ],
 "metadata": {
  "kernelspec": {
   "display_name": "Python 3",
   "language": "python",
   "name": "python3"
  },
  "language_info": {
   "codemirror_mode": {
    "name": "ipython",
    "version": 3
   },
   "file_extension": ".py",
   "mimetype": "text/x-python",
   "name": "python",
   "nbconvert_exporter": "python",
   "pygments_lexer": "ipython3",
   "version": "3.6.3"
  },
  "name": "PDX_finance_Mar2018.ipynb"
 },
 "nbformat": 4,
 "nbformat_minor": 2
}
