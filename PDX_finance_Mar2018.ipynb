{
 "cells": [
  {
   "cell_type": "markdown",
   "metadata": {
    "ein.tags": "worksheet-0",
    "slideshow": {
     "slide_type": "-"
    }
   },
   "source": [
    "# Apply Neural Networks to the Stock Market\n",
    "\n",
    "Notebook to explore limited set of NY stock exchange data over around 40 years, as part of the Portland Data Science group (Mar 2018).\n",
    "Data selected by Matt Borthwick from Yahoo! Finance.\n",
    "Working with Neural Network group: Matt, John Burt, Manny, Isil, Kenny, Jhoan, Mark C.\n",
    "\n",
    "Our goal is to predict weekly returns on 6 industry based ETFs, as well\n",
    "as aggregate market performance (such as Russel3000).  We will also\n",
    "be using some macroeconomic indicators as well.\n",
    "This notebook currently loads the data, transforms it, and applies a\n",
    "simple neural network to try predicting the next days stock prices.\n",
    "The first model was built in tensorflow (and is currently broken).  THere is a second network written in Keras.\n",
    "\n",
    "The plan is to train on this data (up to Sep 2017),\n",
    "validate on (Oct-Dec 2017), and test in final session on (Jan-Mar 2018).\n",
    "\n",
    "(For more exploratory screwing around, and other attempts at time-series see PDX_finance1)\n",
    "\n",
    "Currently Contains:\n",
    "-Colab setup\n",
    "-Loading data\n",
    "-Tensorflow RNN (currently borked at prediction stage - wrong size? No idea what changed)\n",
    "-Keras RNN  (not working yet)\n",
    "-Keras Deep network"
   ]
  },
  {
   "cell_type": "markdown",
   "metadata": {
    "ein.tags": "worksheet-0",
    "slideshow": {
     "slide_type": "-"
    }
   },
   "source": [
    "# Google Colab setup\n",
    "\n",
    "First up however, we need to install modules to load up our google drive for storage.  (Code taken from this helpful post https://medium.com/deep-learning-turkey/google-colab-free-gpu-tutorial-e113627b9f5d)\n",
    "(Code and commands didn't look sketchy/malicious, but I didn't examine the PPA too closely either.)\n",
    "\n",
    "This code is for execution inside a Jupyter notebook on colab.google.com.\n",
    "It gives Colab access to your Google Drive in order to load/save data from within the notebook.\n",
    "Colab has most popular libraries (numpy, pandas, tensorflow, matplotlib).  I'm not sure how extensive it is.\n",
    "\n",
    "I've found opening a jupyter notebook on google drive automatically opens the Colab."
   ]
  },
  {
   "cell_type": "code",
   "execution_count": null,
   "metadata": {
    "autoscroll": false,
    "collapsed": false,
    "ein.tags": "worksheet-0",
    "slideshow": {
     "slide_type": "-"
    }
   },
   "outputs": [],
   "source": [
    "#Install modules on local machine.\n",
    "!apt-get install -y -qq software-properties-common python-software-properties module-init-tools\n",
    "!add-apt-repository -y ppa:alessandro-strada/ppa 2>&1 > /dev/null\n",
    "!apt-get update -qq 2>&1 > /dev/null\n",
    "!echo 'past update'\n",
    "!apt-get -y install -qq google-drive-ocamlfuse fuse\n",
    "!echo 'installed fuse'"
   ]
  },
  {
   "cell_type": "code",
   "execution_count": null,
   "metadata": {
    "autoscroll": false,
    "collapsed": false,
    "ein.tags": "worksheet-0",
    "slideshow": {
     "slide_type": "-"
    }
   },
   "outputs": [],
   "source": [
    "from google.colab import auth\n",
    "auth.authenticate_user()\n",
    "from oauth2client.client import GoogleCredentials\n",
    "creds = GoogleCredentials.get_application_default()\n",
    "import getpass\n",
    "!google-drive-ocamlfuse -headless -id={creds.client_id} -secret={creds.client_secret} < /dev/null 2>&1 | grep URL\n",
    "print('past first command')\n",
    "vcode = getpass.getpass()\n",
    "!echo {vcode} | google-drive-ocamlfuse -headless -id={creds.client_id} -secret={creds.client_secret}"
   ]
  },
  {
   "cell_type": "code",
   "execution_count": null,
   "metadata": {
    "autoscroll": false,
    "collapsed": false,
    "ein.tags": "worksheet-0",
    "slideshow": {
     "slide_type": "-"
    }
   },
   "outputs": [],
   "source": [
    "#Mounts google drive, and changes to that directory\n",
    "!mkdir -p drive \n",
    "!google-drive-ocamlfuse drive\n",
    "\n",
    "import os\n",
    "os.chdir(\"drive\")\n",
    "\n",
    "#Should now be in the root of your google-drive, and now free to load/save existing files."
   ]
  },
  {
   "cell_type": "markdown",
   "metadata": {
    "ein.tags": "worksheet-0",
    "slideshow": {
     "slide_type": "-"
    }
   },
   "source": [
    "# Load Libraries and Data\n",
    "\n",
    "Now to load libraries, and data for all stocks, ETFs, and indicators.\n",
    "All of those will get stuck together into one total dataframe.\n",
    "(This is where I start my analysis on my home machine.)"
   ]
  },
  {
   "cell_type": "code",
   "execution_count": 2,
   "metadata": {
    "autoscroll": false,
    "collapsed": false,
    "ein.tags": "worksheet-0",
    "slideshow": {
     "slide_type": "-"
    }
   },
   "outputs": [],
   "source": [
    "import pandas as pd \n",
    "import numpy as np\n",
    "import matplotlib.pyplot as plt\n",
    "\n",
    "%matplotlib inline\n",
    "# automatically reload files.\n",
    "%load_ext autoreload\n",
    "%autoreload 2"
   ]
  },
  {
   "cell_type": "code",
   "execution_count": 1,
   "metadata": {
    "autoscroll": false,
    "collapsed": false,
    "ein.tags": "worksheet-0",
    "slideshow": {
     "slide_type": "-"
    }
   },
   "outputs": [],
   "source": [
    "def load_stock_data():\n",
    "\n",
    "    #Data compiled from Yahoo! Finance data by Matt Borthwick\n",
    "    df_close=pd.read_csv('data/stocks-us-adjClose.csv',index_col=0,parse_dates=True)\n",
    "    df_open=pd.read_csv('data/stocks-us-adjOpen.csv',index_col=0,parse_dates=True)\n",
    "    df_high=pd.read_csv('data/stocks-us-adjHigh.csv',index_col=0,parse_dates=True)\n",
    "    df_low=pd.read_csv('data/stocks-us-adjLow.csv',index_col=0,parse_dates=True)\n",
    "    df_vol=pd.read_csv('data/stocks-us-Volume.csv',index_col=0,parse_dates=True)\n",
    "    df_close.index.name='date'\n",
    "    df_open.index.name='date'\n",
    "    df_high.index.name='date'\n",
    "    df_low.index.name='date'\n",
    "    df_vol.index.name='date'\n",
    "\n",
    "    #Follow Leffers and rename columns.\n",
    "    df_close_new=[];\n",
    "    df_open_new=[];\n",
    "    df_low_new=[];\n",
    "    df_high_new=[];\n",
    "    df_vol_new=[];\n",
    "\n",
    "    for name in df_close.columns:\n",
    "        df_close_new.append(name+'close')\n",
    "\n",
    "    for name in df_open.columns:\n",
    "        df_open_new.append(name+'open')\n",
    "\n",
    "    for name in df_low.columns:\n",
    "        df_low_new.append(name+'low')\n",
    "\n",
    "    for name in df_high.columns:\n",
    "        df_high_new.append(name+'high')\n",
    "\n",
    "    for name in df_vol.columns:\n",
    "        df_vol_new.append(name+'vol')\n",
    "\n",
    "    df_close.columns=df_close_new\n",
    "    df_open.columns=df_open_new\n",
    "    df_low.columns=df_low_new\n",
    "    df_high.columns=df_high_new\n",
    "    df_vol.columns=df_vol_new\n",
    "\n",
    "    #join all stocks together.\n",
    "    df_stock=df_close.join(df_open,how='inner')\n",
    "    df_stock=df_stock.join(df_high,how='inner')\n",
    "    df_stock=df_stock.join(df_low,how='inner')\n",
    "    df_stock=df_stock.join(df_vol,how='inner')\n",
    "\n",
    "    return df_stock\n"
   ]
  },
  {
   "cell_type": "code",
   "execution_count": 3,
   "metadata": {
    "autoscroll": false,
    "collapsed": false,
    "ein.tags": "worksheet-0",
    "slideshow": {
     "slide_type": "-"
    }
   },
   "outputs": [
    {
     "name": "stdout",
     "output_type": "stream",
     "text": [
      "Company_information.csv  market.csv                   stocks-us-adjHigh.csv\r\n",
      "df_tot.pickle            sector_etfs-2-corrected.csv  stocks-us-adjLow.csv\r\n",
      "indicators_test.csv      sector_etfs.csv              stocks-us-adjOpen.csv\r\n",
      "Indicators_Test.csv      sector_ETFs.csv              \u001b[0m\u001b[01;31mstocks-us-moreData.zip\u001b[0m\r\n",
      "Indicators_Train.csv     stocks-us-adjClose.csv       stocks-us-Volume.csv\r\n"
     ]
    }
   ],
   "source": [
    "ls data"
   ]
  },
  {
   "cell_type": "code",
   "execution_count": 3,
   "metadata": {
    "autoscroll": false,
    "collapsed": false,
    "ein.tags": "worksheet-0",
    "slideshow": {
     "slide_type": "-"
    }
   },
   "outputs": [
    {
     "name": "stdout",
     "output_type": "stream",
     "text": [
      "0 0 0 0\n",
      "0 0 0 0\n"
     ]
    }
   ],
   "source": [
    "#so columns match up\n",
    "print(np.sum(df_close.columns!=df_low.columns),\n",
    "np.sum(df_close.columns!=df_high.columns),\n",
    "np.sum(df_close.columns!=df_open.columns),\n",
    "np.sum(df_close.columns!=df_vol.columns))\n",
    "#and indices match up.\n",
    "print(np.sum(df_close.index!=df_low.index),\n",
    "np.sum(df_close.index!=df_high.index),\n",
    "np.sum(df_close.index!=df_open.index),\n",
    "np.sum(df_close.index!=df_vol.index))\n"
   ]
  },
  {
   "cell_type": "code",
   "execution_count": 9,
   "metadata": {
    "autoscroll": false,
    "collapsed": false,
    "ein.tags": "worksheet-0",
    "slideshow": {
     "slide_type": "-"
    }
   },
   "outputs": [],
   "source": [
    "?pd.read_csv"
   ]
  },
  {
   "cell_type": "code",
   "execution_count": 10,
   "metadata": {
    "autoscroll": false,
    "collapsed": false,
    "ein.tags": "worksheet-0",
    "slideshow": {
     "slide_type": "-"
    }
   },
   "outputs": [],
   "source": [
    "df_market=pd.read_csv('data/market.csv',index_col=0,parse_dates=True)\n",
    "df_rua=pd.read_csv('data/^RUA.csv',index_col=0,parse_dates=True)\n"
   ]
  },
  {
   "cell_type": "code",
   "execution_count": 11,
   "metadata": {
    "autoscroll": false,
    "collapsed": false,
    "ein.tags": "worksheet-0",
    "slideshow": {
     "slide_type": "-"
    }
   },
   "outputs": [
    {
     "data": {
      "text/plain": [
       "                   Open         High          Low        Close    Adj Close  \\\nDate                                                                          \n2018-03-08  1616.369995  1622.140015  1612.140015  1621.239990  1621.239990   \n2018-03-09  1623.890015  1648.469971  1623.890015  1648.459961  1648.459961   \n2018-03-12  1649.469971  1654.329956  1644.829956  1647.410034  1647.410034   \n2018-03-13  1650.979980  1657.670044  1633.640015  1637.189941  1637.189941   \n2018-03-14  1638.829956  1643.849976  1625.569946  1628.189941  1628.189941   \n\n           Volume  \nDate               \n2018-03-08      0  \n2018-03-09      0  \n2018-03-12      0  \n2018-03-13      0  \n2018-03-14      0  "
      ]
     },
     "execution_count": 11,
     "metadata": {},
     "output_type": "execute_result"
    }
   ],
   "source": [
    "df_rua.head()"
   ]
  },
  {
   "cell_type": "code",
   "execution_count": 13,
   "metadata": {
    "autoscroll": false,
    "collapsed": false,
    "ein.tags": "worksheet-0",
    "slideshow": {
     "slide_type": "-"
    }
   },
   "outputs": [],
   "source": [
    "df_etf=load_etfs()"
   ]
  },
  {
   "cell_type": "code",
   "execution_count": 15,
   "metadata": {
    "autoscroll": false,
    "collapsed": false,
    "ein.tags": "worksheet-0",
    "slideshow": {
     "slide_type": "-"
    }
   },
   "outputs": [
    {
     "data": {
      "text/plain": [
       "Index(['Basic Materials (IYM)', 'Consumer Goods (IYK)', 'Healthcare (IYH)',\n       'Market (^RUA)', 'Services (IYC)', 'Technology (IYW)',\n       'Utilities (IDU)'],\n      dtype='object')"
      ]
     },
     "execution_count": 15,
     "metadata": {},
     "output_type": "execute_result"
    }
   ],
   "source": [
    "df_etf.columns"
   ]
  },
  {
   "cell_type": "code",
   "execution_count": 18,
   "metadata": {
    "autoscroll": false,
    "collapsed": false,
    "ein.tags": "worksheet-0",
    "slideshow": {
     "slide_type": "-"
    }
   },
   "outputs": [
    {
     "data": {
      "text/plain": [
       "<matplotlib.figure.Figure at 0x7efbc582d320>"
      ]
     },
     "metadata": {},
     "output_type": "display_data"
    },
    {
     "data": {
      "text/plain": [
       "<matplotlib.axes._subplots.AxesSubplot at 0x7efbbec5bac8>"
      ]
     },
     "execution_count": 18,
     "metadata": {},
     "output_type": "execute_result"
    }
   ],
   "source": [
    "df_etf.plot(logy=True)"
   ]
  },
  {
   "cell_type": "code",
   "execution_count": 35,
   "metadata": {
    "autoscroll": false,
    "collapsed": false,
    "ein.tags": "worksheet-0",
    "slideshow": {
     "slide_type": "-"
    }
   },
   "outputs": [],
   "source": [
    "etf_cols=['Technology (IYW)', 'Basic Materials (IYM)', 'Consumer Goods (IYK)',\n",
    "       'Services (IYC)', 'Healthcare (IYH)', 'Utilities (IDU)',\n",
    "       'Market (^RUA)']"
   ]
  },
  {
   "cell_type": "code",
   "execution_count": 47,
   "metadata": {
    "autoscroll": false,
    "collapsed": false,
    "ein.tags": "worksheet-0",
    "slideshow": {
     "slide_type": "-"
    }
   },
   "outputs": [],
   "source": [
    "def test_re(etf_cols):\n",
    "    df_tot=pd.DataFrame()\n",
    "    for etf_name in etf_cols:\n",
    "        mc=re.search(etf_re,etf_name)\n",
    "        print(mc.match)"
   ]
  },
  {
   "cell_type": "code",
   "execution_count": 69,
   "metadata": {
    "autoscroll": false,
    "collapsed": false,
    "ein.tags": "worksheet-0",
    "slideshow": {
     "slide_type": "-"
    }
   },
   "outputs": [
    {
     "name": "stdout",
     "output_type": "stream",
     "text": [
      "IYW\n",
      "IYM\n",
      "IYK\n",
      "IYC\n",
      "IYH\n",
      "IDU\n",
      "^RUA\n"
     ]
    }
   ],
   "source": [
    "    for etf_name in etf_cols:\n",
    "        mc=re.search('\\(([A-Z\\^]+)\\)',etf_name)\n",
    "        print(mc.group(1))"
   ]
  },
  {
   "cell_type": "code",
   "execution_count": 117,
   "metadata": {
    "autoscroll": false,
    "collapsed": false,
    "ein.tags": "worksheet-0",
    "slideshow": {
     "slide_type": "-"
    }
   },
   "outputs": [],
   "source": [
    "?pd.read_csv"
   ]
  },
  {
   "cell_type": "code",
   "execution_count": 138,
   "metadata": {
    "autoscroll": false,
    "collapsed": false,
    "ein.tags": "worksheet-0",
    "slideshow": {
     "slide_type": "-"
    }
   },
   "outputs": [],
   "source": [
    "import re\n",
    "def clean_new_etfs(etf_cols):\n",
    "    df_tot=pd.DataFrame()\n",
    "    for etf_name in etf_cols:\n",
    "        #match via regex\n",
    "        mc=re.search('\\(([A-Z\\^]+)\\)',etf_name)\n",
    "        #retrieve the match\n",
    "        etf_ticker=mc.group(1)      \n",
    "        df=pd.read_csv('data/latest_etf/'+etf_ticker+'.csv', index_col=0,parse_dates=True,na_values='null')\n",
    "        df.rename(columns={'Adj Close':etf_name},inplace=True)\n",
    "        #only join based on adjusted close\n",
    "\n",
    "        #Kill missing values via linear interpolation.\n",
    "        ser=df.iloc[:,4].copy()\n",
    "        msk=np.isnan(ser.values)\n",
    "        ind=np.arange(len(ser))[msk]\n",
    "        #replace multiple NA with median.\n",
    "        ser[msk]=ser.median()\n",
    "        #for isolated values, replace by the average on either side.    \n",
    "        for i in ind:\n",
    "            ser.iloc[i]=(ser.iloc[i-1]+ser.iloc[i+1])/2\n",
    "        ser.reindex(df.index )\n",
    "        df_tot=df_tot.join(ser,how='outer')\n",
    "    return df_tot    "
   ]
  },
  {
   "cell_type": "code",
   "execution_count": 139,
   "metadata": {
    "autoscroll": false,
    "collapsed": false,
    "ein.tags": "worksheet-0",
    "slideshow": {
     "slide_type": "-"
    }
   },
   "outputs": [],
   "source": [
    "df_etf3=clean_new_etfs(etf_cols)"
   ]
  },
  {
   "cell_type": "code",
   "execution_count": 144,
   "metadata": {
    "autoscroll": false,
    "collapsed": false,
    "ein.tags": "worksheet-0",
    "slideshow": {
     "slide_type": "-"
    }
   },
   "outputs": [],
   "source": [
    "df_etf3.to_csv('data/sector_etf_Sep17-Apr18.csv')"
   ]
  },
  {
   "cell_type": "code",
   "execution_count": 143,
   "metadata": {
    "autoscroll": false,
    "collapsed": false,
    "ein.tags": "worksheet-0",
    "slideshow": {
     "slide_type": "-"
    }
   },
   "outputs": [
    {
     "data": {
      "text/plain": [
       "<matplotlib.figure.Figure at 0x7efbbe27f780>"
      ]
     },
     "metadata": {},
     "output_type": "display_data"
    }
   ],
   "source": [
    "i=5\n",
    "plt.figure()\n",
    "plt.plot(df_etf2[etf_cols[i]],label=etf_cols[i]+'-2')\n",
    "plt.plot(df_etf3[etf_cols[i]],label=etf_cols[i]+'-3')\n",
    "plt.legend()\n",
    "plt.show()\n"
   ]
  },
  {
   "cell_type": "code",
   "execution_count": 111,
   "metadata": {
    "autoscroll": false,
    "collapsed": false,
    "ein.tags": "worksheet-0",
    "slideshow": {
     "slide_type": "-"
    }
   },
   "outputs": [
    {
     "data": {
      "text/plain": [
       "Date\n2017-09-01    1465.449951\n2017-09-05    1453.699951\n2017-09-06    1457.770020\n2017-09-07    1456.829956\n2017-09-08    1455.250000\n2017-09-11    1471.199951\n2017-09-12    1476.680054\n2017-09-13    1477.709961\n2017-09-14    1476.099976\n2017-09-15    1479.280029\n2017-09-18    1482.530029\n2017-09-19    1483.800049\n2017-09-20    1485.489990\n2017-09-21    1481.260010\n2017-09-22    1482.859985\n2017-09-25    1480.030029\n2017-09-26    1480.459961\n2017-09-27    1488.369995\n2017-09-28    1490.339966\n2017-09-29    1495.430054\n2017-10-02    1502.630005\n2017-10-03    1506.010010\n2017-10-04    1507.439941\n2017-10-05    1515.310059\n2017-10-06    1513.689941\n2017-10-09    1510.489990\n2017-10-10    1513.959961\n2017-10-11    1516.290039\n2017-10-12    1514.000000\n2017-10-13    1514.890015\n                 ...     \n2018-02-23    1621.739990\n2018-02-26    1639.170044\n2018-02-27    1618.089966\n2018-02-28    1600.150024\n2018-03-01    1581.170044\n2018-03-02    1591.380005\n2018-03-05    1608.609985\n2018-03-06    1614.569946\n2018-03-07    1615.329956\n2018-03-08    1621.239990\n2018-03-09    1648.459961\n2018-03-12    1647.410034\n2018-03-13    1637.189941\n2018-03-14    1628.189941\n2018-03-15    1625.900024\n2018-03-16           null\n2018-03-19    1607.689941\n2018-03-20    1609.979980\n2018-03-21    1608.569946\n2018-03-22           null\n2018-03-23    1536.270020\n2018-03-26    1576.500000\n2018-03-27    1549.020020\n2018-03-28    1544.780029\n2018-03-29    1565.560059\n2018-04-02    1530.280029\n2018-04-03    1549.329956\n2018-04-04           null\n2018-04-05    1578.020020\n2018-04-06    1544.279297\nName: Market (^RUA), Length: 149, dtype: object"
      ]
     },
     "execution_count": 111,
     "metadata": {},
     "output_type": "execute_result"
    }
   ],
   "source": [
    "df_etf3[etf_cols[i]]"
   ]
  },
  {
   "cell_type": "code",
   "execution_count": 108,
   "metadata": {
    "autoscroll": false,
    "collapsed": false,
    "ein.tags": "worksheet-0",
    "slideshow": {
     "slide_type": "-"
    }
   },
   "outputs": [
    {
     "data": {
      "text/plain": [
       "Date\n2017-09-11    1471.199951\n2017-09-12    1476.680054\n2017-09-13    1477.709961\n2017-09-14    1476.099976\n2017-09-15    1479.280029\n2017-09-18    1482.530029\n2017-09-19    1483.800049\n2017-09-20    1485.489990\n2017-09-21    1481.260010\n2017-09-22    1482.859985\n2017-09-25    1480.030029\n2017-09-26    1480.459961\n2017-09-27    1488.369995\n2017-09-28    1490.339966\n2017-09-29    1495.430054\n2017-10-02    1502.630005\n2017-10-03    1506.010010\n2017-10-04    1507.439941\n2017-10-05    1515.310059\n2017-10-06    1513.689941\n2017-10-09    1510.489990\n2017-10-10    1513.959961\n2017-10-11    1516.290039\n2017-10-12    1514.000000\n2017-10-13    1514.890015\n2017-10-16    1517.150024\n2017-10-17    1517.500000\n2017-10-18    1519.130005\n2017-10-19    1519.349976\n2017-10-20    1527.189941\n                 ...     \n2017-11-03    1532.270020\n2017-11-06    1534.619995\n2017-11-07    1532.140015\n2017-11-08    1534.449951\n2017-11-09    1528.400024\n2017-11-10    1527.489990\n2017-11-13    1528.849976\n2017-11-14    1525.270020\n2017-11-15    1517.089966\n2017-11-16    1530.530029\n2017-11-17    1528.329956\n2017-11-20    1531.189941\n2017-11-21    1541.790039\n2017-11-22    1540.689941\n2017-11-24    1543.750000\n2017-11-27    1542.290039\n2017-11-28    1557.900024\n2017-11-29    1557.699951\n2017-11-30    1569.219971\n2017-12-01    1565.880005\n2017-12-04    1563.699951\n2017-12-05    1556.800049\n2017-12-06    1555.510010\n2017-12-07    1561.339966\n2017-12-08    1569.359985\n2017-12-11    1573.540039\n2017-12-12    1574.920044\n2017-12-13    1574.819946\n2017-12-14    1567.260010\n2017-12-15    1582.079956\nName: Market (^RUA), Length: 69, dtype: float64"
      ]
     },
     "execution_count": 108,
     "metadata": {},
     "output_type": "execute_result"
    }
   ],
   "source": [
    "df_etf2.iloc[:,6]"
   ]
  },
  {
   "cell_type": "code",
   "execution_count": 22,
   "metadata": {
    "autoscroll": false,
    "collapsed": false,
    "ein.tags": "worksheet-0",
    "slideshow": {
     "slide_type": "-"
    }
   },
   "outputs": [
    {
     "data": {
      "text/plain": [
       "Index(['Technology (IYW)', 'Basic Materials (IYM)', 'Consumer Goods (IYK)',\n       'Services (IYC)', 'Healthcare (IYH)', 'Utilities (IDU)',\n       'Market (^RUA)'],\n      dtype='object')"
      ]
     },
     "execution_count": 22,
     "metadata": {},
     "output_type": "execute_result"
    }
   ],
   "source": [
    "df_etf = pd.read_csv('data/sector_ETFs.csv',index_col=0,parse_dates=True)\n",
    "df_etf2 = pd.read_csv('data/sector_etfs-2-corrected.csv',index_col=0,parse_dates=True)\n",
    "\n",
    "df_etf2.columns"
   ]
  },
  {
   "cell_type": "code",
   "execution_count": 12,
   "metadata": {
    "autoscroll": false,
    "collapsed": false,
    "ein.tags": "worksheet-0",
    "slideshow": {
     "slide_type": "-"
    }
   },
   "outputs": [],
   "source": [
    "def load_etfs():\n",
    "\n",
    "    #load market/ETF data\n",
    "\n",
    "    df_etf = pd.read_csv('data/sector_ETFs.csv',index_col=0,parse_dates=True)\n",
    "    df_etf2 = pd.read_csv('data/sector_etfs-2-corrected.csv',index_col=0,parse_dates=True)\n",
    "    df_etf=df_etf.append(df_etf2)\n",
    "    \n",
    "    return df_etf\n",
    "\n",
    "\n",
    "def load_market():\n",
    "\n",
    "    df_market=pd.read_csv('data/market.csv',index_col=0,parse_dates=True)\n",
    "    df_rua=pd.read_csv('data/^RUA.csv')\n",
    "    \n",
    "\n",
    "def make_target_df(df_etf,df_market):\n",
    "    df_target=pd.DataFrame.join(df_etf,other=df_market,how='outer')\n",
    "    return df_target\n",
    "    \n",
    "def load_indicators():\n",
    "\n",
    "    # remove warnings\n",
    "    import csv\n",
    "    import warnings\n",
    "\n",
    "    ##Pieter Leffer's code for reading in indicators\n",
    "    warnings.filterwarnings('ignore')\n",
    "\n",
    "    # Leffers ran into errors importing the file because of non-ascii characters in the heading\n",
    "    #Here is a piece of code Leffers got from stack overflow to fix that problem.\n",
    "    df_ind=[]\n",
    "    with open('data/Indicators_Train.csv', newline='', encoding='utf-8', errors='ignore') as f:\n",
    "        reader = csv.reader(f)\n",
    "        for row in reader:\n",
    "            df_ind.append(row)\n",
    "\n",
    "    df_ind=pd.DataFrame(df_ind)\n",
    "    df_ind.columns=df_ind.iloc[0]\n",
    "    Column_Reference=df_ind.iloc[1].copy()\n",
    "    #Drop useless rows (last row is empty)\n",
    "    df_ind.drop([0,1],axis=0,inplace=True)\n",
    "\n",
    "\n",
    "    # #Change the formatting of the variables. Datetime to the ones for dates, integers for the ones that aren't\n",
    "    for i in range(0,len(df_ind.columns)):\n",
    "        col_name=df_ind.columns[i]\n",
    "        if i % 2 == 1:\n",
    "            df_ind[col_name] = pd.to_datetime(df_ind[col_name],  format = '%m/%d/%Y',  errors='coerce')\n",
    "            print(col_name,'time')\n",
    "        else:\n",
    "            df_ind[col_name] = pd.to_numeric(df_ind[col_name], errors='ignore')\n",
    "            print(col_name,'val')\n",
    "\n",
    "    # #Reset the index because we dropped rows in the DataFrame, Using the drop command to remove the old index\n",
    "    df_ind.reset_index(drop=True, inplace=True)\n",
    "\n",
    "    # #make a time index too.\n",
    "    df_ind.index=pd.DatetimeIndex(df_ind['date'])\n",
    "\n",
    "    # #drop all NaTs\n",
    "    msk=np.isnat(df_ind.index)\n",
    "    df_ind=df_ind[~msk]\n",
    "    df_ind.drop(df_ind.columns[[0,1]],axis=1,inplace=True)\n",
    "    return df_ind"
   ]
  },
  {
   "cell_type": "code",
   "execution_count": null,
   "metadata": {
    "autoscroll": false,
    "collapsed": false,
    "ein.tags": "worksheet-0",
    "slideshow": {
     "slide_type": "-"
    }
   },
   "outputs": [],
   "source": [
    "?df_ind.drop"
   ]
  },
  {
   "cell_type": "code",
   "execution_count": 5,
   "metadata": {
    "autoscroll": false,
    "collapsed": false,
    "ein.tags": "worksheet-0",
    "slideshow": {
     "slide_type": "-"
    }
   },
   "outputs": [],
   "source": [
    "df_stocks=load_stock_data()\n"
   ]
  },
  {
   "cell_type": "code",
   "execution_count": 6,
   "metadata": {
    "autoscroll": false,
    "collapsed": false,
    "ein.tags": "worksheet-0",
    "slideshow": {
     "slide_type": "-"
    }
   },
   "outputs": [],
   "source": [
    "df_target=load_target()"
   ]
  },
  {
   "cell_type": "code",
   "execution_count": 38,
   "metadata": {
    "autoscroll": false,
    "collapsed": false,
    "ein.tags": "worksheet-0",
    "slideshow": {
     "slide_type": "-"
    }
   },
   "outputs": [
    {
     "name": "stdout",
     "output_type": "stream",
     "text": [
      " val\n"
     ]
    },
    {
     "name": "stdout",
     "output_type": "stream",
     "text": [
      "date time\n",
      "HOUST val\n"
     ]
    },
    {
     "name": "stdout",
     "output_type": "stream",
     "text": [
      "HOUST_dt time\n",
      "UNRATENSA val\n"
     ]
    },
    {
     "name": "stdout",
     "output_type": "stream",
     "text": [
      "UNRATENSA_dt time\n",
      "EMRATIO val\n"
     ]
    },
    {
     "name": "stdout",
     "output_type": "stream",
     "text": [
      "EMRATIO_dt time\n",
      "UEMPMED "
     ]
    },
    {
     "name": "stdout",
     "output_type": "stream",
     "text": [
      "val\n",
      "UEMPMED_dt time\n",
      "UMCSENT val\n"
     ]
    },
    {
     "name": "stdout",
     "output_type": "stream",
     "text": [
      "UMCSENT_dt time\n",
      "USSLIND val\n",
      "USSLIND_dt time"
     ]
    },
    {
     "name": "stdout",
     "output_type": "stream",
     "text": [
      "\n",
      "KCFSI val\n",
      "KCFSI_dt time\n",
      "IPMAN val\n"
     ]
    },
    {
     "name": "stdout",
     "output_type": "stream",
     "text": [
      "IPMAN_dt time\n",
      "VIXCLS val\n",
      "VIXCLS_dt time\n",
      "DGS10 val\n"
     ]
    },
    {
     "name": "stdout",
     "output_type": "stream",
     "text": [
      "DGS10_dt time\n"
     ]
    }
   ],
   "source": [
    "df_ind=load_indicators()"
   ]
  },
  {
   "cell_type": "code",
   "execution_count": 40,
   "metadata": {
    "autoscroll": false,
    "collapsed": false,
    "ein.tags": "worksheet-0",
    "slideshow": {
     "slide_type": "-"
    }
   },
   "outputs": [
    {
     "data": {
      "text/plain": [
       "0           HOUST HOUST_dt  UNRATENSA UNRATENSA_dt  EMRATIO EMRATIO_dt  \\\n",
       "date                                                                     \n",
       "1970-01-02    NaN      NaT        NaN          NaT      NaN        NaT   \n",
       "1970-01-03    NaN      NaT        NaN          NaT      NaN        NaT   \n",
       "1970-01-04    NaN      NaT        NaN          NaT      NaN        NaT   \n",
       "1970-01-05    NaN      NaT        NaN          NaT      NaN        NaT   \n",
       "1970-01-06    NaN      NaT        NaN          NaT      NaN        NaT   \n",
       "\n",
       "0           UEMPMED UEMPMED_dt  UMCSENT UMCSENT_dt  USSLIND USSLIND_dt  KCFSI  \\\n",
       "date                                                                            \n",
       "1970-01-02      NaN        NaT      NaN        NaT      NaN        NaT    NaN   \n",
       "1970-01-03      NaN        NaT      NaN        NaT      NaN        NaT    NaN   \n",
       "1970-01-04      NaN        NaT      NaN        NaT      NaN        NaT    NaN   \n",
       "1970-01-05      NaN        NaT      NaN        NaT      NaN        NaT    NaN   \n",
       "1970-01-06      NaN        NaT      NaN        NaT      NaN        NaT    NaN   \n",
       "\n",
       "0          KCFSI_dt  IPMAN IPMAN_dt  VIXCLS VIXCLS_dt  DGS10   DGS10_dt  \n",
       "date                                                                     \n",
       "1970-01-02      NaT    NaN      NaT     NaN       NaT   7.39 1969-12-03  \n",
       "1970-01-03      NaT    NaN      NaT     NaN       NaT   7.35 1969-12-04  \n",
       "1970-01-04      NaT    NaN      NaT     NaN       NaT   7.35 1969-12-05  \n",
       "1970-01-05      NaT    NaN      NaT     NaN       NaT   7.35 1969-12-05  \n",
       "1970-01-06      NaT    NaN      NaT     NaN       NaT   7.35 1969-12-05  "
      ]
     },
     "execution_count": 40,
     "metadata": {},
     "output_type": "execute_result"
    }
   ],
   "source": [
    "df_ind.head()"
   ]
  },
  {
   "cell_type": "code",
   "execution_count": 13,
   "metadata": {
    "autoscroll": false,
    "collapsed": false,
    "ein.tags": "worksheet-0",
    "slideshow": {
     "slide_type": "-"
    }
   },
   "outputs": [],
   "source": [
    "#drop those time columns\n",
    "Nind=10"
   ]
  },
  {
   "cell_type": "code",
   "execution_count": 12,
   "metadata": {
    "autoscroll": false,
    "collapsed": false,
    "ein.tags": "worksheet-0",
    "slideshow": {
     "slide_type": "-"
    }
   },
   "outputs": [],
   "source": [
    "#keep numbers of Stocks, ETFS, indicators.\n",
    "Nstocks_tot=int(df_stocks.shape[1]/5)\n",
    "Netf=7\n",
    "Nind=10"
   ]
  },
  {
   "cell_type": "code",
   "execution_count": 13,
   "metadata": {
    "autoscroll": false,
    "collapsed": false,
    "ein.tags": "worksheet-0",
    "slideshow": {
     "slide_type": "-"
    }
   },
   "outputs": [],
   "source": [
    "#make vectors of indices in total to extract together.  \n",
    "close_ind=np.arange(0,Nstocks_tot)\n",
    "open_ind=np.arange(Nstocks_tot,2*Nstocks_tot)\n",
    "high_ind=np.arange(2*Nstocks_tot,3*Nstocks_tot)\n",
    "low_ind=np.arange(3*Nstocks_tot,4*Nstocks_tot)\n",
    "vol_ind=np.arange(4*Nstocks_tot,5*Nstocks_tot)\n",
    "ind_ind=np.arange(5*Nstocks_tot,5*Nstocks_tot+Nind)\n",
    "etf_ind=np.arange(5*Nstocks_tot+Nind,5*Nstocks_tot+Nind+Netf)\n",
    "\n",
    "#make global array of indices to take logs/differences of\n",
    "#take differences for stock prices and ETF data\n",
    "diff_ind = np.append(np.arange(4*Nstocks_tot),etf_ind)\n",
    "#take logs for stock prices, volumes and ETFs.\n",
    "log_ind = np.append(np.arange(5*Nstocks_tot),etf_ind)"
   ]
  },
  {
   "cell_type": "code",
   "execution_count": 41,
   "metadata": {
    "autoscroll": false,
    "collapsed": false,
    "ein.tags": "worksheet-0",
    "slideshow": {
     "slide_type": "-"
    }
   },
   "outputs": [
    {
     "name": "stdout",
     "output_type": "stream",
     "text": [
      "Index(['HOUST', 'UNRATENSA', 'EMRATIO', 'UEMPMED', 'UMCSENT', 'USSLIND',\n",
      "       'KCFSI', 'IPMAN', 'VIXCLS', 'DGS10'],\n",
      "      dtype='object', name=0)\n"
     ]
    }
   ],
   "source": [
    "#append indicators to end of dataframe.\n",
    "drop_col_num=df_ind.columns.str.contains('[date]|[_dt]')\n",
    "keep_col=df_ind.columns[~drop_col_num]\n",
    "print(keep_col)"
   ]
  },
  {
   "cell_type": "code",
   "execution_count": 43,
   "metadata": {
    "autoscroll": false,
    "collapsed": false,
    "ein.tags": "worksheet-0",
    "slideshow": {
     "slide_type": "-"
    }
   },
   "outputs": [],
   "source": [
    "join_num=np.arange(1,len(df_ind.columns),2)\n",
    "df_tot=df_stocks.join(df_ind.loc[df_stocks.index,keep_col],how='left')\n",
    "df_tot=df_tot.join(df_target,how='left')\n"
   ]
  },
  {
   "cell_type": "code",
   "execution_count": 44,
   "metadata": {
    "autoscroll": false,
    "collapsed": false,
    "ein.tags": "worksheet-0",
    "slideshow": {
     "slide_type": "-"
    }
   },
   "outputs": [],
   "source": [
    "import pickle"
   ]
  },
  {
   "cell_type": "code",
   "execution_count": 47,
   "metadata": {
    "autoscroll": false,
    "collapsed": false,
    "ein.tags": "worksheet-0",
    "slideshow": {
     "slide_type": "-"
    }
   },
   "outputs": [],
   "source": [
    "#dump dataframe as pickle object for ease.\n",
    "file_name='data/df_tot.pickle'\n",
    "fileObj=open(file_name,'wb')\n",
    "pickle.dump(df_tot,fileObj)\n",
    "fileObj.close()"
   ]
  },
  {
   "cell_type": "code",
   "execution_count": 46,
   "metadata": {
    "autoscroll": false,
    "collapsed": false,
    "ein.tags": "worksheet-0",
    "slideshow": {
     "slide_type": "-"
    }
   },
   "outputs": [
    {
     "ename": "TypeError",
     "evalue": "ufunc 'absolute' did not contain a loop with signature matching types dtype('<M8[ns]') dtype('<M8[ns]')",
     "output_type": "error",
     "traceback": [
      "\u001b[0;31m---------------------------------------------------------------------------\u001b[0m",
      "\u001b[0;31mTypeError\u001b[0m                                 Traceback (most recent call last)",
      "\u001b[0;32m<ipython-input-46-ebd31660df01>\u001b[0m in \u001b[0;36m<module>\u001b[0;34m()\u001b[0m\n\u001b[1;32m      1\u001b[0m \u001b[0;31m#Plots the scaled values of the economic indictors.\u001b[0m\u001b[0;34m\u001b[0m\u001b[0;34m\u001b[0m\u001b[0m\n\u001b[1;32m      2\u001b[0m \u001b[0msl\u001b[0m\u001b[0;34m=\u001b[0m\u001b[0mslice\u001b[0m\u001b[0;34m(\u001b[0m\u001b[0;36m1\u001b[0m\u001b[0;34m,\u001b[0m\u001b[0;34m-\u001b[0m\u001b[0;36m2\u001b[0m\u001b[0;34m,\u001b[0m\u001b[0;36m2\u001b[0m\u001b[0;34m)\u001b[0m\u001b[0;34m\u001b[0m\u001b[0m\n\u001b[0;32m----> 3\u001b[0;31m \u001b[0mdf_ind_scale\u001b[0m\u001b[0;34m=\u001b[0m\u001b[0mdf_ind\u001b[0m\u001b[0;34m.\u001b[0m\u001b[0miloc\u001b[0m\u001b[0;34m[\u001b[0m\u001b[0;34m:\u001b[0m\u001b[0;34m,\u001b[0m\u001b[0msl\u001b[0m\u001b[0;34m]\u001b[0m\u001b[0;34m.\u001b[0m\u001b[0mabs\u001b[0m\u001b[0;34m(\u001b[0m\u001b[0;34m)\u001b[0m\u001b[0;34m.\u001b[0m\u001b[0mmax\u001b[0m\u001b[0;34m(\u001b[0m\u001b[0;34m)\u001b[0m\u001b[0;34m\u001b[0m\u001b[0m\n\u001b[0m\u001b[1;32m      4\u001b[0m \u001b[0mcutoff\u001b[0m\u001b[0;34m=\u001b[0m\u001b[0mint\u001b[0m\u001b[0;34m(\u001b[0m\u001b[0mlen\u001b[0m\u001b[0;34m(\u001b[0m\u001b[0mdf_ind\u001b[0m\u001b[0;34m)\u001b[0m\u001b[0;34m/\u001b[0m\u001b[0;36m2\u001b[0m\u001b[0;34m)\u001b[0m\u001b[0;34m\u001b[0m\u001b[0m\n\u001b[1;32m      5\u001b[0m \u001b[0mplt\u001b[0m\u001b[0;34m.\u001b[0m\u001b[0mplot\u001b[0m\u001b[0;34m(\u001b[0m\u001b[0mdf_ind\u001b[0m\u001b[0;34m.\u001b[0m\u001b[0miloc\u001b[0m\u001b[0;34m[\u001b[0m\u001b[0mcutoff\u001b[0m\u001b[0;34m:\u001b[0m\u001b[0;34m,\u001b[0m\u001b[0msl\u001b[0m\u001b[0;34m]\u001b[0m\u001b[0;34m/\u001b[0m\u001b[0mdf_ind_scale\u001b[0m\u001b[0;34m)\u001b[0m\u001b[0;34m\u001b[0m\u001b[0m\n",
      "\u001b[0;32m/home/jonathan/anaconda3/lib/python3.6/site-packages/pandas/core/generic.py\u001b[0m in \u001b[0;36mabs\u001b[0;34m(self)\u001b[0m\n\u001b[1;32m   5661\u001b[0m         \u001b[0mabs\u001b[0m\u001b[0;34m:\u001b[0m \u001b[0mtype\u001b[0m \u001b[0mof\u001b[0m \u001b[0mcaller\u001b[0m\u001b[0;34m\u001b[0m\u001b[0m\n\u001b[1;32m   5662\u001b[0m         \"\"\"\n\u001b[0;32m-> 5663\u001b[0;31m         \u001b[0;32mreturn\u001b[0m \u001b[0mnp\u001b[0m\u001b[0;34m.\u001b[0m\u001b[0mabs\u001b[0m\u001b[0;34m(\u001b[0m\u001b[0mself\u001b[0m\u001b[0;34m)\u001b[0m\u001b[0;34m\u001b[0m\u001b[0m\n\u001b[0m\u001b[1;32m   5664\u001b[0m \u001b[0;34m\u001b[0m\u001b[0m\n\u001b[1;32m   5665\u001b[0m     \u001b[0;32mdef\u001b[0m \u001b[0mdescribe\u001b[0m\u001b[0;34m(\u001b[0m\u001b[0mself\u001b[0m\u001b[0;34m,\u001b[0m \u001b[0mpercentiles\u001b[0m\u001b[0;34m=\u001b[0m\u001b[0;32mNone\u001b[0m\u001b[0;34m,\u001b[0m \u001b[0minclude\u001b[0m\u001b[0;34m=\u001b[0m\u001b[0;32mNone\u001b[0m\u001b[0;34m,\u001b[0m \u001b[0mexclude\u001b[0m\u001b[0;34m=\u001b[0m\u001b[0;32mNone\u001b[0m\u001b[0;34m)\u001b[0m\u001b[0;34m:\u001b[0m\u001b[0;34m\u001b[0m\u001b[0m\n",
      "\u001b[0;31mTypeError\u001b[0m: ufunc 'absolute' did not contain a loop with signature matching types dtype('<M8[ns]') dtype('<M8[ns]')"
     ]
    }
   ],
   "source": [
    "#Plots the scaled values of the economic indictors.\n",
    "sl=slice(1,-2,2)\n",
    "df_ind_scale=df_ind.iloc[:,sl].abs().max()\n",
    "cutoff=int(len(df_ind)/2)\n",
    "plt.plot(df_ind.iloc[cutoff:,sl]/df_ind_scale)\n",
    "plt.show()"
   ]
  },
  {
   "cell_type": "markdown",
   "metadata": {
    "ein.tags": "worksheet-0",
    "slideshow": {
     "slide_type": "-"
    }
   },
   "source": [
    "Looking at the number of NA values (summed across columns) suggests that\n",
    "there are missing values in these stocks.\n",
    "\n",
    "Could set all NA to zero, then apply linear interpolation to handle isolated\n",
    "missing days.  Let's check the pattern of missing days."
   ]
  },
  {
   "cell_type": "code",
   "execution_count": 9,
   "metadata": {
    "autoscroll": false,
    "collapsed": false,
    "ein.tags": "worksheet-0",
    "slideshow": {
     "slide_type": "-"
    }
   },
   "outputs": [
    {
     "data": {
      "text/plain": [
       "<matplotlib.figure.Figure at 0x7f29b53cba90>"
      ]
     },
     "metadata": {},
     "output_type": "display_data"
    }
   ],
   "source": [
    "#Plot pattern of NA values.  Weird stripes?\n",
    "plt.figure(figsize=(10,6))\n",
    "col=df_close.columns[0:]\n",
    "plt.imshow(np.isnan(df_vol.loc['2000':,col]),aspect='auto')\n",
    "plt.show()"
   ]
  },
  {
   "cell_type": "markdown",
   "metadata": {
    "ein.tags": "worksheet-0",
    "slideshow": {
     "slide_type": "-"
    }
   },
   "source": [
    "So, some stopped stocks, and one out of place one where "
   ]
  },
  {
   "cell_type": "markdown",
   "metadata": {
    "ein.tags": "worksheet-0",
    "slideshow": {
     "slide_type": "-"
    }
   },
   "source": [
    "# Data Transformation\n",
    "\n",
    "For the initial testing, I'm just building a model based on the 100 oldest stocks (or whichever come first), and looking at 2002-2006.\n",
    "Why then?  Because it looks relatively well behaved.\n",
    "The model is trained on the first half of the data, and we then run the\n",
    "network on the whole data set.\n",
    "\n",
    "I'm currently just taking the base-10 log of the data, and scaling each\n",
    "stock to lie with [-1,1].  I found differencing the data lead to\n",
    "pretty crappy results (then again, these are also pretty crap results).\n",
    "\n",
    "So there's some choices to be played with here:\n",
    "- scaling: variance vs max/min\n",
    "- differencing?"
   ]
  },
  {
   "cell_type": "code",
   "execution_count": 202,
   "metadata": {
    "autoscroll": false,
    "collapsed": false,
    "ein.tags": "worksheet-0",
    "slideshow": {
     "slide_type": "-"
    }
   },
   "outputs": [],
   "source": [
    "Nstocks=300\n",
    "Xsub=df_tot['2000':'2006'].iloc[:,:Nstocks].values\n",
    "\n",
    "def scale_clean_data(X):\n",
    "    #set missing values to zero.  (to avoid issues in network with NaNs)\n",
    "    X[np.isnan(X)]=0\n",
    "    #take differences of logs. (shift zero to avoid NANs)\n",
    "    #Xsub2 = np.diff(np.log10(Xsub+1E-12),axis=0)\n",
    "    X = np.log10(Xsub+1E-16)\n",
    "\n",
    "    X_max = np.max(X,axis=0)\n",
    "    X_min = np.min(X,axis=0)\n",
    "\n",
    "    #Choice of scaling here: max/min vs variance?\n",
    "    #I think variance makes more sense if differencing.\n",
    "    rng = 0.5*(X_max-X_min)\n",
    "    avg = 0.5*(X_max+X_min)\n",
    "    Xscaled= (X-avg)/rng\n",
    "    return Xscaled,rng,avg\n",
    "\n",
    "Xsub2,rng,avg=scale_clean_data(Xsub)\n",
    "\n",
    "#split 3/4 as training, 1/4 as test\n",
    "N=len(Xsub2)\n",
    "Nc=int(3*N/4)\n",
    "#make training/test splits\n",
    "Xtrain = Xsub2[:Nc]\n",
    "ytrain = Xsub2[1:Nc+1] #tomorrow's return.\n",
    "\n",
    "Xtest=Xsub2[Nc:-1]\n",
    "ytest=Xsub2[Nc+2:]"
   ]
  },
  {
   "cell_type": "code",
   "execution_count": 157,
   "metadata": {
    "autoscroll": false,
    "collapsed": false,
    "ein.tags": "worksheet-0",
    "slideshow": {
     "slide_type": "-"
    }
   },
   "outputs": [],
   "source": [
    "def take_log10(X):\n",
    "    \"\"\"take_log10(X)\n",
    "    Takes base10-log of X.  Sets NaN to zero, and shifts zero values by 1E-16.\n",
    "    \"\"\"\n",
    "    #set missing values to zero.  (to avoid issues in network with NaNs)\n",
    "    y=X.copy()\n",
    "    y[np.isnan(y)]=0    \n",
    "    #take logs. (shift zero to avoid NANs)\n",
    "    y[:,log_ind] = np.log10(y[:,log_ind]+1E-16)\n",
    "    return y\n",
    "\n",
    "def scale_maxmin(X):\n",
    "    \"\"\"scale_maxmin\n",
    "\n",
    "    Scales each price column by taking log, and max/min scaling.\n",
    "    Takes log of open/high/low/volumes/etf.\n",
    "    Does not take log of indicators.\n",
    "    Max-min scales all of them.\n",
    "    Only take the log for the stock/etf data.\n",
    "    \"\"\"\n",
    "    X=take_log10(X)\n",
    "    X_max = np.nanmax(X,axis=0)\n",
    "    X_min = np.nanmin(X,axis=0)\n",
    "    #compute middle and differences of the max/min.\n",
    "    avg = 0.5*(X_max+X_min)\n",
    "    rng = 0.5*(X_max-X_min)\n",
    "    #scale to [-1,+1]\n",
    "    Xscaled= (X-avg)/rng\n",
    "    return Xscaled,rng,avg\n",
    "\n",
    "def rescale_maxmin(Xscaled,avg,rng):\n",
    "    \"\"\"rescale_maxmin\n",
    "\n",
    "    Undoes log-max/min scaling. \n",
    "    First undoes max/min scaling.  \n",
    "    Then exponentiates varaibles which had log taken.\n",
    "    \"\"\"\n",
    "    #set missing values to zero.  (to avoid issues in network with NaNs)\n",
    "    X= avg + rng*Xscaled\n",
    "    #take logs. (shift zero to avoid NANs)\n",
    "    X[:,log_ind] = 10**X[:,log_ind]\n",
    "    return X\n",
    "\n",
    "def scale_diff_var(X):\n",
    "    \"\"\"scale_diff_var\n",
    "    Scales each column by taking log, then differencing.\n",
    "    Then scales to have zero mean, and unit standard deviation..\n",
    "    Only take the log for the stock/etf data.\n",
    "    \"\"\"\n",
    "    X=take_log10(X)\n",
    "    #take differences logs. (shift zero to avoid NANs)    \n",
    "    X[:,diff_ind] = np.diff(X[:,diff_ind],axis=0)\n",
    "    X_std = np.nanstd(X,axis=0)\n",
    "    X_mean = np.nanmean(X,axis=0)\n",
    "    Xscaled= (X-X_mean)/X_std\n",
    "    return Xscaled,X_mean,X_std\n",
    "\n",
    "def rescale_diffvar(Xscaled,mu,sd,x0):\n",
    "    \"\"\"rescale_maxmin\n",
    "\n",
    "    Undoes log-max/min scaling. \n",
    "    Takes log of open/high/low/volumes/etf.\n",
    "    Does not take log of indicators.\n",
    "    Max-min scales all of them.\n",
    "    Only take the log for the stock/etf data.\n",
    "    \"\"\"\n",
    "    #set missing values to zero.  (to avoid issues in network with NaNs)\n",
    "    X= mu + sd*Xscaled\n",
    "    X= np.insert(X,0,x0,axis=0)\n",
    "    X[:,diff_ind] = np.cumsum(X[:,diff_ind],axis=0)\n",
    "    #take logs. (shift zero to avoid NANs)\n",
    "    X[:,log_ind] = 10**X[:,log_ind]\n",
    "    return X"
   ]
  },
  {
   "cell_type": "code",
   "execution_count": 13,
   "metadata": {
    "autoscroll": false,
    "collapsed": false,
    "ein.tags": "worksheet-0",
    "slideshow": {
     "slide_type": "-"
    }
   },
   "outputs": [
    {
     "data": {
      "text/plain": [
       "<matplotlib.figure.Figure at 0x7f2986da1a20>"
      ]
     },
     "metadata": {},
     "output_type": "display_data"
    }
   ],
   "source": [
    "#check scaling\n",
    "plt.figure()\n",
    "plt.plot(Xtrain[:,0:5])\n",
    "plt.plot(ytrain[:,0:5])\n",
    "plt.show()"
   ]
  },
  {
   "cell_type": "markdown",
   "metadata": {
    "ein.tags": "worksheet-0",
    "slideshow": {
     "slide_type": "-"
    }
   },
   "source": [
    "# Neural Network\n",
    "\n",
    "This model is just a test based purely on the stock data.\n",
    "The network uses a multi-layer RNN, with two hidden layers at input/output.  They use leaky ReLU activation.\n",
    "The model currently plays with 100 stocks from 2002-2006.\n",
    "\n",
    "This uses a model I've cobbled together in Tensorflow.\n",
    "The OO structure is borrowed from the online problem sets\n",
    "from CS224 on NLP offered in 2017 at Stanford.\n",
    "The NN is borrowed from A. Geron \"Hands on Machine Learning with Scikit-Learn and Tensorflow\", which I've found to be the best\n",
    "overall introduction, and has a good mix of background, and code.\n",
    "(There is also an associated Github account with code).\n",
    "\n",
    "The Tensorflow docs were pretty hard reading, and there seem to be lots\n",
    "of tricks that only practitioners on StackOverflow are aware of.  (But the tutorials are pretty readable.)\n",
    "\n",
    "Note network currently only predicts one timestep into the future. \n"
   ]
  },
  {
   "cell_type": "code",
   "execution_count": 153,
   "metadata": {
    "autoscroll": false,
    "collapsed": false,
    "ein.tags": "worksheet-0",
    "slideshow": {
     "slide_type": "-"
    }
   },
   "outputs": [],
   "source": [
    "import tensorflow as tf\n",
    "from neural_networks.recurrent_network import recurrent_NN"
   ]
  },
  {
   "cell_type": "markdown",
   "metadata": {
    "ein.tags": "worksheet-0",
    "slideshow": {
     "slide_type": "-"
    }
   },
   "source": [
    "# Fitting RNN"
   ]
  },
  {
   "cell_type": "code",
   "execution_count": 14,
   "metadata": {
    "autoscroll": false,
    "collapsed": false,
    "ein.tags": "worksheet-0",
    "slideshow": {
     "slide_type": "-"
    }
   },
   "outputs": [
    {
     "name": "stdout",
     "output_type": "stream",
     "text": [
      "(LSTMStateTuple(c=<tf.Tensor 'rnn/while/Exit_2:0' shape=(?, 100) dtype=float32>, h=<tf.Tensor 'rnn/while/Exit_3:0' shape=(?, 100) dtype=float32>), LSTMStateTuple(c=<tf.Tensor 'rnn/while/Exit_4:0' shape=(?, 100) dtype=float32>, h=<tf.Tensor 'rnn/while/Exit_5:0' shape=(?, 100) dtype=float32>))\n",
      "Tensor(\"strided_slice:0\", shape=(2, ?, 300), dtype=float32)\n"
     ]
    }
   ],
   "source": [
    "#define network.\n",
    "#Note a lot of network parameters are defined in __init__ in \"recurrent_network.py\".\n",
    "#A more robust structure would pass a config dict or something like that.\n",
    "RNN=recurrent_NN(60,Nstocks,100,Nstocks,'LSTM')"
   ]
  },
  {
   "cell_type": "code",
   "execution_count": 15,
   "metadata": {
    "autoscroll": false,
    "collapsed": false,
    "ein.tags": "worksheet-0",
    "slideshow": {
     "slide_type": "-"
    }
   },
   "outputs": [
    {
     "name": "stdout",
     "output_type": "stream",
     "text": [
      "iter #20. Current MSE:0.22016216814517975\n",
      "Total Time taken:21.250980377197266\n",
      "\n",
      "\n"
     ]
    },
    {
     "ename": "KeyboardInterrupt",
     "evalue": "",
     "output_type": "error",
     "traceback": [
      "\u001b[0;31m---------------------------------------------------------------------------\u001b[0m",
      "\u001b[0;31mKeyboardInterrupt\u001b[0m                         Traceback (most recent call last)",
      "\u001b[0;32m<ipython-input-15-2dc295e33583>\u001b[0m in \u001b[0;36m<module>\u001b[0;34m()\u001b[0m\n\u001b[1;32m      6\u001b[0m \u001b[0;34m\u001b[0m\u001b[0m\n\u001b[1;32m      7\u001b[0m \u001b[0;34m\u001b[0m\u001b[0m\n\u001b[0;32m----> 8\u001b[0;31m \u001b[0mRNN\u001b[0m\u001b[0;34m.\u001b[0m\u001b[0mtrain_graph\u001b[0m\u001b[0;34m(\u001b[0m\u001b[0mXtrain\u001b[0m\u001b[0;34m,\u001b[0m\u001b[0mXtrain\u001b[0m\u001b[0;34m,\u001b[0m\u001b[0msave_name\u001b[0m\u001b[0;34m=\u001b[0m\u001b[0;34m'tf_models/rnn_test'\u001b[0m\u001b[0;34m)\u001b[0m\u001b[0;34m\u001b[0m\u001b[0m\n\u001b[0m\u001b[1;32m      9\u001b[0m \u001b[0;31m#Note the tiny, tiny errors.  Probably badly overfitting.\u001b[0m\u001b[0;34m\u001b[0m\u001b[0;34m\u001b[0m\u001b[0m\n\u001b[1;32m     10\u001b[0m \u001b[0;31m#Need to fix the dropout so it's only on in training.\u001b[0m\u001b[0;34m\u001b[0m\u001b[0;34m\u001b[0m\u001b[0m\n",
      "\u001b[0;32m/home/jonathan/Data-Science/PDX_DataScience/PDX_finance/recurrent_network.py\u001b[0m in \u001b[0;36mtrain_graph\u001b[0;34m(self, Xi, yi, save_name)\u001b[0m\n\u001b[1;32m    293\u001b[0m                 \u001b[0;31m#select random starting point.\u001b[0m\u001b[0;34m\u001b[0m\u001b[0;34m\u001b[0m\u001b[0m\n\u001b[1;32m    294\u001b[0m                 \u001b[0mX_batch\u001b[0m\u001b[0;34m,\u001b[0m\u001b[0my_batch\u001b[0m\u001b[0;34m=\u001b[0m\u001b[0mself\u001b[0m\u001b[0;34m.\u001b[0m\u001b[0mget_random_batch\u001b[0m\u001b[0;34m(\u001b[0m\u001b[0mXi\u001b[0m\u001b[0;34m,\u001b[0m\u001b[0myi\u001b[0m\u001b[0;34m)\u001b[0m\u001b[0;34m\u001b[0m\u001b[0m\n\u001b[0;32m--> 295\u001b[0;31m                 \u001b[0mcurrent_loss\u001b[0m\u001b[0;34m=\u001b[0m\u001b[0mself\u001b[0m\u001b[0;34m.\u001b[0m\u001b[0mtrain_on_batch\u001b[0m\u001b[0;34m(\u001b[0m\u001b[0msess\u001b[0m\u001b[0;34m,\u001b[0m \u001b[0mX_batch\u001b[0m\u001b[0;34m,\u001b[0m \u001b[0my_batch\u001b[0m\u001b[0;34m)\u001b[0m\u001b[0;34m\u001b[0m\u001b[0m\n\u001b[0m\u001b[1;32m    296\u001b[0m                 \u001b[0mt2_b\u001b[0m\u001b[0;34m=\u001b[0m\u001b[0mtime\u001b[0m\u001b[0;34m.\u001b[0m\u001b[0mtime\u001b[0m\u001b[0;34m(\u001b[0m\u001b[0;34m)\u001b[0m\u001b[0;34m\u001b[0m\u001b[0m\n\u001b[1;32m    297\u001b[0m                 \u001b[0;32mif\u001b[0m \u001b[0;34m(\u001b[0m\u001b[0miteration\u001b[0m\u001b[0;34m)\u001b[0m\u001b[0;34m%\u001b[0m\u001b[0mself\u001b[0m\u001b[0;34m.\u001b[0m\u001b[0mnprint\u001b[0m \u001b[0;34m==\u001b[0m\u001b[0;36m0\u001b[0m\u001b[0;34m:\u001b[0m\u001b[0;34m\u001b[0m\u001b[0m\n",
      "\u001b[0;32m/home/jonathan/Data-Science/PDX_DataScience/PDX_finance/recurrent_network.py\u001b[0m in \u001b[0;36mtrain_on_batch\u001b[0;34m(self, sess, inputs_batch, labels_batch)\u001b[0m\n\u001b[1;32m    196\u001b[0m         \"\"\"\n\u001b[1;32m    197\u001b[0m         \u001b[0mfeed\u001b[0m \u001b[0;34m=\u001b[0m \u001b[0mself\u001b[0m\u001b[0;34m.\u001b[0m\u001b[0mcreate_feed_dict\u001b[0m\u001b[0;34m(\u001b[0m\u001b[0minputs_batch\u001b[0m\u001b[0;34m,\u001b[0m \u001b[0mlabels_batch\u001b[0m\u001b[0;34m=\u001b[0m\u001b[0mlabels_batch\u001b[0m\u001b[0;34m)\u001b[0m\u001b[0;34m\u001b[0m\u001b[0m\n\u001b[0;32m--> 198\u001b[0;31m         \u001b[0m_\u001b[0m\u001b[0;34m,\u001b[0m \u001b[0mloss\u001b[0m \u001b[0;34m=\u001b[0m \u001b[0msess\u001b[0m\u001b[0;34m.\u001b[0m\u001b[0mrun\u001b[0m\u001b[0;34m(\u001b[0m\u001b[0;34m[\u001b[0m\u001b[0mself\u001b[0m\u001b[0;34m.\u001b[0m\u001b[0mtrain_op\u001b[0m\u001b[0;34m,\u001b[0m \u001b[0mself\u001b[0m\u001b[0;34m.\u001b[0m\u001b[0mloss\u001b[0m\u001b[0;34m]\u001b[0m\u001b[0;34m,\u001b[0m \u001b[0mfeed_dict\u001b[0m\u001b[0;34m=\u001b[0m\u001b[0mfeed\u001b[0m\u001b[0;34m)\u001b[0m\u001b[0;34m\u001b[0m\u001b[0m\n\u001b[0m\u001b[1;32m    199\u001b[0m         \u001b[0;32mreturn\u001b[0m \u001b[0mloss\u001b[0m\u001b[0;34m\u001b[0m\u001b[0m\n\u001b[1;32m    200\u001b[0m \u001b[0;34m\u001b[0m\u001b[0m\n",
      "\u001b[0;32m/home/jonathan/.local/lib/python3.6/site-packages/tensorflow/python/client/session.py\u001b[0m in \u001b[0;36mrun\u001b[0;34m(self, fetches, feed_dict, options, run_metadata)\u001b[0m\n\u001b[1;32m    887\u001b[0m     \u001b[0;32mtry\u001b[0m\u001b[0;34m:\u001b[0m\u001b[0;34m\u001b[0m\u001b[0m\n\u001b[1;32m    888\u001b[0m       result = self._run(None, fetches, feed_dict, options_ptr,\n\u001b[0;32m--> 889\u001b[0;31m                          run_metadata_ptr)\n\u001b[0m\u001b[1;32m    890\u001b[0m       \u001b[0;32mif\u001b[0m \u001b[0mrun_metadata\u001b[0m\u001b[0;34m:\u001b[0m\u001b[0;34m\u001b[0m\u001b[0m\n\u001b[1;32m    891\u001b[0m         \u001b[0mproto_data\u001b[0m \u001b[0;34m=\u001b[0m \u001b[0mtf_session\u001b[0m\u001b[0;34m.\u001b[0m\u001b[0mTF_GetBuffer\u001b[0m\u001b[0;34m(\u001b[0m\u001b[0mrun_metadata_ptr\u001b[0m\u001b[0;34m)\u001b[0m\u001b[0;34m\u001b[0m\u001b[0m\n",
      "\u001b[0;32m/home/jonathan/.local/lib/python3.6/site-packages/tensorflow/python/client/session.py\u001b[0m in \u001b[0;36m_run\u001b[0;34m(self, handle, fetches, feed_dict, options, run_metadata)\u001b[0m\n\u001b[1;32m   1118\u001b[0m     \u001b[0;32mif\u001b[0m \u001b[0mfinal_fetches\u001b[0m \u001b[0;32mor\u001b[0m \u001b[0mfinal_targets\u001b[0m \u001b[0;32mor\u001b[0m \u001b[0;34m(\u001b[0m\u001b[0mhandle\u001b[0m \u001b[0;32mand\u001b[0m \u001b[0mfeed_dict_tensor\u001b[0m\u001b[0;34m)\u001b[0m\u001b[0;34m:\u001b[0m\u001b[0;34m\u001b[0m\u001b[0m\n\u001b[1;32m   1119\u001b[0m       results = self._do_run(handle, final_targets, final_fetches,\n\u001b[0;32m-> 1120\u001b[0;31m                              feed_dict_tensor, options, run_metadata)\n\u001b[0m\u001b[1;32m   1121\u001b[0m     \u001b[0;32melse\u001b[0m\u001b[0;34m:\u001b[0m\u001b[0;34m\u001b[0m\u001b[0m\n\u001b[1;32m   1122\u001b[0m       \u001b[0mresults\u001b[0m \u001b[0;34m=\u001b[0m \u001b[0;34m[\u001b[0m\u001b[0;34m]\u001b[0m\u001b[0;34m\u001b[0m\u001b[0m\n",
      "\u001b[0;32m/home/jonathan/.local/lib/python3.6/site-packages/tensorflow/python/client/session.py\u001b[0m in \u001b[0;36m_do_run\u001b[0;34m(self, handle, target_list, fetch_list, feed_dict, options, run_metadata)\u001b[0m\n\u001b[1;32m   1315\u001b[0m     \u001b[0;32mif\u001b[0m \u001b[0mhandle\u001b[0m \u001b[0;32mis\u001b[0m \u001b[0;32mNone\u001b[0m\u001b[0;34m:\u001b[0m\u001b[0;34m\u001b[0m\u001b[0m\n\u001b[1;32m   1316\u001b[0m       return self._do_call(_run_fn, self._session, feeds, fetches, targets,\n\u001b[0;32m-> 1317\u001b[0;31m                            options, run_metadata)\n\u001b[0m\u001b[1;32m   1318\u001b[0m     \u001b[0;32melse\u001b[0m\u001b[0;34m:\u001b[0m\u001b[0;34m\u001b[0m\u001b[0m\n\u001b[1;32m   1319\u001b[0m       \u001b[0;32mreturn\u001b[0m \u001b[0mself\u001b[0m\u001b[0;34m.\u001b[0m\u001b[0m_do_call\u001b[0m\u001b[0;34m(\u001b[0m\u001b[0m_prun_fn\u001b[0m\u001b[0;34m,\u001b[0m \u001b[0mself\u001b[0m\u001b[0;34m.\u001b[0m\u001b[0m_session\u001b[0m\u001b[0;34m,\u001b[0m \u001b[0mhandle\u001b[0m\u001b[0;34m,\u001b[0m \u001b[0mfeeds\u001b[0m\u001b[0;34m,\u001b[0m \u001b[0mfetches\u001b[0m\u001b[0;34m)\u001b[0m\u001b[0;34m\u001b[0m\u001b[0m\n",
      "\u001b[0;32m/home/jonathan/.local/lib/python3.6/site-packages/tensorflow/python/client/session.py\u001b[0m in \u001b[0;36m_do_call\u001b[0;34m(self, fn, *args)\u001b[0m\n\u001b[1;32m   1321\u001b[0m   \u001b[0;32mdef\u001b[0m \u001b[0m_do_call\u001b[0m\u001b[0;34m(\u001b[0m\u001b[0mself\u001b[0m\u001b[0;34m,\u001b[0m \u001b[0mfn\u001b[0m\u001b[0;34m,\u001b[0m \u001b[0;34m*\u001b[0m\u001b[0margs\u001b[0m\u001b[0;34m)\u001b[0m\u001b[0;34m:\u001b[0m\u001b[0;34m\u001b[0m\u001b[0m\n\u001b[1;32m   1322\u001b[0m     \u001b[0;32mtry\u001b[0m\u001b[0;34m:\u001b[0m\u001b[0;34m\u001b[0m\u001b[0m\n\u001b[0;32m-> 1323\u001b[0;31m       \u001b[0;32mreturn\u001b[0m \u001b[0mfn\u001b[0m\u001b[0;34m(\u001b[0m\u001b[0;34m*\u001b[0m\u001b[0margs\u001b[0m\u001b[0;34m)\u001b[0m\u001b[0;34m\u001b[0m\u001b[0m\n\u001b[0m\u001b[1;32m   1324\u001b[0m     \u001b[0;32mexcept\u001b[0m \u001b[0merrors\u001b[0m\u001b[0;34m.\u001b[0m\u001b[0mOpError\u001b[0m \u001b[0;32mas\u001b[0m \u001b[0me\u001b[0m\u001b[0;34m:\u001b[0m\u001b[0;34m\u001b[0m\u001b[0m\n\u001b[1;32m   1325\u001b[0m       \u001b[0mmessage\u001b[0m \u001b[0;34m=\u001b[0m \u001b[0mcompat\u001b[0m\u001b[0;34m.\u001b[0m\u001b[0mas_text\u001b[0m\u001b[0;34m(\u001b[0m\u001b[0me\u001b[0m\u001b[0;34m.\u001b[0m\u001b[0mmessage\u001b[0m\u001b[0;34m)\u001b[0m\u001b[0;34m\u001b[0m\u001b[0m\n",
      "\u001b[0;32m/home/jonathan/.local/lib/python3.6/site-packages/tensorflow/python/client/session.py\u001b[0m in \u001b[0;36m_run_fn\u001b[0;34m(session, feed_dict, fetch_list, target_list, options, run_metadata)\u001b[0m\n\u001b[1;32m   1300\u001b[0m           return tf_session.TF_Run(session, options,\n\u001b[1;32m   1301\u001b[0m                                    \u001b[0mfeed_dict\u001b[0m\u001b[0;34m,\u001b[0m \u001b[0mfetch_list\u001b[0m\u001b[0;34m,\u001b[0m \u001b[0mtarget_list\u001b[0m\u001b[0;34m,\u001b[0m\u001b[0;34m\u001b[0m\u001b[0m\n\u001b[0;32m-> 1302\u001b[0;31m                                    status, run_metadata)\n\u001b[0m\u001b[1;32m   1303\u001b[0m \u001b[0;34m\u001b[0m\u001b[0m\n\u001b[1;32m   1304\u001b[0m     \u001b[0;32mdef\u001b[0m \u001b[0m_prun_fn\u001b[0m\u001b[0;34m(\u001b[0m\u001b[0msession\u001b[0m\u001b[0;34m,\u001b[0m \u001b[0mhandle\u001b[0m\u001b[0;34m,\u001b[0m \u001b[0mfeed_dict\u001b[0m\u001b[0;34m,\u001b[0m \u001b[0mfetch_list\u001b[0m\u001b[0;34m)\u001b[0m\u001b[0;34m:\u001b[0m\u001b[0;34m\u001b[0m\u001b[0m\n",
      "\u001b[0;31mKeyboardInterrupt\u001b[0m: "
     ]
    }
   ],
   "source": [
    "#Rebuild the tensorflow graph.\n",
    "RNN.build()\n",
    "#Actually train the graph on first half of data.\n",
    "#Give all of the data to this subroutine, where it selects\n",
    "# the inputs and target data in get_random_batch\n",
    "\n",
    "RNN.train_graph(Xtrain,Xtrain,save_name='tf_models/rnn_test')\n",
    "#Note the tiny, tiny errors.  Probably badly overfitting.\n",
    "#Need to fix the dropout so it's only on in training."
   ]
  },
  {
   "cell_type": "code",
   "execution_count": 19,
   "metadata": {
    "autoscroll": false,
    "collapsed": false,
    "ein.tags": "worksheet-0",
    "slideshow": {
     "slide_type": "-"
    }
   },
   "outputs": [
    {
     "name": "stdout",
     "output_type": "stream",
     "text": [
      "Automatic pdb calling has been turned ON\n"
     ]
    }
   ],
   "source": [
    "%pdb on"
   ]
  },
  {
   "cell_type": "code",
   "execution_count": 158,
   "metadata": {
    "autoscroll": false,
    "collapsed": false,
    "ein.tags": "worksheet-0",
    "slideshow": {
     "slide_type": "-"
    }
   },
   "outputs": [],
   "source": [
    "#Predict on all of the data.\n",
    "#This loads up a previous model.\n",
    "#RNN_pred=RNN.predict_all('tf_models/rnn_test',20,Xsub2,reset=True)"
   ]
  },
  {
   "cell_type": "code",
   "execution_count": 11,
   "metadata": {
    "autoscroll": false,
    "collapsed": false,
    "ein.tags": "worksheet-0",
    "slideshow": {
     "slide_type": "-"
    }
   },
   "outputs": [],
   "source": [
    "def plot_pred(X,pred,indx_range):\n",
    "    \"\"\"Plots a particular stock and the prediction\"\"\"\n",
    "\n",
    "    plt.figure()\n",
    "    plt.subplot(121)\n",
    "    plt.plot(X[:,indx_range])\n",
    "    plt.plot(pred[:,indx_range])\n",
    "    plt.plot([len(X)/2]*2,[-1,1],'k-')\n",
    "    plt.legend(['Actual','Forecast'])\n",
    "    plt.title('Raw')\n",
    "\n",
    "    plt.subplot(122)\n",
    "    plt.plot(np.cumsum(X[:,indx_range],axis=0))\n",
    "    plt.plot(np.cumsum(pred[:,indx_range],axis=0))\n",
    "    plt.legend(['Actual','Forecast'])    \n",
    "    plt.title('Cumulative')\n",
    "\n",
    "    plt.show()\n",
    "    "
   ]
  },
  {
   "cell_type": "code",
   "execution_count": 17,
   "metadata": {
    "autoscroll": false,
    "collapsed": false,
    "ein.tags": "worksheet-0",
    "slideshow": {
     "slide_type": "-"
    }
   },
   "outputs": [
    {
     "data": {
      "image/png": "[encoded data removed]",
      "text/plain": [
       "<matplotlib.figure.Figure at 0x7efba5b7e630>"
      ]
     },
     "metadata": {},
     "output_type": "display_data"
    }
   ],
   "source": [
    "#Could make predicted results a time series for nicer formating, and dates.\n",
    "#Plot cumulative for cases when we've also differenced.\n",
    "plot_pred(Xsub2,RNN_pred,50)"
   ]
  },
  {
   "cell_type": "markdown",
   "metadata": {
    "ein.tags": "worksheet-0",
    "slideshow": {
     "slide_type": "-"
    }
   },
   "source": [
    "This RNN forecast is also WAY worse than a persistence forecast (tomorrow's price is the same as todays).\n",
    "Big question: why is the price wandering away? Even if the model is fixed (weights unchanged), surely it should take the recent past (which the model uses to forecast tomorrow's demand) into account.\n",
    "\n",
    "Note the effect of further smoothing, which suggests a clearer trend, that might be easier to model.\n",
    "That suggests the convolutional networks may be useful,\n",
    "perhaps with running averages to smooth the data.  Forecasting on a week timescale might allevative some of that too?"
   ]
  },
  {
   "cell_type": "code",
   "execution_count": 13,
   "metadata": {
    "autoscroll": false,
    "collapsed": false,
    "ein.tags": "worksheet-0",
    "slideshow": {
     "slide_type": "-"
    }
   },
   "outputs": [
    {
     "data": {
      "image/png": "[encoded data removed]",
      "text/plain": [
       "<matplotlib.figure.Figure at 0x7efba5c45550>"
      ]
     },
     "metadata": {},
     "output_type": "display_data"
    }
   ],
   "source": [
    "#Let's look at the differences between the predicted and actual\n",
    "#results at the end of the period.\n",
    "pred_diff=RNN_pred[-1]-Xsub2[-1]\n",
    "plt.hist(pred_diff)\n",
    "plt.show()"
   ]
  },
  {
   "cell_type": "code",
   "execution_count": 15,
   "metadata": {
    "autoscroll": false,
    "collapsed": false,
    "ein.tags": "worksheet-0",
    "slideshow": {
     "slide_type": "-"
    }
   },
   "outputs": [
    {
     "data": {
      "text/plain": [
       "(-0.1433746024133806, 1.0660086500156463)"
      ]
     },
     "execution_count": 15,
     "metadata": {},
     "output_type": "execute_result"
    }
   ],
   "source": [
    "(np.mean(pred_diff),np.std(pred_diff))"
   ]
  },
  {
   "cell_type": "code",
   "execution_count": 104,
   "metadata": {
    "autoscroll": false,
    "collapsed": false,
    "ein.tags": "worksheet-0",
    "slideshow": {
     "slide_type": "-"
    }
   },
   "outputs": [],
   "source": [
    "#Let's now see how much the predictions vary (across all stocks) at the end of training, 20 trading days after that,\n",
    "# and at the end of the period, a year or two out.\n",
    "\n",
    "#Note that these predictions use the data from those periods, but the model is not being updated.\n",
    "\n",
    "def plot_err_hist(target,pred,Nc):\n",
    "    '''plot_err_hist\n",
    "\n",
    "    Makes histograms of the errors between the target and prediction\n",
    "    at multiple time scales aroud the tend of the training period.\n",
    "    '''\n",
    "    \n",
    "    Nc = int(len(Xsub2)/2)\n",
    "    plt.figure(figsize=(10,6))\n",
    "\n",
    "    plt.subplot(141)\n",
    "    pred_diff=pred[Nc-20]-target[Nc-20]\n",
    "    plt.title('End of training - 20 days')\n",
    "    plt.hist(pred_diff)\n",
    "\n",
    "    plt.subplot(142)\n",
    "    pred_diff=pred[Nc]-target[Nc]\n",
    "    plt.title('End of training')\n",
    "    plt.hist(pred_diff)\n",
    "\n",
    "    plt.subplot(143)\n",
    "    pred_diff=pred[Nc+20]-target[Nc+20]\n",
    "    plt.title('End of training+20 days')\n",
    "    plt.hist(pred_diff)\n",
    "\n",
    "    plt.subplot(144)\n",
    "    pred_diff=pred[-1]-target[-1]\n",
    "    plt.hist(pred_diff)\n",
    "    plt.title('End of test')\n",
    "    plt.xlabel('Forecast Residuals')\n",
    "    plt.show()\n"
   ]
  },
  {
   "cell_type": "markdown",
   "metadata": {
    "ein.tags": "worksheet-0",
    "slideshow": {
     "slide_type": "-"
    }
   },
   "source": [
    "The final graph is worst, it is also trying to predict many years ahead, based on essentially short-term info.\n",
    "Probably could describe build up of cumulative errors as a random walk?\n",
    "Would guess errors grows as sqrt(T), so the variance of this distribution grows as T.\n"
   ]
  },
  {
   "cell_type": "markdown",
   "metadata": {
    "ein.tags": "worksheet-0",
    "slideshow": {
     "slide_type": "-"
    }
   },
   "source": [
    "# Keras Recurrent Neural Network\n",
    "\n",
    "Let's build a similar recurrent network in Keras (just using the adjusted close for now). \n",
    "\n",
    "The goal is to predict the a whole quarters worth of weekly returns on 6 sectors, denoted by $\\mathbf{y}_{t}$, based on a sequence of inputs $\\mathbf{x}_{t}$, which can be (stocks, previous values of the inputs, macroeconomic indicators ).\n",
    "\n",
    "We will use a recurrent network, which should map a whole sequence of previous inputs to another sequence of output vectors.\n",
    "\\begin{equation}\n",
    "  \\hat{y}_{t+n} = RNN(\\mathbf{x}_t,\\mathbf{x}_{t-1},\\ldots \\mathbf{x}_{t-\\tau})\n",
    "\\end{equation}\n",
    "where $\\tau$ is the maximum period we look back over, and $n$ is the number of periods we are looking forward over.\n",
    "\n",
    "Ideally, we would use all output times together to predict the outputs.\n",
    "I think a reshape is in order here?\n",
    "\n",
    "The LSTM will make a bunch of predictions for each time step (we will forecast fewer time steps than we input).\n"
   ]
  },
  {
   "cell_type": "code",
   "execution_count": 48,
   "metadata": {
    "autoscroll": false,
    "collapsed": false,
    "ein.tags": "worksheet-0",
    "slideshow": {
     "slide_type": "-"
    }
   },
   "outputs": [
    {
     "name": "stderr",
     "output_type": "stream",
     "text": [
      "Using TensorFlow backend.\n"
     ]
    }
   ],
   "source": [
    "#Borrowing some from Keras docs, and \"https://machinelearningmastery.com/time-series-prediction-lstm-recurrent-neural-networks-python-keras/\"\n",
    "import keras  \n",
    "from keras.models import Sequential \n",
    "from keras.layers import Dense, RNN, LSTM, StackedRNNCells, Reshape, Dropout\n",
    "from keras.losses import mean_squared_error, mean_absolute_error\n",
    "from keras.layers.advanced_activations import LeakyReLU"
   ]
  },
  {
   "cell_type": "code",
   "execution_count": 73,
   "metadata": {
    "autoscroll": false,
    "collapsed": false,
    "ein.tags": "worksheet-0",
    "slideshow": {
     "slide_type": "-"
    }
   },
   "outputs": [],
   "source": []
  },
  {
   "cell_type": "code",
   "execution_count": 51,
   "metadata": {
    "autoscroll": false,
    "collapsed": false,
    "ein.tags": "worksheet-0",
    "slideshow": {
     "slide_type": "-"
    }
   },
   "outputs": [
    {
     "data": {
      "text/plain": [
       "<matplotlib.figure.Figure at 0x7efbc3207ba8>"
      ]
     },
     "metadata": {},
     "output_type": "display_data"
    }
   ],
   "source": [
    "plt.figure()\n",
    "plt.plot(Xsub_scale[:,-Netf:])\n",
    "plt.show()"
   ]
  },
  {
   "cell_type": "code",
   "execution_count": 223,
   "metadata": {
    "autoscroll": false,
    "collapsed": false,
    "ein.tags": "worksheet-0",
    "slideshow": {
     "slide_type": "-"
    }
   },
   "outputs": [],
   "source": [
    "# Xsub=df_tot.loc['2000':'2005'].values\n",
    "# method='maxmin'\n",
    "# if (method=='maxmin'):\n",
    "#    Xsub_scale,Xrng,Xavg=scale_maxmin(Xsub)\n",
    "# elif (method=='differencing'):\n",
    "#     Xsub_scale,Xrng,Xavg=scale_diff_var(Xsub)\n",
    "# else:\n",
    "\n",
    "\n",
    "# #split 3/4 as training, 1/4 as validation\n",
    "# N=len(Xsub_scale)\n",
    "# Nc=int(3*N/4)\n",
    "\n",
    "# #select out desired range of columns for training (stocks, etf, ind)\n",
    "# N0=Nstocks\n",
    "# ind_stock=np.arange(Nstocks)\n",
    "# #pull out ETFS\n",
    "# N0=Nstocks_tot\n",
    "# N1=N0+Netf\n",
    "# ind_etf=np.arange(N0,N1)\n",
    "# #pull out indicators\n",
    "# N0=Nstocks_tot+Netf\n",
    "# N1=N0+Nind\n",
    "# ind_ind=np.arange(N0, N1)\n",
    "# #combine out values to use in \n",
    "# ind_xsub=np.append(ind_stock,ind_etf)\n",
    "# ind_xsub=np.append(ind_xsub,ind_ind)\n",
    "\n",
    "# #make training/test splits\n",
    "# #train on stock, indicators and ETFs.\n",
    "# Xtrain = Xsub_scale[:Nc,ind_x]\n",
    "# ytrain= Xsub_scale[:Nc,ind_etf]"
   ]
  },
  {
   "cell_type": "markdown",
   "metadata": {
    "ein.tags": "worksheet-0",
    "slideshow": {
     "slide_type": "-"
    }
   },
   "source": [
    "I had hoped Keras would automatically take care of random temporal batching like this, but unfortunately it does not.\n",
    "So, this routine which randomly selects a batch of indices to start fitting at.  "
   ]
  },
  {
   "cell_type": "code",
   "execution_count": 34,
   "metadata": {
    "autoscroll": false,
    "collapsed": false,
    "ein.tags": "worksheet-0",
    "slideshow": {
     "slide_type": "-"
    }
   },
   "outputs": [],
   "source": [
    "#note: this relies on looking up global parameters (blech)\n",
    "def get_rnn_batch(X,y):\n",
    "    \"\"\"get_rnn_batch\n",
    "    Returns a randomly selected batch of input/output sequences.\n",
    "    Inputs are all stocks, ETFs and indicators\n",
    "    Outputs are just future ETFs from input sequence endpoint.\n",
    "    \"\"\"\n",
    "    #starting indices\n",
    "    ind=np.arange(len(X[:,0])-Ntime_in-Ntime_out)\n",
    "    rand_ind=np.random.choice(ind,Nbatch,replace=False)\n",
    "    Xb=np.zeros((Nbatch,Ntime_in, Ninput))\n",
    "    yb=np.zeros((Nbatch,Ntime_out,Noutput))\n",
    "    #now populate table (couldn't see nice way to vectorize this assignment, mabe via overloading)\n",
    "    for i in range(Nbatch):\n",
    "        t0=rand_ind[i]\n",
    "        t1=t0+Ntime_in\n",
    "        t2=t1+Ntime_out\n",
    "        #input all past parameters\n",
    "        Xb[i]=X[t0:t1]\n",
    "        #target future ETFs\n",
    "        yb[i]=y[t1:t2]\n",
    "    return Xb,yb"
   ]
  },
  {
   "cell_type": "markdown",
   "metadata": {
    "ein.tags": "worksheet-0",
    "slideshow": {
     "slide_type": "-"
    }
   },
   "source": [
    "## Making the Network\n",
    "\n",
    "The following makes a 4 layer network - a dense layer at input with linear activation to reduce dimension,\n",
    "followed by two recurrent layers (using a LSTM for longer memory),\n",
    "and a final dense layer to map from the hidden units to the final outputs.\n",
    "The LSTMs can use \"leaky ReLU\" activation, which are suited to long sequences since the gradients dont explode, or go to zero.\n",
    "The output sequences are then flattened, before being put through\n",
    "a final linear layer to add together the results.\n",
    "(In a fancy version this could be a CNN?)\n",
    "The final result is reshaped again to output a batch of sequences.\n",
    "\n",
    "The Adam optimizer is basically a fancy version of gradient descent (with a momentum, scaling based on previous updates, and learning rate scheduling)"
   ]
  },
  {
   "cell_type": "code",
   "execution_count": 151,
   "metadata": {
    "autoscroll": false,
    "collapsed": false,
    "ein.tags": "worksheet-0",
    "slideshow": {
     "slide_type": "-"
    }
   },
   "outputs": [],
   "source": [
    "class Config(object):\n",
    "    def __init__(self):\n",
    "        self.Nstocks=100\n",
    "        self.Nfeatures=5\n",
    "        #number of times in/out.\n",
    "        self.Ntime_in=130\n",
    "        self.Ntime_out=65\n",
    "        #total linear input/outputs\n",
    "        self.Ninput=(self.Nstocks*self.Nfeatures+Netf+Nind)\n",
    "        self.Noutput=Netf\n",
    "        #network parameters\n",
    "        self.Nhidden=100\n",
    "        self.Nlayers=2\n",
    "        self.dropout_frac=0.5\n",
    "        self.Nepoch=1000\n",
    "        self.Nbatch=100\n",
    "        self.Nprint=50\n",
    "        self.train_frac=0.75\n",
    "        "
   ]
  },
  {
   "cell_type": "code",
   "execution_count": 155,
   "metadata": {
    "autoscroll": false,
    "collapsed": false,
    "ein.tags": "worksheet-0",
    "slideshow": {
     "slide_type": "-"
    }
   },
   "outputs": [],
   "source": [
    "from neural_networks.KerasRecurrentNetwork import KerasRecurrentNetwork\n",
    "\n",
    "\n",
    "# def predict_from_model(model,X):\n",
    "#     #Predict on whole of this subset (both \"training\" and \"testing\")\n",
    "#     Nf = len(X)-Ntime_in-Ntime_out\n",
    "#     ypred_tot=np.zeros((Nf,Noutput))\n",
    "#     yavg = np.zeros(Nf)\n",
    "#     i0=0\n",
    "#     i1=i0+Nbatch\n",
    "#     #split whole time sequence into sequential batches.\n",
    "#     while (i1 < Nf):\n",
    "#         X0=np.zeros((Nbatch,Ntime_in,Ninput))\n",
    "#         for i in range(Nbatch):\n",
    "#             X0[i]=X[i0+i:i0+i+Ntime]\n",
    "#         ypred=model.predict(X0,batch_size=Nbatch)\n",
    "#         #now march along batch, add up predictions.    \n",
    "#         for i in range(Nbatch):\n",
    "#             ypred_tot[Ntime_in+i0:Ntime_in+i0+Ntime_out]+=ypred[i]\n",
    "#             yavg[Ntime_in+i0:Ntime_in+i0+Ntime_out]+=1\n",
    "#         model.reset_states()    \n",
    "#         i0=i1\n",
    "#         i1+=Nbatch\n",
    "#     #predict on the remainder\n",
    "#     Nrem=Nf-i0\n",
    "#     X0=np.zeros((Nrem,Ntime,Ninput))\n",
    "#     for i in range(Nrem):\n",
    "#         X0[i]=X[i0+i:i0+i+Ntime]\n",
    "#     ypred=model.predict(X0,batch_size=Nrem)\n",
    "#     #now march along batch, add up predictions.    \n",
    "#     for i in range(Nrem):\n",
    "#         ypred_tot[Ntime_in+i0:Ntime_in+i0+Ntime_out]+=ypred[i]\n",
    "#         yavg[Ntime_in+i0:Ntime_in+i0+Ntime_out]+=1\n",
    "        \n",
    "#     ypred_tot=ypred_tot/yavg    \n",
    "   \n",
    "#     return ypred_tot\n"
   ]
  },
  {
   "cell_type": "code",
   "execution_count": 161,
   "metadata": {
    "autoscroll": false,
    "collapsed": false,
    "ein.tags": "worksheet-0",
    "slideshow": {
     "slide_type": "-"
    }
   },
   "outputs": [],
   "source": [
    "keras_conf=Config()\n",
    "Keras_RNN=KerasRecurrentNetwork(keras_conf)"
   ]
  },
  {
   "cell_type": "code",
   "execution_count": 163,
   "metadata": {
    "autoscroll": false,
    "collapsed": false,
    "ein.tags": "worksheet-0",
    "slideshow": {
     "slide_type": "-"
    }
   },
   "outputs": [],
   "source": [
    "#make network\n",
    "k_RNN=Keras_RNN.make_network()"
   ]
  },
  {
   "cell_type": "code",
   "execution_count": null,
   "metadata": {
    "autoscroll": false,
    "collapsed": false,
    "ein.tags": "worksheet-0",
    "slideshow": {
     "slide_type": "-"
    }
   },
   "outputs": [],
   "source": []
  },
  {
   "cell_type": "markdown",
   "metadata": {
    "ein.tags": "worksheet-0",
    "slideshow": {
     "slide_type": "-"
    }
   },
   "source": [
    "## Training the Network\n",
    "\n",
    "Now run in minibatches.  The \"if\" statement means we only see the output every 50 iterations.\n",
    "The \"reset_states()\" call should reset the internal state of the model.\n",
    "Note that the reported loss is the loss (MSE) on the current batch.  "
   ]
  },
  {
   "cell_type": "code",
   "execution_count": 38,
   "metadata": {
    "autoscroll": false,
    "collapsed": false,
    "ein.tags": "worksheet-0",
    "slideshow": {
     "slide_type": "-"
    }
   },
   "outputs": [
    {
     "name": "stdout",
     "output_type": "stream",
     "text": [
      "Automatic pdb calling has been turned OFF\n"
     ]
    }
   ],
   "source": [
    "%pdb off"
   ]
  },
  {
   "cell_type": "code",
   "execution_count": 36,
   "metadata": {
    "autoscroll": false,
    "collapsed": false,
    "ein.tags": "worksheet-0",
    "slideshow": {
     "slide_type": "-"
    }
   },
   "outputs": [],
   "source": [
    "rnn_model=make_deep_RNN(activ='linear')"
   ]
  },
  {
   "cell_type": "code",
   "execution_count": 59,
   "metadata": {
    "autoscroll": false,
    "collapsed": false,
    "ein.tags": "worksheet-0",
    "slideshow": {
     "slide_type": "-"
    }
   },
   "outputs": [],
   "source": [
    "#rnn_model=train_model(rnn_model,Xtrain,ytrain)"
   ]
  },
  {
   "cell_type": "code",
   "execution_count": 60,
   "metadata": {
    "autoscroll": false,
    "collapsed": false,
    "ein.tags": "worksheet-0",
    "slideshow": {
     "slide_type": "-"
    }
   },
   "outputs": [],
   "source": [
    "#ypred=predict_from_model(model,Xsub_scale)"
   ]
  },
  {
   "cell_type": "markdown",
   "metadata": {
    "ein.tags": "worksheet-0",
    "slideshow": {
     "slide_type": "-"
    }
   },
   "source": [
    "## Predicting the whole sequence\n",
    "\n",
    "This runs the network on the whole subset of data we've pulled out from 2000 to 2008.  This checks performance on both the training data,\n",
    "as well as the holdout data.  As we'll see, the performance drops precipitously once training ends.   "
   ]
  },
  {
   "cell_type": "code",
   "execution_count": 35,
   "metadata": {
    "autoscroll": false,
    "collapsed": false,
    "ein.tags": "worksheet-0",
    "slideshow": {
     "slide_type": "-"
    }
   },
   "outputs": [],
   "source": [
    "def plot_predictions(X,ytarget,ypred,Nplot_start,skip):\n",
    "    Nplot_end=Nplot_start+skip\n",
    "    plt.figure(figsize=(20,12))\n",
    "    legend_list=[]\n",
    "\n",
    "    Ntime,Nstocks=X.shape\n",
    "    #plot prediction    \n",
    "    for i in range(Nplot_start,Nplot_end):\n",
    "        j = i-Nstocks;\n",
    "        if (method=='differencing' or method=='roll_avg_diff'):\n",
    "            plt.plot(np.cumsum(ypred[:,i],axis=0),'--')\n",
    "        else:\n",
    "            plt.plot(ypred[:,i],'--')\n",
    "        if (np.abs(j)>7):\n",
    "                legend_list.append(df_tot.columns[i]+'-pred')\n",
    "        else:\n",
    "                legend_list.append(df_tot.columns[j]+'-pred')\n",
    "               \n",
    "    #plot actual    \n",
    "    for i in range(Nplot_start,Nplot_end):\n",
    "        j = i-Nstocks;    \n",
    "        if (method=='differencing' or method=='roll_avg_diff'):\n",
    "            plt.plot(np.cumsum(ytarget[:,i],axis=0),'--')\n",
    "        else:\n",
    "            plt.plot(ytarget[:,i],'-.')\n",
    "\n",
    "        if (np.abs(j)>7):\n",
    "                legend_list.append(df_tot.columns[i]+'-target')\n",
    "        else:\n",
    "                legend_list.append(df_tot.columns[j]+'-target')\n",
    "    plt.plot([Nc,Nc],[-1,1],'k')    \n",
    "    plt.legend(legend_list,bbox_to_anchor=(1,1))\n",
    "    plt.show()"
   ]
  },
  {
   "cell_type": "code",
   "execution_count": 20,
   "metadata": {
    "autoscroll": false,
    "collapsed": false,
    "ein.tags": "worksheet-0",
    "slideshow": {
     "slide_type": "-"
    }
   },
   "outputs": [],
   "source": [
    "ypred=predict_from_model(model,Xsub_scale)"
   ]
  },
  {
   "cell_type": "code",
   "execution_count": 26,
   "metadata": {
    "autoscroll": false,
    "collapsed": false,
    "ein.tags": "worksheet-0",
    "slideshow": {
     "slide_type": "-"
    }
   },
   "outputs": [
    {
     "data": {
      "text/plain": [
       "((2505, 307), (2515, 307))"
      ]
     },
     "execution_count": 26,
     "metadata": {},
     "output_type": "execute_result"
    }
   ],
   "source": [
    "ypred.shape,ytot.shape"
   ]
  },
  {
   "cell_type": "code",
   "execution_count": 37,
   "metadata": {
    "autoscroll": false,
    "collapsed": false,
    "ein.tags": "worksheet-0",
    "slideshow": {
     "slide_type": "-"
    }
   },
   "outputs": [
    {
     "data": {
      "text/plain": [
       "<matplotlib.figure.Figure at 0x7efb85e2a4e0>"
      ]
     },
     "metadata": {},
     "output_type": "display_data"
    }
   ],
   "source": [
    "plot_predictions(Xsub_scale,ytot,ypred,300,1)"
   ]
  },
  {
   "cell_type": "code",
   "execution_count": 164,
   "metadata": {
    "autoscroll": false,
    "collapsed": false,
    "ein.tags": "worksheet-0",
    "slideshow": {
     "slide_type": "-"
    }
   },
   "outputs": [
    {
     "data": {
      "text/plain": [
       "<matplotlib.figure.Figure at 0x7f417ccee518>"
      ]
     },
     "metadata": {},
     "output_type": "display_data"
    }
   ],
   "source": [
    "#plot errors\n",
    "plt.figure()\n",
    "Nplot_start=0\n",
    "Nplot_end=2\n",
    "legend_list=[];\n",
    "for i in range(Nplot_start,Nplot_end):\n",
    "    plt.plot(ypred[:,i]-ytot[Nahead:-Nahead,i])\n",
    "    legend_list.append(df_target.columns[i])\n",
    "plt.title('Model Errors over time')\n",
    "plt.legend(legend_list,bbox_to_anchor=(1,1))\n",
    "plt.show()"
   ]
  },
  {
   "cell_type": "code",
   "execution_count": 232,
   "metadata": {
    "autoscroll": false,
    "collapsed": false,
    "ein.tags": "worksheet-0",
    "slideshow": {
     "slide_type": "-"
    }
   },
   "outputs": [
    {
     "ename": "NameError",
     "evalue": "name 'plot_err_hist' is not defined",
     "output_type": "error",
     "traceback": [
      "\u001b[0;31m---------------------------------------------------------------------------\u001b[0m",
      "\u001b[0;31mNameError\u001b[0m                                 Traceback (most recent call last)",
      "\u001b[0;32m<ipython-input-232-5431582482e6>\u001b[0m in \u001b[0;36m<module>\u001b[0;34m()\u001b[0m\n\u001b[0;32m----> 1\u001b[0;31m \u001b[0mplot_err_hist\u001b[0m\u001b[0;34m(\u001b[0m\u001b[0mXsub_scale\u001b[0m\u001b[0;34m,\u001b[0m\u001b[0mNc\u001b[0m\u001b[0;34m)\u001b[0m\u001b[0;34m\u001b[0m\u001b[0m\n\u001b[0m",
      "\u001b[0;31mNameError\u001b[0m: name 'plot_err_hist' is not defined"
     ]
    }
   ],
   "source": [
    "plot_err_hist(Xsub_scale,Nc)"
   ]
  },
  {
   "cell_type": "markdown",
   "metadata": {
    "ein.tags": "worksheet-0",
    "slideshow": {
     "slide_type": "-"
    }
   },
   "source": [
    "So, the model is doing terribly.  I thought it would at least track the correct price (and get the directions wrong).\n",
    "As is, the resulting predictions are wandering far away from the actual price, even when given the correct price data.\n",
    "\n",
    "Does this make sense?  Under one point of view, these variables are all random walks.  Even if they are correlated,\n",
    "then, we can find some independent variables which are also given by random walks.  We're fitting a neural network with\n",
    "memory, and training it to fit this noise.  And when fed new noise, the results are wandering away from the prediction.\n"
   ]
  },
  {
   "cell_type": "markdown",
   "metadata": {
    "ein.tags": "worksheet-0",
    "slideshow": {
     "slide_type": "-"
    }
   },
   "source": [
    "# Simple Deep Network\n",
    "\n",
    "Let's try just making a really wide network.  With all inputs and times at once, and predicting all outputs at once.\n",
    "\n",
    "Making this work does require lots of reshaping inputs/outputs from 2D to 1D.\n",
    "I've put this in an OOP structure to try and maintain some hygiene due to multiple models using the same data.\n",
    "I hope I've caught all of the bugs from when this was just a script."
   ]
  },
  {
   "cell_type": "code",
   "execution_count": 167,
   "metadata": {
    "autoscroll": false,
    "collapsed": false,
    "ein.tags": "worksheet-0",
    "slideshow": {
     "slide_type": "-"
    }
   },
   "outputs": [],
   "source": [
    "?"
   ]
  },
  {
   "cell_type": "code",
   "execution_count": 136,
   "metadata": {
    "autoscroll": false,
    "collapsed": false,
    "ein.tags": "worksheet-0",
    "slideshow": {
     "slide_type": "-"
    }
   },
   "outputs": [],
   "source": [
    "#make a Keras model simple wide, with dense input/outputs.\n",
    "class deep_network(object):\n",
    "    Netf=7\n",
    "    Netf=10\n",
    "    def __init__(self):\n",
    "        \"\"\"\n",
    "        Wrapper for Keras Network.  Uses multiple layers.\n",
    "        Reshapes values from multiple times to a single vector.\n",
    "        Network outputs single vector of ETFs as multiple times.\n",
    "        \"\"\"\n",
    "        self.Nstocks=100\n",
    "        self.Nfeatures=5\n",
    "        #number of times in/out.\n",
    "        self.Ntime_in=130\n",
    "        self.Ntime_out=65\n",
    "        #total linear input/outputs\n",
    "        self.Ninput=(self.Nstocks*self.Nfeatures+Netf+Nind) *self.Ntime_in\n",
    "        self.Noutput=Netf*self.Ntime_out\n",
    "        #network parameters\n",
    "        self.Nhidden=100\n",
    "        self.Nlayers=2\n",
    "        self.dropout_frac=0.5\n",
    "        self.Nepoch=1000\n",
    "        self.Nbatch=100\n",
    "        self.Nprint=50\n",
    "        self.train_frac=0.75\n",
    "        keras.backend.clear_session()\n",
    "        self.model=Sequential()\n",
    "\n",
    "    def make_network(self,activ='relu'):\n",
    "        \"\"\"make_network\n",
    "        Makes a deep multilayer network with dropout.\n",
    "        Relies on flattened arrays in time as input and output.\n",
    "        So inputs will use something like X.reshape(-1).\n",
    "        And outputs will also need reshape back to form (Ntime_out,Nout)\n",
    "        \"\"\"\n",
    "        self.model.add(Dense(units=self.Nhidden, activation='linear', input_shape=(self.Ninput,))) #linear mapping at input\n",
    "        if (activ=='relu'):\n",
    "            act = keras.layers.advanced_activations.LeakyReLU( alpha=0.1)               \n",
    "            for n in range(self.Nlayers):\n",
    "                self.model.add(Dropout(rate=self.dropout_frac, noise_shape=(self.Nbatch,self.Nhidden))) \n",
    "                self.model.add(Dense(units=self.Nhidden,activation='linear'))\n",
    "                #add extra activation layer afterwards\n",
    "                self.model.add(act)\n",
    "        else:\n",
    "            for n in range(self.Nlayers):\n",
    "                self.model.add(Dropout(rate=self.dropout_frac, noise_shape=(self.Nbatch,self.Nhidden))) \n",
    "                self.model.add(Dense(units=self.Nhidden,activation=activ))\n",
    "\n",
    "        #final linear mapping at output\n",
    "        self.model.add(Dense(units=self.Noutput,activation='linear',input_shape=(self.Nhidden,))) #output layer\n",
    "        self.model.compile(optimizer='adam',loss=mean_squared_error)\n",
    "\n",
    "    def get_training_data(self,X):\n",
    "        \"\"\"get_training_data\n",
    "        Selects out a subset of the training data.\n",
    "        Requires monkey around with column indices as input data is of form:\n",
    "        [ ...stocks..., ETFS, Indicators ]\n",
    "        Those last two are static, and known.\n",
    "        Picks out a fraction of the input data and trains the rest on that. \n",
    "        \"\"\"\n",
    "        #select out desired range of columns for training (stocks, etf, ind)\n",
    "\n",
    "        indx0=np.arange(self.Nstocks)\n",
    "        Nrow,Ncol=X.shape\n",
    "        ind_x=indx0.copy()\n",
    "        for i in range(self.Nfeatures-1):\n",
    "            ind_x=np.append(i*Nstocks_tot+indx0,ind_x)\n",
    "        ind_x=np.append(np.arange(Ncol-Nind-Netf,Ncol),ind_x)\n",
    "        ind_etf=np.arange(Ncol-Netf,Ncol)\n",
    "\n",
    "        #make training/test splits\n",
    "        #train on stock, indicators and ETFs.\n",
    "        Xtrain = X[:Nc,ind_x]\n",
    "        ytrain = X[:Nc,ind_etf]\n",
    "        return Xtrain,ytrain,ind_x\n",
    "        \n",
    "    def get_batch(self,X,y):\n",
    "        \"\"\"get_batch\n",
    "        Returns a randomly selected batch of input/output sequences.\n",
    "        Inputs are all stocks, ETFs and indicators\n",
    "        Outputs are just future ETFs from input sequence endpoint.\n",
    "        \"\"\"\n",
    "        #starting indices\n",
    "        ind=np.arange(len(X[:,0])-self.Ntime_in-self.Ntime_out)\n",
    "        rand_ind=np.random.choice(ind,self.Nbatch,replace=False)\n",
    "        Xb=np.zeros((self.Nbatch,self.Ninput))\n",
    "        yb=np.zeros((self.Nbatch,self.Noutput))\n",
    "        #now populate table (couldn't see nice way to vectorize this assignment, mabe via overloading)\n",
    "        for i in range(self.Nbatch):\n",
    "            t0=rand_ind[i]\n",
    "            t1=t0+self.Ntime_in\n",
    "            t2=t1+self.Ntime_out\n",
    "            #input all past parameters\n",
    "            Xb[i]=X[t0:t1].reshape(-1)\n",
    "            #target future ETFs\n",
    "            yb[i]=y[t1:t2].reshape(-1)\n",
    "        return Xb,yb,rand_ind\n",
    "\n",
    "    def train_model(self,Xtrain,ytrain):\n",
    "        \"\"\"train_model\n",
    "        Grabs random sub-batches of data, then trains.\n",
    "        Uses two different calls to suppress output.\n",
    "        \"\"\"\n",
    "        for i in range(self.Nepoch+1):\n",
    "            #Keras assumes you have a list of X,y pairs for its sampling.\n",
    "            #Would be memory intensive to set up a whole list for this data.\n",
    "            #So wrote my own batching.\n",
    "            Xb,yb,_=self.get_batch(Xtrain,ytrain)\n",
    "            if (i)%self.Nprint==0:\n",
    "                self.model.fit(Xb,yb, epochs=1, batch_size=self.Nbatch, verbose=1)\n",
    "            else:\n",
    "                self.model.fit(Xb,yb, epochs=1, batch_size=self.Nbatch, verbose=0)\n",
    "            self.model.reset_states()\n",
    "\n",
    "    def avg_predict_from_model(self,X):\n",
    "        \"\"\"avg_predict_from_model\n",
    "\n",
    "        Currently runs all prediction on the given input X.  \n",
    "        Also currently takes a naive AVERAGE(!) over all of the output predictions. \n",
    "        \"\"\"\n",
    "        #Predict on whole of this subset (both \"training\" and \"testing\")\n",
    "\n",
    "        #compute total number of predictions to be made. \n",
    "        Nf = len(X) - self.Ntime_in - self.Ntime_out\n",
    "        ypred_tot=np.zeros((len(X),Netf))\n",
    "        yavg = np.zeros((len(X),1))\n",
    "        i0=0\n",
    "        i1=i0+self.Nbatch\n",
    "        #split whole time sequence into sequential batches.\n",
    "        while (i1 < Nf):\n",
    "            X0=np.zeros((self.Nbatch,self.Ninput))\n",
    "            for i in range(self.Nbatch):\n",
    "                t0=i0+i\n",
    "                t1=t0+self.Ntime_in\n",
    "                X0[i]=X[t0:t1].reshape(-1)\n",
    "            ypred=self.model.predict(X0,batch_size=self.Nbatch)\n",
    "            #now march along batch, add up predictions.    \n",
    "            for i in range(self.Nbatch):\n",
    "                t0=self.Ntime_in+i0+i\n",
    "                t1=t0+self.Ntime_out\n",
    "                yi=ypred[i].reshape( (self.Ntime_out, Netf))\n",
    "                ypred_tot[t0:t1]+= yi\n",
    "                yavg[t0:t1]+=1\n",
    "            self.model.reset_states()    \n",
    "            i0=i1\n",
    "            i1+=self.Nbatch\n",
    "        #predict on the remainder\n",
    "        Nrem=Nf-i0\n",
    "        X0=np.zeros((Nrem,self.Ninput))\n",
    "        for i in range(Nrem):\n",
    "            t0=i0+i\n",
    "            t1=t0+self.Ntime_in\n",
    "            X0[i]=X[t0:t1].reshape(-1)\n",
    "        ypred=self.model.predict(X0,batch_size=Nrem)\n",
    "        #now march along batch, add up predictions.    \n",
    "        for i in range(Nrem):\n",
    "            t0=self.Ntime_in+i0+i\n",
    "            t1=t0+self.Ntime_out\n",
    "            yi=ypred[i].reshape((self.Ntime_out,Netf))\n",
    "            ypred_tot[t0:t1]+= yi\n",
    "            yavg[t0:t1]+=1\n",
    "\n",
    "        ypred_tot=ypred_tot/yavg    \n",
    "\n",
    "        return ypred_tot\n",
    "\n"
   ]
  },
  {
   "cell_type": "code",
   "execution_count": 137,
   "metadata": {
    "autoscroll": false,
    "collapsed": false,
    "ein.tags": "worksheet-0",
    "slideshow": {
     "slide_type": "-"
    }
   },
   "outputs": [],
   "source": [
    "DNN=deep_network()\n",
    "#grab some data for train/validation\n",
    "X=df_tot.loc['2001':'2016'].values\n",
    "times=df_tot.loc['2001':'2016'].index.values\n",
    "\n",
    "#split 3/4 as training, 1/4 as validation\n",
    "N=len(X)\n",
    "Nc=int(DNN.train_frac*N)\n",
    "#scale based solely on training window\n",
    "X_train_scale, X_train_range, X_train_avg=scale_maxmin(X[:Nc,:])\n",
    "#now select\n",
    "X_train_sub,y_train,ind_x=DNN.get_training_data(X_train_scale)\n"
   ]
  },
  {
   "cell_type": "code",
   "execution_count": 138,
   "metadata": {
    "autoscroll": false,
    "collapsed": false,
    "ein.tags": "worksheet-0",
    "slideshow": {
     "slide_type": "-"
    }
   },
   "outputs": [
    {
     "name": "stdout",
     "output_type": "stream",
     "text": [
      "Epoch 1/1\n"
     ]
    },
    {
     "name": "stdout",
     "output_type": "stream",
     "text": [
      "\r",
      "100/100 [==============================] - 1s 12ms/step - loss: 0.4031\n"
     ]
    },
    {
     "name": "stdout",
     "output_type": "stream",
     "text": [
      "Epoch 1/1\n"
     ]
    },
    {
     "name": "stdout",
     "output_type": "stream",
     "text": [
      "\r",
      "100/100 [==============================] - 0s 4ms/step - loss: 0.6643\n"
     ]
    },
    {
     "name": "stdout",
     "output_type": "stream",
     "text": [
      "Epoch 1/1\n"
     ]
    },
    {
     "name": "stdout",
     "output_type": "stream",
     "text": [
      "\r",
      "100/100 [==============================] - 1s 5ms/step - loss: 0.2436\n"
     ]
    },
    {
     "name": "stdout",
     "output_type": "stream",
     "text": [
      "Epoch 1/1\n"
     ]
    },
    {
     "name": "stdout",
     "output_type": "stream",
     "text": [
      "\r",
      "100/100 [==============================] - 0s 5ms/step - loss: 0.1882\n"
     ]
    },
    {
     "name": "stdout",
     "output_type": "stream",
     "text": [
      "Epoch 1/1\n"
     ]
    },
    {
     "name": "stdout",
     "output_type": "stream",
     "text": [
      "\r",
      "100/100 [==============================] - 1s 6ms/step - loss: 0.1971\n"
     ]
    },
    {
     "name": "stdout",
     "output_type": "stream",
     "text": [
      "Epoch 1/1\n"
     ]
    },
    {
     "name": "stdout",
     "output_type": "stream",
     "text": [
      "\r",
      "100/100 [==============================] - 1s 5ms/step - loss: 0.1809\n"
     ]
    },
    {
     "name": "stdout",
     "output_type": "stream",
     "text": [
      "Epoch 1/1\n"
     ]
    },
    {
     "name": "stdout",
     "output_type": "stream",
     "text": [
      "\r",
      "100/100 [==============================] - 1s 6ms/step - loss: 0.1544\n"
     ]
    },
    {
     "name": "stdout",
     "output_type": "stream",
     "text": [
      "Epoch 1/1\n"
     ]
    },
    {
     "name": "stdout",
     "output_type": "stream",
     "text": [
      "\r",
      "100/100 [==============================] - 1s 5ms/step - loss: 0.1447\n"
     ]
    },
    {
     "name": "stdout",
     "output_type": "stream",
     "text": [
      "Epoch 1/1\n"
     ]
    },
    {
     "name": "stdout",
     "output_type": "stream",
     "text": [
      "\r",
      "100/100 [==============================] - 0s 5ms/step - loss: 0.1351\n"
     ]
    },
    {
     "name": "stdout",
     "output_type": "stream",
     "text": [
      "Epoch 1/1\n"
     ]
    },
    {
     "name": "stdout",
     "output_type": "stream",
     "text": [
      "\r",
      "100/100 [==============================] - 0s 5ms/step - loss: 0.1415\n"
     ]
    },
    {
     "name": "stdout",
     "output_type": "stream",
     "text": [
      "Epoch 1/1\n"
     ]
    },
    {
     "name": "stdout",
     "output_type": "stream",
     "text": [
      "\r",
      "100/100 [==============================] - 1s 5ms/step - loss: 0.1238\n"
     ]
    }
   ],
   "source": [
    "DNN.make_network(activ='relu')\n",
    "DNN.train_model(X_train_sub,y_train)"
   ]
  },
  {
   "cell_type": "code",
   "execution_count": 139,
   "metadata": {
    "autoscroll": false,
    "collapsed": false,
    "ein.tags": "worksheet-0",
    "slideshow": {
     "slide_type": "-"
    }
   },
   "outputs": [],
   "source": [
    "#now scale all of the data.lo\n",
    "logX=take_log10(X)\n",
    "Xscale=(logX-X_train_avg)/X_train_range"
   ]
  },
  {
   "cell_type": "code",
   "execution_count": 141,
   "metadata": {
    "autoscroll": false,
    "collapsed": false,
    "ein.tags": "worksheet-0",
    "slideshow": {
     "slide_type": "-"
    }
   },
   "outputs": [],
   "source": [
    "#predict on whole range\n",
    "pred=DNN.avg_predict_from_model(Xscale[:,ind_x])"
   ]
  },
  {
   "cell_type": "code",
   "execution_count": 142,
   "metadata": {
    "autoscroll": false,
    "collapsed": false,
    "ein.tags": "worksheet-0",
    "slideshow": {
     "slide_type": "-"
    }
   },
   "outputs": [
    {
     "data": {
      "text/plain": [
       "<matplotlib.figure.Figure at 0x7efbc39926a0>"
      ]
     },
     "metadata": {},
     "output_type": "display_data"
    }
   ],
   "source": [
    "plt.figure(figsize=(15,15))\n",
    "for k in range(Netf):\n",
    "    plt.subplot(4,2,k+1)\n",
    "    plt.plot_date(times,pred[:,k],'--',label='pred')\n",
    "    plt.plot_date(times,Xscale[:,-Netf+k],'-')#[:,ind_etf[k]])\n",
    "    plt.title(df_tot.columns[-Netf+k])\n",
    "    plt.plot_date([times[Nc]]*2,[-1,1],'k')\n",
    "plt.show()    \n"
   ]
  },
  {
   "cell_type": "markdown",
   "metadata": {
    "ein.tags": "worksheet-0",
    "slideshow": {
     "slide_type": "-"
    }
   },
   "source": [
    "So this is overfitting like crazy again! A simple linear regression would work better at this point. "
   ]
  },
  {
   "cell_type": "code",
   "execution_count": 185,
   "metadata": {
    "autoscroll": false,
    "collapsed": false,
    "ein.tags": "worksheet-0",
    "slideshow": {
     "slide_type": "-"
    }
   },
   "outputs": [
    {
     "ename": "NameError",
     "evalue": "name 'pred' is not defined",
     "output_type": "error",
     "traceback": [
      "\u001b[0;31m---------------------------------------------------------------------------\u001b[0m",
      "\u001b[0;31mNameError\u001b[0m                                 Traceback (most recent call last)",
      "\u001b[0;32m<ipython-input-185-e594243d8614>\u001b[0m in \u001b[0;36m<module>\u001b[0;34m()\u001b[0m\n\u001b[0;32m----> 1\u001b[0;31m \u001b[0mpred\u001b[0m\u001b[0;34m.\u001b[0m\u001b[0mshape\u001b[0m\u001b[0;34m\u001b[0m\u001b[0m\n\u001b[0m",
      "\u001b[0;31mNameError\u001b[0m: name 'pred' is not defined"
     ]
    }
   ],
   "source": [
    "pred.shape"
   ]
  },
  {
   "cell_type": "code",
   "execution_count": 184,
   "metadata": {
    "autoscroll": false,
    "collapsed": false,
    "ein.tags": "worksheet-0",
    "slideshow": {
     "slide_type": "-"
    }
   },
   "outputs": [
    {
     "ename": "NameError",
     "evalue": "name 'blah' is not defined",
     "output_type": "error",
     "traceback": [
      "\u001b[0;31m---------------------------------------------------------------------------\u001b[0m",
      "\u001b[0;31mNameError\u001b[0m                                 Traceback (most recent call last)",
      "\u001b[0;32m<ipython-input-184-0d599f0ec05c>\u001b[0m in \u001b[0;36m<module>\u001b[0;34m()\u001b[0m\n\u001b[0;32m----> 1\u001b[0;31m \u001b[0mblah\u001b[0m\u001b[0;34m\u001b[0m\u001b[0m\n\u001b[0m",
      "\u001b[0;31mNameError\u001b[0m: name 'blah' is not defined"
     ]
    }
   ],
   "source": []
  },
  {
   "cell_type": "code",
   "execution_count": 245,
   "metadata": {
    "autoscroll": false,
    "collapsed": false,
    "ein.tags": "worksheet-0",
    "slideshow": {
     "slide_type": "-"
    }
   },
   "outputs": [
    {
     "data": {
      "text/plain": [
       "            Entire Market (^RUA)  Technology (IYW)  Basic Materials (IYM)  \\\n",
       "2017-09-05           1453.699951        147.656967              91.263222   \n",
       "2017-09-05           1453.699951        147.656967              91.263222   \n",
       "2017-09-06           1457.770020        147.955704              91.560776   \n",
       "2017-09-07           1456.829956        148.423721              91.699638   \n",
       "2017-09-08           1455.250000        147.039566              91.540939   \n",
       "\n",
       "            Consumer Goods (IYK)  Services (IYC)  Healthcare (IYH)  \\\n",
       "2017-09-05            120.192558      162.589981        168.935532   \n",
       "2017-09-05            120.192558      162.589981        168.935532   \n",
       "2017-09-06            120.400726      163.565002        169.720917   \n",
       "2017-09-07            120.509766      162.709366        171.331421   \n",
       "2017-09-08            120.301598      162.012939        172.077026   \n",
       "\n",
       "            Utilities (IDU)  \n",
       "2017-09-05       135.900024  \n",
       "2017-09-05       135.900024  \n",
       "2017-09-06       135.207962  \n",
       "2017-09-07       136.246048  \n",
       "2017-09-08       136.928207  "
      ]
     },
     "execution_count": 245,
     "metadata": {},
     "output_type": "execute_result"
    }
   ],
   "source": [
    "df_tot.tail().iloc[:,-Netf:]"
   ]
  },
  {
   "cell_type": "code",
   "execution_count": 262,
   "metadata": {
    "autoscroll": false,
    "collapsed": false,
    "ein.tags": "worksheet-0",
    "slideshow": {
     "slide_type": "-"
    }
   },
   "outputs": [],
   "source": [
    "#Make fake data\n",
    "\n",
    "df_tail=df_tot.tail(n=100).iloc[:,-Netf:]\n"
   ]
  },
  {
   "cell_type": "code",
   "execution_count": 279,
   "metadata": {
    "autoscroll": false,
    "collapsed": false,
    "ein.tags": "worksheet-0",
    "slideshow": {
     "slide_type": "-"
    }
   },
   "outputs": [],
   "source": [
    "#estimate mean difference.  \n",
    "df_final_inc=df_tail.diff(1).mean().values"
   ]
  },
  {
   "cell_type": "code",
   "execution_count": 255,
   "metadata": {
    "autoscroll": false,
    "collapsed": false,
    "ein.tags": "worksheet-0",
    "slideshow": {
     "slide_type": "-"
    }
   },
   "outputs": [],
   "source": [
    "df_final=df_tail.iloc[-1].values\n",
    "df_ta=df_final.values"
   ]
  },
  {
   "cell_type": "code",
   "execution_count": 256,
   "metadata": {
    "autoscroll": false,
    "collapsed": false,
    "ein.tags": "worksheet-0",
    "slideshow": {
     "slide_type": "-"
    }
   },
   "outputs": [
    {
     "data": {
      "text/plain": [
       "array([ 1455.25    ,   147.039566,    91.540939,   120.301598,   162.012939,\n",
       "         172.077026,   136.928207])"
      ]
     },
     "execution_count": 256,
     "metadata": {},
     "output_type": "execute_result"
    }
   ],
   "source": [
    "df_final_val"
   ]
  },
  {
   "cell_type": "code",
   "execution_count": 278,
   "metadata": {
    "autoscroll": false,
    "collapsed": false,
    "ein.tags": "worksheet-0",
    "slideshow": {
     "slide_type": "-"
    }
   },
   "outputs": [],
   "source": [
    "date=df_tail.index[-1]\n",
    "final_dates=pd.date_range(start=date,end='2017-12-31',freq='W')\n",
    "\n",
    "df_final=np.zeros((len(final_dates),7))\n"
   ]
  },
  {
   "cell_type": "code",
   "execution_count": 281,
   "metadata": {
    "autoscroll": false,
    "collapsed": false,
    "ein.tags": "worksheet-0",
    "slideshow": {
     "slide_type": "-"
    }
   },
   "outputs": [],
   "source": [
    "nt = len(final_dates)\n",
    "for i in range(nt):\n",
    "    df_final[i]=df_final_val+i*df_final_inc"
   ]
  },
  {
   "cell_type": "code",
   "execution_count": 282,
   "metadata": {
    "autoscroll": false,
    "collapsed": false,
    "ein.tags": "worksheet-0",
    "slideshow": {
     "slide_type": "-"
    }
   },
   "outputs": [
    {
     "data": {
      "text/plain": [
       "array([[ 1455.25      ,   147.039566  ,    91.540939  ,   120.301598  ,\n",
       "          162.012939  ,   172.077026  ,   136.928207  ],\n",
       "       [ 1455.71252565,   147.15546714,    91.57471895,   120.32257737,\n",
       "          162.01303532,   172.25085535,   137.02246871],\n",
       "       [ 1456.17505129,   147.27136828,    91.6084989 ,   120.34355675,\n",
       "          162.01313165,   172.42468471,   137.11673041],\n",
       "       [ 1456.63757694,   147.38726942,    91.64227885,   120.36453612,\n",
       "          162.01322797,   172.59851406,   137.21099212],\n",
       "       [ 1457.10010259,   147.50317057,    91.6760588 ,   120.38551549,\n",
       "          162.01332429,   172.77234341,   137.30525383],\n",
       "       [ 1457.56262823,   147.61907171,    91.70983875,   120.40649487,\n",
       "          162.01342062,   172.94617277,   137.39951554],\n",
       "       [ 1458.02515388,   147.73497285,    91.7436187 ,   120.42747424,\n",
       "          162.01351694,   173.12000212,   137.49377724],\n",
       "       [ 1458.48767953,   147.85087399,    91.77739865,   120.44845362,\n",
       "          162.01361326,   173.29383147,   137.58803895],\n",
       "       [ 1458.95020517,   147.96677513,    91.8111786 ,   120.46943299,\n",
       "          162.01370959,   173.46766083,   137.68230066],\n",
       "       [ 1459.41273082,   148.08267627,    91.84495855,   120.49041236,\n",
       "          162.01380591,   173.64149018,   137.77656236],\n",
       "       [ 1459.87525646,   148.19857741,    91.87873849,   120.51139174,\n",
       "          162.01390223,   173.81531954,   137.87082407],\n",
       "       [ 1460.33778211,   148.31447856,    91.91251844,   120.53237111,\n",
       "          162.01399856,   173.98914889,   137.96508578],\n",
       "       [ 1460.80030776,   148.4303797 ,    91.94629839,   120.55335048,\n",
       "          162.01409488,   174.16297824,   138.05934748],\n",
       "       [ 1461.2628334 ,   148.54628084,    91.98007834,   120.57432986,\n",
       "          162.0141912 ,   174.3368076 ,   138.15360919],\n",
       "       [ 1461.72535905,   148.66218198,    92.01385829,   120.59530923,\n",
       "          162.01428753,   174.51063695,   138.2478709 ],\n",
       "       [ 1462.1878847 ,   148.77808312,    92.04763824,   120.61628861,\n",
       "          162.01438385,   174.6844663 ,   138.34213261],\n",
       "       [ 1462.65041034,   148.89398426,    92.08141819,   120.63726798,\n",
       "          162.01448017,   174.85829566,   138.43639431]])"
      ]
     },
     "execution_count": 282,
     "metadata": {},
     "output_type": "execute_result"
    }
   ],
   "source": [
    "df_final"
   ]
  },
  {
   "cell_type": "code",
   "execution_count": 285,
   "metadata": {
    "autoscroll": false,
    "collapsed": false,
    "ein.tags": "worksheet-0",
    "slideshow": {
     "slide_type": "-"
    }
   },
   "outputs": [],
   "source": [
    "df_final2=pd.DataFrame(df_final,index=final_dates,columns=df_tail.columns)"
   ]
  },
  {
   "cell_type": "code",
   "execution_count": 287,
   "metadata": {
    "autoscroll": false,
    "collapsed": false,
    "ein.tags": "worksheet-0",
    "slideshow": {
     "slide_type": "-"
    }
   },
   "outputs": [],
   "source": [
    "df_final2.to_csv('fake_data.csv')"
   ]
  },
  {
   "cell_type": "code",
   "execution_count": 261,
   "metadata": {
    "autoscroll": false,
    "collapsed": false,
    "ein.tags": "worksheet-0",
    "slideshow": {
     "slide_type": "-"
    }
   },
   "outputs": [
    {
     "data": {
      "text/plain": [
       "Index(['Entire Market (^RUA)', 'Technology (IYW)', 'Basic Materials (IYM)',\n",
       "       'Consumer Goods (IYK)', 'Services (IYC)', 'Healthcare (IYH)',\n",
       "       'Utilities (IDU)'],\n",
       "      dtype='object')"
      ]
     },
     "execution_count": 261,
     "metadata": {},
     "output_type": "execute_result"
    }
   ],
   "source": [
    "df_final.index"
   ]
  },
  {
   "cell_type": "code",
   "execution_count": 260,
   "metadata": {
    "autoscroll": false,
    "collapsed": false,
    "ein.tags": "worksheet-0",
    "slideshow": {
     "slide_type": "-"
    }
   },
   "outputs": [
    {
     "data": {
      "text/plain": [
       "'Utilities (IDU)'"
      ]
     },
     "execution_count": 260,
     "metadata": {},
     "output_type": "execute_result"
    }
   ],
   "source": [
    "date"
   ]
  }
 ],
 "metadata": {
  "kernelspec": {
   "display_name": "Python 3",
   "name": "python3"
  },
  "language_info": {
   "codemirror_mode": {
    "name": "ipython",
    "version": 3
   },
   "file_extension": ".py",
   "mimetype": "text/x-python",
   "name": "python",
   "nbconvert_exporter": "python",
   "pygments_lexer": "ipython3",
   "version": "3.6.3"
  },
  "name": "PDX_finance_Mar2018.ipynb"
 },
 "nbformat": 4,
 "nbformat_minor": 2
}
