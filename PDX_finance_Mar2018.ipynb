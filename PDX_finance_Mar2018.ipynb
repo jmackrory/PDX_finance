{
 "cells": [
  {
   "cell_type": "markdown",
   "metadata": {
    "ein.tags": "worksheet-0",
    "slideshow": {
     "slide_type": "-"
    }
   },
   "source": [
    "# Apply Neural Networks to the Stock Market\n",
    "\n",
    "Notebook to explore limited set of NY stock exchange data over around 40 years, as part of the Portland Data Science group (Mar 2018).\n",
    "Data selected by Matt Borthwick from Yahoo! Finance.\n",
    "Working with Neural Network group: Matt, John Burt, Manny, Isil, Kenny, Jhoan, Mark C.\n",
    "\n",
    "Our goal is to predict weekly returns on 6 industry based ETFs, as well\n",
    "as aggregate market performance (such as Russel3000).  We will also\n",
    "be using some macroeconomic indicators as well.\n",
    "This notebook currently loads the data, transforms it, and applies a\n",
    "simple neural network to try predicting the next days stock prices.\n",
    "The first model was built in tensorflow (and is currently broken).  THere is a second network written in Keras.\n",
    "\n",
    "The plan is to train on this data (up to Sep 2017),\n",
    "validate on (Oct-Dec 2017), and test in final session on (Jan-Mar 2018).\n",
    "\n",
    "(For more exploratory screwing around, and other attempts at time-series see PDX_finance1)\n",
    "\n",
    "Currently Contains:\n",
    "-Colab setup\n",
    "-Loading data\n",
    "-Tensorflow RNN (currently borked at prediction stage - wrong size? No idea what changed)\n",
    "-Keras RNN  (not working yet)\n",
    "-Keras Deep network"
   ]
  },
  {
   "cell_type": "markdown",
   "metadata": {
    "ein.tags": "worksheet-0",
    "slideshow": {
     "slide_type": "-"
    }
   },
   "source": [
    "# Google Colab setup\n",
    "\n",
    "First up however, we need to install modules to load up our google drive for storage.  (Code taken from this helpful post https://medium.com/deep-learning-turkey/google-colab-free-gpu-tutorial-e113627b9f5d)\n",
    "(Code and commands didn't look sketchy/malicious, but I didn't examine the PPA too closely either.)\n",
    "\n",
    "This code is for execution inside a Jupyter notebook on colab.google.com.\n",
    "It gives Colab access to your Google Drive in order to load/save data from within the notebook.\n",
    "Colab has most popular libraries (numpy, pandas, tensorflow, matplotlib).  I'm not sure how extensive it is.\n",
    "\n",
    "I've found opening a jupyter notebook on google drive automatically opens the Colab."
   ]
  },
  {
   "cell_type": "code",
   "execution_count": null,
   "metadata": {
    "autoscroll": false,
    "ein.tags": "worksheet-0",
    "slideshow": {
     "slide_type": "-"
    }
   },
   "outputs": [],
   "source": [
    "#Install modules on local machine.\n",
    "!apt-get install -y -qq software-properties-common python-software-properties module-init-tools\n",
    "!add-apt-repository -y ppa:alessandro-strada/ppa 2>&1 > /dev/null\n",
    "!apt-get update -qq 2>&1 > /dev/null\n",
    "!echo 'past update'\n",
    "!apt-get -y install -qq google-drive-ocamlfuse fuse\n",
    "!echo 'installed fuse'"
   ]
  },
  {
   "cell_type": "code",
   "execution_count": null,
   "metadata": {
    "autoscroll": false,
    "ein.tags": "worksheet-0",
    "slideshow": {
     "slide_type": "-"
    }
   },
   "outputs": [],
   "source": [
    "from google.colab import auth\n",
    "auth.authenticate_user()\n",
    "from oauth2client.client import GoogleCredentials\n",
    "creds = GoogleCredentials.get_application_default()\n",
    "import getpass\n",
    "!google-drive-ocamlfuse -headless -id={creds.client_id} -secret={creds.client_secret} < /dev/null 2>&1 | grep URL\n",
    "print('past first command')\n",
    "vcode = getpass.getpass()\n",
    "!echo {vcode} | google-drive-ocamlfuse -headless -id={creds.client_id} -secret={creds.client_secret}"
   ]
  },
  {
   "cell_type": "code",
   "execution_count": null,
   "metadata": {
    "autoscroll": false,
    "ein.tags": "worksheet-0",
    "slideshow": {
     "slide_type": "-"
    }
   },
   "outputs": [],
   "source": [
    "#Mounts google drive, and changes to that directory\n",
    "!mkdir -p drive \n",
    "!google-drive-ocamlfuse drive\n",
    "\n",
    "import os\n",
    "os.chdir(\"drive\")\n",
    "\n",
    "#Should now be in the root of your google-drive, and now free to load/save existing files."
   ]
  },
  {
   "cell_type": "markdown",
   "metadata": {
    "ein.tags": "worksheet-0",
    "slideshow": {
     "slide_type": "-"
    }
   },
   "source": [
    "# Load Libraries and Data\n",
    "\n",
    "Now to load libraries, and data for all stocks, ETFs, and indicators.\n",
    "All of those will get stuck together into one total dataframe.\n",
    "(This is where I start my analysis on my home machine.)"
   ]
  },
  {
   "cell_type": "code",
   "execution_count": 1,
   "metadata": {
    "autoscroll": false,
    "ein.tags": "worksheet-0",
    "slideshow": {
     "slide_type": "-"
    }
   },
   "outputs": [],
   "source": [
    "import pandas as pd \n",
    "import numpy as np\n",
    "import matplotlib.pyplot as plt\n",
    "import re\n",
    "\n",
    "%matplotlib inline\n",
    "# automatically reload files.\n",
    "%load_ext autoreload\n",
    "%autoreload 2"
   ]
  },
  {
   "cell_type": "code",
   "execution_count": 2,
   "metadata": {
    "autoscroll": false,
    "ein.tags": "worksheet-0",
    "slideshow": {
     "slide_type": "-"
    }
   },
   "outputs": [],
   "source": [
    "def load_stock_data():\n",
    "\n",
    "    #Data compiled from Yahoo! Finance data by Matt Borthwick\n",
    "    df_close=pd.read_csv('data/stocks-us-adjClose.csv',index_col=0,parse_dates=True)\n",
    "    df_open=pd.read_csv('data/stocks-us-adjOpen.csv',index_col=0,parse_dates=True)\n",
    "    df_high=pd.read_csv('data/stocks-us-adjHigh.csv',index_col=0,parse_dates=True)\n",
    "    df_low=pd.read_csv('data/stocks-us-adjLow.csv',index_col=0,parse_dates=True)\n",
    "    df_vol=pd.read_csv('data/stocks-us-Volume.csv',index_col=0,parse_dates=True)\n",
    "    df_close.index.name='date'\n",
    "    df_open.index.name='date'\n",
    "    df_high.index.name='date'\n",
    "    df_low.index.name='date'\n",
    "    df_vol.index.name='date'\n",
    "\n",
    "    #Follow Leffers and rename columns.\n",
    "    df_close_new=[];\n",
    "    df_open_new=[];\n",
    "    df_low_new=[];\n",
    "    df_high_new=[];\n",
    "    df_vol_new=[];\n",
    "\n",
    "    for name in df_close.columns:\n",
    "        df_close_new.append(name+'close')\n",
    "\n",
    "    for name in df_open.columns:\n",
    "        df_open_new.append(name+'open')\n",
    "\n",
    "    for name in df_low.columns:\n",
    "        df_low_new.append(name+'low')\n",
    "\n",
    "    for name in df_high.columns:\n",
    "        df_high_new.append(name+'high')\n",
    "\n",
    "    for name in df_vol.columns:\n",
    "        df_vol_new.append(name+'vol')\n",
    "\n",
    "    df_close.columns=df_close_new\n",
    "    df_open.columns=df_open_new\n",
    "    df_low.columns=df_low_new\n",
    "    df_high.columns=df_high_new\n",
    "    df_vol.columns=df_vol_new\n",
    "\n",
    "    #join all stocks together.\n",
    "    df_stock=df_close.join(df_open,how='inner')\n",
    "    df_stock=df_stock.join(df_high,how='inner')\n",
    "    df_stock=df_stock.join(df_low,how='inner')\n",
    "    df_stock=df_stock.join(df_vol,how='inner')\n",
    "\n",
    "    return df_stock\n"
   ]
  },
  {
   "cell_type": "code",
   "execution_count": 4,
   "metadata": {
    "autoscroll": false,
    "ein.tags": "worksheet-0",
    "slideshow": {
     "slide_type": "-"
    }
   },
   "outputs": [],
   "source": [
    "def load_etfs():\n",
    "    \"\"\"load_etfs\n",
    "    Create combined ETF/RUA data.\n",
    "    Uses initial training data data up to Sep 2017.\n",
    "    Augmented to also load up data from Sep-Dec 2017.\n",
    "    \"\"\"\n",
    "    # df_etf = pd.read_csv('data/sector_ETFs.csv',index_col=0,parse_dates=True)\n",
    "    # #latest ETFs include ^RUA.\n",
    "    # df_etf2 = pd.read_csv('data/sector_etfs-2-corrected.csv',index_col=0,parse_dates=True)\n",
    "    # df_etf=df_etf.append(df_etf2)\n",
    "    # df_rua=pd.read_csv('data/market.csv',index_col=0,parse_dates=True)\n",
    "    # df_rua.columns=['Market (^RUA)']\n",
    "    # df_etf.update(df_rua,overwrite=True)\n",
    "\n",
    "    df_etf=pd.read_csv('data/sector_etfs3.csv',index_col=0,parse_dates=True)\n",
    "\n",
    "    return df_etf\n",
    "\n",
    "def clean_new_etfs(etf_cols):\n",
    "    \"\"\"clean_new_etfs\n",
    "    Loads up ETF/RUA from Sep2017 to Apr 2018.\n",
    "    Fills in missing NA via first replacing with median, then taking \n",
    "    average of neighbouring points.\n",
    "    Note: Off by 1% from earlier values.  \n",
    "    \"\"\"\n",
    "    df_tot=pd.DataFrame()\n",
    "    for etf_name in etf_cols:\n",
    "        #match via regex\n",
    "        mc=re.search('\\(([A-Z\\^]+)\\)',etf_name)\n",
    "        #retrieve the match\n",
    "        etf_ticker=mc.group(1)      \n",
    "        df=pd.read_csv('data/latest_etf/'+etf_ticker+'.csv', index_col=0,parse_dates=True,na_values='null')\n",
    "        df.rename(columns={'Adj Close':etf_name},inplace=True)\n",
    "        #only join based on adjusted close\n",
    "\n",
    "        #Kill missing values via linear interpolation.\n",
    "        ser=df.iloc[:,4].copy()\n",
    "        msk=np.isnan(ser.values)\n",
    "        ind=np.arange(len(ser))[msk]\n",
    "        #replace multiple NA with median.\n",
    "        ser[msk]=ser.median()\n",
    "        #for isolated values, replace by the average on either side.    \n",
    "        for i in ind:\n",
    "            ser.iloc[i]=(ser.iloc[i-1]+ser.iloc[i+1])/2\n",
    "        ser.reindex(df.index )\n",
    "        df_tot=df_tot.join(ser,how='outer')\n",
    "    return df_tot    \n",
    "    \n",
    "def load_indicators(tag='Train'):\n",
    "    \"\"\"load_indicators\n",
    "    Based on Matt Leffers code for reading in indicators.\n",
    "    Adjusted to also use a tag for train/test.  \n",
    "    \"\"\"\n",
    "    \n",
    "    # remove warnings\n",
    "    import csv\n",
    "    import warnings\n",
    "\n",
    "    ##Pieter Leffer's code for reading in indicators\n",
    "    warnings.filterwarnings('ignore')\n",
    "\n",
    "    # Leffers ran into errors importing the file because of non-ascii characters in the heading\n",
    "    #Here is a piece of code Leffers got from stack overflow to fix that problem.\n",
    "    df_ind=[]\n",
    "    with open('data/Indicators_'+tag+'.csv', newline='', encoding='utf-8', errors='ignore') as f:\n",
    "        reader = csv.reader(f)\n",
    "        for row in reader:\n",
    "            df_ind.append(row)\n",
    "\n",
    "    df_ind=pd.DataFrame(df_ind)\n",
    "    df_ind.columns=df_ind.iloc[0]\n",
    "    Column_Reference=df_ind.iloc[1].copy()\n",
    "    print(df_ind.columns)\n",
    "    #Drop useless rows (last row is empty)\n",
    "    df_ind.drop([0,1],axis=0,inplace=True)\n",
    "\n",
    "    # #Change the formatting of the variables. Datetime to the ones for dates, integers for the ones that aren't\n",
    "    for i in range(0,len(df_ind.columns)):\n",
    "        col_name=df_ind.columns[i]\n",
    "        if re.search('_dt',col_name):\n",
    "            df_ind[col_name] = pd.to_datetime(df_ind[col_name],  format = '%m/%d/%Y',  errors='coerce')\n",
    "            #print(col_name,'time')\n",
    "        else:\n",
    "            df_ind[col_name] = pd.to_numeric(df_ind[col_name], errors='ignore')\n",
    "            #print(col_name,'val')\n",
    "\n",
    "    # #Reset the index because we dropped rows in the DataFrame, Using the drop command to remove the old index\n",
    "    df_ind.reset_index(drop=True, inplace=True)\n",
    "\n",
    "    # #make a time index too.\n",
    "    df_ind.index=pd.DatetimeIndex(df_ind['date'])\n",
    "\n",
    "    # #drop all NaTs\n",
    "    msk=np.isnat(df_ind.index)\n",
    "    df_ind=df_ind[~msk]\n",
    "    df_ind.drop(df_ind.columns[[0,1]],axis=1,inplace=True)\n",
    "    return df_ind"
   ]
  },
  {
   "cell_type": "code",
   "execution_count": 5,
   "metadata": {
    "autoscroll": false,
    "ein.tags": "worksheet-0",
    "slideshow": {
     "slide_type": "-"
    }
   },
   "outputs": [],
   "source": [
    "df_etf=load_etfs()"
   ]
  },
  {
   "cell_type": "code",
   "execution_count": 305,
   "metadata": {
    "autoscroll": false,
    "ein.tags": "worksheet-0",
    "slideshow": {
     "slide_type": "-"
    }
   },
   "outputs": [
    {
     "data": {
      "image/png": "[encoded data removed]",
      "text/plain": [
       "<matplotlib.figure.Figure at 0x7fc76da908d0>"
      ]
     },
     "metadata": {},
     "output_type": "display_data"
    }
   ],
   "source": [
    "df_etf['2018'].plot()\n",
    "plt.show()"
   ]
  },
  {
   "cell_type": "code",
   "execution_count": 264,
   "metadata": {
    "autoscroll": false,
    "ein.tags": "worksheet-0",
    "slideshow": {
     "slide_type": "-"
    }
   },
   "outputs": [],
   "source": [
    "etf_cols=['Technology (IYW)', 'Basic Materials (IYM)', 'Consumer Goods (IYK)',\n",
    "       'Services (IYC)', 'Healthcare (IYH)', 'Utilities (IDU)',\n",
    "       'Market (^RUA)']"
   ]
  },
  {
   "cell_type": "code",
   "execution_count": 18,
   "metadata": {
    "autoscroll": false,
    "ein.tags": "worksheet-0",
    "slideshow": {
     "slide_type": "-"
    }
   },
   "outputs": [],
   "source": [
    "#loads stock data up to Sep 2017.\n",
    "df_stocks=load_stock_data()"
   ]
  },
  {
   "cell_type": "code",
   "execution_count": 20,
   "metadata": {
    "autoscroll": false,
    "ein.tags": "worksheet-0",
    "slideshow": {
     "slide_type": "-"
    }
   },
   "outputs": [],
   "source": [
    "#load ETFs/RUA up to Apr2018\n",
    "df_target=load_etfs()"
   ]
  },
  {
   "cell_type": "code",
   "execution_count": 15,
   "metadata": {
    "autoscroll": false,
    "ein.tags": "worksheet-0",
    "slideshow": {
     "slide_type": "-"
    }
   },
   "outputs": [
    {
     "name": "stdout",
     "output_type": "stream",
     "text": [
      "Index(['', 'date', 'HOUST', 'HOUST_dt', 'UNRATENSA', 'UNRATENSA_dt', 'EMRATIO',\n",
      "       'EMRATIO_dt', 'UEMPMED', 'UEMPMED_dt', 'UMCSENT', 'UMCSENT_dt',\n",
      "       'USSLIND', 'USSLIND_dt', 'KCFSI', 'KCFSI_dt', 'IPMAN', 'IPMAN_dt',\n",
      "       'VIXCLS', 'VIXCLS_dt', 'DGS10', 'DGS10_dt'],\n",
      "      dtype='object', name=0)\n",
      "Index(['', 'date', 'HOUST', 'HOUST_dt', 'UNRATENSA', 'UNRATENSA_dt', 'EMRATIO',\n",
      "       'EMRATIO_dt', 'UEMPMED', 'UEMPMED_dt', 'UMCSENT', 'UMCSENT_dt',\n",
      "       'USSLIND', 'USSLIND_dt', 'KCFSI', 'KCFSI_dt', 'IPMAN', 'IPMAN_dt',\n",
      "       'VIXCLS', 'VIXCLS_dt', 'DGS10', 'DGS10_dt'],\n",
      "      dtype='object', name=0)\n"
     ]
    }
   ],
   "source": [
    "#load all indicators up to Apr2018\n",
    "df_ind_train=load_indicators(tag='Train')\n",
    "df_ind_test=load_indicators(tag='Test')"
   ]
  },
  {
   "cell_type": "code",
   "execution_count": 16,
   "metadata": {
    "autoscroll": false,
    "ein.tags": "worksheet-0",
    "slideshow": {
     "slide_type": "-"
    }
   },
   "outputs": [
    {
     "name": "stdout",
     "output_type": "stream",
     "text": [
      "Index(['HOUST', 'UNRATENSA', 'EMRATIO', 'UEMPMED', 'UMCSENT', 'USSLIND',\n",
      "       'KCFSI', 'IPMAN', 'VIXCLS', 'DGS10'],\n",
      "      dtype='object', name=0)\n"
     ]
    }
   ],
   "source": [
    "df_ind=df_ind_train.append(df_ind_test)\n",
    "#drop duplicate rows/days\n",
    "drop_msk=df_ind.index.duplicated() #|(df_ind.index.dayofweek>=5)  \n",
    "df_ind.drop(df_ind.index[drop_msk],inplace=True)\n",
    "\n",
    "#append indicators to end of dataframe.\n",
    "drop_col_num=df_ind.columns.str.contains('[date]|[_dt]')\n",
    "keep_col    =df_ind.columns[~drop_col_num]\n",
    "print(keep_col)"
   ]
  },
  {
   "cell_type": "code",
   "execution_count": 414,
   "metadata": {
    "autoscroll": false,
    "ein.tags": "worksheet-0",
    "slideshow": {
     "slide_type": "-"
    }
   },
   "outputs": [
    {
     "data": {
      "text/plain": [
       "(17347, 20)"
      ]
     },
     "execution_count": 414,
     "metadata": {},
     "output_type": "execute_result"
    }
   ],
   "source": [
    "df_ind.shape"
   ]
  },
  {
   "cell_type": "code",
   "execution_count": 21,
   "metadata": {
    "autoscroll": false,
    "ein.tags": "worksheet-0",
    "slideshow": {
     "slide_type": "-"
    }
   },
   "outputs": [],
   "source": [
    "#join all stocks together.\n",
    "df_tot=df_target.join(df_ind.loc[:,keep_col],how='left')\n",
    "df_tot=df_tot.join(df_stocks,how='left')\n",
    "\n",
    "#drop weekends.\n",
    "# msk=df_tot.index.dayofweek>=5\n",
    "# df_tot.drop(df_tot.index[msk],inplace=True)"
   ]
  },
  {
   "cell_type": "code",
   "execution_count": 24,
   "metadata": {
    "autoscroll": false,
    "ein.tags": "worksheet-0",
    "slideshow": {
     "slide_type": "-"
    }
   },
   "outputs": [],
   "source": [
    "#keep numbers of Stocks, ETFS, indicators.\n",
    "Nstocks_tot=int(df_stocks.shape[1]/5)\n",
    "Netf=7\n",
    "Nind=10"
   ]
  },
  {
   "cell_type": "code",
   "execution_count": 25,
   "metadata": {
    "autoscroll": false,
    "ein.tags": "worksheet-0",
    "slideshow": {
     "slide_type": "-"
    }
   },
   "outputs": [],
   "source": [
    "#make vectors of indices in total to extract together.\n",
    "ind_ind=np.arange(Netf,Netf+Nind)\n",
    "etf_ind=np.arange(0,Netf)\n",
    "Npre=Netf+Nind\n",
    "close_ind=Npre+np.arange(0,Nstocks_tot)\n",
    "open_ind=Npre+np.arange(Nstocks_tot,2*Nstocks_tot)\n",
    "high_ind=Npre+np.arange(2*Nstocks_tot,3*Nstocks_tot)\n",
    "low_ind=Npre+np.arange(3*Nstocks_tot,4*Nstocks_tot)\n",
    "vol_ind=Npre+np.arange(4*Nstocks_tot,5*Nstocks_tot)\n",
    "\n",
    "#make global array of indices to take logs/differences of\n",
    "#take differences for stock prices and ETF data\n",
    "diff_ind = np.append(etf_ind,Npre+np.arange(4*Nstocks_tot))\n",
    "#take logs for stock prices, volumes and ETFs.\n",
    "log_ind = np.append(etf_ind,Npre+np.arange(5*Nstocks_tot))"
   ]
  },
  {
   "cell_type": "code",
   "execution_count": 348,
   "metadata": {
    "autoscroll": false,
    "ein.tags": "worksheet-0",
    "slideshow": {
     "slide_type": "-"
    }
   },
   "outputs": [
    {
     "name": "stdout",
     "output_type": "stream",
     "text": [
      "Automatic pdb calling has been turned OFF\n"
     ]
    }
   ],
   "source": [
    "%pdb off"
   ]
  },
  {
   "cell_type": "code",
   "execution_count": 26,
   "metadata": {
    "autoscroll": false,
    "ein.tags": "worksheet-0",
    "slideshow": {
     "slide_type": "-"
    }
   },
   "outputs": [
    {
     "data": {
      "text/plain": [
       "            Technology (IYW)  Basic Materials (IYM)  Consumer Goods (IYK)  \\\n",
       "Date                                                                        \n",
       "2018-03-23        166.027662              94.901534            116.008584   \n",
       "2018-03-26        172.811872              96.687404            117.857971   \n",
       "2018-03-27        166.618911              95.694137            117.435823   \n",
       "2018-03-28        164.955425              94.480153            118.189648   \n",
       "2018-03-29        168.562985              96.396447            119.516387   \n",
       "2018-04-02        164.263974              94.309595            116.571445   \n",
       "2018-04-03        165.967538              95.603845            118.541439   \n",
       "2018-04-04        168.512877              96.075393            120.692352   \n",
       "2018-04-05        168.933756              98.332804            121.566783   \n",
       "2018-04-06        164.915347              96.045296            119.938527   \n",
       "\n",
       "            Services (IYC)  Healthcare (IYH)  Utilities (IDU)  Market (^RUA)  \\\n",
       "Date                                                                           \n",
       "2018-03-23      180.393662        169.593408       124.536558    1536.270020   \n",
       "2018-03-26      185.434380        173.213514       125.836754    1576.500000   \n",
       "2018-03-27      181.876826        171.037442       127.600585    1549.020020   \n",
       "2018-03-28      180.343567        171.899849       127.771928    1544.780029   \n",
       "2018-03-29      182.708597        173.093184       128.457302    1565.560059   \n",
       "2018-04-02      177.337173        168.670835       127.237740    1530.280029   \n",
       "2018-04-03      179.281295        171.458616       127.832407    1549.329956   \n",
       "2018-04-04      182.167438        173.865343       128.064221    1566.950000   \n",
       "2018-04-05      184.311998        173.845283       129.132595    1578.020020   \n",
       "2018-04-06      180.574052        169.412911       128.094456    1544.279297   \n",
       "\n",
       "             HOUST  UNRATENSA  EMRATIO   ...    EXTNvol  VYGRvol  ACGvol  \\\n",
       "Date                                     ...                               \n",
       "2018-03-23  1236.0        4.4     60.4   ...        NaN      NaN     NaN   \n",
       "2018-03-26  1236.0        4.4     60.4   ...        NaN      NaN     NaN   \n",
       "2018-03-27  1236.0        4.4     60.4   ...        NaN      NaN     NaN   \n",
       "2018-03-28  1236.0        4.4     60.4   ...        NaN      NaN     NaN   \n",
       "2018-03-29  1236.0        4.4     60.4   ...        NaN      NaN     NaN   \n",
       "2018-04-02     NaN        NaN      NaN   ...        NaN      NaN     NaN   \n",
       "2018-04-03     NaN        NaN      NaN   ...        NaN      NaN     NaN   \n",
       "2018-04-04  1236.0        4.4     60.4   ...        NaN      NaN     NaN   \n",
       "2018-04-05  1236.0        4.4     60.4   ...        NaN      NaN     NaN   \n",
       "2018-04-06  1236.0        4.1     60.4   ...        NaN      NaN     NaN   \n",
       "\n",
       "            MIMEvol  TCRZvol  MCXvol  EDITvol  LMHAvol  UAvol  BTUvol  \n",
       "Date                                                                   \n",
       "2018-03-23      NaN      NaN     NaN      NaN      NaN    NaN     NaN  \n",
       "2018-03-26      NaN      NaN     NaN      NaN      NaN    NaN     NaN  \n",
       "2018-03-27      NaN      NaN     NaN      NaN      NaN    NaN     NaN  \n",
       "2018-03-28      NaN      NaN     NaN      NaN      NaN    NaN     NaN  \n",
       "2018-03-29      NaN      NaN     NaN      NaN      NaN    NaN     NaN  \n",
       "2018-04-02      NaN      NaN     NaN      NaN      NaN    NaN     NaN  \n",
       "2018-04-03      NaN      NaN     NaN      NaN      NaN    NaN     NaN  \n",
       "2018-04-04      NaN      NaN     NaN      NaN      NaN    NaN     NaN  \n",
       "2018-04-05      NaN      NaN     NaN      NaN      NaN    NaN     NaN  \n",
       "2018-04-06      NaN      NaN     NaN      NaN      NaN    NaN     NaN  \n",
       "\n",
       "[10 rows x 3567 columns]"
      ]
     },
     "execution_count": 26,
     "metadata": {},
     "output_type": "execute_result"
    }
   ],
   "source": [
    "df_tot.tail(n=10)"
   ]
  },
  {
   "cell_type": "code",
   "execution_count": 105,
   "metadata": {
    "autoscroll": false,
    "ein.tags": "worksheet-0",
    "slideshow": {
     "slide_type": "-"
    }
   },
   "outputs": [],
   "source": [
    "#Old version\n",
    "# df_tot=df_stocks.join(df_ind.loc[df_stocks.index,keep_col],how='left')\n",
    "# df_tot=df_tot.join(df_target,how='outer')"
   ]
  },
  {
   "cell_type": "code",
   "execution_count": 223,
   "metadata": {
    "autoscroll": false,
    "ein.tags": "worksheet-0",
    "slideshow": {
     "slide_type": "-"
    }
   },
   "outputs": [],
   "source": [
    "import pickle\n",
    "#dump dataframe as pickle object for ease.\n",
    "file_name='data/df_tot_train.pickle'\n",
    "fileObj=open(file_name,'wb')\n",
    "pickle.dump(df_tot,fileObj)\n",
    "fileObj.close()"
   ]
  },
  {
   "cell_type": "markdown",
   "metadata": {
    "ein.tags": "worksheet-0",
    "slideshow": {
     "slide_type": "-"
    }
   },
   "source": [
    "Looking at the number of NA values (summed across columns) suggests that\n",
    "there are missing values in these stocks.\n",
    "\n",
    "Could set all NA to zero, then apply linear interpolation to handle isolated missing days.  Let's check the pattern of missing days."
   ]
  },
  {
   "cell_type": "code",
   "execution_count": 306,
   "metadata": {
    "autoscroll": false,
    "ein.tags": "worksheet-0",
    "slideshow": {
     "slide_type": "-"
    }
   },
   "outputs": [
    {
     "ename": "NameError",
     "evalue": "name 'df_close' is not defined",
     "output_type": "error",
     "traceback": [
      "\u001b[0;31m---------------------------------------------------------------------------\u001b[0m",
      "\u001b[0;31mNameError\u001b[0m                                 Traceback (most recent call last)",
      "\u001b[0;32m<ipython-input-306-028230eb1f4e>\u001b[0m in \u001b[0;36m<module>\u001b[0;34m()\u001b[0m\n\u001b[1;32m      1\u001b[0m \u001b[0;31m#Plot pattern of NA values.  Weird stripes?\u001b[0m\u001b[0;34m\u001b[0m\u001b[0;34m\u001b[0m\u001b[0m\n\u001b[1;32m      2\u001b[0m \u001b[0mplt\u001b[0m\u001b[0;34m.\u001b[0m\u001b[0mfigure\u001b[0m\u001b[0;34m(\u001b[0m\u001b[0mfigsize\u001b[0m\u001b[0;34m=\u001b[0m\u001b[0;34m(\u001b[0m\u001b[0;36m10\u001b[0m\u001b[0;34m,\u001b[0m\u001b[0;36m6\u001b[0m\u001b[0;34m)\u001b[0m\u001b[0;34m)\u001b[0m\u001b[0;34m\u001b[0m\u001b[0m\n\u001b[0;32m----> 3\u001b[0;31m \u001b[0mcol\u001b[0m\u001b[0;34m=\u001b[0m\u001b[0mdf_close\u001b[0m\u001b[0;34m.\u001b[0m\u001b[0mcolumns\u001b[0m\u001b[0;34m[\u001b[0m\u001b[0;36m0\u001b[0m\u001b[0;34m:\u001b[0m\u001b[0;34m]\u001b[0m\u001b[0;34m\u001b[0m\u001b[0m\n\u001b[0m\u001b[1;32m      4\u001b[0m \u001b[0mplt\u001b[0m\u001b[0;34m.\u001b[0m\u001b[0mimshow\u001b[0m\u001b[0;34m(\u001b[0m\u001b[0mnp\u001b[0m\u001b[0;34m.\u001b[0m\u001b[0misnan\u001b[0m\u001b[0;34m(\u001b[0m\u001b[0mdf_vol\u001b[0m\u001b[0;34m.\u001b[0m\u001b[0mloc\u001b[0m\u001b[0;34m[\u001b[0m\u001b[0;34m'2000'\u001b[0m\u001b[0;34m:\u001b[0m\u001b[0;34m,\u001b[0m\u001b[0mcol\u001b[0m\u001b[0;34m]\u001b[0m\u001b[0;34m)\u001b[0m\u001b[0;34m,\u001b[0m\u001b[0maspect\u001b[0m\u001b[0;34m=\u001b[0m\u001b[0;34m'auto'\u001b[0m\u001b[0;34m)\u001b[0m\u001b[0;34m\u001b[0m\u001b[0m\n\u001b[1;32m      5\u001b[0m \u001b[0mplt\u001b[0m\u001b[0;34m.\u001b[0m\u001b[0mshow\u001b[0m\u001b[0;34m(\u001b[0m\u001b[0;34m)\u001b[0m\u001b[0;34m\u001b[0m\u001b[0m\n",
      "\u001b[0;31mNameError\u001b[0m: name 'df_close' is not defined"
     ]
    },
    {
     "data": {
      "text/plain": [
       "<matplotlib.figure.Figure at 0x7fc75db29978>"
      ]
     },
     "metadata": {},
     "output_type": "display_data"
    }
   ],
   "source": [
    "#Plot pattern of NA values.  Weird stripes?\n",
    "plt.figure(figsize=(10,6))\n",
    "col=df_close.columns[0:]\n",
    "plt.imshow(np.isnan(df_vol.loc['2000':,col]),aspect='auto')\n",
    "plt.show()"
   ]
  },
  {
   "cell_type": "markdown",
   "metadata": {
    "ein.tags": "worksheet-0",
    "slideshow": {
     "slide_type": "-"
    }
   },
   "source": [
    "# Data Transformation\n",
    "\n",
    "For the initial testing, I'm just building a model based on the 100 oldest stocks (or whichever come first), and looking at 2002-2006.\n",
    "Why then?  Because it looks relatively well behaved.\n",
    "The model is trained on the first half of the data, and we then run the\n",
    "network on the whole data set.\n",
    "\n",
    "I'm currently just taking the base-10 log of the data, and scaling each\n",
    "stock to lie with [-1,1].  I found differencing the data lead to\n",
    "pretty crappy results (then again, these are also pretty crap results).\n",
    "\n",
    "So there's some choices to be played with here:\n",
    "- scaling: variance vs max/min\n",
    "- differencing?"
   ]
  },
  {
   "cell_type": "code",
   "execution_count": 280,
   "metadata": {
    "autoscroll": false,
    "ein.tags": "worksheet-0",
    "slideshow": {
     "slide_type": "-"
    }
   },
   "outputs": [],
   "source": [
    "def take_log10(X,log_ind):\n",
    "    \"\"\"take_log10(X)\n",
    "    Takes base10-log of X.  Sets NaN to zero, and shifts zero values by 1E-16.\n",
    "    \"\"\"\n",
    "    #set missing values to zero.  (to avoid issues in network with NaNs)\n",
    "    y=X.copy()\n",
    "    y[np.isnan(y)]=0    \n",
    "    #take logs. (shift zero to avoid NANs)\n",
    "    y[:,log_ind] = np.log10(y[:,log_ind]+1E-16)\n",
    "    return y\n",
    "\n",
    "def scale_maxmin(X,log_ind):\n",
    "    \"\"\"scale_maxmin\n",
    "\n",
    "    Scales each price column by taking log, and max/min scaling.\n",
    "    Takes log of open/high/low/volumes/etf.\n",
    "    Does not take log of indicators.\n",
    "    Max-min scales all of them.\n",
    "    \"\"\"\n",
    "    y=take_log10(X,log_ind)\n",
    "    y_max = np.nanmax(y,axis=0)\n",
    "    y_min = np.nanmin(y,axis=0)\n",
    "    #compute middle and differences of the max/min.\n",
    "    avg = 0.5*(y_max+y_min)\n",
    "    rng = 0.5*(y_max-y_min)\n",
    "    #scale to [-1,+1]\n",
    "    yscaled= (y-avg)/rng\n",
    "    return yscaled,rng,avg\n",
    "\n",
    "def rescale_maxmin_log(Xscaled,avg,rng,log_ind):\n",
    "    \"\"\"rescale_maxmin\n",
    "\n",
    "    Undoes log-max/min scaling. \n",
    "    First undoes max/min scaling.  \n",
    "    Then exponentiates all variables which had log taken.\n",
    "\n",
    "    Input: Xscaled (nrow, ncol) np.array of scaled values\n",
    "           avg (ncol) np.array of average/mean values to shift by\n",
    "           rng (ncol) np.array of standard devations to scale by\n",
    "           \n",
    "    \"\"\"\n",
    "    #set missing values to zero.  (to avoid issues in network with NaNs)\n",
    "    X= avg + rng*Xscaled\n",
    "    #take logs. (shift zero to avoid NANs)\n",
    "    X[:,log_ind] = 10**X[:,log_ind]\n",
    "    return X\n",
    "\n",
    "def scale_diff_var(X,log_ind,diff_ind):\n",
    "    \"\"\"scale_diff_var\n",
    "    Scales each column by taking log, then differencing.\n",
    "    Then scales to have zero mean, and unit standard deviation..\n",
    "    Takes log of all data.\n",
    "    \"\"\"\n",
    "    y=take_log10(X,log_ind)\n",
    "    #take differences logs. (shift zero to avoid NANs)    \n",
    "    y[:,diff_ind] = np.diff(y[:,diff_ind],axis=0)\n",
    "    y_std = np.nanstd(y,axis=0)\n",
    "    y_mean = np.nanmean(y,axis=0)\n",
    "    yscaled= (y-y_mean)/y_std\n",
    "    return yscaled,y_mean,y_std\n",
    "\n",
    "def scale_diff_iqr(X,diff_ind,log_ind):\n",
    "    \"\"\"scale_diff_var\n",
    "    Scales each column by taking log, then differencing.\n",
    "    Then scales to have zero median, and so 95% inter-quartile range is unity.\n",
    "    Should handle the long-tail distributions we will encounter\n",
    "    with some grace.  \n",
    "    Only take the log for the stock/etf data.\n",
    "    \"\"\"\n",
    "\n",
    "    y=take_log10(X,log_ind)\n",
    "    #take differences logs. (shift zero to avoid NANs)\n",
    "    nrow,ncol=y.shape\n",
    "    y2=np.zeros((nrow-1,ncol))\n",
    "    y2[:,diff_ind] = np.diff(y[:,diff_ind],axis=0)\n",
    "    y2[:,~diff_ind] = y[1:,~diff_ind]\n",
    "\n",
    "    keep_msk=(y2==y2)\n",
    "    print('Num of NaN',np.sum(keep_msk))\n",
    "    # print(keep_msk.shape,y2[keep_msk].shape)\n",
    "    X_025 = np.nanpercentile(y2,q=2.5,axis=0)\n",
    "    X_975 = np.nanpercentile(y2,q=97.5,axis=0)\n",
    "    X_range = X_975-X_025\n",
    "    X_median = np.nanmedian(y2,axis=0)\n",
    "    Xscaled=np.where(keep_msk, (y2-X_median)/X_range,0)\n",
    "    return Xscaled,X_median,X_range\n",
    "\n",
    "def rescale_diff_iqr(Xscaled,mu,sd,x0,log_ind,diff_ind):\n",
    "    \"\"\"rescale_diffvar\n",
    "\n",
    "    Undoes log-max/min scaling. \n",
    "    Takes log of open/high/low/volumes/etf.\n",
    "    Does not take log of indicators.\n",
    "    Max-min scales all of them.\n",
    "    Only take the log for the stock/etf data.\n",
    "    \"\"\"\n",
    "    #set missing values to zero.  (to avoid issues in network with NaNs)\n",
    "    X= mu + sd*Xscaled\n",
    "    X= np.insert(X,0,x0,axis=0)\n",
    "    X[:,diff_ind] = np.cumsum(X[:,diff_ind],axis=0)\n",
    "    #take logs. (shift zero to avoid NANs)\n",
    "    X[:,log_ind] = 10**X[:,log_ind]\n",
    "    return X"
   ]
  },
  {
   "cell_type": "code",
   "execution_count": 335,
   "metadata": {
    "autoscroll": false,
    "ein.tags": "worksheet-0",
    "slideshow": {
     "slide_type": "-"
    }
   },
   "outputs": [
    {
     "name": "stdout",
     "output_type": "stream",
     "text": [
      "Automatic pdb calling has been turned ON\n"
     ]
    }
   ],
   "source": [
    "%pdb on "
   ]
  },
  {
   "cell_type": "code",
   "execution_count": 165,
   "metadata": {
    "autoscroll": false,
    "ein.tags": "worksheet-0",
    "slideshow": {
     "slide_type": "-"
    }
   },
   "outputs": [
    {
     "data": {
      "text/plain": [
       "array([[3, 3, 3],\n",
       "       [3, 3, 3]])"
      ]
     },
     "execution_count": 165,
     "metadata": {},
     "output_type": "execute_result"
    }
   ],
   "source": [
    "np.diff(np.arange(9).reshape(3,3),axis=0)"
   ]
  },
  {
   "cell_type": "code",
   "execution_count": 292,
   "metadata": {
    "autoscroll": false,
    "ein.tags": "worksheet-0",
    "slideshow": {
     "slide_type": "-"
    }
   },
   "outputs": [],
   "source": [
    "Xsub=df_tot['2001':'2014'].values\n",
    "tsub=df_tot['2001':'2014'].index\n",
    "Xsub_scale,Xsub_rng, Xsub_avg=scale_maxmin(Xsub,log_ind)\n"
   ]
  },
  {
   "cell_type": "code",
   "execution_count": 307,
   "metadata": {
    "autoscroll": false,
    "ein.tags": "worksheet-0",
    "slideshow": {
     "slide_type": "-"
    }
   },
   "outputs": [
    {
     "data": {
      "image/png": "[encoded data removed]",
      "text/plain": [
       "<matplotlib.figure.Figure at 0x7fc75d488160>"
      ]
     },
     "metadata": {},
     "output_type": "display_data"
    }
   ],
   "source": [
    "plt.figure()\n",
    "plt.hist(Xsub_scale[:,5])\n",
    "plt.show()"
   ]
  },
  {
   "cell_type": "code",
   "execution_count": 308,
   "metadata": {
    "autoscroll": false,
    "ein.tags": "worksheet-0",
    "slideshow": {
     "slide_type": "-"
    }
   },
   "outputs": [
    {
     "data": {
      "image/png": "[encoded data removed]",
      "text/plain": [
       "<matplotlib.figure.Figure at 0x7fc747711a90>"
      ]
     },
     "metadata": {},
     "output_type": "display_data"
    }
   ],
   "source": [
    "plt.plot(Xsub_scale[:,0:5])\n",
    "plt.show()"
   ]
  },
  {
   "cell_type": "markdown",
   "metadata": {
    "ein.tags": "worksheet-0",
    "slideshow": {
     "slide_type": "-"
    }
   },
   "source": [
    "I had hoped Keras would automatically take care of random temporal batching like this, but unfortunately it does not.\n",
    "So, this routine which randomly selects a batch of indices to start fitting at.  "
   ]
  },
  {
   "cell_type": "markdown",
   "metadata": {
    "ein.tags": "worksheet-0",
    "slideshow": {
     "slide_type": "-"
    }
   },
   "source": [
    "## Making the Network\n",
    "\n",
    "The following makes a 4 layer network - a dense layer at input with linear activation to reduce dimension,\n",
    "followed by two recurrent layers (using a LSTM for longer memory),\n",
    "and a final dense layer to map from the hidden units to the final outputs.\n",
    "The LSTMs can use \"leaky ReLU\" activation, which are suited to long sequences since the gradients dont explode, or go to zero.\n",
    "The output sequences are then flattened, before being put through\n",
    "a final linear layer to add together the results.\n",
    "(In a fancy version this could be a CNN?)\n",
    "The final result is reshaped again to output a batch of sequences.\n",
    "\n",
    "The Adam optimizer is basically a fancy version of gradient descent (with a momentum, scaling based on previous updates, and learning rate scheduling)"
   ]
  },
  {
   "cell_type": "code",
   "execution_count": 299,
   "metadata": {
    "autoscroll": false,
    "ein.tags": "worksheet-0",
    "slideshow": {
     "slide_type": "-"
    }
   },
   "outputs": [],
   "source": [
    "from neural_networks.KerasRecurrentNetwork import KerasRecurrentNetwork, RNNConfig\n"
   ]
  },
  {
   "cell_type": "code",
   "execution_count": 300,
   "metadata": {
    "autoscroll": false,
    "ein.tags": "worksheet-0",
    "slideshow": {
     "slide_type": "-"
    }
   },
   "outputs": [],
   "source": [
    "keras_conf=RNNConfig()\n",
    "Keras_RNN=KerasRecurrentNetwork(keras_conf)\n",
    "Keras_RNN.make_network()"
   ]
  },
  {
   "cell_type": "markdown",
   "metadata": {
    "ein.tags": "worksheet-0",
    "slideshow": {
     "slide_type": "-"
    }
   },
   "source": [
    "## Training the Network\n",
    "\n",
    "Now run in minibatches.  The \"if\" statement means we only see the output every 50 iterations.\n",
    "The \"reset_states()\" call should reset the internal state of the model.\n",
    "Note that the reported loss is the loss (MSE) on the current batch.  "
   ]
  },
  {
   "cell_type": "code",
   "execution_count": 301,
   "metadata": {
    "autoscroll": false,
    "ein.tags": "worksheet-0",
    "slideshow": {
     "slide_type": "-"
    }
   },
   "outputs": [],
   "source": [
    "Xtrain,ytrain=Keras_RNN.get_training_data(Xsub_scale)\n"
   ]
  },
  {
   "cell_type": "code",
   "execution_count": 302,
   "metadata": {
    "autoscroll": false,
    "ein.tags": "worksheet-0",
    "slideshow": {
     "slide_type": "-"
    }
   },
   "outputs": [
    {
     "name": "stdout",
     "output_type": "stream",
     "text": [
      "Epoch 1/1\n",
      "100/100 [==============================] - 0s 575us/step - loss: 0.0399\n",
      "Epoch 1/1\n",
      "100/100 [==============================] - 0s 579us/step - loss: 0.0466\n",
      "Epoch 1/1\n",
      "100/100 [==============================] - 0s 656us/step - loss: 0.0577\n",
      "Epoch 1/1\n",
      "100/100 [==============================] - 0s 605us/step - loss: 0.0527\n",
      "Epoch 1/1\n",
      "100/100 [==============================] - 0s 588us/step - loss: 0.0558\n",
      "Epoch 1/1\n",
      "100/100 [==============================] - 0s 574us/step - loss: 0.0680\n",
      "Epoch 1/1\n",
      "100/100 [==============================] - 0s 577us/step - loss: 0.0771\n",
      "Epoch 1/1\n",
      "100/100 [==============================] - 0s 600us/step - loss: 0.0700\n",
      "Epoch 1/1\n",
      "100/100 [==============================] - 0s 595us/step - loss: 0.1097\n",
      "Epoch 1/1\n",
      "100/100 [==============================] - 0s 619us/step - loss: 0.1227\n",
      "100/100 [==============================] - 2s 22ms/step - loss: 0.3258\n",
      "Epoch 1/1\n"
     ]
    }
   ],
   "source": [
    "Keras_RNN.train_model(Xtrain,ytrain)"
   ]
  },
  {
   "cell_type": "markdown",
   "metadata": {
    "ein.tags": "worksheet-0",
    "slideshow": {
     "slide_type": "-"
    }
   },
   "source": [
    "## Predicting the whole sequence\n",
    "\n",
    "This runs the network on the whole subset of data we've pulled out from 2000 to 2008.  This checks performance on both the training data,\n",
    "as well as the holdout data.  As we'll see, the performance drops precipitously once training ends.   "
   ]
  },
  {
   "cell_type": "code",
   "execution_count": 303,
   "metadata": {
    "autoscroll": false,
    "ein.tags": "worksheet-0",
    "slideshow": {
     "slide_type": "-"
    }
   },
   "outputs": [],
   "source": [
    "rnn_pred=Keras_RNN.avg_predict_from_model(Xsub_scale)"
   ]
  },
  {
   "cell_type": "code",
   "execution_count": 309,
   "metadata": {
    "autoscroll": false,
    "ein.tags": "worksheet-0",
    "slideshow": {
     "slide_type": "-"
    }
   },
   "outputs": [
    {
     "data": {
      "image/png": "[encoded data removed]",
      "text/plain": [
       "<matplotlib.figure.Figure at 0x7fc75dfada90>"
      ]
     },
     "metadata": {},
     "output_type": "display_data"
    }
   ],
   "source": [
    "i=6\n",
    "plt.plot(rnn_pred[:,i],'--')\n",
    "plt.plot(Xsub_scale[:,i],label=df_tot.columns[i])\n",
    "plt.legend()\n",
    "plt.show()"
   ]
  },
  {
   "cell_type": "markdown",
   "metadata": {
    "ein.tags": "worksheet-0",
    "slideshow": {
     "slide_type": "-"
    }
   },
   "source": [
    "So, the model is doing terribly.  I thought it would at least track the correct price (and get the directions wrong).\n",
    "As is, the resulting predictions are wandering far away from the actual price, even when given the correct price data.\n",
    "\n",
    "Does this make sense?  Under one point of view, these variables are all random walks.  Even if they are correlated,\n",
    "then, we can find some independent variables which are also given by random walks.  We're fitting a neural network with\n",
    "memory, and training it to fit this noise.  And when fed new noise, the results are wandering away from the prediction.\n"
   ]
  },
  {
   "cell_type": "markdown",
   "metadata": {
    "ein.tags": "worksheet-0",
    "slideshow": {
     "slide_type": "-"
    }
   },
   "source": [
    "# Simple Deep Network\n",
    "\n",
    "Let's try just making a really wide network.  With all inputs and times at once, and predicting all outputs at once.\n",
    "\n",
    "Making this work does require lots of reshaping inputs/outputs from 2D to 1D.\n",
    "I've put this in an OOP structure to try and maintain some hygiene due to multiple models using the same data.\n",
    "I hope I've caught all of the bugs from when this was just a script."
   ]
  },
  {
   "cell_type": "code",
   "execution_count": 312,
   "metadata": {
    "autoscroll": false,
    "ein.tags": "worksheet-0",
    "slideshow": {
     "slide_type": "-"
    }
   },
   "outputs": [],
   "source": [
    "from neural_networks.KerasDeepNetwork import deep_network_config\n",
    "from neural_networks.KerasDeepNetwork import deep_network"
   ]
  },
  {
   "cell_type": "code",
   "execution_count": 313,
   "metadata": {
    "autoscroll": false,
    "ein.tags": "worksheet-0",
    "slideshow": {
     "slide_type": "-"
    }
   },
   "outputs": [],
   "source": [
    "deep_conf=deep_network_config()\n",
    "deep_conf.Nstocks=0\n",
    "DNN=deep_network(deep_conf)\n"
   ]
  },
  {
   "cell_type": "code",
   "execution_count": 314,
   "metadata": {
    "autoscroll": false,
    "ein.tags": "worksheet-0",
    "slideshow": {
     "slide_type": "-"
    }
   },
   "outputs": [
    {
     "data": {
      "text/plain": [
       "3400"
      ]
     },
     "execution_count": 314,
     "metadata": {},
     "output_type": "execute_result"
    }
   ],
   "source": [
    "(Netf+Nind)*deep_conf.Ntime_in"
   ]
  },
  {
   "cell_type": "code",
   "execution_count": 316,
   "metadata": {
    "autoscroll": false,
    "ein.tags": "worksheet-0",
    "slideshow": {
     "slide_type": "-"
    }
   },
   "outputs": [],
   "source": [
    "#grab some data for train/validation\n",
    "X=df_tot.loc['2001':'2017'].values\n",
    "times=df_tot.loc['2001':'2017'].index.values\n",
    "#scale based solely on training window\n",
    "\n",
    "#split 3/4 as training, 1/4 as validation\n",
    "N=len(X)\n",
    "Nc=int(deep_conf.train_frac*N)\n",
    "\n",
    "#scale to [-1,+1] on each column, and keep those scaling parameters.  \n",
    "#shoul really only scale based on training data\n",
    "X_train_scale, X_train_range, X_train_avg=scale_maxmin(X[:Nc,:],log_ind)\n",
    "#now select\n",
    "X_train_sub,y_train,ind_x=DNN.get_training_data(X_train_scale)"
   ]
  },
  {
   "cell_type": "code",
   "execution_count": 317,
   "metadata": {
    "autoscroll": false,
    "ein.tags": "worksheet-0",
    "slideshow": {
     "slide_type": "-"
    }
   },
   "outputs": [
    {
     "name": "stdout",
     "output_type": "stream",
     "text": [
      "Epoch 1/1\n",
      "100/100 [==============================] - 1s 6ms/step - loss: 0.2282\n",
      "Epoch 1/1\n",
      "100/100 [==============================] - 0s 247us/step - loss: 0.1131\n",
      "Epoch 1/1\n",
      "100/100 [==============================] - 0s 217us/step - loss: 0.0805\n",
      "Epoch 1/1\n",
      "100/100 [==============================] - 0s 228us/step - loss: 0.0553\n",
      "Epoch 1/1\n",
      "100/100 [==============================] - 0s 239us/step - loss: 0.0404\n",
      "Epoch 1/1\n",
      "100/100 [==============================] - 0s 234us/step - loss: 0.0366\n",
      "Epoch 1/1\n",
      "100/100 [==============================] - 0s 223us/step - loss: 0.0347\n",
      "Epoch 1/1\n",
      "100/100 [==============================] - 0s 280us/step - loss: 0.0363\n",
      "Epoch 1/1\n",
      "100/100 [==============================] - 0s 224us/step - loss: 0.0351\n",
      "Epoch 1/1\n",
      "100/100 [==============================] - 0s 216us/step - loss: 0.0335\n",
      "Epoch 1/1\n",
      "100/100 [==============================] - 0s 236us/step - loss: 0.0262\n",
      "Epoch 1/1\n",
      "100/100 [==============================] - 0s 284us/step - loss: 0.0330\n",
      "Epoch 1/1\n",
      "100/100 [==============================] - 0s 234us/step - loss: 0.0288\n",
      "Epoch 1/1\n",
      "100/100 [==============================] - 0s 223us/step - loss: 0.0330\n",
      "Epoch 1/1\n",
      "100/100 [==============================] - 0s 206us/step - loss: 0.0253\n",
      "Epoch 1/1\n",
      "100/100 [==============================] - 0s 250us/step - loss: 0.0256\n",
      "Epoch 1/1\n",
      "100/100 [==============================] - 0s 247us/step - loss: 0.0206\n",
      "Epoch 1/1\n",
      "100/100 [==============================] - 0s 236us/step - loss: 0.0217\n",
      "Epoch 1/1\n",
      "100/100 [==============================] - 0s 224us/step - loss: 0.0244\n",
      "Epoch 1/1\n",
      "100/100 [==============================] - 0s 233us/step - loss: 0.0220\n",
      "Epoch 1/1\n",
      "100/100 [==============================] - 0s 244us/step - loss: 0.0232\n",
      "Epoch 1/1\n",
      "100/100 [==============================] - 0s 216us/step - loss: 0.0244\n",
      "Epoch 1/1\n",
      "100/100 [==============================] - 0s 247us/step - loss: 0.0197\n",
      "Epoch 1/1\n",
      "100/100 [==============================] - 0s 223us/step - loss: 0.0281\n",
      "Epoch 1/1\n",
      "100/100 [==============================] - 0s 228us/step - loss: 0.0196\n",
      "Epoch 1/1\n",
      "100/100 [==============================] - 0s 227us/step - loss: 0.0204\n",
      "Epoch 1/1\n",
      "100/100 [==============================] - 0s 240us/step - loss: 0.0213\n",
      "Epoch 1/1\n",
      "100/100 [==============================] - 0s 228us/step - loss: 0.0267\n",
      "Epoch 1/1\n",
      "100/100 [==============================] - 0s 237us/step - loss: 0.0214\n",
      "Epoch 1/1\n",
      "100/100 [==============================] - 0s 412us/step - loss: 0.0254\n",
      "Epoch 1/1\n",
      "100/100 [==============================] - 0s 226us/step - loss: 0.0201\n",
      "Epoch 1/1\n",
      "100/100 [==============================] - 0s 247us/step - loss: 0.0220\n",
      "Epoch 1/1\n",
      "100/100 [==============================] - 0s 293us/step - loss: 0.0229\n",
      "Epoch 1/1\n",
      "100/100 [==============================] - 0s 240us/step - loss: 0.0209\n",
      "Epoch 1/1\n",
      "100/100 [==============================] - 0s 232us/step - loss: 0.0257\n",
      "Epoch 1/1\n",
      "100/100 [==============================] - 0s 242us/step - loss: 0.0188\n",
      "Epoch 1/1\n",
      "100/100 [==============================] - 0s 271us/step - loss: 0.0189\n",
      "Epoch 1/1\n",
      "100/100 [==============================] - 0s 230us/step - loss: 0.0202\n",
      "Epoch 1/1\n",
      "100/100 [==============================] - 0s 225us/step - loss: 0.0209\n",
      "Epoch 1/1\n",
      "100/100 [==============================] - 0s 259us/step - loss: 0.0186\n",
      "Epoch 1/1\n",
      "100/100 [==============================] - 0s 262us/step - loss: 0.0148\n",
      "Epoch 1/1\n",
      "100/100 [==============================] - 0s 344us/step - loss: 0.0201\n",
      "Epoch 1/1\n",
      "100/100 [==============================] - 0s 217us/step - loss: 0.0194\n",
      "Epoch 1/1\n",
      "100/100 [==============================] - 0s 234us/step - loss: 0.0227\n",
      "Epoch 1/1\n",
      "100/100 [==============================] - 0s 268us/step - loss: 0.0149\n",
      "Epoch 1/1\n",
      "100/100 [==============================] - 0s 285us/step - loss: 0.0180\n",
      "Epoch 1/1\n",
      "100/100 [==============================] - 0s 225us/step - loss: 0.0239\n",
      "Epoch 1/1\n",
      "100/100 [==============================] - 0s 252us/step - loss: 0.0173\n",
      "Epoch 1/1\n",
      "100/100 [==============================] - 0s 238us/step - loss: 0.0164\n",
      "Epoch 1/1\n",
      "100/100 [==============================] - 0s 241us/step - loss: 0.0205\n",
      "Epoch 1/1\n",
      "100/100 [==============================] - 0s 218us/step - loss: 0.0184\n",
      "Epoch 1/1\n",
      "100/100 [==============================] - 0s 221us/step - loss: 0.0177\n",
      "Epoch 1/1\n",
      "100/100 [==============================] - 0s 327us/step - loss: 0.0163\n",
      "Epoch 1/1\n",
      "100/100 [==============================] - 0s 251us/step - loss: 0.0164\n",
      "Epoch 1/1\n",
      "100/100 [==============================] - 0s 266us/step - loss: 0.0193\n",
      "Epoch 1/1\n",
      "100/100 [==============================] - 0s 252us/step - loss: 0.0189\n",
      "Epoch 1/1\n",
      "100/100 [==============================] - 0s 244us/step - loss: 0.0168\n",
      "Epoch 1/1\n",
      "100/100 [==============================] - 0s 241us/step - loss: 0.0177\n",
      "Epoch 1/1\n",
      "100/100 [==============================] - 0s 216us/step - loss: 0.0149\n",
      "Epoch 1/1\n",
      "100/100 [==============================] - 0s 211us/step - loss: 0.0161\n",
      "Epoch 1/1\n",
      "100/100 [==============================] - 0s 235us/step - loss: 0.0172\n",
      "Epoch 1/1\n",
      "100/100 [==============================] - 0s 276us/step - loss: 0.0193\n",
      "Epoch 1/1\n",
      "100/100 [==============================] - 0s 255us/step - loss: 0.0178\n",
      "Epoch 1/1\n",
      "100/100 [==============================] - 0s 216us/step - loss: 0.0146\n",
      "Epoch 1/1\n",
      "100/100 [==============================] - 0s 306us/step - loss: 0.0197\n",
      "Epoch 1/1\n",
      "100/100 [==============================] - 0s 271us/step - loss: 0.0190\n",
      "Epoch 1/1\n",
      "100/100 [==============================] - 0s 232us/step - loss: 0.0186\n",
      "Epoch 1/1\n",
      "100/100 [==============================] - 0s 232us/step - loss: 0.0198\n",
      "Epoch 1/1\n",
      "100/100 [==============================] - 0s 358us/step - loss: 0.0179\n",
      "Epoch 1/1\n",
      "100/100 [==============================] - 0s 255us/step - loss: 0.0188\n",
      "Epoch 1/1\n",
      "100/100 [==============================] - 0s 496us/step - loss: 0.0147\n",
      "Epoch 1/1\n",
      "100/100 [==============================] - 0s 250us/step - loss: 0.0158\n",
      "Epoch 1/1\n",
      "100/100 [==============================] - 0s 222us/step - loss: 0.0191\n",
      "Epoch 1/1\n",
      "100/100 [==============================] - 0s 563us/step - loss: 0.0174\n",
      "Epoch 1/1\n",
      "100/100 [==============================] - 0s 234us/step - loss: 0.0157\n",
      "Epoch 1/1\n",
      "100/100 [==============================] - 0s 248us/step - loss: 0.0210\n",
      "Epoch 1/1\n",
      "100/100 [==============================] - 0s 230us/step - loss: 0.0174\n",
      "Epoch 1/1\n",
      "100/100 [==============================] - 0s 202us/step - loss: 0.0163\n",
      "Epoch 1/1\n",
      "100/100 [==============================] - 0s 319us/step - loss: 0.0192\n",
      "Epoch 1/1\n",
      "100/100 [==============================] - 0s 203us/step - loss: 0.0193\n",
      "Epoch 1/1\n",
      "100/100 [==============================] - 0s 318us/step - loss: 0.0177\n",
      "Epoch 1/1\n",
      "100/100 [==============================] - 0s 216us/step - loss: 0.0158\n",
      "Epoch 1/1\n",
      "100/100 [==============================] - 0s 354us/step - loss: 0.0158\n",
      "Epoch 1/1\n",
      "100/100 [==============================] - 0s 239us/step - loss: 0.0163\n",
      "Epoch 1/1\n",
      "100/100 [==============================] - 0s 212us/step - loss: 0.0155\n",
      "Epoch 1/1\n",
      "100/100 [==============================] - 0s 232us/step - loss: 0.0189\n",
      "Epoch 1/1\n",
      "100/100 [==============================] - 0s 225us/step - loss: 0.0168\n",
      "Epoch 1/1\n",
      "100/100 [==============================] - 0s 287us/step - loss: 0.0157\n",
      "Epoch 1/1\n",
      "100/100 [==============================] - 0s 231us/step - loss: 0.0144\n",
      "Epoch 1/1\n",
      "100/100 [==============================] - 0s 243us/step - loss: 0.0191\n",
      "Epoch 1/1\n",
      "100/100 [==============================] - 0s 230us/step - loss: 0.0150\n",
      "Epoch 1/1\n",
      "100/100 [==============================] - 0s 246us/step - loss: 0.0159\n",
      "Epoch 1/1\n",
      "100/100 [==============================] - 0s 227us/step - loss: 0.0211\n",
      "Epoch 1/1\n",
      "100/100 [==============================] - 0s 227us/step - loss: 0.0157\n",
      "Epoch 1/1\n",
      "100/100 [==============================] - 0s 244us/step - loss: 0.0179\n",
      "Epoch 1/1\n",
      "100/100 [==============================] - 0s 252us/step - loss: 0.0135\n",
      "Epoch 1/1\n",
      "100/100 [==============================] - 0s 296us/step - loss: 0.0220\n",
      "Epoch 1/1\n",
      "100/100 [==============================] - 0s 241us/step - loss: 0.0175\n",
      "Epoch 1/1\n",
      "100/100 [==============================] - 0s 224us/step - loss: 0.0163\n",
      "Epoch 1/1\n",
      "100/100 [==============================] - 0s 260us/step - loss: 0.0146\n"
     ]
    },
    {
     "name": "stdout",
     "output_type": "stream",
     "text": [
      "Epoch 1/1\n",
      "\r",
      "100/100 [==============================] - 0s 228us/step - loss: 0.0144\n"
     ]
    }
   ],
   "source": [
    "DNN.make_network(activ='relu')\n",
    "DNN.train_model(X_train_sub,y_train)"
   ]
  },
  {
   "cell_type": "code",
   "execution_count": 318,
   "metadata": {
    "autoscroll": false,
    "ein.tags": "worksheet-0",
    "slideshow": {
     "slide_type": "-"
    }
   },
   "outputs": [
    {
     "ename": "TypeError",
     "evalue": "take_log10() missing 1 required positional argument: 'log_ind'",
     "output_type": "error",
     "traceback": [
      "\u001b[0;31m---------------------------------------------------------------------------\u001b[0m",
      "\u001b[0;31mTypeError\u001b[0m                                 Traceback (most recent call last)",
      "\u001b[0;32m<ipython-input-318-a9d908e0bfae>\u001b[0m in \u001b[0;36m<module>\u001b[0;34m()\u001b[0m\n\u001b[1;32m      1\u001b[0m \u001b[0;31m#now scale all of the data.lo\u001b[0m\u001b[0;34m\u001b[0m\u001b[0;34m\u001b[0m\u001b[0m\n\u001b[0;32m----> 2\u001b[0;31m \u001b[0mlogX\u001b[0m\u001b[0;34m=\u001b[0m\u001b[0mtake_log10\u001b[0m\u001b[0;34m(\u001b[0m\u001b[0mX\u001b[0m\u001b[0;34m)\u001b[0m\u001b[0;34m\u001b[0m\u001b[0m\n\u001b[0m\u001b[1;32m      3\u001b[0m \u001b[0mXscale\u001b[0m\u001b[0;34m=\u001b[0m\u001b[0;34m(\u001b[0m\u001b[0mlogX\u001b[0m\u001b[0;34m-\u001b[0m\u001b[0mX_train_avg\u001b[0m\u001b[0;34m)\u001b[0m\u001b[0;34m/\u001b[0m\u001b[0mX_train_range\u001b[0m\u001b[0;34m\u001b[0m\u001b[0m\n",
      "\u001b[0;31mTypeError\u001b[0m: take_log10() missing 1 required positional argument: 'log_ind'"
     ]
    }
   ],
   "source": [
    "#now scale all of the data.lo\n",
    "logX=take_log10(X)\n",
    "Xscale=(logX-X_train_avg)/X_train_range"
   ]
  },
  {
   "cell_type": "code",
   "execution_count": 68,
   "metadata": {
    "autoscroll": false,
    "ein.tags": "worksheet-0",
    "slideshow": {
     "slide_type": "-"
    }
   },
   "outputs": [],
   "source": [
    "#predict on whole range\n",
    "pred=DNN.avg_predict_from_model(Xscale[:,ind_x])"
   ]
  },
  {
   "cell_type": "code",
   "execution_count": 69,
   "metadata": {
    "autoscroll": false,
    "ein.tags": "worksheet-0",
    "slideshow": {
     "slide_type": "-"
    }
   },
   "outputs": [
    {
     "data": {
      "text/plain": [
       "<matplotlib.figure.Figure at 0x7efbaf6f4208>"
      ]
     },
     "metadata": {},
     "output_type": "display_data"
    }
   ],
   "source": [
    "plt.figure(figsize=(15,15))\n",
    "for k in range(Netf):\n",
    "    plt.subplot(4,2,k+1)\n",
    "    plt.plot_date(times,pred[:,k],'--',label='pred')\n",
    "    plt.plot_date(times,Xscale[:,-Netf+k],'-')#[:,ind_etf[k]])\n",
    "    plt.title(df_tot.columns[-Netf+k])\n",
    "    plt.plot_date([times[Nc]]*2,[-1,1],'k')\n",
    "plt.show()    \n"
   ]
  },
  {
   "cell_type": "markdown",
   "metadata": {
    "ein.tags": "worksheet-0",
    "slideshow": {
     "slide_type": "-"
    }
   },
   "source": [
    "So this is overfitting like crazy again! A simple linear regression would work better at this point. "
   ]
  },
  {
   "cell_type": "markdown",
   "metadata": {
    "ein.tags": "worksheet-0",
    "slideshow": {
     "slide_type": "-"
    }
   },
   "source": [
    "# Running on Dec-Apr inputs.\n",
    "\n",
    "Now to augment the dataset with the most recent indicators/ETFs.  "
   ]
  },
  {
   "cell_type": "markdown",
   "metadata": {
    "ein.tags": "worksheet-0",
    "slideshow": {
     "slide_type": "-"
    }
   },
   "source": [
    "# Linear Prediction\n",
    "\n",
    "So, let's make a linear prediction based on the last year's trend.  "
   ]
  },
  {
   "cell_type": "code",
   "execution_count": 291,
   "metadata": {
    "autoscroll": false,
    "ein.tags": "worksheet-0",
    "slideshow": {
     "slide_type": "-"
    }
   },
   "outputs": [],
   "source": [
    "#df_tot.tail().iloc[:,-Netf:]"
   ]
  },
  {
   "cell_type": "code",
   "execution_count": null,
   "metadata": {
    "autoscroll": false,
    "ein.tags": "worksheet-0",
    "slideshow": {
     "slide_type": "-"
    }
   },
   "outputs": [],
   "source": [
    "#Estimate a linear trend\n",
    "df_tail=df_tot.tail(n=100).iloc[:,-Netf:]"
   ]
  },
  {
   "cell_type": "code",
   "execution_count": 279,
   "metadata": {
    "autoscroll": false,
    "ein.tags": "worksheet-0",
    "slideshow": {
     "slide_type": "-"
    }
   },
   "outputs": [],
   "source": [
    "#estimate mean difference.  \n",
    "df_final_inc=df_tail.diff(1).mean().values"
   ]
  },
  {
   "cell_type": "code",
   "execution_count": 255,
   "metadata": {
    "autoscroll": false,
    "ein.tags": "worksheet-0",
    "slideshow": {
     "slide_type": "-"
    }
   },
   "outputs": [],
   "source": [
    "df_final=df_tail.iloc[-1].values\n",
    "df_ta=df_final.values"
   ]
  },
  {
   "cell_type": "code",
   "execution_count": 256,
   "metadata": {
    "autoscroll": false,
    "ein.tags": "worksheet-0",
    "slideshow": {
     "slide_type": "-"
    }
   },
   "outputs": [
    {
     "data": {
      "text/plain": [
       "array([ 1455.25    ,   147.039566,    91.540939,   120.301598,   162.012939,\n",
       "         172.077026,   136.928207])"
      ]
     },
     "execution_count": 256,
     "metadata": {},
     "output_type": "execute_result"
    }
   ],
   "source": [
    "df_final_val"
   ]
  },
  {
   "cell_type": "code",
   "execution_count": 278,
   "metadata": {
    "autoscroll": false,
    "ein.tags": "worksheet-0",
    "slideshow": {
     "slide_type": "-"
    }
   },
   "outputs": [],
   "source": [
    "date=df_tail.index[-1]\n",
    "final_dates=pd.date_range(start=date,end='2017-12-31',freq='W')\n",
    "\n",
    "df_final=np.zeros((len(final_dates),7))\n"
   ]
  },
  {
   "cell_type": "code",
   "execution_count": 281,
   "metadata": {
    "autoscroll": false,
    "ein.tags": "worksheet-0",
    "slideshow": {
     "slide_type": "-"
    }
   },
   "outputs": [],
   "source": [
    "nt = len(final_dates)\n",
    "for i in range(nt):\n",
    "    df_final[i]=df_final_val+i*df_final_inc\n",
    "\n",
    "#make a dataframe of values\n",
    "df_final2=pd.DataFrame(df_final,index=final_dates,columns=df_tail.columns)\n",
    "df_final2.to_csv('linear_etf_fit.csv')"
   ]
  },
  {
   "cell_type": "markdown",
   "metadata": {
    "ein.tags": "worksheet-0",
    "slideshow": {
     "slide_type": "-"
    }
   },
   "source": [
    "# Forecast from last timestep"
   ]
  },
  {
   "cell_type": "code",
   "execution_count": 157,
   "metadata": {
    "autoscroll": false,
    "ein.tags": "worksheet-0",
    "slideshow": {
     "slide_type": "-"
    }
   },
   "outputs": [],
   "source": [
    "#grab last values, up to last observation. \n",
    "X_test=df_tot.iloc[-395:-95].values\n",
    "\n",
    "logX_test=take_log10(X_test)\n",
    "X_test_scale=(logX_test-X_train_avg)/X_train_range\n"
   ]
  },
  {
   "cell_type": "code",
   "execution_count": 168,
   "metadata": {
    "autoscroll": false,
    "ein.tags": "worksheet-0",
    "slideshow": {
     "slide_type": "-"
    }
   },
   "outputs": [],
   "source": [
    "?np.reshape"
   ]
  },
  {
   "cell_type": "code",
   "execution_count": 293,
   "metadata": {
    "autoscroll": false,
    "ein.tags": "worksheet-0",
    "slideshow": {
     "slide_type": "-"
    }
   },
   "outputs": [],
   "source": [
    "X_test_in = X_test_scale[-DNN.conf.Ntime_in:,ind_x].reshape(-1)\n",
    "#stack 2 on top to sidestep batching fuckwittery.\n",
    "#X_test_in2 = np.vstack([X_test_in,X_test_in])\n",
    "\n",
    "X_test_in2 = X_test_in.reshape((1,len(X_test_in)))\n",
    "\n",
    "ytest=DNN.model.predict(X_test_in2,batch_size=1)\n",
    "ytest=ytest.reshape((DNN.conf.Ntime_out, Netf))"
   ]
  },
  {
   "cell_type": "code",
   "execution_count": 294,
   "metadata": {
    "autoscroll": false,
    "ein.tags": "worksheet-0",
    "slideshow": {
     "slide_type": "-"
    }
   },
   "outputs": [],
   "source": [
    "ytest_pred=10**(X_train_range[-7:]*ytest+X_train_avg[-7:])"
   ]
  },
  {
   "cell_type": "code",
   "execution_count": 200,
   "metadata": {
    "autoscroll": false,
    "ein.tags": "worksheet-0",
    "slideshow": {
     "slide_type": "-"
    }
   },
   "outputs": [],
   "source": [
    "#make a date-range\n",
    "import datetime as dt\n",
    "start=dt.datetime(2017,12,16)\n",
    "end=dt.datetime(2018,4,30)\n",
    "dates=pd.date_range(start,end)\n",
    "#keep only weekdays\n",
    "dates=dates[dates.dayofweek<5]"
   ]
  },
  {
   "cell_type": "code",
   "execution_count": 295,
   "metadata": {
    "autoscroll": false,
    "ein.tags": "worksheet-0",
    "slideshow": {
     "slide_type": "-"
    }
   },
   "outputs": [],
   "source": [
    "df_ytest=pd.DataFrame(ytest_pred[:96],index=dates,columns=df_etf.columns)"
   ]
  },
  {
   "cell_type": "code",
   "execution_count": 296,
   "metadata": {
    "autoscroll": false,
    "ein.tags": "worksheet-0",
    "slideshow": {
     "slide_type": "-"
    }
   },
   "outputs": [
    {
     "data": {
      "text/plain": [
       "            Basic Materials (IYM)  Consumer Goods (IYK)  Healthcare (IYH)  \\\n",
       "2017-12-18              68.129664             77.520866         94.858958   \n",
       "2017-12-19              68.335517             77.633922         95.228138   \n",
       "2017-12-20              68.578852             77.756150         95.188714   \n",
       "2017-12-21              68.642016             77.883060         95.413186   \n",
       "2017-12-22              68.778956             78.090868         95.981247   \n",
       "2017-12-25              69.020973             78.023959         95.818863   \n",
       "2017-12-26              68.948442             77.987383         95.707846   \n",
       "2017-12-27              68.474066             78.028232         95.890904   \n",
       "2017-12-28              68.703995             78.013034         95.945392   \n",
       "2017-12-29              68.545821             77.934206         95.828509   \n",
       "2018-01-01              68.221286             77.783429         95.756130   \n",
       "2018-01-02              68.241852             77.918786         95.972204   \n",
       "2018-01-03              68.427128             77.960280         96.235065   \n",
       "2018-01-04              68.448082             77.928707         96.529854   \n",
       "2018-01-05              68.555320             78.144419         96.677797   \n",
       "2018-01-08              68.676649             78.317888         96.823956   \n",
       "2018-01-09              68.728169             78.444803         96.740859   \n",
       "2018-01-10              68.498858             78.434096         96.704691   \n",
       "2018-01-11              68.542354             78.536096         96.781224   \n",
       "2018-01-12              68.511631             78.500977         96.637283   \n",
       "2018-01-15              68.688845             78.659303         96.736479   \n",
       "2018-01-16              68.304885             78.499273         96.391798   \n",
       "2018-01-17              68.200623             78.556744         96.611405   \n",
       "2018-01-18              68.394620             78.648889         97.011147   \n",
       "2018-01-19              68.329602             78.410276         97.000081   \n",
       "2018-01-22              68.344480             78.503507         96.904841   \n",
       "2018-01-23              68.490635             78.666702         96.961340   \n",
       "2018-01-24              68.476405             78.839908         97.126712   \n",
       "2018-01-25              68.485723             78.899783         97.003069   \n",
       "2018-01-26              68.495244             78.825119         96.813774   \n",
       "...                           ...                   ...               ...   \n",
       "2018-03-20              69.334768             80.980823         99.466885   \n",
       "2018-03-21              69.437141             80.930069         99.419999   \n",
       "2018-03-22              69.533500             81.082882         99.829189   \n",
       "2018-03-23              69.492648             81.038026         99.715993   \n",
       "2018-03-26              69.321938             80.906495         99.567883   \n",
       "2018-03-27              69.258593             80.767849         99.469361   \n",
       "2018-03-28              69.491303             80.880563         99.932658   \n",
       "2018-03-29              69.472126             80.747479         99.819037   \n",
       "2018-03-30              69.397497             80.610407         99.722902   \n",
       "2018-04-02              69.644867             80.797409         99.895086   \n",
       "2018-04-03              69.308194             80.708563         99.740433   \n",
       "2018-04-04              69.379472             80.786099         99.499245   \n",
       "2018-04-05              69.636264             80.785071         99.615831   \n",
       "2018-04-06              69.490203             80.971067         99.730971   \n",
       "2018-04-09              69.580422             81.026902         99.820031   \n",
       "2018-04-10              69.612990             81.055167         99.667319   \n",
       "2018-04-11              69.426983             80.856994         99.512997   \n",
       "2018-04-12              69.540403             81.007847         99.541018   \n",
       "2018-04-13              69.939007             81.200225         99.902329   \n",
       "2018-04-16              69.676626             80.949817         99.623845   \n",
       "2018-04-17              69.949698             81.205519        100.123497   \n",
       "2018-04-18              69.736451             81.133230        100.003876   \n",
       "2018-04-19              69.686367             81.065033         99.985909   \n",
       "2018-04-20              69.841161             81.221247        100.208213   \n",
       "2018-04-23              69.720581             81.035875         99.880567   \n",
       "2018-04-24              69.776273             80.878532         99.824528   \n",
       "2018-04-25              69.991810             81.119987        100.059620   \n",
       "2018-04-26              70.028747             81.303977        100.318431   \n",
       "2018-04-27              70.011011             81.450715        100.470687   \n",
       "2018-04-30              69.964840             81.427244        100.582665   \n",
       "\n",
       "            Market (^RUA)  Services (IYC)  Technology (IYW)  Utilities (IDU)  \n",
       "2017-12-18     990.253541       99.611751         76.162038        81.197209  \n",
       "2017-12-19     992.523037       99.965288         76.351392        81.272432  \n",
       "2017-12-20     995.157125      100.019674         76.668716        81.511623  \n",
       "2017-12-21     997.775243      100.314063         76.902495        81.844897  \n",
       "2017-12-22    1001.772687      100.823183         77.305309        82.216627  \n",
       "2017-12-25    1002.929819      100.706359         77.260056        82.292622  \n",
       "2017-12-26    1002.017495      100.792935         77.174069        82.238899  \n",
       "2017-12-27     998.907484      100.702289         76.727824        81.929056  \n",
       "2017-12-28     999.169824      100.589604         76.523612        82.068312  \n",
       "2017-12-29     997.786793      100.539033         76.231272        81.960251  \n",
       "2018-01-01     993.877373      100.414512         76.125387        81.437630  \n",
       "2018-01-02     996.502640      100.727157         76.257111        81.626031  \n",
       "2018-01-03     998.702914      100.912092         76.297813        81.680306  \n",
       "2018-01-04    1000.083084      101.266482         76.431417        81.774546  \n",
       "2018-01-05    1001.706607      101.273334         76.341472        81.818067  \n",
       "2018-01-08    1004.145522      101.493506         76.482076        82.115223  \n",
       "2018-01-09    1005.224747      101.644123         76.498049        82.178050  \n",
       "2018-01-10    1003.561519      101.479311         76.265604        82.099350  \n",
       "2018-01-11    1006.213786      101.768231         76.565345        81.912110  \n",
       "2018-01-12    1005.711602      101.691663         76.369840        81.935944  \n",
       "2018-01-15    1006.438650      101.742473         76.240770        82.207652  \n",
       "2018-01-16    1002.381936      101.298381         75.831197        81.910612  \n",
       "2018-01-17    1003.586951      101.419206         75.964465        82.107784  \n",
       "2018-01-18    1005.138005      101.407155         76.055431        82.254048  \n",
       "2018-01-19    1003.599242      101.406213         75.898474        82.116357  \n",
       "2018-01-22    1003.883329      101.300464         75.802429        82.193011  \n",
       "2018-01-23    1006.149721      101.541617         75.964231        82.545717  \n",
       "2018-01-24    1006.036126      101.774618         76.042543        82.644737  \n",
       "2018-01-25    1006.100574      101.795147         76.065710        82.701773  \n",
       "2018-01-26    1005.356490      101.723231         75.859486        82.525879  \n",
       "...                   ...             ...               ...              ...  \n",
       "2018-03-20    1027.833325      104.387066         77.254656        83.501058  \n",
       "2018-03-21    1028.489894      104.466772         77.276158        83.492753  \n",
       "2018-03-22    1029.408590      104.783831         77.413817        83.606778  \n",
       "2018-03-23    1028.569939      104.644355         77.170244        83.627102  \n",
       "2018-03-26    1024.666369      104.362004         76.703027        83.434713  \n",
       "2018-03-27    1024.191449      104.245017         76.607666        83.213781  \n",
       "2018-03-28    1026.783859      104.458742         76.882208        83.449030  \n",
       "2018-03-29    1025.948578      104.155726         76.829919        83.367981  \n",
       "2018-03-30    1025.096175      103.957571         76.661125        83.130191  \n",
       "2018-04-02    1028.552224      104.232777         76.935057        83.394148  \n",
       "2018-04-03    1026.348202      104.146217         76.728884        83.586978  \n",
       "2018-04-04    1027.386888      104.094565         76.875990        83.728092  \n",
       "2018-04-05    1029.449102      104.390591         77.096852        84.089699  \n",
       "2018-04-06    1029.603824      104.458659         77.261066        83.825469  \n",
       "2018-04-09    1031.957676      104.409554         77.416779        84.008251  \n",
       "2018-04-10    1032.550733      104.446340         77.504090        84.023655  \n",
       "2018-04-11    1030.464703      104.336092         77.260027        83.908795  \n",
       "2018-04-12    1032.670420      104.565574         77.351515        84.033204  \n",
       "2018-04-13    1036.799214      104.993373         77.749468        84.553483  \n",
       "2018-04-16    1031.935859      104.476403         77.322955        84.237383  \n",
       "2018-04-17    1036.777149      104.955747         77.630718        84.488647  \n",
       "2018-04-18    1033.583913      104.761064         77.512046        84.435957  \n",
       "2018-04-19    1033.665048      104.645870         77.620867        84.582425  \n",
       "2018-04-20    1036.406531      105.011545         77.708834        84.742921  \n",
       "2018-04-23    1032.495887      104.505982         77.287653        84.507750  \n",
       "2018-04-24    1032.820414      104.508742         77.602639        84.633628  \n",
       "2018-04-25    1036.753181      104.763120         77.898401        84.835419  \n",
       "2018-04-26    1037.862543      105.032073         77.911848        85.052736  \n",
       "2018-04-27    1038.666868      105.073581         77.989523        85.203911  \n",
       "2018-04-30    1037.681419      105.057920         78.010753        85.069331  \n",
       "\n",
       "[96 rows x 7 columns]"
      ]
     },
     "execution_count": 296,
     "metadata": {},
     "output_type": "execute_result"
    }
   ],
   "source": [
    "df_ytest"
   ]
  },
  {
   "cell_type": "code",
   "execution_count": 262,
   "metadata": {
    "autoscroll": false,
    "ein.tags": "worksheet-0",
    "slideshow": {
     "slide_type": "-"
    }
   },
   "outputs": [
    {
     "ename": "NameError",
     "evalue": "name 'df_etf3' is not defined",
     "output_type": "error",
     "traceback": [
      "\u001b[0;31m---------------------------------------------------------------------------\u001b[0m",
      "\u001b[0;31mNameError\u001b[0m                                 Traceback (most recent call last)",
      "\u001b[0;32m<ipython-input-262-f3d8c2f522d2>\u001b[0m in \u001b[0;36m<module>\u001b[0;34m()\u001b[0m\n\u001b[0;32m----> 1\u001b[0;31m \u001b[0mdf_etf3\u001b[0m\u001b[0;34m\u001b[0m\u001b[0m\n\u001b[0m",
      "\u001b[0;31mNameError\u001b[0m: name 'df_etf3' is not defined"
     ]
    }
   ],
   "source": [
    "df_etf3"
   ]
  },
  {
   "cell_type": "code",
   "execution_count": 239,
   "metadata": {
    "autoscroll": false,
    "ein.tags": "worksheet-0",
    "slideshow": {
     "slide_type": "-"
    }
   },
   "outputs": [],
   "source": [
    "?re.search"
   ]
  },
  {
   "cell_type": "code",
   "execution_count": 238,
   "metadata": {
    "autoscroll": false,
    "ein.tags": "worksheet-0",
    "slideshow": {
     "slide_type": "-"
    }
   },
   "outputs": [
    {
     "data": {
      "text/plain": [
       "[]"
      ]
     },
     "execution_count": 238,
     "metadata": {},
     "output_type": "execute_result"
    }
   ],
   "source": [
    "col_order"
   ]
  },
  {
   "cell_type": "code",
   "execution_count": 270,
   "metadata": {
    "autoscroll": false,
    "ein.tags": "worksheet-0",
    "slideshow": {
     "slide_type": "-"
    }
   },
   "outputs": [],
   "source": [
    "dfcol_order=['Technology (IYW)', 'Basic Materials (IYM)', 'Consumer Goods (IYK)',\n",
    "       'Services (IYC)', 'Healthcare (IYH)', 'Utilities (IDU)',\n",
    "       'Market (^RUA)']"
   ]
  },
  {
   "cell_type": "code",
   "execution_count": 271,
   "metadata": {
    "autoscroll": false,
    "ein.tags": "worksheet-0",
    "slideshow": {
     "slide_type": "-"
    }
   },
   "outputs": [],
   "source": [
    "df_test_fri=df_ytest[df_ytest.index.dayofweek==4]\n",
    "df_test_fri.loc[:'2018-4-6'][dfcol_order].to_csv('DNN_predict.csv')"
   ]
  },
  {
   "cell_type": "code",
   "execution_count": 164,
   "metadata": {
    "autoscroll": false,
    "ein.tags": "worksheet-0",
    "slideshow": {
     "slide_type": "-"
    }
   },
   "outputs": [
    {
     "data": {
      "text/plain": [
       "(3400,)"
      ]
     },
     "execution_count": 164,
     "metadata": {},
     "output_type": "execute_result"
    }
   ],
   "source": [
    "X_test_in.shape"
   ]
  },
  {
   "cell_type": "code",
   "execution_count": 290,
   "metadata": {
    "autoscroll": false,
    "ein.tags": "worksheet-0",
    "slideshow": {
     "slide_type": "-"
    }
   },
   "outputs": [
    {
     "data": {
      "text/plain": [
       "<matplotlib.figure.Figure at 0x7efbb322f1d0>"
      ]
     },
     "metadata": {},
     "output_type": "display_data"
    }
   ],
   "source": [
    "plt.figure(figsize=(10,20))\n",
    "\n",
    "for i in range(7):\n",
    "    plt.subplot(4,2,i+1)\n",
    "    plt.plot(df_ytest[etf_cols[i]],label=etf_cols[i]+'-pred')\n",
    "    plt.plot(df_etf3[etf_cols[i]],label=etf_cols[i]+'-3')\n",
    "    plt.legend()\n",
    "    \n",
    "plt.show()\n"
   ]
  },
  {
   "cell_type": "code",
   "execution_count": null,
   "metadata": {
    "autoscroll": false,
    "ein.tags": "worksheet-0",
    "slideshow": {
     "slide_type": "-"
    }
   },
   "outputs": [],
   "source": []
  },
  {
   "cell_type": "markdown",
   "metadata": {
    "ein.tags": "worksheet-0",
    "slideshow": {
     "slide_type": "-"
    }
   },
   "source": [
    "# ALL BROKEN FROM HERE ON! "
   ]
  },
  {
   "cell_type": "markdown",
   "metadata": {
    "ein.tags": "worksheet-0",
    "slideshow": {
     "slide_type": "-"
    }
   },
   "source": [
    "# Keras Recurrent Neural Network\n",
    "\n",
    "Let's build a similar recurrent network in Keras (just using the adjusted close for now). \n",
    "\n",
    "The goal is to predict the a whole quarters worth of weekly returns on 6 sectors, denoted by $\\mathbf{y}_{t}$, based on a sequence of inputs $\\mathbf{x}_{t}$, which can be (stocks, previous values of the inputs, macroeconomic indicators ).\n",
    "\n",
    "We will use a recurrent network, which should map a whole sequence of previous inputs to another sequence of output vectors.\n",
    "\\begin{equation}\n",
    "  \\hat{y}_{t+n} = RNN(\\mathbf{x}_t,\\mathbf{x}_{t-1},\\ldots \\mathbf{x}_{t-\\tau})\n",
    "\\end{equation}\n",
    "where $\\tau$ is the maximum period we look back over, and $n$ is the number of periods we are looking forward over.\n",
    "\n",
    "Ideally, we would use all output times together to predict the outputs.\n",
    "I think a reshape is in order here?\n",
    "\n",
    "The LSTM will make a bunch of predictions for each time step (we will forecast fewer time steps than we input).\n"
   ]
  },
  {
   "cell_type": "markdown",
   "metadata": {
    "ein.tags": "worksheet-0",
    "slideshow": {
     "slide_type": "-"
    }
   },
   "source": [
    "# Tensorflow Recurrent Neural Network\n",
    "\n",
    "This model is just a test based purely on the stock data.\n",
    "The network uses a multi-layer RNN, with two hidden layers at input/output.  They use leaky ReLU activation.\n",
    "The model currently plays with 100 stocks from 2002-2006.\n",
    "\n",
    "This uses a model I've cobbled together in Tensorflow.\n",
    "The OO structure is borrowed from the online problem sets\n",
    "from CS224 on NLP offered in 2017 at Stanford.\n",
    "The NN is borrowed from A. Geron \"Hands on Machine Learning with Scikit-Learn and Tensorflow\", which I've found to be the best\n",
    "overall introduction, and has a good mix of background, and code.\n",
    "(There is also an associated Github account with code).\n",
    "\n",
    "The Tensorflow docs were pretty hard reading, and there seem to be lots\n",
    "of tricks that only practitioners on StackOverflow are aware of.  (But the tutorials are pretty readable.)\n",
    "\n",
    "Note network currently only predicts one timestep into the future. \n"
   ]
  },
  {
   "cell_type": "code",
   "execution_count": null,
   "metadata": {
    "autoscroll": false,
    "ein.tags": "worksheet-0",
    "slideshow": {
     "slide_type": "-"
    }
   },
   "outputs": [],
   "source": [
    "import tensorflow as tf\n",
    "from neural_networks.recurrent_network import recurrent_NN"
   ]
  },
  {
   "cell_type": "markdown",
   "metadata": {
    "ein.tags": "worksheet-0",
    "slideshow": {
     "slide_type": "-"
    }
   },
   "source": [
    "## Fitting RNN"
   ]
  },
  {
   "cell_type": "code",
   "execution_count": null,
   "metadata": {
    "autoscroll": false,
    "ein.tags": "worksheet-0",
    "slideshow": {
     "slide_type": "-"
    }
   },
   "outputs": [
    {
     "name": "stdout",
     "output_type": "stream",
     "text": [
      "(LSTMStateTuple(c=<tf.Tensor 'rnn/while/Exit_2:0' shape=(?, 100) dtype=float32>, h=<tf.Tensor 'rnn/while/Exit_3:0' shape=(?, 100) dtype=float32>), LSTMStateTuple(c=<tf.Tensor 'rnn/while/Exit_4:0' shape=(?, 100) dtype=float32>, h=<tf.Tensor 'rnn/while/Exit_5:0' shape=(?, 100) dtype=float32>))\n",
      "Tensor(\"strided_slice:0\", shape=(2, ?, 300), dtype=float32)\n"
     ]
    }
   ],
   "source": [
    "#define network.\n",
    "#Note a lot of network parameters are defined in __init__ in \"recurrent_network.py\".\n",
    "#A more robust structure would pass a config dict or something like that.\n",
    "RNN=recurrent_NN(60,Nstocks,100,Nstocks,'LSTM')"
   ]
  },
  {
   "cell_type": "code",
   "execution_count": null,
   "metadata": {
    "autoscroll": false,
    "ein.tags": "worksheet-0",
    "slideshow": {
     "slide_type": "-"
    }
   },
   "outputs": [
    {
     "ename": "KeyboardInterrupt",
     "evalue": "",
     "output_type": "error",
     "traceback": [
      "\u001b[0;31m---------------------------------------------------------------------------\u001b[0m",
      "\u001b[0;31mKeyboardInterrupt\u001b[0m                         Traceback (most recent call last)",
      "\u001b[0;32m<ipython-input-15-2dc295e33583>\u001b[0m in \u001b[0;36m<module>\u001b[0;34m()\u001b[0m\n\u001b[1;32m      6\u001b[0m \u001b[0;34m\u001b[0m\u001b[0m\n\u001b[1;32m      7\u001b[0m \u001b[0;34m\u001b[0m\u001b[0m\n\u001b[0;32m----> 8\u001b[0;31m \u001b[0mRNN\u001b[0m\u001b[0;34m.\u001b[0m\u001b[0mtrain_graph\u001b[0m\u001b[0;34m(\u001b[0m\u001b[0mXtrain\u001b[0m\u001b[0;34m,\u001b[0m\u001b[0mXtrain\u001b[0m\u001b[0;34m,\u001b[0m\u001b[0msave_name\u001b[0m\u001b[0;34m=\u001b[0m\u001b[0;34m'tf_models/rnn_test'\u001b[0m\u001b[0;34m)\u001b[0m\u001b[0;34m\u001b[0m\u001b[0m\n\u001b[0m\u001b[1;32m      9\u001b[0m \u001b[0;31m#Note the tiny, tiny errors.  Probably badly overfitting.\u001b[0m\u001b[0;34m\u001b[0m\u001b[0;34m\u001b[0m\u001b[0m\n\u001b[1;32m     10\u001b[0m \u001b[0;31m#Need to fix the dropout so it's only on in training.\u001b[0m\u001b[0;34m\u001b[0m\u001b[0;34m\u001b[0m\u001b[0m\n",
      "\u001b[0;32m/home/jonathan/Data-Science/PDX_DataScience/PDX_finance/recurrent_network.py\u001b[0m in \u001b[0;36mtrain_graph\u001b[0;34m(self, Xi, yi, save_name)\u001b[0m\n\u001b[1;32m    293\u001b[0m                 \u001b[0;31m#select random starting point.\u001b[0m\u001b[0;34m\u001b[0m\u001b[0;34m\u001b[0m\u001b[0m\n\u001b[1;32m    294\u001b[0m                 \u001b[0mX_batch\u001b[0m\u001b[0;34m,\u001b[0m\u001b[0my_batch\u001b[0m\u001b[0;34m=\u001b[0m\u001b[0mself\u001b[0m\u001b[0;34m.\u001b[0m\u001b[0mget_random_batch\u001b[0m\u001b[0;34m(\u001b[0m\u001b[0mXi\u001b[0m\u001b[0;34m,\u001b[0m\u001b[0myi\u001b[0m\u001b[0;34m)\u001b[0m\u001b[0;34m\u001b[0m\u001b[0m\n\u001b[0;32m--> 295\u001b[0;31m                 \u001b[0mcurrent_loss\u001b[0m\u001b[0;34m=\u001b[0m\u001b[0mself\u001b[0m\u001b[0;34m.\u001b[0m\u001b[0mtrain_on_batch\u001b[0m\u001b[0;34m(\u001b[0m\u001b[0msess\u001b[0m\u001b[0;34m,\u001b[0m \u001b[0mX_batch\u001b[0m\u001b[0;34m,\u001b[0m \u001b[0my_batch\u001b[0m\u001b[0;34m)\u001b[0m\u001b[0;34m\u001b[0m\u001b[0m\n\u001b[0m\u001b[1;32m    296\u001b[0m                 \u001b[0mt2_b\u001b[0m\u001b[0;34m=\u001b[0m\u001b[0mtime\u001b[0m\u001b[0;34m.\u001b[0m\u001b[0mtime\u001b[0m\u001b[0;34m(\u001b[0m\u001b[0;34m)\u001b[0m\u001b[0;34m\u001b[0m\u001b[0m\n\u001b[1;32m    297\u001b[0m                 \u001b[0;32mif\u001b[0m \u001b[0;34m(\u001b[0m\u001b[0miteration\u001b[0m\u001b[0;34m)\u001b[0m\u001b[0;34m%\u001b[0m\u001b[0mself\u001b[0m\u001b[0;34m.\u001b[0m\u001b[0mnprint\u001b[0m \u001b[0;34m==\u001b[0m\u001b[0;36m0\u001b[0m\u001b[0;34m:\u001b[0m\u001b[0;34m\u001b[0m\u001b[0m\n",
      "\u001b[0;32m/home/jonathan/Data-Science/PDX_DataScience/PDX_finance/recurrent_network.py\u001b[0m in \u001b[0;36mtrain_on_batch\u001b[0;34m(self, sess, inputs_batch, labels_batch)\u001b[0m\n\u001b[1;32m    196\u001b[0m         \"\"\"\n\u001b[1;32m    197\u001b[0m         \u001b[0mfeed\u001b[0m \u001b[0;34m=\u001b[0m \u001b[0mself\u001b[0m\u001b[0;34m.\u001b[0m\u001b[0mcreate_feed_dict\u001b[0m\u001b[0;34m(\u001b[0m\u001b[0minputs_batch\u001b[0m\u001b[0;34m,\u001b[0m \u001b[0mlabels_batch\u001b[0m\u001b[0;34m=\u001b[0m\u001b[0mlabels_batch\u001b[0m\u001b[0;34m)\u001b[0m\u001b[0;34m\u001b[0m\u001b[0m\n\u001b[0;32m--> 198\u001b[0;31m         \u001b[0m_\u001b[0m\u001b[0;34m,\u001b[0m \u001b[0mloss\u001b[0m \u001b[0;34m=\u001b[0m \u001b[0msess\u001b[0m\u001b[0;34m.\u001b[0m\u001b[0mrun\u001b[0m\u001b[0;34m(\u001b[0m\u001b[0;34m[\u001b[0m\u001b[0mself\u001b[0m\u001b[0;34m.\u001b[0m\u001b[0mtrain_op\u001b[0m\u001b[0;34m,\u001b[0m \u001b[0mself\u001b[0m\u001b[0;34m.\u001b[0m\u001b[0mloss\u001b[0m\u001b[0;34m]\u001b[0m\u001b[0;34m,\u001b[0m \u001b[0mfeed_dict\u001b[0m\u001b[0;34m=\u001b[0m\u001b[0mfeed\u001b[0m\u001b[0;34m)\u001b[0m\u001b[0;34m\u001b[0m\u001b[0m\n\u001b[0m\u001b[1;32m    199\u001b[0m         \u001b[0;32mreturn\u001b[0m \u001b[0mloss\u001b[0m\u001b[0;34m\u001b[0m\u001b[0m\n\u001b[1;32m    200\u001b[0m \u001b[0;34m\u001b[0m\u001b[0m\n",
      "\u001b[0;32m/home/jonathan/.local/lib/python3.6/site-packages/tensorflow/python/client/session.py\u001b[0m in \u001b[0;36mrun\u001b[0;34m(self, fetches, feed_dict, options, run_metadata)\u001b[0m\n\u001b[1;32m    887\u001b[0m     \u001b[0;32mtry\u001b[0m\u001b[0;34m:\u001b[0m\u001b[0;34m\u001b[0m\u001b[0m\n\u001b[1;32m    888\u001b[0m       result = self._run(None, fetches, feed_dict, options_ptr,\n\u001b[0;32m--> 889\u001b[0;31m                          run_metadata_ptr)\n\u001b[0m\u001b[1;32m    890\u001b[0m       \u001b[0;32mif\u001b[0m \u001b[0mrun_metadata\u001b[0m\u001b[0;34m:\u001b[0m\u001b[0;34m\u001b[0m\u001b[0m\n\u001b[1;32m    891\u001b[0m         \u001b[0mproto_data\u001b[0m \u001b[0;34m=\u001b[0m \u001b[0mtf_session\u001b[0m\u001b[0;34m.\u001b[0m\u001b[0mTF_GetBuffer\u001b[0m\u001b[0;34m(\u001b[0m\u001b[0mrun_metadata_ptr\u001b[0m\u001b[0;34m)\u001b[0m\u001b[0;34m\u001b[0m\u001b[0m\n",
      "\u001b[0;32m/home/jonathan/.local/lib/python3.6/site-packages/tensorflow/python/client/session.py\u001b[0m in \u001b[0;36m_run\u001b[0;34m(self, handle, fetches, feed_dict, options, run_metadata)\u001b[0m\n\u001b[1;32m   1118\u001b[0m     \u001b[0;32mif\u001b[0m \u001b[0mfinal_fetches\u001b[0m \u001b[0;32mor\u001b[0m \u001b[0mfinal_targets\u001b[0m \u001b[0;32mor\u001b[0m \u001b[0;34m(\u001b[0m\u001b[0mhandle\u001b[0m \u001b[0;32mand\u001b[0m \u001b[0mfeed_dict_tensor\u001b[0m\u001b[0;34m)\u001b[0m\u001b[0;34m:\u001b[0m\u001b[0;34m\u001b[0m\u001b[0m\n\u001b[1;32m   1119\u001b[0m       results = self._do_run(handle, final_targets, final_fetches,\n\u001b[0;32m-> 1120\u001b[0;31m                              feed_dict_tensor, options, run_metadata)\n\u001b[0m\u001b[1;32m   1121\u001b[0m     \u001b[0;32melse\u001b[0m\u001b[0;34m:\u001b[0m\u001b[0;34m\u001b[0m\u001b[0m\n\u001b[1;32m   1122\u001b[0m       \u001b[0mresults\u001b[0m \u001b[0;34m=\u001b[0m \u001b[0;34m[\u001b[0m\u001b[0;34m]\u001b[0m\u001b[0;34m\u001b[0m\u001b[0m\n",
      "\u001b[0;32m/home/jonathan/.local/lib/python3.6/site-packages/tensorflow/python/client/session.py\u001b[0m in \u001b[0;36m_do_run\u001b[0;34m(self, handle, target_list, fetch_list, feed_dict, options, run_metadata)\u001b[0m\n\u001b[1;32m   1315\u001b[0m     \u001b[0;32mif\u001b[0m \u001b[0mhandle\u001b[0m \u001b[0;32mis\u001b[0m \u001b[0;32mNone\u001b[0m\u001b[0;34m:\u001b[0m\u001b[0;34m\u001b[0m\u001b[0m\n\u001b[1;32m   1316\u001b[0m       return self._do_call(_run_fn, self._session, feeds, fetches, targets,\n\u001b[0;32m-> 1317\u001b[0;31m                            options, run_metadata)\n\u001b[0m\u001b[1;32m   1318\u001b[0m     \u001b[0;32melse\u001b[0m\u001b[0;34m:\u001b[0m\u001b[0;34m\u001b[0m\u001b[0m\n\u001b[1;32m   1319\u001b[0m       \u001b[0;32mreturn\u001b[0m \u001b[0mself\u001b[0m\u001b[0;34m.\u001b[0m\u001b[0m_do_call\u001b[0m\u001b[0;34m(\u001b[0m\u001b[0m_prun_fn\u001b[0m\u001b[0;34m,\u001b[0m \u001b[0mself\u001b[0m\u001b[0;34m.\u001b[0m\u001b[0m_session\u001b[0m\u001b[0;34m,\u001b[0m \u001b[0mhandle\u001b[0m\u001b[0;34m,\u001b[0m \u001b[0mfeeds\u001b[0m\u001b[0;34m,\u001b[0m \u001b[0mfetches\u001b[0m\u001b[0;34m)\u001b[0m\u001b[0;34m\u001b[0m\u001b[0m\n",
      "\u001b[0;32m/home/jonathan/.local/lib/python3.6/site-packages/tensorflow/python/client/session.py\u001b[0m in \u001b[0;36m_do_call\u001b[0;34m(self, fn, *args)\u001b[0m\n\u001b[1;32m   1321\u001b[0m   \u001b[0;32mdef\u001b[0m \u001b[0m_do_call\u001b[0m\u001b[0;34m(\u001b[0m\u001b[0mself\u001b[0m\u001b[0;34m,\u001b[0m \u001b[0mfn\u001b[0m\u001b[0;34m,\u001b[0m \u001b[0;34m*\u001b[0m\u001b[0margs\u001b[0m\u001b[0;34m)\u001b[0m\u001b[0;34m:\u001b[0m\u001b[0;34m\u001b[0m\u001b[0m\n\u001b[1;32m   1322\u001b[0m     \u001b[0;32mtry\u001b[0m\u001b[0;34m:\u001b[0m\u001b[0;34m\u001b[0m\u001b[0m\n\u001b[0;32m-> 1323\u001b[0;31m       \u001b[0;32mreturn\u001b[0m \u001b[0mfn\u001b[0m\u001b[0;34m(\u001b[0m\u001b[0;34m*\u001b[0m\u001b[0margs\u001b[0m\u001b[0;34m)\u001b[0m\u001b[0;34m\u001b[0m\u001b[0m\n\u001b[0m\u001b[1;32m   1324\u001b[0m     \u001b[0;32mexcept\u001b[0m \u001b[0merrors\u001b[0m\u001b[0;34m.\u001b[0m\u001b[0mOpError\u001b[0m \u001b[0;32mas\u001b[0m \u001b[0me\u001b[0m\u001b[0;34m:\u001b[0m\u001b[0;34m\u001b[0m\u001b[0m\n\u001b[1;32m   1325\u001b[0m       \u001b[0mmessage\u001b[0m \u001b[0;34m=\u001b[0m \u001b[0mcompat\u001b[0m\u001b[0;34m.\u001b[0m\u001b[0mas_text\u001b[0m\u001b[0;34m(\u001b[0m\u001b[0me\u001b[0m\u001b[0;34m.\u001b[0m\u001b[0mmessage\u001b[0m\u001b[0;34m)\u001b[0m\u001b[0;34m\u001b[0m\u001b[0m\n",
      "\u001b[0;32m/home/jonathan/.local/lib/python3.6/site-packages/tensorflow/python/client/session.py\u001b[0m in \u001b[0;36m_run_fn\u001b[0;34m(session, feed_dict, fetch_list, target_list, options, run_metadata)\u001b[0m\n\u001b[1;32m   1300\u001b[0m           return tf_session.TF_Run(session, options,\n\u001b[1;32m   1301\u001b[0m                                    \u001b[0mfeed_dict\u001b[0m\u001b[0;34m,\u001b[0m \u001b[0mfetch_list\u001b[0m\u001b[0;34m,\u001b[0m \u001b[0mtarget_list\u001b[0m\u001b[0;34m,\u001b[0m\u001b[0;34m\u001b[0m\u001b[0m\n\u001b[0;32m-> 1302\u001b[0;31m                                    status, run_metadata)\n\u001b[0m\u001b[1;32m   1303\u001b[0m \u001b[0;34m\u001b[0m\u001b[0m\n\u001b[1;32m   1304\u001b[0m     \u001b[0;32mdef\u001b[0m \u001b[0m_prun_fn\u001b[0m\u001b[0;34m(\u001b[0m\u001b[0msession\u001b[0m\u001b[0;34m,\u001b[0m \u001b[0mhandle\u001b[0m\u001b[0;34m,\u001b[0m \u001b[0mfeed_dict\u001b[0m\u001b[0;34m,\u001b[0m \u001b[0mfetch_list\u001b[0m\u001b[0;34m)\u001b[0m\u001b[0;34m:\u001b[0m\u001b[0;34m\u001b[0m\u001b[0m\n",
      "\u001b[0;31mKeyboardInterrupt\u001b[0m: "
     ]
    },
    {
     "name": "stdout",
     "output_type": "stream",
     "text": [
      "iter #20. Current MSE:0.22016216814517975\n",
      "Total Time taken:21.250980377197266\n",
      "\n",
      "\n"
     ]
    }
   ],
   "source": [
    "#Rebuild the tensorflow graph.\n",
    "RNN.build()\n",
    "#Actually train the graph on first half of data.\n",
    "#Give all of the data to this subroutine, where it selects\n",
    "# the inputs and target data in get_random_batch\n",
    "\n",
    "RNN.train_graph(Xtrain,Xtrain,save_name='tf_models/rnn_test')\n",
    "#Note the tiny, tiny errors.  Probably badly overfitting.\n",
    "#Need to fix the dropout so it's only on in training."
   ]
  },
  {
   "cell_type": "code",
   "execution_count": null,
   "metadata": {
    "autoscroll": false,
    "ein.tags": "worksheet-0",
    "slideshow": {
     "slide_type": "-"
    }
   },
   "outputs": [],
   "source": [
    "#Predict on all of the data.\n",
    "#This loads up a previous model.\n",
    "#RNN_pred=RNN.predict_all('tf_models/rnn_test',20,Xsub2,reset=True)"
   ]
  },
  {
   "cell_type": "code",
   "execution_count": null,
   "metadata": {
    "autoscroll": false,
    "ein.tags": "worksheet-0",
    "slideshow": {
     "slide_type": "-"
    }
   },
   "outputs": [],
   "source": [
    "def plot_pred(X,pred,indx_range):\n",
    "    \"\"\"Plots a particular stock and the prediction\"\"\"\n",
    "\n",
    "    plt.figure()\n",
    "    plt.subplot(121)\n",
    "    plt.plot(X[:,indx_range])\n",
    "    plt.plot(pred[:,indx_range])\n",
    "    plt.plot([len(X)/2]*2,[-1,1],'k-')\n",
    "    plt.legend(['Actual','Forecast'])\n",
    "    plt.title('Raw')\n",
    "\n",
    "    plt.subplot(122)\n",
    "    plt.plot(np.cumsum(X[:,indx_range],axis=0))\n",
    "    plt.plot(np.cumsum(pred[:,indx_range],axis=0))\n",
    "    plt.legend(['Actual','Forecast'])    \n",
    "    plt.title('Cumulative')\n",
    "\n",
    "    plt.show()\n",
    "    "
   ]
  },
  {
   "cell_type": "code",
   "execution_count": null,
   "metadata": {
    "autoscroll": false,
    "ein.tags": "worksheet-0",
    "slideshow": {
     "slide_type": "-"
    }
   },
   "outputs": [
    {
     "data": {
      "image/png": "[encoded data removed]",
      "text/plain": [
       "<matplotlib.figure.Figure at 0x7efba5b7e630>"
      ]
     },
     "metadata": {},
     "output_type": "display_data"
    }
   ],
   "source": [
    "#Could make predicted results a time series for nicer formating, and dates.\n",
    "#Plot cumulative for cases when we've also differenced.\n",
    "plot_pred(Xsub2,RNN_pred,50)"
   ]
  },
  {
   "cell_type": "markdown",
   "metadata": {
    "ein.tags": "worksheet-0",
    "slideshow": {
     "slide_type": "-"
    }
   },
   "source": [
    "This RNN forecast is also WAY worse than a persistence forecast (tomorrow's price is the same as todays).\n",
    "Big question: why is the price wandering away? Even if the model is fixed (weights unchanged), surely it should take the recent past (which the model uses to forecast tomorrow's demand) into account.\n",
    "\n",
    "Note the effect of further smoothing, which suggests a clearer trend, that might be easier to model.\n",
    "That suggests the convolutional networks may be useful,\n",
    "perhaps with running averages to smooth the data.  Forecasting on a week timescale might allevative some of that too?"
   ]
  },
  {
   "cell_type": "code",
   "execution_count": null,
   "metadata": {
    "autoscroll": false,
    "ein.tags": "worksheet-0",
    "slideshow": {
     "slide_type": "-"
    }
   },
   "outputs": [
    {
     "data": {
      "image/png": "[encoded data removed]",
      "text/plain": [
       "<matplotlib.figure.Figure at 0x7efba5c45550>"
      ]
     },
     "metadata": {},
     "output_type": "display_data"
    }
   ],
   "source": [
    "#Let's look at the differences between the predicted and actual\n",
    "#results at the end of the period.\n",
    "pred_diff=RNN_pred[-1]-Xsub2[-1]\n",
    "plt.hist(pred_diff)\n",
    "plt.show()"
   ]
  },
  {
   "cell_type": "code",
   "execution_count": null,
   "metadata": {
    "autoscroll": false,
    "ein.tags": "worksheet-0",
    "slideshow": {
     "slide_type": "-"
    }
   },
   "outputs": [],
   "source": [
    "#Let's now see how much the predictions vary (across all stocks) at the end of training, 20 trading days after that,\n",
    "# and at the end of the period, a year or two out.\n",
    "\n",
    "#Note that these predictions use the data from those periods, but the model is not being updated.\n",
    "\n",
    "def plot_err_hist(target,pred,Nc):\n",
    "    '''plot_err_hist\n",
    "\n",
    "    Makes histograms of the errors between the target and prediction\n",
    "    at multiple time scales aroud the tend of the training period.\n",
    "    '''\n",
    "    \n",
    "    Nc = int(len(Xsub2)/2)\n",
    "    plt.figure(figsize=(10,6))\n",
    "\n",
    "    plt.subplot(141)\n",
    "    pred_diff=pred[Nc-20]-target[Nc-20]\n",
    "    plt.title('End of training - 20 days')\n",
    "    plt.hist(pred_diff)\n",
    "\n",
    "    plt.subplot(142)\n",
    "    pred_diff=pred[Nc]-target[Nc]\n",
    "    plt.title('End of training')\n",
    "    plt.hist(pred_diff)\n",
    "\n",
    "    plt.subplot(143)\n",
    "    pred_diff=pred[Nc+20]-target[Nc+20]\n",
    "    plt.title('End of training+20 days')\n",
    "    plt.hist(pred_diff)\n",
    "\n",
    "    plt.subplot(144)\n",
    "    pred_diff=pred[-1]-target[-1]\n",
    "    plt.hist(pred_diff)\n",
    "    plt.title('End of test')\n",
    "    plt.xlabel('Forecast Residuals')\n",
    "    plt.show()\n"
   ]
  },
  {
   "cell_type": "markdown",
   "metadata": {
    "ein.tags": "worksheet-0",
    "slideshow": {
     "slide_type": "-"
    }
   },
   "source": [
    "The final graph is worst, it is also trying to predict many years ahead, based on essentially short-term info.\n",
    "Probably could describe build up of cumulative errors as a random walk?\n",
    "Would guess errors grows as sqrt(T), so the variance of this distribution grows as T.\n"
   ]
  }
 ],
 "metadata": {
  "kernelspec": {
   "display_name": "Python 3",
   "language": "python",
   "name": "python3"
  },
  "language_info": {
   "codemirror_mode": {
    "name": "ipython",
    "version": 3
   },
   "file_extension": ".py",
   "mimetype": "text/x-python",
   "name": "python",
   "nbconvert_exporter": "python",
   "pygments_lexer": "ipython3",
   "version": "3.6.3"
  },
  "name": "PDX_finance_Mar2018.ipynb"
 },
 "nbformat": 4,
 "nbformat_minor": 2
}
